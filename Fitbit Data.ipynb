{
 "cells": [
  {
   "cell_type": "code",
   "execution_count": 1,
   "id": "28efca58",
   "metadata": {
    "pycharm": {
     "name": "#%%\n"
    }
   },
   "outputs": [
    {
     "ename": "ModuleNotFoundError",
     "evalue": "No module named 'pandas'",
     "output_type": "error",
     "traceback": [
      "\u001B[1;31m---------------------------------------------------------------------------\u001B[0m",
      "\u001B[1;31mModuleNotFoundError\u001B[0m                       Traceback (most recent call last)",
      "Input \u001B[1;32mIn [1]\u001B[0m, in \u001B[0;36m<cell line: 1>\u001B[1;34m()\u001B[0m\n\u001B[1;32m----> 1\u001B[0m \u001B[38;5;28;01mimport\u001B[39;00m \u001B[38;5;21;01mpandas\u001B[39;00m \u001B[38;5;28;01mas\u001B[39;00m \u001B[38;5;21;01mpd\u001B[39;00m\n\u001B[0;32m      2\u001B[0m weight \u001B[38;5;241m=\u001B[39m pd\u001B[38;5;241m.\u001B[39mread_csv(\u001B[38;5;124m\"\u001B[39m\u001B[38;5;124m/Users/annma/UCDPA_annmarianolan/weightloginfo_merged.csv\u001B[39m\u001B[38;5;124m\"\u001B[39m)\n\u001B[0;32m      3\u001B[0m \u001B[38;5;28mprint\u001B[39m(weight)\n",
      "\u001B[1;31mModuleNotFoundError\u001B[0m: No module named 'pandas'"
     ]
    }
   ],
   "source": [
    "import pandas as pd\n",
    "weight = pd.read_csv(\"/Users/annma/UCDPA_annmarianolan/weightloginfo_merged.csv\")\n",
    "print(weight)"
   ]
  },
  {
   "cell_type": "code",
   "execution_count": 2,
   "id": "81200e0b",
   "metadata": {
    "pycharm": {
     "name": "#%%\n"
    }
   },
   "outputs": [
    {
     "name": "stdout",
     "output_type": "stream",
     "text": [
      "(67, 8)\n"
     ]
    }
   ],
   "source": [
    "print(weight.shape)\n"
   ]
  },
  {
   "cell_type": "code",
   "execution_count": 3,
   "id": "8a8c6861",
   "metadata": {
    "pycharm": {
     "name": "#%%\n"
    }
   },
   "outputs": [
    {
     "name": "stdout",
     "output_type": "stream",
     "text": [
      "             Id ActivityDate  TotalSteps  TotalDistance  TrackerDistance  \\\n",
      "0    1503960366    4/12/2016       13162       8.500000         8.500000   \n",
      "1    1503960366    4/13/2016       10735       6.970000         6.970000   \n",
      "2    1503960366    4/14/2016       10460       6.740000         6.740000   \n",
      "3    1503960366    4/15/2016        9762       6.280000         6.280000   \n",
      "4    1503960366    4/16/2016       12669       8.160000         8.160000   \n",
      "..          ...          ...         ...            ...              ...   \n",
      "935  8877689391     5/8/2016       10686       8.110000         8.110000   \n",
      "936  8877689391     5/9/2016       20226      18.250000        18.250000   \n",
      "937  8877689391    5/10/2016       10733       8.150000         8.150000   \n",
      "938  8877689391    5/11/2016       21420      19.559999        19.559999   \n",
      "939  8877689391    5/12/2016        8064       6.120000         6.120000   \n",
      "\n",
      "     LoggedActivitiesDistance  VeryActiveDistance  ModeratelyActiveDistance  \\\n",
      "0                         0.0                1.88                      0.55   \n",
      "1                         0.0                1.57                      0.69   \n",
      "2                         0.0                2.44                      0.40   \n",
      "3                         0.0                2.14                      1.26   \n",
      "4                         0.0                2.71                      0.41   \n",
      "..                        ...                 ...                       ...   \n",
      "935                       0.0                1.08                      0.20   \n",
      "936                       0.0               11.10                      0.80   \n",
      "937                       0.0                1.35                      0.46   \n",
      "938                       0.0               13.22                      0.41   \n",
      "939                       0.0                1.82                      0.04   \n",
      "\n",
      "     LightActiveDistance  SedentaryActiveDistance  VeryActiveMinutes  \\\n",
      "0                   6.06                     0.00                 25   \n",
      "1                   4.71                     0.00                 21   \n",
      "2                   3.91                     0.00                 30   \n",
      "3                   2.83                     0.00                 29   \n",
      "4                   5.04                     0.00                 36   \n",
      "..                   ...                      ...                ...   \n",
      "935                 6.80                     0.00                 17   \n",
      "936                 6.24                     0.05                 73   \n",
      "937                 6.28                     0.00                 18   \n",
      "938                 5.89                     0.00                 88   \n",
      "939                 4.25                     0.00                 23   \n",
      "\n",
      "     FairlyActiveMinutes  LightlyActiveMinutes  SedentaryMinutes  Calories  \n",
      "0                     13                   328               728      1985  \n",
      "1                     19                   217               776      1797  \n",
      "2                     11                   181              1218      1776  \n",
      "3                     34                   209               726      1745  \n",
      "4                     10                   221               773      1863  \n",
      "..                   ...                   ...               ...       ...  \n",
      "935                    4                   245              1174      2847  \n",
      "936                   19                   217              1131      3710  \n",
      "937                   11                   224              1187      2832  \n",
      "938                   12                   213              1127      3832  \n",
      "939                    1                   137               770      1849  \n",
      "\n",
      "[940 rows x 15 columns]\n"
     ]
    }
   ],
   "source": [
    "import pandas as pd\n",
    "daily_activity = pd.read_csv(\"/Users/annma/UCDPA_annmarianolan/dailyactivity_merged.csv\")\n",
    "print(daily_activity)"
   ]
  },
  {
   "cell_type": "code",
   "execution_count": 4,
   "id": "da59b37d",
   "metadata": {
    "pycharm": {
     "name": "#%%\n"
    }
   },
   "outputs": [
    {
     "name": "stdout",
     "output_type": "stream",
     "text": [
      "             Id ActivityDay  StepTotal\n",
      "0    1503960366   4/12/2016      13162\n",
      "1    1503960366   4/13/2016      10735\n",
      "2    1503960366   4/14/2016      10460\n",
      "3    1503960366   4/15/2016       9762\n",
      "4    1503960366   4/16/2016      12669\n",
      "..          ...         ...        ...\n",
      "935  8877689391    5/8/2016      10686\n",
      "936  8877689391    5/9/2016      20226\n",
      "937  8877689391   5/10/2016      10733\n",
      "938  8877689391   5/11/2016      21420\n",
      "939  8877689391   5/12/2016       8064\n",
      "\n",
      "[940 rows x 3 columns]\n"
     ]
    }
   ],
   "source": [
    "import pandas as pd\n",
    "daily_steps = pd.read_csv(\"/Users/annma/UCDPA_annmarianolan/dailysteps_merged.csv\")\n",
    "print(daily_steps)"
   ]
  },
  {
   "cell_type": "code",
   "execution_count": 5,
   "id": "8bb3e0a4",
   "metadata": {
    "pycharm": {
     "name": "#%%\n"
    }
   },
   "outputs": [
    {
     "name": "stdout",
     "output_type": "stream",
     "text": [
      "             Id               SleepDay  TotalSleepRecords  TotalMinutesAsleep  \\\n",
      "0    1503960366  4/12/2016 12:00:00 AM                  1                 327   \n",
      "1    1503960366  4/13/2016 12:00:00 AM                  2                 384   \n",
      "2    1503960366  4/15/2016 12:00:00 AM                  1                 412   \n",
      "3    1503960366  4/16/2016 12:00:00 AM                  2                 340   \n",
      "4    1503960366  4/17/2016 12:00:00 AM                  1                 700   \n",
      "..          ...                    ...                ...                 ...   \n",
      "408  8792009665  4/30/2016 12:00:00 AM                  1                 343   \n",
      "409  8792009665   5/1/2016 12:00:00 AM                  1                 503   \n",
      "410  8792009665   5/2/2016 12:00:00 AM                  1                 415   \n",
      "411  8792009665   5/3/2016 12:00:00 AM                  1                 516   \n",
      "412  8792009665   5/4/2016 12:00:00 AM                  1                 439   \n",
      "\n",
      "     TotalTimeInBed  \n",
      "0               346  \n",
      "1               407  \n",
      "2               442  \n",
      "3               367  \n",
      "4               712  \n",
      "..              ...  \n",
      "408             360  \n",
      "409             527  \n",
      "410             423  \n",
      "411             545  \n",
      "412             463  \n",
      "\n",
      "[413 rows x 5 columns]\n"
     ]
    }
   ],
   "source": [
    "import pandas as pd\n",
    "daily_sleep = pd.read_csv(\"/Users/annma/UCDPA_annmarianolan/sleepday_merged.csv\")\n",
    "print(daily_sleep)"
   ]
  },
  {
   "cell_type": "code",
   "execution_count": null,
   "id": "24eba916",
   "metadata": {
    "pycharm": {
     "name": "#%%\n"
    }
   },
   "outputs": [],
   "source": []
  }
 ],
 "metadata": {
  "kernelspec": {
   "display_name": "Python 3",
   "language": "python",
   "name": "python3"
  },
  "language_info": {
   "codemirror_mode": {
    "name": "ipython",
    "version": 3
   },
   "file_extension": ".py",
   "mimetype": "text/x-python",
   "name": "python",
   "nbconvert_exporter": "python",
   "pygments_lexer": "ipython3",
   "version": "3.8.8"
  }
 },
 "nbformat": 4,
 "nbformat_minor": 5
}