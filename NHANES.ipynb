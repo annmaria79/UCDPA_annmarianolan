{
 "cells": [
  {
   "cell_type": "code",
   "execution_count": 1,
   "id": "ee36f32a",
   "metadata": {
    "pycharm": {
     "name": "#%%\n"
    }
   },
   "outputs": [
    {
     "name": "stdout",
     "output_type": "stream",
     "text": [
      "         ID SurveyYr  Gender  Age AgeDecade  AgeMonths    Race1    Race3  \\\n",
      "0     51624  2009_10    male   34     30-39      409.0    White      NaN   \n",
      "1     51624  2009_10    male   34     30-39      409.0    White      NaN   \n",
      "2     51624  2009_10    male   34     30-39      409.0    White      NaN   \n",
      "3     51625  2009_10    male    4       0-9       49.0    Other      NaN   \n",
      "4     51630  2009_10  female   49     40-49      596.0    White      NaN   \n",
      "...     ...      ...     ...  ...       ...        ...      ...      ...   \n",
      "9995  71909  2011_12    male   28     20-29        NaN  Mexican  Mexican   \n",
      "9996  71910  2011_12  female    0       0-9        5.0    White    White   \n",
      "9997  71911  2011_12    male   27     20-29        NaN  Mexican  Mexican   \n",
      "9998  71915  2011_12    male   60     60-69        NaN    White    White   \n",
      "9999  71915  2011_12    male   60     60-69        NaN    White    White   \n",
      "\n",
      "           Education MaritalStatus  ... RegularMarij  AgeRegMarij  HardDrugs  \\\n",
      "0        High School       Married  ...           No          NaN        Yes   \n",
      "1        High School       Married  ...           No          NaN        Yes   \n",
      "2        High School       Married  ...           No          NaN        Yes   \n",
      "3                NaN           NaN  ...          NaN          NaN        NaN   \n",
      "4       Some College   LivePartner  ...           No          NaN        Yes   \n",
      "...              ...           ...  ...          ...          ...        ...   \n",
      "9995  9 - 11th Grade  NeverMarried  ...          NaN          NaN        NaN   \n",
      "9996             NaN           NaN  ...          NaN          NaN        NaN   \n",
      "9997    College Grad       Married  ...           No          NaN         No   \n",
      "9998    College Grad  NeverMarried  ...          NaN          NaN         No   \n",
      "9999    College Grad  NeverMarried  ...          NaN          NaN         No   \n",
      "\n",
      "      SexEver SexAge SexNumPartnLife  SexNumPartYear  SameSex  SexOrientation  \\\n",
      "0         Yes   16.0             8.0             1.0       No    Heterosexual   \n",
      "1         Yes   16.0             8.0             1.0       No    Heterosexual   \n",
      "2         Yes   16.0             8.0             1.0       No    Heterosexual   \n",
      "3         NaN    NaN             NaN             NaN      NaN             NaN   \n",
      "4         Yes   12.0            10.0             1.0      Yes    Heterosexual   \n",
      "...       ...    ...             ...             ...      ...             ...   \n",
      "9995      NaN    NaN             NaN             NaN      NaN             NaN   \n",
      "9996      NaN    NaN             NaN             NaN      NaN             NaN   \n",
      "9997      Yes   21.0             1.0             1.0       No    Heterosexual   \n",
      "9998      Yes   19.0             2.0             NaN       No             NaN   \n",
      "9999      Yes   19.0             2.0             NaN       No             NaN   \n",
      "\n",
      "      PregnantNow  \n",
      "0             NaN  \n",
      "1             NaN  \n",
      "2             NaN  \n",
      "3             NaN  \n",
      "4             NaN  \n",
      "...           ...  \n",
      "9995          NaN  \n",
      "9996          NaN  \n",
      "9997          NaN  \n",
      "9998          NaN  \n",
      "9999          NaN  \n",
      "\n",
      "[10000 rows x 76 columns]\n"
     ]
    }
   ],
   "source": [
    "import pandas as pd\n",
    "nhanes_data = pd.read_csv('https://raw.githubusercontent.com/GTPB/PSLS20/master/data/NHANES.csv')\n",
    "print(nhanes_data)"
   ]
  },
  {
   "cell_type": "code",
   "execution_count": 2,
   "id": "1d0dca36",
   "metadata": {
    "pycharm": {
     "name": "#%%\n"
    }
   },
   "outputs": [
    {
     "name": "stdout",
     "output_type": "stream",
     "text": [
      "<class 'pandas.core.frame.DataFrame'>\n",
      "RangeIndex: 10000 entries, 0 to 9999\n",
      "Data columns (total 76 columns):\n",
      " #   Column            Non-Null Count  Dtype  \n",
      "---  ------            --------------  -----  \n",
      " 0   ID                10000 non-null  int64  \n",
      " 1   SurveyYr          10000 non-null  object \n",
      " 2   Gender            10000 non-null  object \n",
      " 3   Age               10000 non-null  int64  \n",
      " 4   AgeDecade         9667 non-null   object \n",
      " 5   AgeMonths         4962 non-null   float64\n",
      " 6   Race1             10000 non-null  object \n",
      " 7   Race3             5000 non-null   object \n",
      " 8   Education         7221 non-null   object \n",
      " 9   MaritalStatus     7231 non-null   object \n",
      " 10  HHIncome          9189 non-null   object \n",
      " 11  HHIncomeMid       9189 non-null   float64\n",
      " 12  Poverty           9274 non-null   float64\n",
      " 13  HomeRooms         9931 non-null   float64\n",
      " 14  HomeOwn           9937 non-null   object \n",
      " 15  Work              7771 non-null   object \n",
      " 16  Weight            9922 non-null   float64\n",
      " 17  Length            543 non-null    float64\n",
      " 18  HeadCirc          88 non-null     float64\n",
      " 19  Height            9647 non-null   float64\n",
      " 20  BMI               9634 non-null   float64\n",
      " 21  BMICatUnder20yrs  1274 non-null   object \n",
      " 22  BMI_WHO           9603 non-null   object \n",
      " 23  Pulse             8563 non-null   float64\n",
      " 24  BPSysAve          8551 non-null   float64\n",
      " 25  BPDiaAve          8551 non-null   float64\n",
      " 26  BPSys1            8237 non-null   float64\n",
      " 27  BPDia1            8237 non-null   float64\n",
      " 28  BPSys2            8353 non-null   float64\n",
      " 29  BPDia2            8353 non-null   float64\n",
      " 30  BPSys3            8365 non-null   float64\n",
      " 31  BPDia3            8365 non-null   float64\n",
      " 32  Testosterone      4126 non-null   float64\n",
      " 33  DirectChol        8474 non-null   float64\n",
      " 34  TotChol           8474 non-null   float64\n",
      " 35  UrineVol1         9013 non-null   float64\n",
      " 36  UrineFlow1        8397 non-null   float64\n",
      " 37  UrineVol2         1478 non-null   float64\n",
      " 38  UrineFlow2        1476 non-null   float64\n",
      " 39  Diabetes          9858 non-null   object \n",
      " 40  DiabetesAge       629 non-null    float64\n",
      " 41  HealthGen         7539 non-null   object \n",
      " 42  DaysPhysHlthBad   7532 non-null   float64\n",
      " 43  DaysMentHlthBad   7534 non-null   float64\n",
      " 44  LittleInterest    6667 non-null   object \n",
      " 45  Depressed         6673 non-null   object \n",
      " 46  nPregnancies      2604 non-null   float64\n",
      " 47  nBabies           2416 non-null   float64\n",
      " 48  Age1stBaby        1884 non-null   float64\n",
      " 49  SleepHrsNight     7755 non-null   float64\n",
      " 50  SleepTrouble      7772 non-null   object \n",
      " 51  PhysActive        8326 non-null   object \n",
      " 52  PhysActiveDays    4663 non-null   float64\n",
      " 53  TVHrsDay          4859 non-null   object \n",
      " 54  CompHrsDay        4863 non-null   object \n",
      " 55  TVHrsDayChild     653 non-null    float64\n",
      " 56  CompHrsDayChild   653 non-null    float64\n",
      " 57  Alcohol12PlusYr   6580 non-null   object \n",
      " 58  AlcoholDay        4914 non-null   float64\n",
      " 59  AlcoholYear       5922 non-null   float64\n",
      " 60  SmokeNow          3211 non-null   object \n",
      " 61  Smoke100          7235 non-null   object \n",
      " 62  Smoke100n         7235 non-null   object \n",
      " 63  SmokeAge          3080 non-null   float64\n",
      " 64  Marijuana         4941 non-null   object \n",
      " 65  AgeFirstMarij     2891 non-null   float64\n",
      " 66  RegularMarij      4941 non-null   object \n",
      " 67  AgeRegMarij       1366 non-null   float64\n",
      " 68  HardDrugs         5765 non-null   object \n",
      " 69  SexEver           5767 non-null   object \n",
      " 70  SexAge            5540 non-null   float64\n",
      " 71  SexNumPartnLife   5725 non-null   float64\n",
      " 72  SexNumPartYear    4928 non-null   float64\n",
      " 73  SameSex           5768 non-null   object \n",
      " 74  SexOrientation    4842 non-null   object \n",
      " 75  PregnantNow       1696 non-null   object \n",
      "dtypes: float64(43), int64(2), object(31)\n",
      "memory usage: 5.8+ MB\n"
     ]
    }
   ],
   "source": [
    "nhanes_data.info()"
   ]
  },
  {
   "cell_type": "code",
   "execution_count": 3,
   "id": "8fc2e4b1",
   "metadata": {
    "pycharm": {
     "name": "#%%\n"
    }
   },
   "outputs": [],
   "source": [
    "import numpy as py"
   ]
  },
  {
   "cell_type": "code",
   "execution_count": 4,
   "id": "61eec79f",
   "metadata": {
    "pycharm": {
     "name": "#%%\n"
    }
   },
   "outputs": [],
   "source": [
    "nhanes_data1 = nhanes_data.drop_duplicates()"
   ]
  },
  {
   "cell_type": "code",
   "execution_count": 5,
   "id": "314d6570",
   "metadata": {
    "pycharm": {
     "name": "#%%\n"
    }
   },
   "outputs": [
    {
     "name": "stdout",
     "output_type": "stream",
     "text": [
      "<class 'pandas.core.frame.DataFrame'>\n",
      "Int64Index: 7832 entries, 0 to 9999\n",
      "Data columns (total 76 columns):\n",
      " #   Column            Non-Null Count  Dtype  \n",
      "---  ------            --------------  -----  \n",
      " 0   ID                7832 non-null   int64  \n",
      " 1   SurveyYr          7832 non-null   object \n",
      " 2   Gender            7832 non-null   object \n",
      " 3   Age               7832 non-null   int64  \n",
      " 4   AgeDecade         7549 non-null   object \n",
      " 5   AgeMonths         3561 non-null   float64\n",
      " 6   Race1             7832 non-null   object \n",
      " 7   Race3             4264 non-null   object \n",
      " 8   Education         5469 non-null   object \n",
      " 9   MaritalStatus     5474 non-null   object \n",
      " 10  HHIncome          7179 non-null   object \n",
      " 11  HHIncomeMid       7179 non-null   float64\n",
      " 12  Poverty           7254 non-null   float64\n",
      " 13  HomeRooms         7778 non-null   float64\n",
      " 14  HomeOwn           7782 non-null   object \n",
      " 15  Work              5910 non-null   object \n",
      " 16  Weight            7771 non-null   float64\n",
      " 17  Length            498 non-null    float64\n",
      " 18  HeadCirc          82 non-null     float64\n",
      " 19  Height            7515 non-null   float64\n",
      " 20  BMI               7505 non-null   float64\n",
      " 21  BMICatUnder20yrs  1133 non-null   object \n",
      " 22  BMI_WHO           7479 non-null   object \n",
      " 23  Pulse             6596 non-null   float64\n",
      " 24  BPSysAve          6586 non-null   float64\n",
      " 25  BPDiaAve          6586 non-null   float64\n",
      " 26  BPSys1            6335 non-null   float64\n",
      " 27  BPDia1            6335 non-null   float64\n",
      " 28  BPSys2            6428 non-null   float64\n",
      " 29  BPDia2            6428 non-null   float64\n",
      " 30  BPSys3            6432 non-null   float64\n",
      " 31  BPDia3            6432 non-null   float64\n",
      " 32  Testosterone      3478 non-null   float64\n",
      " 33  DirectChol        6536 non-null   float64\n",
      " 34  TotChol           6536 non-null   float64\n",
      " 35  UrineVol1         6967 non-null   float64\n",
      " 36  UrineFlow1        6492 non-null   float64\n",
      " 37  UrineVol2         1162 non-null   float64\n",
      " 38  UrineFlow2        1161 non-null   float64\n",
      " 39  Diabetes          7699 non-null   object \n",
      " 40  DiabetesAge       517 non-null    float64\n",
      " 41  HealthGen         5765 non-null   object \n",
      " 42  DaysPhysHlthBad   5758 non-null   float64\n",
      " 43  DaysMentHlthBad   5760 non-null   float64\n",
      " 44  LittleInterest    5049 non-null   object \n",
      " 45  Depressed         5051 non-null   object \n",
      " 46  nPregnancies      1992 non-null   float64\n",
      " 47  nBabies           1846 non-null   float64\n",
      " 48  Age1stBaby        1457 non-null   float64\n",
      " 49  SleepHrsNight     5897 non-null   float64\n",
      " 50  SleepTrouble      5911 non-null   object \n",
      " 51  PhysActive        6374 non-null   object \n",
      " 52  PhysActiveDays    3813 non-null   float64\n",
      " 53  TVHrsDay          4128 non-null   object \n",
      " 54  CompHrsDay        4132 non-null   object \n",
      " 55  TVHrsDayChild     534 non-null    float64\n",
      " 56  CompHrsDayChild   534 non-null    float64\n",
      " 57  Alcohol12PlusYr   4979 non-null   object \n",
      " 58  AlcoholDay        3672 non-null   float64\n",
      " 59  AlcoholYear       4444 non-null   float64\n",
      " 60  SmokeNow          2423 non-null   object \n",
      " 61  Smoke100          5478 non-null   object \n",
      " 62  Smoke100n         5478 non-null   object \n",
      " 63  SmokeAge          2325 non-null   float64\n",
      " 64  Marijuana         3669 non-null   object \n",
      " 65  AgeFirstMarij     2095 non-null   float64\n",
      " 66  RegularMarij      3669 non-null   object \n",
      " 67  AgeRegMarij       990 non-null    float64\n",
      " 68  HardDrugs         4311 non-null   object \n",
      " 69  SexEver           4312 non-null   object \n",
      " 70  SexAge            4133 non-null   float64\n",
      " 71  SexNumPartnLife   4280 non-null   float64\n",
      " 72  SexNumPartYear    3660 non-null   float64\n",
      " 73  SameSex           4312 non-null   object \n",
      " 74  SexOrientation    3587 non-null   object \n",
      " 75  PregnantNow       1292 non-null   object \n",
      "dtypes: float64(43), int64(2), object(31)\n",
      "memory usage: 4.6+ MB\n"
     ]
    }
   ],
   "source": [
    "nhanes_data1.info()"
   ]
  },
  {
   "cell_type": "code",
   "execution_count": 6,
   "id": "395de7d7",
   "metadata": {
    "pycharm": {
     "name": "#%%\n"
    }
   },
   "outputs": [
    {
     "name": "stdout",
     "output_type": "stream",
     "text": [
      "       SurveyYr  Gender  Age  AgeDecade  AgeMonths  Race1  Race3  Education  \\\n",
      "ID                                                                            \n",
      "51624         1       1    1          1          1      1      0          1   \n",
      "51625         1       1    1          1          1      1      0          0   \n",
      "51630         1       1    1          1          1      1      0          1   \n",
      "51638         1       1    1          1          1      1      0          0   \n",
      "51646         1       1    1          1          1      1      0          0   \n",
      "...         ...     ...  ...        ...        ...    ...    ...        ...   \n",
      "71908         2       2    2          2          0      2      2          2   \n",
      "71909         1       1    1          1          0      1      1          1   \n",
      "71910         1       1    1          1          1      1      1          0   \n",
      "71911         1       1    1          1          0      1      1          1   \n",
      "71915         2       2    2          2          0      2      2          2   \n",
      "\n",
      "       MaritalStatus  HHIncome  ...  RegularMarij  AgeRegMarij  HardDrugs  \\\n",
      "ID                              ...                                         \n",
      "51624              1         1  ...             1            0          1   \n",
      "51625              0         1  ...             0            0          0   \n",
      "51630              1         1  ...             1            0          1   \n",
      "51638              0         1  ...             0            0          0   \n",
      "51646              0         1  ...             0            0          0   \n",
      "...              ...       ...  ...           ...          ...        ...   \n",
      "71908              2         2  ...             0            0          2   \n",
      "71909              1         1  ...             0            0          0   \n",
      "71910              0         1  ...             0            0          0   \n",
      "71911              1         1  ...             1            0          1   \n",
      "71915              2         2  ...             0            0          2   \n",
      "\n",
      "       SexEver  SexAge  SexNumPartnLife  SexNumPartYear  SameSex  \\\n",
      "ID                                                                 \n",
      "51624        1       1                1               1        1   \n",
      "51625        0       0                0               0        0   \n",
      "51630        1       1                1               1        1   \n",
      "51638        0       0                0               0        0   \n",
      "51646        0       0                0               0        0   \n",
      "...        ...     ...              ...             ...      ...   \n",
      "71908        2       2                2               0        2   \n",
      "71909        0       0                0               0        0   \n",
      "71910        0       0                0               0        0   \n",
      "71911        1       1                1               1        1   \n",
      "71915        2       2                2               0        2   \n",
      "\n",
      "       SexOrientation  PregnantNow  \n",
      "ID                                  \n",
      "51624               1            0  \n",
      "51625               0            0  \n",
      "51630               1            0  \n",
      "51638               0            0  \n",
      "51646               0            0  \n",
      "...               ...          ...  \n",
      "71908               0            0  \n",
      "71909               0            0  \n",
      "71910               0            0  \n",
      "71911               1            0  \n",
      "71915               0            0  \n",
      "\n",
      "[6779 rows x 75 columns]\n"
     ]
    }
   ],
   "source": [
    "count_unique_ids = nhanes_data1.groupby('ID').count()\n",
    "print(count_unique_ids)"
   ]
  },
  {
   "cell_type": "code",
   "execution_count": 7,
   "id": "b7e68230",
   "metadata": {
    "pycharm": {
     "name": "#%%\n"
    }
   },
   "outputs": [
    {
     "name": "stdout",
     "output_type": "stream",
     "text": [
      "6779\n"
     ]
    }
   ],
   "source": [
    "count_unique_ids = nhanes_data1['ID'].nunique()\n",
    "print(count_unique_ids)"
   ]
  },
  {
   "cell_type": "code",
   "execution_count": 8,
   "id": "08a7433b",
   "metadata": {
    "pycharm": {
     "name": "#%%\n"
    }
   },
   "outputs": [
    {
     "name": "stdout",
     "output_type": "stream",
     "text": [
      "           ID  SurveyYr  Gender  Age  AgeDecade  AgeMonths  Race1  Race3  \\\n",
      "nunique  6779         2       2   81          8        910      5      6   \n",
      "\n",
      "         Education  MaritalStatus  HHIncome  HHIncomeMid  Poverty  HomeRooms  \\\n",
      "nunique          5              6        12           12      450         13   \n",
      "\n",
      "         HomeOwn  Work  Weight  Length  HeadCirc  Height   BMI  \\\n",
      "nunique        3     3    1290     309        56     980  2073   \n",
      "\n",
      "         BMICatUnder20yrs  BMI_WHO  Pulse  BPSysAve  BPDiaAve  BPSys1  BPDia1  \\\n",
      "nunique                 4        4     47       126       102      70      51   \n",
      "\n",
      "         BPSys2  BPDia2  BPSys3  BPDia3  Testosterone  DirectChol  TotChol  \\\n",
      "nunique      69      51      66      50          2311         106      250   \n",
      "\n",
      "         UrineVol1  UrineFlow1  UrineVol2  UrineFlow2  Diabetes  DiabetesAge  \\\n",
      "nunique        424        2066        294         760         2           72   \n",
      "\n",
      "         HealthGen  DaysPhysHlthBad  DaysMentHlthBad  LittleInterest  \\\n",
      "nunique          5               30               31               3   \n",
      "\n",
      "         Depressed  nPregnancies  nBabies  Age1stBaby  SleepHrsNight  \\\n",
      "nunique          3            14       12          25             11   \n",
      "\n",
      "         SleepTrouble  PhysActive  PhysActiveDays  TVHrsDay  CompHrsDay  \\\n",
      "nunique             2           2               7         7           7   \n",
      "\n",
      "         TVHrsDayChild  CompHrsDayChild  Alcohol12PlusYr  AlcoholDay  \\\n",
      "nunique              7                7                2          25   \n",
      "\n",
      "         AlcoholYear  SmokeNow  Smoke100  Smoke100n  SmokeAge  Marijuana  \\\n",
      "nunique           62         2         2          2        41          2   \n",
      "\n",
      "         AgeFirstMarij  RegularMarij  AgeRegMarij  HardDrugs  SexEver  SexAge  \\\n",
      "nunique             38             2           36          2        2      35   \n",
      "\n",
      "         SexNumPartnLife  SexNumPartYear  SameSex  SexOrientation  PregnantNow  \n",
      "nunique               90              23        2               3            3  \n"
     ]
    }
   ],
   "source": [
    "nhanes_data1.agg(['nunique'])\n",
    "pd.set_option('display.max_columns', None)\n",
    "print(nhanes_data1.agg(['nunique']))\n"
   ]
  },
  {
   "cell_type": "code",
   "execution_count": 9,
   "id": "66bc12ca",
   "metadata": {
    "pycharm": {
     "name": "#%%\n"
    }
   },
   "outputs": [
    {
     "data": {
      "text/plain": "         ID  SurveyYr  Gender  Age  AgeDecade  AgeMonths  Race1  Race3  \\\n3958  63297         5       5    5          5          0      5      5   \n5202  67118         5       5    5          5          0      5      5   \n3909  63149         5       5    5          5          0      5      5   \n3785  62804         4       4    4          4          0      4      4   \n4262  64228         4       4    4          4          0      4      4   \n...     ...       ...     ...  ...        ...        ...    ...    ...   \n2256  58283         1       1    1          1          1      1      0   \n2255  58276         1       1    1          0          0      1      0   \n2254  58275         1       1    1          1          1      1      0   \n2253  58274         1       1    1          1          1      1      0   \n3389  61615         1       1    1          1          1      1      0   \n\n      Education  MaritalStatus  HHIncome  HHIncomeMid  Poverty  HomeRooms  \\\n3958          5              5         5            5        5          5   \n5202          5              5         5            5        5          5   \n3909          5              5         5            5        5          5   \n3785          4              4         4            4        4          4   \n4262          4              4         4            4        4          4   \n...         ...            ...       ...          ...      ...        ...   \n2256          1              1         1            1        1          1   \n2255          1              1         1            1        1          1   \n2254          1              1         1            1        1          1   \n2253          1              1         1            1        1          1   \n3389          1              1         1            1        1          1   \n\n      HomeOwn  Work  Weight  Length  HeadCirc  Height  BMI  BMICatUnder20yrs  \\\n3958        5     5       5       0         0       5    5                 0   \n5202        5     5       5       0         0       5    5                 0   \n3909        5     5       5       0         0       5    5                 0   \n3785        4     4       4       0         0       4    4                 0   \n4262        4     4       4       0         0       4    4                 0   \n...       ...   ...     ...     ...       ...     ...  ...               ...   \n2256        1     1       1       0         0       1    1                 0   \n2255        1     1       1       0         0       1    1                 0   \n2254        1     1       1       0         0       1    1                 0   \n2253        1     1       1       0         0       1    1                 0   \n3389        1     1       1       0         0       1    1                 0   \n\n      BMI_WHO  Pulse  BPSysAve  BPDiaAve  BPSys1  BPDia1  BPSys2  BPDia2  \\\n3958        5      5         5         5       5       5       5       5   \n5202        5      5         5         5       5       5       5       5   \n3909        5      5         5         5       5       5       5       5   \n3785        4      4         4         4       4       4       4       4   \n4262        4      4         4         4       4       4       4       4   \n...       ...    ...       ...       ...     ...     ...     ...     ...   \n2256        1      1         1         1       1       1       1       1   \n2255        1      1         1         1       0       0       1       1   \n2254        1      1         1         1       1       1       1       1   \n2253        1      1         1         1       1       1       1       1   \n3389        1      1         1         1       1       1       1       1   \n\n      BPSys3  BPDia3  Testosterone  DirectChol  TotChol  UrineVol1  \\\n3958       5       5             5           5        5          5   \n5202       5       5             5           5        5          5   \n3909       5       5             5           5        5          5   \n3785       4       4             4           4        4          4   \n4262       4       4             4           4        4          4   \n...      ...     ...           ...         ...      ...        ...   \n2256       1       1             0           1        1          0   \n2255       1       1             0           1        1          1   \n2254       1       1             0           1        1          1   \n2253       1       1             0           1        1          1   \n3389       1       1             0           1        1          1   \n\n      UrineFlow1  UrineVol2  UrineFlow2  Diabetes  DiabetesAge  HealthGen  \\\n3958           5          0           0         5            0          5   \n5202           5          0           0         5            0          5   \n3909           5          5           5         5            0          5   \n3785           4          0           0         4            0          4   \n4262           4          0           0         4            4          4   \n...          ...        ...         ...       ...          ...        ...   \n2256           0          0           0         1            0          1   \n2255           1          1           1         1            0          1   \n2254           1          0           0         1            0          1   \n2253           1          0           0         1            0          1   \n3389           1          0           0         1            0          0   \n\n      DaysPhysHlthBad  DaysMentHlthBad  LittleInterest  Depressed  \\\n3958                5                5               5          5   \n5202                5                5               5          5   \n3909                5                5               5          5   \n3785                4                4               4          4   \n4262                4                4               4          4   \n...               ...              ...             ...        ...   \n2256                1                1               1          1   \n2255                1                1               1          1   \n2254                1                1               1          1   \n2253                1                1               1          1   \n3389                0                0               0          0   \n\n      nPregnancies  nBabies  Age1stBaby  SleepHrsNight  SleepTrouble  \\\n3958             0        0           0              5             5   \n5202             5        5           5              5             5   \n3909             5        5           5              5             5   \n3785             0        0           0              4             4   \n4262             0        0           0              4             4   \n...            ...      ...         ...            ...           ...   \n2256             0        0           0              1             1   \n2255             1        0           0              1             1   \n2254             0        0           0              1             1   \n2253             1        1           1              1             1   \n3389             0        0           0              1             1   \n\n      PhysActive  PhysActiveDays  TVHrsDay  CompHrsDay  TVHrsDayChild  \\\n3958           5               4         5           5              0   \n5202           5               4         5           5              0   \n3909           5               4         5           5              0   \n3785           4               3         4           4              0   \n4262           4               4         4           4              0   \n...          ...             ...       ...         ...            ...   \n2256           1               0         0           0              0   \n2255           1               1         0           0              0   \n2254           1               1         0           0              0   \n2253           1               0         0           0              0   \n3389           1               0         0           0              0   \n\n      CompHrsDayChild  Alcohol12PlusYr  AlcoholDay  AlcoholYear  SmokeNow  \\\n3958                0                5           0            5         0   \n5202                0                5           5            5         5   \n3909                0                5           5            5         0   \n3785                0                4           4            4         0   \n4262                0                4           4            4         4   \n...               ...              ...         ...          ...       ...   \n2256                0                1           1            1         1   \n2255                0                1           1            1         0   \n2254                0                1           0            1         1   \n2253                0                1           1            1         0   \n3389                0                0           0            0         0   \n\n      Smoke100  Smoke100n  SmokeAge  Marijuana  AgeFirstMarij  RegularMarij  \\\n3958         5          5         0          5              5             5   \n5202         5          5         5          5              5             5   \n3909         5          5         0          5              0             5   \n3785         4          4         0          0              0             0   \n4262         4          4         4          4              4             4   \n...        ...        ...       ...        ...            ...           ...   \n2256         1          1         1          0              0             0   \n2255         1          1         0          0              0             0   \n2254         1          1         1          1              1             1   \n2253         1          1         0          1              0             1   \n3389         1          1         0          0              0             0   \n\n      AgeRegMarij  HardDrugs  SexEver  SexAge  SexNumPartnLife  \\\n3958            0          5        5       5                5   \n5202            0          5        5       5                5   \n3909            0          5        5       5                5   \n3785            0          4        4       4                4   \n4262            4          4        4       4                4   \n...           ...        ...      ...     ...              ...   \n2256            0          1        1       1                1   \n2255            0          0        0       0                0   \n2254            1          1        1       1                1   \n2253            0          1        1       1                1   \n3389            0          0        0       0                0   \n\n      SexNumPartYear  SameSex  SexOrientation  PregnantNow  \n3958               5        5               5            0  \n5202               5        5               0            5  \n3909               5        5               5            5  \n3785               0        4               0            0  \n4262               4        4               4            0  \n...              ...      ...             ...          ...  \n2256               0        1               0            0  \n2255               0        0               0            0  \n2254               1        1               1            0  \n2253               1        1               1            0  \n3389               0        0               0            1  \n\n[6779 rows x 76 columns]",
      "text/html": "<div>\n<style scoped>\n    .dataframe tbody tr th:only-of-type {\n        vertical-align: middle;\n    }\n\n    .dataframe tbody tr th {\n        vertical-align: top;\n    }\n\n    .dataframe thead th {\n        text-align: right;\n    }\n</style>\n<table border=\"1\" class=\"dataframe\">\n  <thead>\n    <tr style=\"text-align: right;\">\n      <th></th>\n      <th>ID</th>\n      <th>SurveyYr</th>\n      <th>Gender</th>\n      <th>Age</th>\n      <th>AgeDecade</th>\n      <th>AgeMonths</th>\n      <th>Race1</th>\n      <th>Race3</th>\n      <th>Education</th>\n      <th>MaritalStatus</th>\n      <th>HHIncome</th>\n      <th>HHIncomeMid</th>\n      <th>Poverty</th>\n      <th>HomeRooms</th>\n      <th>HomeOwn</th>\n      <th>Work</th>\n      <th>Weight</th>\n      <th>Length</th>\n      <th>HeadCirc</th>\n      <th>Height</th>\n      <th>BMI</th>\n      <th>BMICatUnder20yrs</th>\n      <th>BMI_WHO</th>\n      <th>Pulse</th>\n      <th>BPSysAve</th>\n      <th>BPDiaAve</th>\n      <th>BPSys1</th>\n      <th>BPDia1</th>\n      <th>BPSys2</th>\n      <th>BPDia2</th>\n      <th>BPSys3</th>\n      <th>BPDia3</th>\n      <th>Testosterone</th>\n      <th>DirectChol</th>\n      <th>TotChol</th>\n      <th>UrineVol1</th>\n      <th>UrineFlow1</th>\n      <th>UrineVol2</th>\n      <th>UrineFlow2</th>\n      <th>Diabetes</th>\n      <th>DiabetesAge</th>\n      <th>HealthGen</th>\n      <th>DaysPhysHlthBad</th>\n      <th>DaysMentHlthBad</th>\n      <th>LittleInterest</th>\n      <th>Depressed</th>\n      <th>nPregnancies</th>\n      <th>nBabies</th>\n      <th>Age1stBaby</th>\n      <th>SleepHrsNight</th>\n      <th>SleepTrouble</th>\n      <th>PhysActive</th>\n      <th>PhysActiveDays</th>\n      <th>TVHrsDay</th>\n      <th>CompHrsDay</th>\n      <th>TVHrsDayChild</th>\n      <th>CompHrsDayChild</th>\n      <th>Alcohol12PlusYr</th>\n      <th>AlcoholDay</th>\n      <th>AlcoholYear</th>\n      <th>SmokeNow</th>\n      <th>Smoke100</th>\n      <th>Smoke100n</th>\n      <th>SmokeAge</th>\n      <th>Marijuana</th>\n      <th>AgeFirstMarij</th>\n      <th>RegularMarij</th>\n      <th>AgeRegMarij</th>\n      <th>HardDrugs</th>\n      <th>SexEver</th>\n      <th>SexAge</th>\n      <th>SexNumPartnLife</th>\n      <th>SexNumPartYear</th>\n      <th>SameSex</th>\n      <th>SexOrientation</th>\n      <th>PregnantNow</th>\n    </tr>\n  </thead>\n  <tbody>\n    <tr>\n      <th>3958</th>\n      <td>63297</td>\n      <td>5</td>\n      <td>5</td>\n      <td>5</td>\n      <td>5</td>\n      <td>0</td>\n      <td>5</td>\n      <td>5</td>\n      <td>5</td>\n      <td>5</td>\n      <td>5</td>\n      <td>5</td>\n      <td>5</td>\n      <td>5</td>\n      <td>5</td>\n      <td>5</td>\n      <td>5</td>\n      <td>0</td>\n      <td>0</td>\n      <td>5</td>\n      <td>5</td>\n      <td>0</td>\n      <td>5</td>\n      <td>5</td>\n      <td>5</td>\n      <td>5</td>\n      <td>5</td>\n      <td>5</td>\n      <td>5</td>\n      <td>5</td>\n      <td>5</td>\n      <td>5</td>\n      <td>5</td>\n      <td>5</td>\n      <td>5</td>\n      <td>5</td>\n      <td>5</td>\n      <td>0</td>\n      <td>0</td>\n      <td>5</td>\n      <td>0</td>\n      <td>5</td>\n      <td>5</td>\n      <td>5</td>\n      <td>5</td>\n      <td>5</td>\n      <td>0</td>\n      <td>0</td>\n      <td>0</td>\n      <td>5</td>\n      <td>5</td>\n      <td>5</td>\n      <td>4</td>\n      <td>5</td>\n      <td>5</td>\n      <td>0</td>\n      <td>0</td>\n      <td>5</td>\n      <td>0</td>\n      <td>5</td>\n      <td>0</td>\n      <td>5</td>\n      <td>5</td>\n      <td>0</td>\n      <td>5</td>\n      <td>5</td>\n      <td>5</td>\n      <td>0</td>\n      <td>5</td>\n      <td>5</td>\n      <td>5</td>\n      <td>5</td>\n      <td>5</td>\n      <td>5</td>\n      <td>5</td>\n      <td>0</td>\n    </tr>\n    <tr>\n      <th>5202</th>\n      <td>67118</td>\n      <td>5</td>\n      <td>5</td>\n      <td>5</td>\n      <td>5</td>\n      <td>0</td>\n      <td>5</td>\n      <td>5</td>\n      <td>5</td>\n      <td>5</td>\n      <td>5</td>\n      <td>5</td>\n      <td>5</td>\n      <td>5</td>\n      <td>5</td>\n      <td>5</td>\n      <td>5</td>\n      <td>0</td>\n      <td>0</td>\n      <td>5</td>\n      <td>5</td>\n      <td>0</td>\n      <td>5</td>\n      <td>5</td>\n      <td>5</td>\n      <td>5</td>\n      <td>5</td>\n      <td>5</td>\n      <td>5</td>\n      <td>5</td>\n      <td>5</td>\n      <td>5</td>\n      <td>5</td>\n      <td>5</td>\n      <td>5</td>\n      <td>5</td>\n      <td>5</td>\n      <td>0</td>\n      <td>0</td>\n      <td>5</td>\n      <td>0</td>\n      <td>5</td>\n      <td>5</td>\n      <td>5</td>\n      <td>5</td>\n      <td>5</td>\n      <td>5</td>\n      <td>5</td>\n      <td>5</td>\n      <td>5</td>\n      <td>5</td>\n      <td>5</td>\n      <td>4</td>\n      <td>5</td>\n      <td>5</td>\n      <td>0</td>\n      <td>0</td>\n      <td>5</td>\n      <td>5</td>\n      <td>5</td>\n      <td>5</td>\n      <td>5</td>\n      <td>5</td>\n      <td>5</td>\n      <td>5</td>\n      <td>5</td>\n      <td>5</td>\n      <td>0</td>\n      <td>5</td>\n      <td>5</td>\n      <td>5</td>\n      <td>5</td>\n      <td>5</td>\n      <td>5</td>\n      <td>0</td>\n      <td>5</td>\n    </tr>\n    <tr>\n      <th>3909</th>\n      <td>63149</td>\n      <td>5</td>\n      <td>5</td>\n      <td>5</td>\n      <td>5</td>\n      <td>0</td>\n      <td>5</td>\n      <td>5</td>\n      <td>5</td>\n      <td>5</td>\n      <td>5</td>\n      <td>5</td>\n      <td>5</td>\n      <td>5</td>\n      <td>5</td>\n      <td>5</td>\n      <td>5</td>\n      <td>0</td>\n      <td>0</td>\n      <td>5</td>\n      <td>5</td>\n      <td>0</td>\n      <td>5</td>\n      <td>5</td>\n      <td>5</td>\n      <td>5</td>\n      <td>5</td>\n      <td>5</td>\n      <td>5</td>\n      <td>5</td>\n      <td>5</td>\n      <td>5</td>\n      <td>5</td>\n      <td>5</td>\n      <td>5</td>\n      <td>5</td>\n      <td>5</td>\n      <td>5</td>\n      <td>5</td>\n      <td>5</td>\n      <td>0</td>\n      <td>5</td>\n      <td>5</td>\n      <td>5</td>\n      <td>5</td>\n      <td>5</td>\n      <td>5</td>\n      <td>5</td>\n      <td>5</td>\n      <td>5</td>\n      <td>5</td>\n      <td>5</td>\n      <td>4</td>\n      <td>5</td>\n      <td>5</td>\n      <td>0</td>\n      <td>0</td>\n      <td>5</td>\n      <td>5</td>\n      <td>5</td>\n      <td>0</td>\n      <td>5</td>\n      <td>5</td>\n      <td>0</td>\n      <td>5</td>\n      <td>0</td>\n      <td>5</td>\n      <td>0</td>\n      <td>5</td>\n      <td>5</td>\n      <td>5</td>\n      <td>5</td>\n      <td>5</td>\n      <td>5</td>\n      <td>5</td>\n      <td>5</td>\n    </tr>\n    <tr>\n      <th>3785</th>\n      <td>62804</td>\n      <td>4</td>\n      <td>4</td>\n      <td>4</td>\n      <td>4</td>\n      <td>0</td>\n      <td>4</td>\n      <td>4</td>\n      <td>4</td>\n      <td>4</td>\n      <td>4</td>\n      <td>4</td>\n      <td>4</td>\n      <td>4</td>\n      <td>4</td>\n      <td>4</td>\n      <td>4</td>\n      <td>0</td>\n      <td>0</td>\n      <td>4</td>\n      <td>4</td>\n      <td>0</td>\n      <td>4</td>\n      <td>4</td>\n      <td>4</td>\n      <td>4</td>\n      <td>4</td>\n      <td>4</td>\n      <td>4</td>\n      <td>4</td>\n      <td>4</td>\n      <td>4</td>\n      <td>4</td>\n      <td>4</td>\n      <td>4</td>\n      <td>4</td>\n      <td>4</td>\n      <td>0</td>\n      <td>0</td>\n      <td>4</td>\n      <td>0</td>\n      <td>4</td>\n      <td>4</td>\n      <td>4</td>\n      <td>4</td>\n      <td>4</td>\n      <td>0</td>\n      <td>0</td>\n      <td>0</td>\n      <td>4</td>\n      <td>4</td>\n      <td>4</td>\n      <td>3</td>\n      <td>4</td>\n      <td>4</td>\n      <td>0</td>\n      <td>0</td>\n      <td>4</td>\n      <td>4</td>\n      <td>4</td>\n      <td>0</td>\n      <td>4</td>\n      <td>4</td>\n      <td>0</td>\n      <td>0</td>\n      <td>0</td>\n      <td>0</td>\n      <td>0</td>\n      <td>4</td>\n      <td>4</td>\n      <td>4</td>\n      <td>4</td>\n      <td>0</td>\n      <td>4</td>\n      <td>0</td>\n      <td>0</td>\n    </tr>\n    <tr>\n      <th>4262</th>\n      <td>64228</td>\n      <td>4</td>\n      <td>4</td>\n      <td>4</td>\n      <td>4</td>\n      <td>0</td>\n      <td>4</td>\n      <td>4</td>\n      <td>4</td>\n      <td>4</td>\n      <td>4</td>\n      <td>4</td>\n      <td>4</td>\n      <td>4</td>\n      <td>4</td>\n      <td>4</td>\n      <td>4</td>\n      <td>0</td>\n      <td>0</td>\n      <td>4</td>\n      <td>4</td>\n      <td>0</td>\n      <td>4</td>\n      <td>4</td>\n      <td>4</td>\n      <td>4</td>\n      <td>4</td>\n      <td>4</td>\n      <td>4</td>\n      <td>4</td>\n      <td>4</td>\n      <td>4</td>\n      <td>4</td>\n      <td>4</td>\n      <td>4</td>\n      <td>4</td>\n      <td>4</td>\n      <td>0</td>\n      <td>0</td>\n      <td>4</td>\n      <td>4</td>\n      <td>4</td>\n      <td>4</td>\n      <td>4</td>\n      <td>4</td>\n      <td>4</td>\n      <td>0</td>\n      <td>0</td>\n      <td>0</td>\n      <td>4</td>\n      <td>4</td>\n      <td>4</td>\n      <td>4</td>\n      <td>4</td>\n      <td>4</td>\n      <td>0</td>\n      <td>0</td>\n      <td>4</td>\n      <td>4</td>\n      <td>4</td>\n      <td>4</td>\n      <td>4</td>\n      <td>4</td>\n      <td>4</td>\n      <td>4</td>\n      <td>4</td>\n      <td>4</td>\n      <td>4</td>\n      <td>4</td>\n      <td>4</td>\n      <td>4</td>\n      <td>4</td>\n      <td>4</td>\n      <td>4</td>\n      <td>4</td>\n      <td>0</td>\n    </tr>\n    <tr>\n      <th>...</th>\n      <td>...</td>\n      <td>...</td>\n      <td>...</td>\n      <td>...</td>\n      <td>...</td>\n      <td>...</td>\n      <td>...</td>\n      <td>...</td>\n      <td>...</td>\n      <td>...</td>\n      <td>...</td>\n      <td>...</td>\n      <td>...</td>\n      <td>...</td>\n      <td>...</td>\n      <td>...</td>\n      <td>...</td>\n      <td>...</td>\n      <td>...</td>\n      <td>...</td>\n      <td>...</td>\n      <td>...</td>\n      <td>...</td>\n      <td>...</td>\n      <td>...</td>\n      <td>...</td>\n      <td>...</td>\n      <td>...</td>\n      <td>...</td>\n      <td>...</td>\n      <td>...</td>\n      <td>...</td>\n      <td>...</td>\n      <td>...</td>\n      <td>...</td>\n      <td>...</td>\n      <td>...</td>\n      <td>...</td>\n      <td>...</td>\n      <td>...</td>\n      <td>...</td>\n      <td>...</td>\n      <td>...</td>\n      <td>...</td>\n      <td>...</td>\n      <td>...</td>\n      <td>...</td>\n      <td>...</td>\n      <td>...</td>\n      <td>...</td>\n      <td>...</td>\n      <td>...</td>\n      <td>...</td>\n      <td>...</td>\n      <td>...</td>\n      <td>...</td>\n      <td>...</td>\n      <td>...</td>\n      <td>...</td>\n      <td>...</td>\n      <td>...</td>\n      <td>...</td>\n      <td>...</td>\n      <td>...</td>\n      <td>...</td>\n      <td>...</td>\n      <td>...</td>\n      <td>...</td>\n      <td>...</td>\n      <td>...</td>\n      <td>...</td>\n      <td>...</td>\n      <td>...</td>\n      <td>...</td>\n      <td>...</td>\n      <td>...</td>\n    </tr>\n    <tr>\n      <th>2256</th>\n      <td>58283</td>\n      <td>1</td>\n      <td>1</td>\n      <td>1</td>\n      <td>1</td>\n      <td>1</td>\n      <td>1</td>\n      <td>0</td>\n      <td>1</td>\n      <td>1</td>\n      <td>1</td>\n      <td>1</td>\n      <td>1</td>\n      <td>1</td>\n      <td>1</td>\n      <td>1</td>\n      <td>1</td>\n      <td>0</td>\n      <td>0</td>\n      <td>1</td>\n      <td>1</td>\n      <td>0</td>\n      <td>1</td>\n      <td>1</td>\n      <td>1</td>\n      <td>1</td>\n      <td>1</td>\n      <td>1</td>\n      <td>1</td>\n      <td>1</td>\n      <td>1</td>\n      <td>1</td>\n      <td>0</td>\n      <td>1</td>\n      <td>1</td>\n      <td>0</td>\n      <td>0</td>\n      <td>0</td>\n      <td>0</td>\n      <td>1</td>\n      <td>0</td>\n      <td>1</td>\n      <td>1</td>\n      <td>1</td>\n      <td>1</td>\n      <td>1</td>\n      <td>0</td>\n      <td>0</td>\n      <td>0</td>\n      <td>1</td>\n      <td>1</td>\n      <td>1</td>\n      <td>0</td>\n      <td>0</td>\n      <td>0</td>\n      <td>0</td>\n      <td>0</td>\n      <td>1</td>\n      <td>1</td>\n      <td>1</td>\n      <td>1</td>\n      <td>1</td>\n      <td>1</td>\n      <td>1</td>\n      <td>0</td>\n      <td>0</td>\n      <td>0</td>\n      <td>0</td>\n      <td>1</td>\n      <td>1</td>\n      <td>1</td>\n      <td>1</td>\n      <td>0</td>\n      <td>1</td>\n      <td>0</td>\n      <td>0</td>\n    </tr>\n    <tr>\n      <th>2255</th>\n      <td>58276</td>\n      <td>1</td>\n      <td>1</td>\n      <td>1</td>\n      <td>0</td>\n      <td>0</td>\n      <td>1</td>\n      <td>0</td>\n      <td>1</td>\n      <td>1</td>\n      <td>1</td>\n      <td>1</td>\n      <td>1</td>\n      <td>1</td>\n      <td>1</td>\n      <td>1</td>\n      <td>1</td>\n      <td>0</td>\n      <td>0</td>\n      <td>1</td>\n      <td>1</td>\n      <td>0</td>\n      <td>1</td>\n      <td>1</td>\n      <td>1</td>\n      <td>1</td>\n      <td>0</td>\n      <td>0</td>\n      <td>1</td>\n      <td>1</td>\n      <td>1</td>\n      <td>1</td>\n      <td>0</td>\n      <td>1</td>\n      <td>1</td>\n      <td>1</td>\n      <td>1</td>\n      <td>1</td>\n      <td>1</td>\n      <td>1</td>\n      <td>0</td>\n      <td>1</td>\n      <td>1</td>\n      <td>1</td>\n      <td>1</td>\n      <td>1</td>\n      <td>1</td>\n      <td>0</td>\n      <td>0</td>\n      <td>1</td>\n      <td>1</td>\n      <td>1</td>\n      <td>1</td>\n      <td>0</td>\n      <td>0</td>\n      <td>0</td>\n      <td>0</td>\n      <td>1</td>\n      <td>1</td>\n      <td>1</td>\n      <td>0</td>\n      <td>1</td>\n      <td>1</td>\n      <td>0</td>\n      <td>0</td>\n      <td>0</td>\n      <td>0</td>\n      <td>0</td>\n      <td>0</td>\n      <td>0</td>\n      <td>0</td>\n      <td>0</td>\n      <td>0</td>\n      <td>0</td>\n      <td>0</td>\n      <td>0</td>\n    </tr>\n    <tr>\n      <th>2254</th>\n      <td>58275</td>\n      <td>1</td>\n      <td>1</td>\n      <td>1</td>\n      <td>1</td>\n      <td>1</td>\n      <td>1</td>\n      <td>0</td>\n      <td>1</td>\n      <td>1</td>\n      <td>1</td>\n      <td>1</td>\n      <td>1</td>\n      <td>1</td>\n      <td>1</td>\n      <td>1</td>\n      <td>1</td>\n      <td>0</td>\n      <td>0</td>\n      <td>1</td>\n      <td>1</td>\n      <td>0</td>\n      <td>1</td>\n      <td>1</td>\n      <td>1</td>\n      <td>1</td>\n      <td>1</td>\n      <td>1</td>\n      <td>1</td>\n      <td>1</td>\n      <td>1</td>\n      <td>1</td>\n      <td>0</td>\n      <td>1</td>\n      <td>1</td>\n      <td>1</td>\n      <td>1</td>\n      <td>0</td>\n      <td>0</td>\n      <td>1</td>\n      <td>0</td>\n      <td>1</td>\n      <td>1</td>\n      <td>1</td>\n      <td>1</td>\n      <td>1</td>\n      <td>0</td>\n      <td>0</td>\n      <td>0</td>\n      <td>1</td>\n      <td>1</td>\n      <td>1</td>\n      <td>1</td>\n      <td>0</td>\n      <td>0</td>\n      <td>0</td>\n      <td>0</td>\n      <td>1</td>\n      <td>0</td>\n      <td>1</td>\n      <td>1</td>\n      <td>1</td>\n      <td>1</td>\n      <td>1</td>\n      <td>1</td>\n      <td>1</td>\n      <td>1</td>\n      <td>1</td>\n      <td>1</td>\n      <td>1</td>\n      <td>1</td>\n      <td>1</td>\n      <td>1</td>\n      <td>1</td>\n      <td>1</td>\n      <td>0</td>\n    </tr>\n    <tr>\n      <th>2253</th>\n      <td>58274</td>\n      <td>1</td>\n      <td>1</td>\n      <td>1</td>\n      <td>1</td>\n      <td>1</td>\n      <td>1</td>\n      <td>0</td>\n      <td>1</td>\n      <td>1</td>\n      <td>1</td>\n      <td>1</td>\n      <td>1</td>\n      <td>1</td>\n      <td>1</td>\n      <td>1</td>\n      <td>1</td>\n      <td>0</td>\n      <td>0</td>\n      <td>1</td>\n      <td>1</td>\n      <td>0</td>\n      <td>1</td>\n      <td>1</td>\n      <td>1</td>\n      <td>1</td>\n      <td>1</td>\n      <td>1</td>\n      <td>1</td>\n      <td>1</td>\n      <td>1</td>\n      <td>1</td>\n      <td>0</td>\n      <td>1</td>\n      <td>1</td>\n      <td>1</td>\n      <td>1</td>\n      <td>0</td>\n      <td>0</td>\n      <td>1</td>\n      <td>0</td>\n      <td>1</td>\n      <td>1</td>\n      <td>1</td>\n      <td>1</td>\n      <td>1</td>\n      <td>1</td>\n      <td>1</td>\n      <td>1</td>\n      <td>1</td>\n      <td>1</td>\n      <td>1</td>\n      <td>0</td>\n      <td>0</td>\n      <td>0</td>\n      <td>0</td>\n      <td>0</td>\n      <td>1</td>\n      <td>1</td>\n      <td>1</td>\n      <td>0</td>\n      <td>1</td>\n      <td>1</td>\n      <td>0</td>\n      <td>1</td>\n      <td>0</td>\n      <td>1</td>\n      <td>0</td>\n      <td>1</td>\n      <td>1</td>\n      <td>1</td>\n      <td>1</td>\n      <td>1</td>\n      <td>1</td>\n      <td>1</td>\n      <td>0</td>\n    </tr>\n    <tr>\n      <th>3389</th>\n      <td>61615</td>\n      <td>1</td>\n      <td>1</td>\n      <td>1</td>\n      <td>1</td>\n      <td>1</td>\n      <td>1</td>\n      <td>0</td>\n      <td>1</td>\n      <td>1</td>\n      <td>1</td>\n      <td>1</td>\n      <td>1</td>\n      <td>1</td>\n      <td>1</td>\n      <td>1</td>\n      <td>1</td>\n      <td>0</td>\n      <td>0</td>\n      <td>1</td>\n      <td>1</td>\n      <td>0</td>\n      <td>1</td>\n      <td>1</td>\n      <td>1</td>\n      <td>1</td>\n      <td>1</td>\n      <td>1</td>\n      <td>1</td>\n      <td>1</td>\n      <td>1</td>\n      <td>1</td>\n      <td>0</td>\n      <td>1</td>\n      <td>1</td>\n      <td>1</td>\n      <td>1</td>\n      <td>0</td>\n      <td>0</td>\n      <td>1</td>\n      <td>0</td>\n      <td>0</td>\n      <td>0</td>\n      <td>0</td>\n      <td>0</td>\n      <td>0</td>\n      <td>0</td>\n      <td>0</td>\n      <td>0</td>\n      <td>1</td>\n      <td>1</td>\n      <td>1</td>\n      <td>0</td>\n      <td>0</td>\n      <td>0</td>\n      <td>0</td>\n      <td>0</td>\n      <td>0</td>\n      <td>0</td>\n      <td>0</td>\n      <td>0</td>\n      <td>1</td>\n      <td>1</td>\n      <td>0</td>\n      <td>0</td>\n      <td>0</td>\n      <td>0</td>\n      <td>0</td>\n      <td>0</td>\n      <td>0</td>\n      <td>0</td>\n      <td>0</td>\n      <td>0</td>\n      <td>0</td>\n      <td>0</td>\n      <td>1</td>\n    </tr>\n  </tbody>\n</table>\n<p>6779 rows × 76 columns</p>\n</div>"
     },
     "execution_count": 9,
     "metadata": {},
     "output_type": "execute_result"
    }
   ],
   "source": [
    "grouped = nhanes_data1.groupby('ID').count().reset_index()\n",
    "grouped.sort_values('SurveyYr', ascending = False)"
   ]
  },
  {
   "cell_type": "code",
   "execution_count": 10,
   "id": "ed9e5ca1",
   "metadata": {
    "pycharm": {
     "name": "#%%\n"
    }
   },
   "outputs": [
    {
     "data": {
      "text/plain": "         ID SurveyYr Gender  Age AgeDecade  AgeMonths  Race1  Race3  \\\n5608  63297  2011_12   male   50     50-59        NaN  White  White   \n5609  63297  2011_12   male   50     50-59        NaN  White  White   \n5611  63297  2011_12   male   50     50-59        NaN  White  White   \n5612  63297  2011_12   male   50     50-59        NaN  White  White   \n5613  63297  2011_12   male   50     50-59        NaN  White  White   \n\n         Education MaritalStatus     HHIncome  HHIncomeMid  Poverty  \\\n5608  College Grad       Married  75000-99999      87500.0      5.0   \n5609  College Grad       Married  75000-99999      87500.0      5.0   \n5611  College Grad       Married  75000-99999      87500.0      5.0   \n5612  College Grad       Married  75000-99999      87500.0      5.0   \n5613  College Grad       Married  75000-99999      87500.0      5.0   \n\n      HomeRooms HomeOwn     Work  Weight  Length  HeadCirc  Height   BMI  \\\n5608        7.0     Own  Working    94.2     NaN       NaN   175.5  30.6   \n5609        7.0     Own  Working    94.2     NaN       NaN   175.5  30.6   \n5611        7.0     Own  Working    94.2     NaN       NaN   175.5  30.6   \n5612        7.0     Own  Working    94.2     NaN       NaN   175.5  30.6   \n5613        7.0     Own  Working    94.2     NaN       NaN   175.5  30.6   \n\n     BMICatUnder20yrs    BMI_WHO  Pulse  BPSysAve  BPDiaAve  BPSys1  BPDia1  \\\n5608              NaN  30.0_plus   78.0     110.0      79.0   112.0    84.0   \n5609              NaN  30.0_plus   78.0     110.0      79.0   112.0    84.0   \n5611              NaN  30.0_plus   78.0     110.0      79.0   112.0    84.0   \n5612              NaN  30.0_plus   78.0     110.0      79.0   112.0    84.0   \n5613              NaN  30.0_plus   78.0     110.0      79.0   112.0    84.0   \n\n      BPSys2  BPDia2  BPSys3  BPDia3  Testosterone  DirectChol  TotChol  \\\n5608   108.0    80.0   112.0    78.0        246.82        0.85     3.18   \n5609   108.0    80.0   112.0    78.0        246.82        0.85     3.18   \n5611   108.0    80.0   112.0    78.0        246.82        0.85     3.18   \n5612   108.0    80.0   112.0    78.0        246.82        0.85     3.18   \n5613   108.0    80.0   112.0    78.0        246.82        0.85     3.18   \n\n      UrineVol1  UrineFlow1  UrineVol2  UrineFlow2 Diabetes  DiabetesAge  \\\n5608       56.0       0.339        NaN         NaN       No          NaN   \n5609       56.0       0.339        NaN         NaN       No          NaN   \n5611       56.0       0.339        NaN         NaN       No          NaN   \n5612       56.0       0.339        NaN         NaN       No          NaN   \n5613       56.0       0.339        NaN         NaN       No          NaN   \n\n     HealthGen  DaysPhysHlthBad  DaysMentHlthBad LittleInterest Depressed  \\\n5608      Good              2.0              0.0           None      None   \n5609      Good              2.0              0.0           None      None   \n5611      Good              2.0              0.0           None      None   \n5612      Good              2.0              0.0           None      None   \n5613      Good              2.0              0.0           None      None   \n\n      nPregnancies  nBabies  Age1stBaby  SleepHrsNight SleepTrouble  \\\n5608           NaN      NaN         NaN            9.0           No   \n5609           NaN      NaN         NaN            9.0           No   \n5611           NaN      NaN         NaN            9.0           No   \n5612           NaN      NaN         NaN            9.0           No   \n5613           NaN      NaN         NaN            9.0           No   \n\n     PhysActive  PhysActiveDays TVHrsDay CompHrsDay  TVHrsDayChild  \\\n5608        Yes             NaN     3_hr  0_to_1_hr            NaN   \n5609        Yes             6.0     3_hr  0_to_1_hr            NaN   \n5611        Yes             3.0     3_hr  0_to_1_hr            NaN   \n5612        Yes             2.0     3_hr  0_to_1_hr            NaN   \n5613        Yes             4.0     3_hr  0_to_1_hr            NaN   \n\n      CompHrsDayChild Alcohol12PlusYr  AlcoholDay  AlcoholYear SmokeNow  \\\n5608              NaN             Yes         NaN          0.0      NaN   \n5609              NaN             Yes         NaN          0.0      NaN   \n5611              NaN             Yes         NaN          0.0      NaN   \n5612              NaN             Yes         NaN          0.0      NaN   \n5613              NaN             Yes         NaN          0.0      NaN   \n\n     Smoke100   Smoke100n  SmokeAge Marijuana  AgeFirstMarij RegularMarij  \\\n5608       No  Non-Smoker       NaN       Yes           14.0           No   \n5609       No  Non-Smoker       NaN       Yes           14.0           No   \n5611       No  Non-Smoker       NaN       Yes           14.0           No   \n5612       No  Non-Smoker       NaN       Yes           14.0           No   \n5613       No  Non-Smoker       NaN       Yes           14.0           No   \n\n      AgeRegMarij HardDrugs SexEver  SexAge  SexNumPartnLife  SexNumPartYear  \\\n5608          NaN        No     Yes    17.0             30.0             1.0   \n5609          NaN        No     Yes    17.0             30.0             1.0   \n5611          NaN        No     Yes    17.0             30.0             1.0   \n5612          NaN        No     Yes    17.0             30.0             1.0   \n5613          NaN        No     Yes    17.0             30.0             1.0   \n\n     SameSex SexOrientation PregnantNow  \n5608      No   Heterosexual         NaN  \n5609      No   Heterosexual         NaN  \n5611      No   Heterosexual         NaN  \n5612      No   Heterosexual         NaN  \n5613      No   Heterosexual         NaN  ",
      "text/html": "<div>\n<style scoped>\n    .dataframe tbody tr th:only-of-type {\n        vertical-align: middle;\n    }\n\n    .dataframe tbody tr th {\n        vertical-align: top;\n    }\n\n    .dataframe thead th {\n        text-align: right;\n    }\n</style>\n<table border=\"1\" class=\"dataframe\">\n  <thead>\n    <tr style=\"text-align: right;\">\n      <th></th>\n      <th>ID</th>\n      <th>SurveyYr</th>\n      <th>Gender</th>\n      <th>Age</th>\n      <th>AgeDecade</th>\n      <th>AgeMonths</th>\n      <th>Race1</th>\n      <th>Race3</th>\n      <th>Education</th>\n      <th>MaritalStatus</th>\n      <th>HHIncome</th>\n      <th>HHIncomeMid</th>\n      <th>Poverty</th>\n      <th>HomeRooms</th>\n      <th>HomeOwn</th>\n      <th>Work</th>\n      <th>Weight</th>\n      <th>Length</th>\n      <th>HeadCirc</th>\n      <th>Height</th>\n      <th>BMI</th>\n      <th>BMICatUnder20yrs</th>\n      <th>BMI_WHO</th>\n      <th>Pulse</th>\n      <th>BPSysAve</th>\n      <th>BPDiaAve</th>\n      <th>BPSys1</th>\n      <th>BPDia1</th>\n      <th>BPSys2</th>\n      <th>BPDia2</th>\n      <th>BPSys3</th>\n      <th>BPDia3</th>\n      <th>Testosterone</th>\n      <th>DirectChol</th>\n      <th>TotChol</th>\n      <th>UrineVol1</th>\n      <th>UrineFlow1</th>\n      <th>UrineVol2</th>\n      <th>UrineFlow2</th>\n      <th>Diabetes</th>\n      <th>DiabetesAge</th>\n      <th>HealthGen</th>\n      <th>DaysPhysHlthBad</th>\n      <th>DaysMentHlthBad</th>\n      <th>LittleInterest</th>\n      <th>Depressed</th>\n      <th>nPregnancies</th>\n      <th>nBabies</th>\n      <th>Age1stBaby</th>\n      <th>SleepHrsNight</th>\n      <th>SleepTrouble</th>\n      <th>PhysActive</th>\n      <th>PhysActiveDays</th>\n      <th>TVHrsDay</th>\n      <th>CompHrsDay</th>\n      <th>TVHrsDayChild</th>\n      <th>CompHrsDayChild</th>\n      <th>Alcohol12PlusYr</th>\n      <th>AlcoholDay</th>\n      <th>AlcoholYear</th>\n      <th>SmokeNow</th>\n      <th>Smoke100</th>\n      <th>Smoke100n</th>\n      <th>SmokeAge</th>\n      <th>Marijuana</th>\n      <th>AgeFirstMarij</th>\n      <th>RegularMarij</th>\n      <th>AgeRegMarij</th>\n      <th>HardDrugs</th>\n      <th>SexEver</th>\n      <th>SexAge</th>\n      <th>SexNumPartnLife</th>\n      <th>SexNumPartYear</th>\n      <th>SameSex</th>\n      <th>SexOrientation</th>\n      <th>PregnantNow</th>\n    </tr>\n  </thead>\n  <tbody>\n    <tr>\n      <th>5608</th>\n      <td>63297</td>\n      <td>2011_12</td>\n      <td>male</td>\n      <td>50</td>\n      <td>50-59</td>\n      <td>NaN</td>\n      <td>White</td>\n      <td>White</td>\n      <td>College Grad</td>\n      <td>Married</td>\n      <td>75000-99999</td>\n      <td>87500.0</td>\n      <td>5.0</td>\n      <td>7.0</td>\n      <td>Own</td>\n      <td>Working</td>\n      <td>94.2</td>\n      <td>NaN</td>\n      <td>NaN</td>\n      <td>175.5</td>\n      <td>30.6</td>\n      <td>NaN</td>\n      <td>30.0_plus</td>\n      <td>78.0</td>\n      <td>110.0</td>\n      <td>79.0</td>\n      <td>112.0</td>\n      <td>84.0</td>\n      <td>108.0</td>\n      <td>80.0</td>\n      <td>112.0</td>\n      <td>78.0</td>\n      <td>246.82</td>\n      <td>0.85</td>\n      <td>3.18</td>\n      <td>56.0</td>\n      <td>0.339</td>\n      <td>NaN</td>\n      <td>NaN</td>\n      <td>No</td>\n      <td>NaN</td>\n      <td>Good</td>\n      <td>2.0</td>\n      <td>0.0</td>\n      <td>None</td>\n      <td>None</td>\n      <td>NaN</td>\n      <td>NaN</td>\n      <td>NaN</td>\n      <td>9.0</td>\n      <td>No</td>\n      <td>Yes</td>\n      <td>NaN</td>\n      <td>3_hr</td>\n      <td>0_to_1_hr</td>\n      <td>NaN</td>\n      <td>NaN</td>\n      <td>Yes</td>\n      <td>NaN</td>\n      <td>0.0</td>\n      <td>NaN</td>\n      <td>No</td>\n      <td>Non-Smoker</td>\n      <td>NaN</td>\n      <td>Yes</td>\n      <td>14.0</td>\n      <td>No</td>\n      <td>NaN</td>\n      <td>No</td>\n      <td>Yes</td>\n      <td>17.0</td>\n      <td>30.0</td>\n      <td>1.0</td>\n      <td>No</td>\n      <td>Heterosexual</td>\n      <td>NaN</td>\n    </tr>\n    <tr>\n      <th>5609</th>\n      <td>63297</td>\n      <td>2011_12</td>\n      <td>male</td>\n      <td>50</td>\n      <td>50-59</td>\n      <td>NaN</td>\n      <td>White</td>\n      <td>White</td>\n      <td>College Grad</td>\n      <td>Married</td>\n      <td>75000-99999</td>\n      <td>87500.0</td>\n      <td>5.0</td>\n      <td>7.0</td>\n      <td>Own</td>\n      <td>Working</td>\n      <td>94.2</td>\n      <td>NaN</td>\n      <td>NaN</td>\n      <td>175.5</td>\n      <td>30.6</td>\n      <td>NaN</td>\n      <td>30.0_plus</td>\n      <td>78.0</td>\n      <td>110.0</td>\n      <td>79.0</td>\n      <td>112.0</td>\n      <td>84.0</td>\n      <td>108.0</td>\n      <td>80.0</td>\n      <td>112.0</td>\n      <td>78.0</td>\n      <td>246.82</td>\n      <td>0.85</td>\n      <td>3.18</td>\n      <td>56.0</td>\n      <td>0.339</td>\n      <td>NaN</td>\n      <td>NaN</td>\n      <td>No</td>\n      <td>NaN</td>\n      <td>Good</td>\n      <td>2.0</td>\n      <td>0.0</td>\n      <td>None</td>\n      <td>None</td>\n      <td>NaN</td>\n      <td>NaN</td>\n      <td>NaN</td>\n      <td>9.0</td>\n      <td>No</td>\n      <td>Yes</td>\n      <td>6.0</td>\n      <td>3_hr</td>\n      <td>0_to_1_hr</td>\n      <td>NaN</td>\n      <td>NaN</td>\n      <td>Yes</td>\n      <td>NaN</td>\n      <td>0.0</td>\n      <td>NaN</td>\n      <td>No</td>\n      <td>Non-Smoker</td>\n      <td>NaN</td>\n      <td>Yes</td>\n      <td>14.0</td>\n      <td>No</td>\n      <td>NaN</td>\n      <td>No</td>\n      <td>Yes</td>\n      <td>17.0</td>\n      <td>30.0</td>\n      <td>1.0</td>\n      <td>No</td>\n      <td>Heterosexual</td>\n      <td>NaN</td>\n    </tr>\n    <tr>\n      <th>5611</th>\n      <td>63297</td>\n      <td>2011_12</td>\n      <td>male</td>\n      <td>50</td>\n      <td>50-59</td>\n      <td>NaN</td>\n      <td>White</td>\n      <td>White</td>\n      <td>College Grad</td>\n      <td>Married</td>\n      <td>75000-99999</td>\n      <td>87500.0</td>\n      <td>5.0</td>\n      <td>7.0</td>\n      <td>Own</td>\n      <td>Working</td>\n      <td>94.2</td>\n      <td>NaN</td>\n      <td>NaN</td>\n      <td>175.5</td>\n      <td>30.6</td>\n      <td>NaN</td>\n      <td>30.0_plus</td>\n      <td>78.0</td>\n      <td>110.0</td>\n      <td>79.0</td>\n      <td>112.0</td>\n      <td>84.0</td>\n      <td>108.0</td>\n      <td>80.0</td>\n      <td>112.0</td>\n      <td>78.0</td>\n      <td>246.82</td>\n      <td>0.85</td>\n      <td>3.18</td>\n      <td>56.0</td>\n      <td>0.339</td>\n      <td>NaN</td>\n      <td>NaN</td>\n      <td>No</td>\n      <td>NaN</td>\n      <td>Good</td>\n      <td>2.0</td>\n      <td>0.0</td>\n      <td>None</td>\n      <td>None</td>\n      <td>NaN</td>\n      <td>NaN</td>\n      <td>NaN</td>\n      <td>9.0</td>\n      <td>No</td>\n      <td>Yes</td>\n      <td>3.0</td>\n      <td>3_hr</td>\n      <td>0_to_1_hr</td>\n      <td>NaN</td>\n      <td>NaN</td>\n      <td>Yes</td>\n      <td>NaN</td>\n      <td>0.0</td>\n      <td>NaN</td>\n      <td>No</td>\n      <td>Non-Smoker</td>\n      <td>NaN</td>\n      <td>Yes</td>\n      <td>14.0</td>\n      <td>No</td>\n      <td>NaN</td>\n      <td>No</td>\n      <td>Yes</td>\n      <td>17.0</td>\n      <td>30.0</td>\n      <td>1.0</td>\n      <td>No</td>\n      <td>Heterosexual</td>\n      <td>NaN</td>\n    </tr>\n    <tr>\n      <th>5612</th>\n      <td>63297</td>\n      <td>2011_12</td>\n      <td>male</td>\n      <td>50</td>\n      <td>50-59</td>\n      <td>NaN</td>\n      <td>White</td>\n      <td>White</td>\n      <td>College Grad</td>\n      <td>Married</td>\n      <td>75000-99999</td>\n      <td>87500.0</td>\n      <td>5.0</td>\n      <td>7.0</td>\n      <td>Own</td>\n      <td>Working</td>\n      <td>94.2</td>\n      <td>NaN</td>\n      <td>NaN</td>\n      <td>175.5</td>\n      <td>30.6</td>\n      <td>NaN</td>\n      <td>30.0_plus</td>\n      <td>78.0</td>\n      <td>110.0</td>\n      <td>79.0</td>\n      <td>112.0</td>\n      <td>84.0</td>\n      <td>108.0</td>\n      <td>80.0</td>\n      <td>112.0</td>\n      <td>78.0</td>\n      <td>246.82</td>\n      <td>0.85</td>\n      <td>3.18</td>\n      <td>56.0</td>\n      <td>0.339</td>\n      <td>NaN</td>\n      <td>NaN</td>\n      <td>No</td>\n      <td>NaN</td>\n      <td>Good</td>\n      <td>2.0</td>\n      <td>0.0</td>\n      <td>None</td>\n      <td>None</td>\n      <td>NaN</td>\n      <td>NaN</td>\n      <td>NaN</td>\n      <td>9.0</td>\n      <td>No</td>\n      <td>Yes</td>\n      <td>2.0</td>\n      <td>3_hr</td>\n      <td>0_to_1_hr</td>\n      <td>NaN</td>\n      <td>NaN</td>\n      <td>Yes</td>\n      <td>NaN</td>\n      <td>0.0</td>\n      <td>NaN</td>\n      <td>No</td>\n      <td>Non-Smoker</td>\n      <td>NaN</td>\n      <td>Yes</td>\n      <td>14.0</td>\n      <td>No</td>\n      <td>NaN</td>\n      <td>No</td>\n      <td>Yes</td>\n      <td>17.0</td>\n      <td>30.0</td>\n      <td>1.0</td>\n      <td>No</td>\n      <td>Heterosexual</td>\n      <td>NaN</td>\n    </tr>\n    <tr>\n      <th>5613</th>\n      <td>63297</td>\n      <td>2011_12</td>\n      <td>male</td>\n      <td>50</td>\n      <td>50-59</td>\n      <td>NaN</td>\n      <td>White</td>\n      <td>White</td>\n      <td>College Grad</td>\n      <td>Married</td>\n      <td>75000-99999</td>\n      <td>87500.0</td>\n      <td>5.0</td>\n      <td>7.0</td>\n      <td>Own</td>\n      <td>Working</td>\n      <td>94.2</td>\n      <td>NaN</td>\n      <td>NaN</td>\n      <td>175.5</td>\n      <td>30.6</td>\n      <td>NaN</td>\n      <td>30.0_plus</td>\n      <td>78.0</td>\n      <td>110.0</td>\n      <td>79.0</td>\n      <td>112.0</td>\n      <td>84.0</td>\n      <td>108.0</td>\n      <td>80.0</td>\n      <td>112.0</td>\n      <td>78.0</td>\n      <td>246.82</td>\n      <td>0.85</td>\n      <td>3.18</td>\n      <td>56.0</td>\n      <td>0.339</td>\n      <td>NaN</td>\n      <td>NaN</td>\n      <td>No</td>\n      <td>NaN</td>\n      <td>Good</td>\n      <td>2.0</td>\n      <td>0.0</td>\n      <td>None</td>\n      <td>None</td>\n      <td>NaN</td>\n      <td>NaN</td>\n      <td>NaN</td>\n      <td>9.0</td>\n      <td>No</td>\n      <td>Yes</td>\n      <td>4.0</td>\n      <td>3_hr</td>\n      <td>0_to_1_hr</td>\n      <td>NaN</td>\n      <td>NaN</td>\n      <td>Yes</td>\n      <td>NaN</td>\n      <td>0.0</td>\n      <td>NaN</td>\n      <td>No</td>\n      <td>Non-Smoker</td>\n      <td>NaN</td>\n      <td>Yes</td>\n      <td>14.0</td>\n      <td>No</td>\n      <td>NaN</td>\n      <td>No</td>\n      <td>Yes</td>\n      <td>17.0</td>\n      <td>30.0</td>\n      <td>1.0</td>\n      <td>No</td>\n      <td>Heterosexual</td>\n      <td>NaN</td>\n    </tr>\n  </tbody>\n</table>\n</div>"
     },
     "execution_count": 10,
     "metadata": {},
     "output_type": "execute_result"
    }
   ],
   "source": [
    "nhanes_data1[nhanes_data1['ID'] == 63297]\n"
   ]
  },
  {
   "cell_type": "code",
   "execution_count": 11,
   "id": "47aed095",
   "metadata": {
    "pycharm": {
     "name": "#%%\n"
    }
   },
   "outputs": [
    {
     "data": {
      "text/plain": "         ID SurveyYr  Gender  Age AgeDecade  AgeMonths  Race1  Race3  \\\n7541  67118  2011_12  female   33     30-39        NaN  White  White   \n7542  67118  2011_12  female   33     30-39        NaN  White  White   \n7543  67118  2011_12  female   33     30-39        NaN  White  White   \n7544  67118  2011_12  female   33     30-39        NaN  White  White   \n7545  67118  2011_12  female   33     30-39        NaN  White  White   \n\n         Education MaritalStatus     HHIncome  HHIncomeMid  Poverty  \\\n7541  Some College      Divorced  25000-34999      30000.0     1.34   \n7542  Some College      Divorced  25000-34999      30000.0     1.34   \n7543  Some College      Divorced  25000-34999      30000.0     1.34   \n7544  Some College      Divorced  25000-34999      30000.0     1.34   \n7545  Some College      Divorced  25000-34999      30000.0     1.34   \n\n      HomeRooms HomeOwn     Work  Weight  Length  HeadCirc  Height   BMI  \\\n7541        5.0    Rent  Working    81.5     NaN       NaN   161.8  31.1   \n7542        5.0    Rent  Working    81.5     NaN       NaN   161.8  31.1   \n7543        5.0    Rent  Working    81.5     NaN       NaN   161.8  31.1   \n7544        5.0    Rent  Working    81.5     NaN       NaN   161.8  31.1   \n7545        5.0    Rent  Working    81.5     NaN       NaN   161.8  31.1   \n\n     BMICatUnder20yrs    BMI_WHO  Pulse  BPSysAve  BPDiaAve  BPSys1  BPDia1  \\\n7541              NaN  30.0_plus   76.0     113.0      61.0   114.0    68.0   \n7542              NaN  30.0_plus   76.0     113.0      61.0   114.0    68.0   \n7543              NaN  30.0_plus   76.0     113.0      61.0   114.0    68.0   \n7544              NaN  30.0_plus   76.0     113.0      61.0   114.0    68.0   \n7545              NaN  30.0_plus   76.0     113.0      61.0   114.0    68.0   \n\n      BPSys2  BPDia2  BPSys3  BPDia3  Testosterone  DirectChol  TotChol  \\\n7541   114.0    58.0   112.0    64.0         31.96        1.19     4.37   \n7542   114.0    58.0   112.0    64.0         31.96        1.19     4.37   \n7543   114.0    58.0   112.0    64.0         31.96        1.19     4.37   \n7544   114.0    58.0   112.0    64.0         31.96        1.19     4.37   \n7545   114.0    58.0   112.0    64.0         31.96        1.19     4.37   \n\n      UrineVol1  UrineFlow1  UrineVol2  UrineFlow2 Diabetes  DiabetesAge  \\\n7541      123.0       0.728        NaN         NaN       No          NaN   \n7542      123.0       0.728        NaN         NaN       No          NaN   \n7543      123.0       0.728        NaN         NaN       No          NaN   \n7544      123.0       0.728        NaN         NaN       No          NaN   \n7545      123.0       0.728        NaN         NaN       No          NaN   \n\n     HealthGen  DaysPhysHlthBad  DaysMentHlthBad LittleInterest Depressed  \\\n7541      Good              3.0              5.0        Several      None   \n7542      Good              3.0              5.0        Several      None   \n7543      Good              3.0              5.0        Several      None   \n7544      Good              3.0              5.0        Several      None   \n7545      Good              3.0              5.0        Several      None   \n\n      nPregnancies  nBabies  Age1stBaby  SleepHrsNight SleepTrouble  \\\n7541           5.0      3.0        25.0            5.0           No   \n7542           5.0      3.0        25.0            5.0           No   \n7543           5.0      3.0        25.0            5.0           No   \n7544           5.0      3.0        25.0            5.0           No   \n7545           5.0      3.0        25.0            5.0           No   \n\n     PhysActive  PhysActiveDays TVHrsDay CompHrsDay  TVHrsDayChild  \\\n7541         No             5.0     1_hr       2_hr            NaN   \n7542         No             3.0     1_hr       2_hr            NaN   \n7543         No             4.0     1_hr       2_hr            NaN   \n7544         No             NaN     1_hr       2_hr            NaN   \n7545         No             1.0     1_hr       2_hr            NaN   \n\n      CompHrsDayChild Alcohol12PlusYr  AlcoholDay  AlcoholYear SmokeNow  \\\n7541              NaN             Yes         2.0         52.0       No   \n7542              NaN             Yes         2.0         52.0       No   \n7543              NaN             Yes         2.0         52.0       No   \n7544              NaN             Yes         2.0         52.0       No   \n7545              NaN             Yes         2.0         52.0       No   \n\n     Smoke100 Smoke100n  SmokeAge Marijuana  AgeFirstMarij RegularMarij  \\\n7541      Yes    Smoker      14.0       Yes           16.0           No   \n7542      Yes    Smoker      14.0       Yes           16.0           No   \n7543      Yes    Smoker      14.0       Yes           16.0           No   \n7544      Yes    Smoker      14.0       Yes           16.0           No   \n7545      Yes    Smoker      14.0       Yes           16.0           No   \n\n      AgeRegMarij HardDrugs SexEver  SexAge  SexNumPartnLife  SexNumPartYear  \\\n7541          NaN        No     Yes    14.0              6.0             0.0   \n7542          NaN        No     Yes    14.0              6.0             0.0   \n7543          NaN        No     Yes    14.0              6.0             0.0   \n7544          NaN        No     Yes    14.0              6.0             0.0   \n7545          NaN        No     Yes    14.0              6.0             0.0   \n\n     SameSex SexOrientation PregnantNow  \n7541      No            NaN          No  \n7542      No            NaN          No  \n7543      No            NaN          No  \n7544      No            NaN          No  \n7545      No            NaN          No  ",
      "text/html": "<div>\n<style scoped>\n    .dataframe tbody tr th:only-of-type {\n        vertical-align: middle;\n    }\n\n    .dataframe tbody tr th {\n        vertical-align: top;\n    }\n\n    .dataframe thead th {\n        text-align: right;\n    }\n</style>\n<table border=\"1\" class=\"dataframe\">\n  <thead>\n    <tr style=\"text-align: right;\">\n      <th></th>\n      <th>ID</th>\n      <th>SurveyYr</th>\n      <th>Gender</th>\n      <th>Age</th>\n      <th>AgeDecade</th>\n      <th>AgeMonths</th>\n      <th>Race1</th>\n      <th>Race3</th>\n      <th>Education</th>\n      <th>MaritalStatus</th>\n      <th>HHIncome</th>\n      <th>HHIncomeMid</th>\n      <th>Poverty</th>\n      <th>HomeRooms</th>\n      <th>HomeOwn</th>\n      <th>Work</th>\n      <th>Weight</th>\n      <th>Length</th>\n      <th>HeadCirc</th>\n      <th>Height</th>\n      <th>BMI</th>\n      <th>BMICatUnder20yrs</th>\n      <th>BMI_WHO</th>\n      <th>Pulse</th>\n      <th>BPSysAve</th>\n      <th>BPDiaAve</th>\n      <th>BPSys1</th>\n      <th>BPDia1</th>\n      <th>BPSys2</th>\n      <th>BPDia2</th>\n      <th>BPSys3</th>\n      <th>BPDia3</th>\n      <th>Testosterone</th>\n      <th>DirectChol</th>\n      <th>TotChol</th>\n      <th>UrineVol1</th>\n      <th>UrineFlow1</th>\n      <th>UrineVol2</th>\n      <th>UrineFlow2</th>\n      <th>Diabetes</th>\n      <th>DiabetesAge</th>\n      <th>HealthGen</th>\n      <th>DaysPhysHlthBad</th>\n      <th>DaysMentHlthBad</th>\n      <th>LittleInterest</th>\n      <th>Depressed</th>\n      <th>nPregnancies</th>\n      <th>nBabies</th>\n      <th>Age1stBaby</th>\n      <th>SleepHrsNight</th>\n      <th>SleepTrouble</th>\n      <th>PhysActive</th>\n      <th>PhysActiveDays</th>\n      <th>TVHrsDay</th>\n      <th>CompHrsDay</th>\n      <th>TVHrsDayChild</th>\n      <th>CompHrsDayChild</th>\n      <th>Alcohol12PlusYr</th>\n      <th>AlcoholDay</th>\n      <th>AlcoholYear</th>\n      <th>SmokeNow</th>\n      <th>Smoke100</th>\n      <th>Smoke100n</th>\n      <th>SmokeAge</th>\n      <th>Marijuana</th>\n      <th>AgeFirstMarij</th>\n      <th>RegularMarij</th>\n      <th>AgeRegMarij</th>\n      <th>HardDrugs</th>\n      <th>SexEver</th>\n      <th>SexAge</th>\n      <th>SexNumPartnLife</th>\n      <th>SexNumPartYear</th>\n      <th>SameSex</th>\n      <th>SexOrientation</th>\n      <th>PregnantNow</th>\n    </tr>\n  </thead>\n  <tbody>\n    <tr>\n      <th>7541</th>\n      <td>67118</td>\n      <td>2011_12</td>\n      <td>female</td>\n      <td>33</td>\n      <td>30-39</td>\n      <td>NaN</td>\n      <td>White</td>\n      <td>White</td>\n      <td>Some College</td>\n      <td>Divorced</td>\n      <td>25000-34999</td>\n      <td>30000.0</td>\n      <td>1.34</td>\n      <td>5.0</td>\n      <td>Rent</td>\n      <td>Working</td>\n      <td>81.5</td>\n      <td>NaN</td>\n      <td>NaN</td>\n      <td>161.8</td>\n      <td>31.1</td>\n      <td>NaN</td>\n      <td>30.0_plus</td>\n      <td>76.0</td>\n      <td>113.0</td>\n      <td>61.0</td>\n      <td>114.0</td>\n      <td>68.0</td>\n      <td>114.0</td>\n      <td>58.0</td>\n      <td>112.0</td>\n      <td>64.0</td>\n      <td>31.96</td>\n      <td>1.19</td>\n      <td>4.37</td>\n      <td>123.0</td>\n      <td>0.728</td>\n      <td>NaN</td>\n      <td>NaN</td>\n      <td>No</td>\n      <td>NaN</td>\n      <td>Good</td>\n      <td>3.0</td>\n      <td>5.0</td>\n      <td>Several</td>\n      <td>None</td>\n      <td>5.0</td>\n      <td>3.0</td>\n      <td>25.0</td>\n      <td>5.0</td>\n      <td>No</td>\n      <td>No</td>\n      <td>5.0</td>\n      <td>1_hr</td>\n      <td>2_hr</td>\n      <td>NaN</td>\n      <td>NaN</td>\n      <td>Yes</td>\n      <td>2.0</td>\n      <td>52.0</td>\n      <td>No</td>\n      <td>Yes</td>\n      <td>Smoker</td>\n      <td>14.0</td>\n      <td>Yes</td>\n      <td>16.0</td>\n      <td>No</td>\n      <td>NaN</td>\n      <td>No</td>\n      <td>Yes</td>\n      <td>14.0</td>\n      <td>6.0</td>\n      <td>0.0</td>\n      <td>No</td>\n      <td>NaN</td>\n      <td>No</td>\n    </tr>\n    <tr>\n      <th>7542</th>\n      <td>67118</td>\n      <td>2011_12</td>\n      <td>female</td>\n      <td>33</td>\n      <td>30-39</td>\n      <td>NaN</td>\n      <td>White</td>\n      <td>White</td>\n      <td>Some College</td>\n      <td>Divorced</td>\n      <td>25000-34999</td>\n      <td>30000.0</td>\n      <td>1.34</td>\n      <td>5.0</td>\n      <td>Rent</td>\n      <td>Working</td>\n      <td>81.5</td>\n      <td>NaN</td>\n      <td>NaN</td>\n      <td>161.8</td>\n      <td>31.1</td>\n      <td>NaN</td>\n      <td>30.0_plus</td>\n      <td>76.0</td>\n      <td>113.0</td>\n      <td>61.0</td>\n      <td>114.0</td>\n      <td>68.0</td>\n      <td>114.0</td>\n      <td>58.0</td>\n      <td>112.0</td>\n      <td>64.0</td>\n      <td>31.96</td>\n      <td>1.19</td>\n      <td>4.37</td>\n      <td>123.0</td>\n      <td>0.728</td>\n      <td>NaN</td>\n      <td>NaN</td>\n      <td>No</td>\n      <td>NaN</td>\n      <td>Good</td>\n      <td>3.0</td>\n      <td>5.0</td>\n      <td>Several</td>\n      <td>None</td>\n      <td>5.0</td>\n      <td>3.0</td>\n      <td>25.0</td>\n      <td>5.0</td>\n      <td>No</td>\n      <td>No</td>\n      <td>3.0</td>\n      <td>1_hr</td>\n      <td>2_hr</td>\n      <td>NaN</td>\n      <td>NaN</td>\n      <td>Yes</td>\n      <td>2.0</td>\n      <td>52.0</td>\n      <td>No</td>\n      <td>Yes</td>\n      <td>Smoker</td>\n      <td>14.0</td>\n      <td>Yes</td>\n      <td>16.0</td>\n      <td>No</td>\n      <td>NaN</td>\n      <td>No</td>\n      <td>Yes</td>\n      <td>14.0</td>\n      <td>6.0</td>\n      <td>0.0</td>\n      <td>No</td>\n      <td>NaN</td>\n      <td>No</td>\n    </tr>\n    <tr>\n      <th>7543</th>\n      <td>67118</td>\n      <td>2011_12</td>\n      <td>female</td>\n      <td>33</td>\n      <td>30-39</td>\n      <td>NaN</td>\n      <td>White</td>\n      <td>White</td>\n      <td>Some College</td>\n      <td>Divorced</td>\n      <td>25000-34999</td>\n      <td>30000.0</td>\n      <td>1.34</td>\n      <td>5.0</td>\n      <td>Rent</td>\n      <td>Working</td>\n      <td>81.5</td>\n      <td>NaN</td>\n      <td>NaN</td>\n      <td>161.8</td>\n      <td>31.1</td>\n      <td>NaN</td>\n      <td>30.0_plus</td>\n      <td>76.0</td>\n      <td>113.0</td>\n      <td>61.0</td>\n      <td>114.0</td>\n      <td>68.0</td>\n      <td>114.0</td>\n      <td>58.0</td>\n      <td>112.0</td>\n      <td>64.0</td>\n      <td>31.96</td>\n      <td>1.19</td>\n      <td>4.37</td>\n      <td>123.0</td>\n      <td>0.728</td>\n      <td>NaN</td>\n      <td>NaN</td>\n      <td>No</td>\n      <td>NaN</td>\n      <td>Good</td>\n      <td>3.0</td>\n      <td>5.0</td>\n      <td>Several</td>\n      <td>None</td>\n      <td>5.0</td>\n      <td>3.0</td>\n      <td>25.0</td>\n      <td>5.0</td>\n      <td>No</td>\n      <td>No</td>\n      <td>4.0</td>\n      <td>1_hr</td>\n      <td>2_hr</td>\n      <td>NaN</td>\n      <td>NaN</td>\n      <td>Yes</td>\n      <td>2.0</td>\n      <td>52.0</td>\n      <td>No</td>\n      <td>Yes</td>\n      <td>Smoker</td>\n      <td>14.0</td>\n      <td>Yes</td>\n      <td>16.0</td>\n      <td>No</td>\n      <td>NaN</td>\n      <td>No</td>\n      <td>Yes</td>\n      <td>14.0</td>\n      <td>6.0</td>\n      <td>0.0</td>\n      <td>No</td>\n      <td>NaN</td>\n      <td>No</td>\n    </tr>\n    <tr>\n      <th>7544</th>\n      <td>67118</td>\n      <td>2011_12</td>\n      <td>female</td>\n      <td>33</td>\n      <td>30-39</td>\n      <td>NaN</td>\n      <td>White</td>\n      <td>White</td>\n      <td>Some College</td>\n      <td>Divorced</td>\n      <td>25000-34999</td>\n      <td>30000.0</td>\n      <td>1.34</td>\n      <td>5.0</td>\n      <td>Rent</td>\n      <td>Working</td>\n      <td>81.5</td>\n      <td>NaN</td>\n      <td>NaN</td>\n      <td>161.8</td>\n      <td>31.1</td>\n      <td>NaN</td>\n      <td>30.0_plus</td>\n      <td>76.0</td>\n      <td>113.0</td>\n      <td>61.0</td>\n      <td>114.0</td>\n      <td>68.0</td>\n      <td>114.0</td>\n      <td>58.0</td>\n      <td>112.0</td>\n      <td>64.0</td>\n      <td>31.96</td>\n      <td>1.19</td>\n      <td>4.37</td>\n      <td>123.0</td>\n      <td>0.728</td>\n      <td>NaN</td>\n      <td>NaN</td>\n      <td>No</td>\n      <td>NaN</td>\n      <td>Good</td>\n      <td>3.0</td>\n      <td>5.0</td>\n      <td>Several</td>\n      <td>None</td>\n      <td>5.0</td>\n      <td>3.0</td>\n      <td>25.0</td>\n      <td>5.0</td>\n      <td>No</td>\n      <td>No</td>\n      <td>NaN</td>\n      <td>1_hr</td>\n      <td>2_hr</td>\n      <td>NaN</td>\n      <td>NaN</td>\n      <td>Yes</td>\n      <td>2.0</td>\n      <td>52.0</td>\n      <td>No</td>\n      <td>Yes</td>\n      <td>Smoker</td>\n      <td>14.0</td>\n      <td>Yes</td>\n      <td>16.0</td>\n      <td>No</td>\n      <td>NaN</td>\n      <td>No</td>\n      <td>Yes</td>\n      <td>14.0</td>\n      <td>6.0</td>\n      <td>0.0</td>\n      <td>No</td>\n      <td>NaN</td>\n      <td>No</td>\n    </tr>\n    <tr>\n      <th>7545</th>\n      <td>67118</td>\n      <td>2011_12</td>\n      <td>female</td>\n      <td>33</td>\n      <td>30-39</td>\n      <td>NaN</td>\n      <td>White</td>\n      <td>White</td>\n      <td>Some College</td>\n      <td>Divorced</td>\n      <td>25000-34999</td>\n      <td>30000.0</td>\n      <td>1.34</td>\n      <td>5.0</td>\n      <td>Rent</td>\n      <td>Working</td>\n      <td>81.5</td>\n      <td>NaN</td>\n      <td>NaN</td>\n      <td>161.8</td>\n      <td>31.1</td>\n      <td>NaN</td>\n      <td>30.0_plus</td>\n      <td>76.0</td>\n      <td>113.0</td>\n      <td>61.0</td>\n      <td>114.0</td>\n      <td>68.0</td>\n      <td>114.0</td>\n      <td>58.0</td>\n      <td>112.0</td>\n      <td>64.0</td>\n      <td>31.96</td>\n      <td>1.19</td>\n      <td>4.37</td>\n      <td>123.0</td>\n      <td>0.728</td>\n      <td>NaN</td>\n      <td>NaN</td>\n      <td>No</td>\n      <td>NaN</td>\n      <td>Good</td>\n      <td>3.0</td>\n      <td>5.0</td>\n      <td>Several</td>\n      <td>None</td>\n      <td>5.0</td>\n      <td>3.0</td>\n      <td>25.0</td>\n      <td>5.0</td>\n      <td>No</td>\n      <td>No</td>\n      <td>1.0</td>\n      <td>1_hr</td>\n      <td>2_hr</td>\n      <td>NaN</td>\n      <td>NaN</td>\n      <td>Yes</td>\n      <td>2.0</td>\n      <td>52.0</td>\n      <td>No</td>\n      <td>Yes</td>\n      <td>Smoker</td>\n      <td>14.0</td>\n      <td>Yes</td>\n      <td>16.0</td>\n      <td>No</td>\n      <td>NaN</td>\n      <td>No</td>\n      <td>Yes</td>\n      <td>14.0</td>\n      <td>6.0</td>\n      <td>0.0</td>\n      <td>No</td>\n      <td>NaN</td>\n      <td>No</td>\n    </tr>\n  </tbody>\n</table>\n</div>"
     },
     "execution_count": 11,
     "metadata": {},
     "output_type": "execute_result"
    }
   ],
   "source": [
    "nhanes_data1[nhanes_data1['ID'] == 67118]"
   ]
  },
  {
   "cell_type": "code",
   "execution_count": 12,
   "id": "0bca96d0",
   "metadata": {
    "pycharm": {
     "name": "#%%\n"
    }
   },
   "outputs": [],
   "source": [
    "del nhanes_data1['PhysActiveDays']"
   ]
  },
  {
   "cell_type": "code",
   "execution_count": 13,
   "id": "37dd7dfa",
   "metadata": {
    "pycharm": {
     "name": "#%%\n"
    }
   },
   "outputs": [],
   "source": [
    "nhanes_data2 = nhanes_data1.drop_duplicates()"
   ]
  },
  {
   "cell_type": "code",
   "execution_count": 14,
   "id": "b5c1efb7",
   "metadata": {
    "pycharm": {
     "name": "#%%\n"
    }
   },
   "outputs": [
    {
     "name": "stdout",
     "output_type": "stream",
     "text": [
      "         ID SurveyYr  Gender  Age AgeDecade  AgeMonths    Race1    Race3  \\\n",
      "0     51624  2009_10    male   34     30-39      409.0    White      NaN   \n",
      "3     51625  2009_10    male    4       0-9       49.0    Other      NaN   \n",
      "4     51630  2009_10  female   49     40-49      596.0    White      NaN   \n",
      "5     51638  2009_10    male    9       0-9      115.0    White      NaN   \n",
      "6     51646  2009_10    male    8       0-9      101.0    White      NaN   \n",
      "...     ...      ...     ...  ...       ...        ...      ...      ...   \n",
      "9991  71908  2011_12  female   66     60-69        NaN    White    White   \n",
      "9993  71909  2011_12    male   28     20-29        NaN  Mexican  Mexican   \n",
      "9996  71910  2011_12  female    0       0-9        5.0    White    White   \n",
      "9997  71911  2011_12    male   27     20-29        NaN  Mexican  Mexican   \n",
      "9998  71915  2011_12    male   60     60-69        NaN    White    White   \n",
      "\n",
      "           Education MaritalStatus     HHIncome  HHIncomeMid  Poverty  \\\n",
      "0        High School       Married  25000-34999      30000.0     1.36   \n",
      "3                NaN           NaN  20000-24999      22500.0     1.07   \n",
      "4       Some College   LivePartner  35000-44999      40000.0     1.91   \n",
      "5                NaN           NaN  75000-99999      87500.0     1.84   \n",
      "6                NaN           NaN  55000-64999      60000.0     2.33   \n",
      "...              ...           ...          ...          ...      ...   \n",
      "9991    College Grad       Widowed  65000-74999      70000.0     4.55   \n",
      "9993  9 - 11th Grade  NeverMarried    5000-9999       7500.0     0.46   \n",
      "9996             NaN           NaN  75000-99999      87500.0     3.37   \n",
      "9997    College Grad       Married  75000-99999      87500.0     3.25   \n",
      "9998    College Grad  NeverMarried  65000-74999      70000.0     5.00   \n",
      "\n",
      "      HomeRooms HomeOwn        Work  Weight  Length  HeadCirc  Height    BMI  \\\n",
      "0           6.0     Own  NotWorking    87.4     NaN       NaN   164.7  32.22   \n",
      "3           9.0     Own         NaN    17.0     NaN       NaN   105.4  15.30   \n",
      "4           5.0    Rent  NotWorking    86.7     NaN       NaN   168.4  30.57   \n",
      "5           6.0    Rent         NaN    29.8     NaN       NaN   133.1  16.82   \n",
      "6           7.0     Own         NaN    35.2     NaN       NaN   130.6  20.64   \n",
      "...         ...     ...         ...     ...     ...       ...     ...    ...   \n",
      "9991        8.0     Own     Working    88.7     NaN       NaN   159.0  35.10   \n",
      "9993        3.0    Rent     Working    92.3     NaN       NaN   177.3  29.40   \n",
      "9996       10.0     Own         NaN     6.7    67.6      42.2     NaN    NaN   \n",
      "9997       10.0     Own     Working    96.7     NaN       NaN   175.8  31.30   \n",
      "9998        4.0     Own     Working    78.4     NaN       NaN   168.8  27.50   \n",
      "\n",
      "     BMICatUnder20yrs       BMI_WHO  Pulse  BPSysAve  BPDiaAve  BPSys1  \\\n",
      "0                 NaN     30.0_plus   70.0     113.0      85.0   114.0   \n",
      "3                 NaN     12.0_18.5    NaN       NaN       NaN     NaN   \n",
      "4                 NaN     30.0_plus   86.0     112.0      75.0   118.0   \n",
      "5                 NaN     12.0_18.5   82.0      86.0      47.0    84.0   \n",
      "6                 NaN  18.5_to_24.9   72.0     107.0      37.0   114.0   \n",
      "...               ...           ...    ...       ...       ...     ...   \n",
      "9991              NaN     30.0_plus   76.0     114.0      70.0   110.0   \n",
      "9993              NaN  25.0_to_29.9   68.0     124.0      65.0   124.0   \n",
      "9996              NaN           NaN    NaN       NaN       NaN     NaN   \n",
      "9997              NaN     30.0_plus   74.0     133.0      74.0   122.0   \n",
      "9998              NaN  25.0_to_29.9   76.0     147.0      73.0   150.0   \n",
      "\n",
      "      BPDia1  BPSys2  BPDia2  BPSys3  BPDia3  Testosterone  DirectChol  \\\n",
      "0       88.0   114.0    88.0   112.0    82.0           NaN        1.29   \n",
      "3        NaN     NaN     NaN     NaN     NaN           NaN         NaN   \n",
      "4       82.0   108.0    74.0   116.0    76.0           NaN        1.16   \n",
      "5       50.0    84.0    50.0    88.0    44.0           NaN        1.34   \n",
      "6       46.0   108.0    36.0   106.0    38.0           NaN        1.55   \n",
      "...      ...     ...     ...     ...     ...           ...         ...   \n",
      "9991    74.0   114.0    68.0   114.0    72.0         26.00        1.86   \n",
      "9993    62.0   126.0    64.0   122.0    66.0        490.43        1.22   \n",
      "9996     NaN     NaN     NaN     NaN     NaN           NaN         NaN   \n",
      "9997    76.0   132.0    82.0   134.0    66.0        509.00        1.06   \n",
      "9998    72.0   148.0    74.0   146.0    72.0        505.13        0.93   \n",
      "\n",
      "      TotChol  UrineVol1  UrineFlow1  UrineVol2  UrineFlow2 Diabetes  \\\n",
      "0        3.49      352.0         NaN        NaN         NaN       No   \n",
      "3         NaN        NaN         NaN        NaN         NaN       No   \n",
      "4        6.70       77.0       0.094        NaN         NaN       No   \n",
      "5        4.86      123.0       1.538        NaN         NaN       No   \n",
      "6        4.09      238.0       1.322        NaN         NaN       No   \n",
      "...       ...        ...         ...        ...         ...      ...   \n",
      "9991     6.47       29.0       0.659       94.0       0.627       No   \n",
      "9993     3.90       97.0       0.942        NaN         NaN       No   \n",
      "9996      NaN        NaN         NaN        NaN         NaN      NaN   \n",
      "9997     5.72       63.0       0.600        NaN         NaN       No   \n",
      "9998     4.94      218.0       1.253        NaN         NaN      Yes   \n",
      "\n",
      "      DiabetesAge  HealthGen  DaysPhysHlthBad  DaysMentHlthBad LittleInterest  \\\n",
      "0             NaN       Good              0.0             15.0           Most   \n",
      "3             NaN        NaN              NaN              NaN            NaN   \n",
      "4             NaN       Good              0.0             10.0        Several   \n",
      "5             NaN        NaN              NaN              NaN            NaN   \n",
      "6             NaN        NaN              NaN              NaN            NaN   \n",
      "...           ...        ...              ...              ...            ...   \n",
      "9991          NaN  Excellent              0.0              0.0           None   \n",
      "9993          NaN        NaN              NaN              NaN            NaN   \n",
      "9996          NaN        NaN              NaN              NaN            NaN   \n",
      "9997          NaN       Good              0.0              2.0           None   \n",
      "9998         56.0       Good              0.0              2.0           None   \n",
      "\n",
      "     Depressed  nPregnancies  nBabies  Age1stBaby  SleepHrsNight SleepTrouble  \\\n",
      "0      Several           NaN      NaN         NaN            4.0          Yes   \n",
      "3          NaN           NaN      NaN         NaN            NaN          NaN   \n",
      "4      Several           2.0      2.0        27.0            8.0          Yes   \n",
      "5          NaN           NaN      NaN         NaN            NaN          NaN   \n",
      "6          NaN           NaN      NaN         NaN            NaN          NaN   \n",
      "...        ...           ...      ...         ...            ...          ...   \n",
      "9991      None           2.0      2.0        22.0            6.0           No   \n",
      "9993       NaN           NaN      NaN         NaN            6.0           No   \n",
      "9996       NaN           NaN      NaN         NaN            NaN          NaN   \n",
      "9997      None           NaN      NaN         NaN            6.0           No   \n",
      "9998      None           NaN      NaN         NaN            6.0           No   \n",
      "\n",
      "     PhysActive TVHrsDay CompHrsDay  TVHrsDayChild  CompHrsDayChild  \\\n",
      "0            No      NaN        NaN            NaN              NaN   \n",
      "3           NaN      NaN        NaN            4.0              1.0   \n",
      "4            No      NaN        NaN            NaN              NaN   \n",
      "5           NaN      NaN        NaN            5.0              0.0   \n",
      "6           NaN      NaN        NaN            1.0              6.0   \n",
      "...         ...      ...        ...            ...              ...   \n",
      "9991         No     2_hr  0_to_1_hr            NaN              NaN   \n",
      "9993        Yes     1_hr       2_hr            NaN              NaN   \n",
      "9996        NaN      NaN        NaN            NaN              NaN   \n",
      "9997         No     1_hr  0_to_1_hr            NaN              NaN   \n",
      "9998         No     2_hr       1_hr            NaN              NaN   \n",
      "\n",
      "     Alcohol12PlusYr  AlcoholDay  AlcoholYear SmokeNow Smoke100   Smoke100n  \\\n",
      "0                Yes         NaN          0.0       No      Yes      Smoker   \n",
      "3                NaN         NaN          NaN      NaN      NaN         NaN   \n",
      "4                Yes         2.0         20.0      Yes      Yes      Smoker   \n",
      "5                NaN         NaN          NaN      NaN      NaN         NaN   \n",
      "6                NaN         NaN          NaN      NaN      NaN         NaN   \n",
      "...              ...         ...          ...      ...      ...         ...   \n",
      "9991              No         1.0          5.0      NaN       No  Non-Smoker   \n",
      "9993             NaN         NaN          NaN      Yes      Yes      Smoker   \n",
      "9996             NaN         NaN          NaN      NaN      NaN         NaN   \n",
      "9997             Yes         5.0          4.0      NaN       No  Non-Smoker   \n",
      "9998             Yes         NaN          0.0      NaN       No  Non-Smoker   \n",
      "\n",
      "      SmokeAge Marijuana  AgeFirstMarij RegularMarij  AgeRegMarij HardDrugs  \\\n",
      "0         18.0       Yes           17.0           No          NaN       Yes   \n",
      "3          NaN       NaN            NaN          NaN          NaN       NaN   \n",
      "4         38.0       Yes           18.0           No          NaN       Yes   \n",
      "5          NaN       NaN            NaN          NaN          NaN       NaN   \n",
      "6          NaN       NaN            NaN          NaN          NaN       NaN   \n",
      "...        ...       ...            ...          ...          ...       ...   \n",
      "9991       NaN       NaN            NaN          NaN          NaN        No   \n",
      "9993      18.0       NaN            NaN          NaN          NaN       NaN   \n",
      "9996       NaN       NaN            NaN          NaN          NaN       NaN   \n",
      "9997       NaN       Yes           22.0           No          NaN        No   \n",
      "9998       NaN       NaN            NaN          NaN          NaN        No   \n",
      "\n",
      "     SexEver  SexAge  SexNumPartnLife  SexNumPartYear SameSex SexOrientation  \\\n",
      "0        Yes    16.0              8.0             1.0      No   Heterosexual   \n",
      "3        NaN     NaN              NaN             NaN     NaN            NaN   \n",
      "4        Yes    12.0             10.0             1.0     Yes   Heterosexual   \n",
      "5        NaN     NaN              NaN             NaN     NaN            NaN   \n",
      "6        NaN     NaN              NaN             NaN     NaN            NaN   \n",
      "...      ...     ...              ...             ...     ...            ...   \n",
      "9991     Yes    18.0              1.0             NaN      No            NaN   \n",
      "9993     NaN     NaN              NaN             NaN     NaN            NaN   \n",
      "9996     NaN     NaN              NaN             NaN     NaN            NaN   \n",
      "9997     Yes    21.0              1.0             1.0      No   Heterosexual   \n",
      "9998     Yes    19.0              2.0             NaN      No            NaN   \n",
      "\n",
      "     PregnantNow  \n",
      "0            NaN  \n",
      "3            NaN  \n",
      "4            NaN  \n",
      "5            NaN  \n",
      "6            NaN  \n",
      "...          ...  \n",
      "9991         NaN  \n",
      "9993         NaN  \n",
      "9996         NaN  \n",
      "9997         NaN  \n",
      "9998         NaN  \n",
      "\n",
      "[6779 rows x 75 columns]\n"
     ]
    }
   ],
   "source": [
    "print(nhanes_data2)"
   ]
  },
  {
   "cell_type": "code",
   "execution_count": 15,
   "id": "3e42e6a6",
   "metadata": {
    "pycharm": {
     "name": "#%%\n"
    }
   },
   "outputs": [
    {
     "data": {
      "text/plain": "ID                    0\nSurveyYr              0\nGender                0\nAge                   0\nAgeDecade           249\n                   ... \nSexNumPartnLife    3192\nSexNumPartYear     3705\nSameSex            3164\nSexOrientation     3770\nPregnantNow        5660\nLength: 75, dtype: int64"
     },
     "execution_count": 15,
     "metadata": {},
     "output_type": "execute_result"
    }
   ],
   "source": [
    "nhanes_data2.isnull().sum()"
   ]
  },
  {
   "cell_type": "code",
   "execution_count": 16,
   "id": "ae9aff75",
   "metadata": {
    "pycharm": {
     "name": "#%%\n"
    }
   },
   "outputs": [
    {
     "name": "stdout",
     "output_type": "stream",
     "text": [
      "<class 'pandas.core.frame.DataFrame'>\n",
      "Int64Index: 6779 entries, 0 to 9998\n",
      "Data columns (total 75 columns):\n",
      " #   Column            Non-Null Count  Dtype  \n",
      "---  ------            --------------  -----  \n",
      " 0   ID                6779 non-null   int64  \n",
      " 1   SurveyYr          6779 non-null   object \n",
      " 2   Gender            6779 non-null   object \n",
      " 3   Age               6779 non-null   int64  \n",
      " 4   AgeDecade         6530 non-null   object \n",
      " 5   AgeMonths         3549 non-null   float64\n",
      " 6   Race1             6779 non-null   object \n",
      " 7   Race3             3211 non-null   object \n",
      " 8   Education         4645 non-null   object \n",
      " 9   MaritalStatus     4650 non-null   object \n",
      " 10  HHIncome          6194 non-null   object \n",
      " 11  HHIncomeMid       6194 non-null   float64\n",
      " 12  Poverty           6261 non-null   float64\n",
      " 13  HomeRooms         6731 non-null   float64\n",
      " 14  HomeOwn           6735 non-null   object \n",
      " 15  Work              5046 non-null   object \n",
      " 16  Weight            6724 non-null   float64\n",
      " 17  Length            462 non-null    float64\n",
      " 18  HeadCirc          77 non-null     float64\n",
      " 19  Height            6481 non-null   float64\n",
      " 20  BMI               6475 non-null   float64\n",
      " 21  BMICatUnder20yrs  922 non-null    object \n",
      " 22  BMI_WHO           6450 non-null   object \n",
      " 23  Pulse             5652 non-null   float64\n",
      " 24  BPSysAve          5642 non-null   float64\n",
      " 25  BPDiaAve          5642 non-null   float64\n",
      " 26  BPSys1            5427 non-null   float64\n",
      " 27  BPDia1            5427 non-null   float64\n",
      " 28  BPSys2            5501 non-null   float64\n",
      " 29  BPDia2            5501 non-null   float64\n",
      " 30  BPSys3            5499 non-null   float64\n",
      " 31  BPDia3            5499 non-null   float64\n",
      " 32  Testosterone      2561 non-null   float64\n",
      " 33  DirectChol        5596 non-null   float64\n",
      " 34  TotChol           5596 non-null   float64\n",
      " 35  UrineVol1         5988 non-null   float64\n",
      " 36  UrineFlow1        5561 non-null   float64\n",
      " 37  UrineVol2         974 non-null    float64\n",
      " 38  UrineFlow2        973 non-null    float64\n",
      " 39  Diabetes          6653 non-null   object \n",
      " 40  DiabetesAge       457 non-null    float64\n",
      " 41  HealthGen         4898 non-null   object \n",
      " 42  DaysPhysHlthBad   4891 non-null   float64\n",
      " 43  DaysMentHlthBad   4893 non-null   float64\n",
      " 44  LittleInterest    4270 non-null   object \n",
      " 45  Depressed         4272 non-null   object \n",
      " 46  nPregnancies      1696 non-null   float64\n",
      " 47  nBabies           1577 non-null   float64\n",
      " 48  Age1stBaby        1245 non-null   float64\n",
      " 49  SleepHrsNight     5035 non-null   float64\n",
      " 50  SleepTrouble      5047 non-null   object \n",
      " 51  PhysActive        5445 non-null   object \n",
      " 52  TVHrsDay          3093 non-null   object \n",
      " 53  CompHrsDay        3096 non-null   object \n",
      " 54  TVHrsDayChild     534 non-null    float64\n",
      " 55  CompHrsDayChild   534 non-null    float64\n",
      " 56  Alcohol12PlusYr   4199 non-null   object \n",
      " 57  AlcoholDay        3066 non-null   float64\n",
      " 58  AlcoholYear       3730 non-null   float64\n",
      " 59  SmokeNow          2056 non-null   object \n",
      " 60  Smoke100          4654 non-null   object \n",
      " 61  Smoke100n         4654 non-null   object \n",
      " 62  SmokeAge          1972 non-null   float64\n",
      " 63  Marijuana         3083 non-null   object \n",
      " 64  AgeFirstMarij     1726 non-null   float64\n",
      " 65  RegularMarij      3083 non-null   object \n",
      " 66  AgeRegMarij       827 non-null    float64\n",
      " 67  HardDrugs         3615 non-null   object \n",
      " 68  SexEver           3615 non-null   object \n",
      " 69  SexAge            3454 non-null   float64\n",
      " 70  SexNumPartnLife   3587 non-null   float64\n",
      " 71  SexNumPartYear    3074 non-null   float64\n",
      " 72  SameSex           3615 non-null   object \n",
      " 73  SexOrientation    3009 non-null   object \n",
      " 74  PregnantNow       1119 non-null   object \n",
      "dtypes: float64(42), int64(2), object(31)\n",
      "memory usage: 3.9+ MB\n"
     ]
    }
   ],
   "source": [
    "nhanes_data2.info()"
   ]
  },
  {
   "cell_type": "code",
   "execution_count": 16,
   "id": "8012c2de",
   "metadata": {
    "pycharm": {
     "name": "#%%\n"
    }
   },
   "outputs": [],
   "source": []
  }
 ],
 "metadata": {
  "kernelspec": {
   "display_name": "Python 3",
   "language": "python",
   "name": "python3"
  },
  "language_info": {
   "codemirror_mode": {
    "name": "ipython",
    "version": 3
   },
   "file_extension": ".py",
   "mimetype": "text/x-python",
   "name": "python",
   "nbconvert_exporter": "python",
   "pygments_lexer": "ipython3",
   "version": "3.8.8"
  }
 },
 "nbformat": 4,
 "nbformat_minor": 5
}