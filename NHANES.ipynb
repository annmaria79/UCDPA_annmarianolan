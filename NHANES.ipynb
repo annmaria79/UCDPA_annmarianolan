{
 "cells": [
  {
   "cell_type": "code",
   "execution_count": 1,
   "outputs": [
    {
     "name": "stdout",
     "output_type": "stream",
     "text": [
      "         ID SurveyYr  Gender  Age AgeDecade  AgeMonths    Race1    Race3  \\\n",
      "0     51624  2009_10    male   34     30-39      409.0    White      NaN   \n",
      "1     51624  2009_10    male   34     30-39      409.0    White      NaN   \n",
      "2     51624  2009_10    male   34     30-39      409.0    White      NaN   \n",
      "3     51625  2009_10    male    4       0-9       49.0    Other      NaN   \n",
      "4     51630  2009_10  female   49     40-49      596.0    White      NaN   \n",
      "...     ...      ...     ...  ...       ...        ...      ...      ...   \n",
      "9995  71909  2011_12    male   28     20-29        NaN  Mexican  Mexican   \n",
      "9996  71910  2011_12  female    0       0-9        5.0    White    White   \n",
      "9997  71911  2011_12    male   27     20-29        NaN  Mexican  Mexican   \n",
      "9998  71915  2011_12    male   60     60-69        NaN    White    White   \n",
      "9999  71915  2011_12    male   60     60-69        NaN    White    White   \n",
      "\n",
      "           Education MaritalStatus  ... RegularMarij  AgeRegMarij  HardDrugs  \\\n",
      "0        High School       Married  ...           No          NaN        Yes   \n",
      "1        High School       Married  ...           No          NaN        Yes   \n",
      "2        High School       Married  ...           No          NaN        Yes   \n",
      "3                NaN           NaN  ...          NaN          NaN        NaN   \n",
      "4       Some College   LivePartner  ...           No          NaN        Yes   \n",
      "...              ...           ...  ...          ...          ...        ...   \n",
      "9995  9 - 11th Grade  NeverMarried  ...          NaN          NaN        NaN   \n",
      "9996             NaN           NaN  ...          NaN          NaN        NaN   \n",
      "9997    College Grad       Married  ...           No          NaN         No   \n",
      "9998    College Grad  NeverMarried  ...          NaN          NaN         No   \n",
      "9999    College Grad  NeverMarried  ...          NaN          NaN         No   \n",
      "\n",
      "      SexEver SexAge SexNumPartnLife  SexNumPartYear  SameSex  SexOrientation  \\\n",
      "0         Yes   16.0             8.0             1.0       No    Heterosexual   \n",
      "1         Yes   16.0             8.0             1.0       No    Heterosexual   \n",
      "2         Yes   16.0             8.0             1.0       No    Heterosexual   \n",
      "3         NaN    NaN             NaN             NaN      NaN             NaN   \n",
      "4         Yes   12.0            10.0             1.0      Yes    Heterosexual   \n",
      "...       ...    ...             ...             ...      ...             ...   \n",
      "9995      NaN    NaN             NaN             NaN      NaN             NaN   \n",
      "9996      NaN    NaN             NaN             NaN      NaN             NaN   \n",
      "9997      Yes   21.0             1.0             1.0       No    Heterosexual   \n",
      "9998      Yes   19.0             2.0             NaN       No             NaN   \n",
      "9999      Yes   19.0             2.0             NaN       No             NaN   \n",
      "\n",
      "      PregnantNow  \n",
      "0             NaN  \n",
      "1             NaN  \n",
      "2             NaN  \n",
      "3             NaN  \n",
      "4             NaN  \n",
      "...           ...  \n",
      "9995          NaN  \n",
      "9996          NaN  \n",
      "9997          NaN  \n",
      "9998          NaN  \n",
      "9999          NaN  \n",
      "\n",
      "[10000 rows x 76 columns]\n"
     ]
    }
   ],
   "source": [
    "#importing data for analysis\n",
    "import pandas as pd\n",
    "nhanes_data = pd.read_csv('https://raw.githubusercontent.com/GTPB/PSLS20/master/data/NHANES.csv')\n",
    "print(nhanes_data)"
   ],
   "metadata": {
    "collapsed": false,
    "pycharm": {
     "name": "#%%\n"
    }
   }
  },
  {
   "cell_type": "code",
   "execution_count": 2,
   "outputs": [
    {
     "name": "stdout",
     "output_type": "stream",
     "text": [
      "<class 'pandas.core.frame.DataFrame'>\n",
      "RangeIndex: 10000 entries, 0 to 9999\n",
      "Data columns (total 76 columns):\n",
      " #   Column            Non-Null Count  Dtype  \n",
      "---  ------            --------------  -----  \n",
      " 0   ID                10000 non-null  int64  \n",
      " 1   SurveyYr          10000 non-null  object \n",
      " 2   Gender            10000 non-null  object \n",
      " 3   Age               10000 non-null  int64  \n",
      " 4   AgeDecade         9667 non-null   object \n",
      " 5   AgeMonths         4962 non-null   float64\n",
      " 6   Race1             10000 non-null  object \n",
      " 7   Race3             5000 non-null   object \n",
      " 8   Education         7221 non-null   object \n",
      " 9   MaritalStatus     7231 non-null   object \n",
      " 10  HHIncome          9189 non-null   object \n",
      " 11  HHIncomeMid       9189 non-null   float64\n",
      " 12  Poverty           9274 non-null   float64\n",
      " 13  HomeRooms         9931 non-null   float64\n",
      " 14  HomeOwn           9937 non-null   object \n",
      " 15  Work              7771 non-null   object \n",
      " 16  Weight            9922 non-null   float64\n",
      " 17  Length            543 non-null    float64\n",
      " 18  HeadCirc          88 non-null     float64\n",
      " 19  Height            9647 non-null   float64\n",
      " 20  BMI               9634 non-null   float64\n",
      " 21  BMICatUnder20yrs  1274 non-null   object \n",
      " 22  BMI_WHO           9603 non-null   object \n",
      " 23  Pulse             8563 non-null   float64\n",
      " 24  BPSysAve          8551 non-null   float64\n",
      " 25  BPDiaAve          8551 non-null   float64\n",
      " 26  BPSys1            8237 non-null   float64\n",
      " 27  BPDia1            8237 non-null   float64\n",
      " 28  BPSys2            8353 non-null   float64\n",
      " 29  BPDia2            8353 non-null   float64\n",
      " 30  BPSys3            8365 non-null   float64\n",
      " 31  BPDia3            8365 non-null   float64\n",
      " 32  Testosterone      4126 non-null   float64\n",
      " 33  DirectChol        8474 non-null   float64\n",
      " 34  TotChol           8474 non-null   float64\n",
      " 35  UrineVol1         9013 non-null   float64\n",
      " 36  UrineFlow1        8397 non-null   float64\n",
      " 37  UrineVol2         1478 non-null   float64\n",
      " 38  UrineFlow2        1476 non-null   float64\n",
      " 39  Diabetes          9858 non-null   object \n",
      " 40  DiabetesAge       629 non-null    float64\n",
      " 41  HealthGen         7539 non-null   object \n",
      " 42  DaysPhysHlthBad   7532 non-null   float64\n",
      " 43  DaysMentHlthBad   7534 non-null   float64\n",
      " 44  LittleInterest    6667 non-null   object \n",
      " 45  Depressed         6673 non-null   object \n",
      " 46  nPregnancies      2604 non-null   float64\n",
      " 47  nBabies           2416 non-null   float64\n",
      " 48  Age1stBaby        1884 non-null   float64\n",
      " 49  SleepHrsNight     7755 non-null   float64\n",
      " 50  SleepTrouble      7772 non-null   object \n",
      " 51  PhysActive        8326 non-null   object \n",
      " 52  PhysActiveDays    4663 non-null   float64\n",
      " 53  TVHrsDay          4859 non-null   object \n",
      " 54  CompHrsDay        4863 non-null   object \n",
      " 55  TVHrsDayChild     653 non-null    float64\n",
      " 56  CompHrsDayChild   653 non-null    float64\n",
      " 57  Alcohol12PlusYr   6580 non-null   object \n",
      " 58  AlcoholDay        4914 non-null   float64\n",
      " 59  AlcoholYear       5922 non-null   float64\n",
      " 60  SmokeNow          3211 non-null   object \n",
      " 61  Smoke100          7235 non-null   object \n",
      " 62  Smoke100n         7235 non-null   object \n",
      " 63  SmokeAge          3080 non-null   float64\n",
      " 64  Marijuana         4941 non-null   object \n",
      " 65  AgeFirstMarij     2891 non-null   float64\n",
      " 66  RegularMarij      4941 non-null   object \n",
      " 67  AgeRegMarij       1366 non-null   float64\n",
      " 68  HardDrugs         5765 non-null   object \n",
      " 69  SexEver           5767 non-null   object \n",
      " 70  SexAge            5540 non-null   float64\n",
      " 71  SexNumPartnLife   5725 non-null   float64\n",
      " 72  SexNumPartYear    4928 non-null   float64\n",
      " 73  SameSex           5768 non-null   object \n",
      " 74  SexOrientation    4842 non-null   object \n",
      " 75  PregnantNow       1696 non-null   object \n",
      "dtypes: float64(43), int64(2), object(31)\n",
      "memory usage: 5.8+ MB\n"
     ]
    }
   ],
   "source": [
    "#find out the column names and size of dataset\n",
    "nhanes_data.info()"
   ],
   "metadata": {
    "collapsed": false,
    "pycharm": {
     "name": "#%%\n"
    }
   }
  },
  {
   "cell_type": "code",
   "execution_count": 3,
   "outputs": [],
   "source": [
    "import numpy as py"
   ],
   "metadata": {
    "collapsed": false,
    "pycharm": {
     "name": "#%%\n"
    }
   }
  },
  {
   "cell_type": "code",
   "execution_count": 4,
   "outputs": [],
   "source": [
    "#dropping duplicate rows\n",
    "nhanes_data1 = nhanes_data.drop_duplicates()"
   ],
   "metadata": {
    "collapsed": false,
    "pycharm": {
     "name": "#%%\n"
    }
   }
  },
  {
   "cell_type": "code",
   "execution_count": 5,
   "outputs": [
    {
     "name": "stdout",
     "output_type": "stream",
     "text": [
      "<class 'pandas.core.frame.DataFrame'>\n",
      "Int64Index: 7832 entries, 0 to 9999\n",
      "Data columns (total 76 columns):\n",
      " #   Column            Non-Null Count  Dtype  \n",
      "---  ------            --------------  -----  \n",
      " 0   ID                7832 non-null   int64  \n",
      " 1   SurveyYr          7832 non-null   object \n",
      " 2   Gender            7832 non-null   object \n",
      " 3   Age               7832 non-null   int64  \n",
      " 4   AgeDecade         7549 non-null   object \n",
      " 5   AgeMonths         3561 non-null   float64\n",
      " 6   Race1             7832 non-null   object \n",
      " 7   Race3             4264 non-null   object \n",
      " 8   Education         5469 non-null   object \n",
      " 9   MaritalStatus     5474 non-null   object \n",
      " 10  HHIncome          7179 non-null   object \n",
      " 11  HHIncomeMid       7179 non-null   float64\n",
      " 12  Poverty           7254 non-null   float64\n",
      " 13  HomeRooms         7778 non-null   float64\n",
      " 14  HomeOwn           7782 non-null   object \n",
      " 15  Work              5910 non-null   object \n",
      " 16  Weight            7771 non-null   float64\n",
      " 17  Length            498 non-null    float64\n",
      " 18  HeadCirc          82 non-null     float64\n",
      " 19  Height            7515 non-null   float64\n",
      " 20  BMI               7505 non-null   float64\n",
      " 21  BMICatUnder20yrs  1133 non-null   object \n",
      " 22  BMI_WHO           7479 non-null   object \n",
      " 23  Pulse             6596 non-null   float64\n",
      " 24  BPSysAve          6586 non-null   float64\n",
      " 25  BPDiaAve          6586 non-null   float64\n",
      " 26  BPSys1            6335 non-null   float64\n",
      " 27  BPDia1            6335 non-null   float64\n",
      " 28  BPSys2            6428 non-null   float64\n",
      " 29  BPDia2            6428 non-null   float64\n",
      " 30  BPSys3            6432 non-null   float64\n",
      " 31  BPDia3            6432 non-null   float64\n",
      " 32  Testosterone      3478 non-null   float64\n",
      " 33  DirectChol        6536 non-null   float64\n",
      " 34  TotChol           6536 non-null   float64\n",
      " 35  UrineVol1         6967 non-null   float64\n",
      " 36  UrineFlow1        6492 non-null   float64\n",
      " 37  UrineVol2         1162 non-null   float64\n",
      " 38  UrineFlow2        1161 non-null   float64\n",
      " 39  Diabetes          7699 non-null   object \n",
      " 40  DiabetesAge       517 non-null    float64\n",
      " 41  HealthGen         5765 non-null   object \n",
      " 42  DaysPhysHlthBad   5758 non-null   float64\n",
      " 43  DaysMentHlthBad   5760 non-null   float64\n",
      " 44  LittleInterest    5049 non-null   object \n",
      " 45  Depressed         5051 non-null   object \n",
      " 46  nPregnancies      1992 non-null   float64\n",
      " 47  nBabies           1846 non-null   float64\n",
      " 48  Age1stBaby        1457 non-null   float64\n",
      " 49  SleepHrsNight     5897 non-null   float64\n",
      " 50  SleepTrouble      5911 non-null   object \n",
      " 51  PhysActive        6374 non-null   object \n",
      " 52  PhysActiveDays    3813 non-null   float64\n",
      " 53  TVHrsDay          4128 non-null   object \n",
      " 54  CompHrsDay        4132 non-null   object \n",
      " 55  TVHrsDayChild     534 non-null    float64\n",
      " 56  CompHrsDayChild   534 non-null    float64\n",
      " 57  Alcohol12PlusYr   4979 non-null   object \n",
      " 58  AlcoholDay        3672 non-null   float64\n",
      " 59  AlcoholYear       4444 non-null   float64\n",
      " 60  SmokeNow          2423 non-null   object \n",
      " 61  Smoke100          5478 non-null   object \n",
      " 62  Smoke100n         5478 non-null   object \n",
      " 63  SmokeAge          2325 non-null   float64\n",
      " 64  Marijuana         3669 non-null   object \n",
      " 65  AgeFirstMarij     2095 non-null   float64\n",
      " 66  RegularMarij      3669 non-null   object \n",
      " 67  AgeRegMarij       990 non-null    float64\n",
      " 68  HardDrugs         4311 non-null   object \n",
      " 69  SexEver           4312 non-null   object \n",
      " 70  SexAge            4133 non-null   float64\n",
      " 71  SexNumPartnLife   4280 non-null   float64\n",
      " 72  SexNumPartYear    3660 non-null   float64\n",
      " 73  SameSex           4312 non-null   object \n",
      " 74  SexOrientation    3587 non-null   object \n",
      " 75  PregnantNow       1292 non-null   object \n",
      "dtypes: float64(43), int64(2), object(31)\n",
      "memory usage: 4.6+ MB\n"
     ]
    }
   ],
   "source": [
    "#after duplicates dropped, 10,000 rows now 7,832\n",
    "nhanes_data1.info()"
   ],
   "metadata": {
    "collapsed": false,
    "pycharm": {
     "name": "#%%\n"
    }
   }
  },
  {
   "cell_type": "code",
   "execution_count": 6,
   "outputs": [
    {
     "name": "stdout",
     "output_type": "stream",
     "text": [
      "6779\n"
     ]
    }
   ],
   "source": [
    "#number of unique ids with data\n",
    "count_unique_ids = nhanes_data1['ID'].nunique()\n",
    "print(count_unique_ids)"
   ],
   "metadata": {
    "collapsed": false,
    "pycharm": {
     "name": "#%%\n"
    }
   }
  },
  {
   "cell_type": "code",
   "execution_count": 7,
   "outputs": [
    {
     "name": "stdout",
     "output_type": "stream",
     "text": [
      "           ID  SurveyYr  Gender  Age  AgeDecade  AgeMonths  Race1  Race3  \\\n",
      "nunique  6779         2       2   81          8        910      5      6   \n",
      "\n",
      "         Education  MaritalStatus  HHIncome  HHIncomeMid  Poverty  HomeRooms  \\\n",
      "nunique          5              6        12           12      450         13   \n",
      "\n",
      "         HomeOwn  Work  Weight  Length  HeadCirc  Height   BMI  \\\n",
      "nunique        3     3    1290     309        56     980  2073   \n",
      "\n",
      "         BMICatUnder20yrs  BMI_WHO  Pulse  BPSysAve  BPDiaAve  BPSys1  BPDia1  \\\n",
      "nunique                 4        4     47       126       102      70      51   \n",
      "\n",
      "         BPSys2  BPDia2  BPSys3  BPDia3  Testosterone  DirectChol  TotChol  \\\n",
      "nunique      69      51      66      50          2311         106      250   \n",
      "\n",
      "         UrineVol1  UrineFlow1  UrineVol2  UrineFlow2  Diabetes  DiabetesAge  \\\n",
      "nunique        424        2066        294         760         2           72   \n",
      "\n",
      "         HealthGen  DaysPhysHlthBad  DaysMentHlthBad  LittleInterest  \\\n",
      "nunique          5               30               31               3   \n",
      "\n",
      "         Depressed  nPregnancies  nBabies  Age1stBaby  SleepHrsNight  \\\n",
      "nunique          3            14       12          25             11   \n",
      "\n",
      "         SleepTrouble  PhysActive  PhysActiveDays  TVHrsDay  CompHrsDay  \\\n",
      "nunique             2           2               7         7           7   \n",
      "\n",
      "         TVHrsDayChild  CompHrsDayChild  Alcohol12PlusYr  AlcoholDay  \\\n",
      "nunique              7                7                2          25   \n",
      "\n",
      "         AlcoholYear  SmokeNow  Smoke100  Smoke100n  SmokeAge  Marijuana  \\\n",
      "nunique           62         2         2          2        41          2   \n",
      "\n",
      "         AgeFirstMarij  RegularMarij  AgeRegMarij  HardDrugs  SexEver  SexAge  \\\n",
      "nunique             38             2           36          2        2      35   \n",
      "\n",
      "         SexNumPartnLife  SexNumPartYear  SameSex  SexOrientation  PregnantNow  \n",
      "nunique               90              23        2               3            3  \n"
     ]
    }
   ],
   "source": [
    "#Count unique values in each column \n",
    "nhanes_data1.agg(['nunique'])\n",
    "pd.set_option('display.max_columns', None)\n",
    "print(nhanes_data1.agg(['nunique']))\n"
   ],
   "metadata": {
    "collapsed": false,
    "pycharm": {
     "name": "#%%\n"
    }
   }
  },
  {
   "cell_type": "code",
   "execution_count": 8,
   "outputs": [
    {
     "data": {
      "text/plain": "         ID  SurveyYr  Gender  Age  AgeDecade  AgeMonths  Race1  Race3  \\\n3958  63297         5       5    5          5          0      5      5   \n5202  67118         5       5    5          5          0      5      5   \n3909  63149         5       5    5          5          0      5      5   \n3785  62804         4       4    4          4          0      4      4   \n4262  64228         4       4    4          4          0      4      4   \n...     ...       ...     ...  ...        ...        ...    ...    ...   \n2256  58283         1       1    1          1          1      1      0   \n2255  58276         1       1    1          0          0      1      0   \n2254  58275         1       1    1          1          1      1      0   \n2253  58274         1       1    1          1          1      1      0   \n3389  61615         1       1    1          1          1      1      0   \n\n      Education  MaritalStatus  HHIncome  HHIncomeMid  Poverty  HomeRooms  \\\n3958          5              5         5            5        5          5   \n5202          5              5         5            5        5          5   \n3909          5              5         5            5        5          5   \n3785          4              4         4            4        4          4   \n4262          4              4         4            4        4          4   \n...         ...            ...       ...          ...      ...        ...   \n2256          1              1         1            1        1          1   \n2255          1              1         1            1        1          1   \n2254          1              1         1            1        1          1   \n2253          1              1         1            1        1          1   \n3389          1              1         1            1        1          1   \n\n      HomeOwn  Work  Weight  Length  HeadCirc  Height  BMI  BMICatUnder20yrs  \\\n3958        5     5       5       0         0       5    5                 0   \n5202        5     5       5       0         0       5    5                 0   \n3909        5     5       5       0         0       5    5                 0   \n3785        4     4       4       0         0       4    4                 0   \n4262        4     4       4       0         0       4    4                 0   \n...       ...   ...     ...     ...       ...     ...  ...               ...   \n2256        1     1       1       0         0       1    1                 0   \n2255        1     1       1       0         0       1    1                 0   \n2254        1     1       1       0         0       1    1                 0   \n2253        1     1       1       0         0       1    1                 0   \n3389        1     1       1       0         0       1    1                 0   \n\n      BMI_WHO  Pulse  BPSysAve  BPDiaAve  BPSys1  BPDia1  BPSys2  BPDia2  \\\n3958        5      5         5         5       5       5       5       5   \n5202        5      5         5         5       5       5       5       5   \n3909        5      5         5         5       5       5       5       5   \n3785        4      4         4         4       4       4       4       4   \n4262        4      4         4         4       4       4       4       4   \n...       ...    ...       ...       ...     ...     ...     ...     ...   \n2256        1      1         1         1       1       1       1       1   \n2255        1      1         1         1       0       0       1       1   \n2254        1      1         1         1       1       1       1       1   \n2253        1      1         1         1       1       1       1       1   \n3389        1      1         1         1       1       1       1       1   \n\n      BPSys3  BPDia3  Testosterone  DirectChol  TotChol  UrineVol1  \\\n3958       5       5             5           5        5          5   \n5202       5       5             5           5        5          5   \n3909       5       5             5           5        5          5   \n3785       4       4             4           4        4          4   \n4262       4       4             4           4        4          4   \n...      ...     ...           ...         ...      ...        ...   \n2256       1       1             0           1        1          0   \n2255       1       1             0           1        1          1   \n2254       1       1             0           1        1          1   \n2253       1       1             0           1        1          1   \n3389       1       1             0           1        1          1   \n\n      UrineFlow1  UrineVol2  UrineFlow2  Diabetes  DiabetesAge  HealthGen  \\\n3958           5          0           0         5            0          5   \n5202           5          0           0         5            0          5   \n3909           5          5           5         5            0          5   \n3785           4          0           0         4            0          4   \n4262           4          0           0         4            4          4   \n...          ...        ...         ...       ...          ...        ...   \n2256           0          0           0         1            0          1   \n2255           1          1           1         1            0          1   \n2254           1          0           0         1            0          1   \n2253           1          0           0         1            0          1   \n3389           1          0           0         1            0          0   \n\n      DaysPhysHlthBad  DaysMentHlthBad  LittleInterest  Depressed  \\\n3958                5                5               5          5   \n5202                5                5               5          5   \n3909                5                5               5          5   \n3785                4                4               4          4   \n4262                4                4               4          4   \n...               ...              ...             ...        ...   \n2256                1                1               1          1   \n2255                1                1               1          1   \n2254                1                1               1          1   \n2253                1                1               1          1   \n3389                0                0               0          0   \n\n      nPregnancies  nBabies  Age1stBaby  SleepHrsNight  SleepTrouble  \\\n3958             0        0           0              5             5   \n5202             5        5           5              5             5   \n3909             5        5           5              5             5   \n3785             0        0           0              4             4   \n4262             0        0           0              4             4   \n...            ...      ...         ...            ...           ...   \n2256             0        0           0              1             1   \n2255             1        0           0              1             1   \n2254             0        0           0              1             1   \n2253             1        1           1              1             1   \n3389             0        0           0              1             1   \n\n      PhysActive  PhysActiveDays  TVHrsDay  CompHrsDay  TVHrsDayChild  \\\n3958           5               4         5           5              0   \n5202           5               4         5           5              0   \n3909           5               4         5           5              0   \n3785           4               3         4           4              0   \n4262           4               4         4           4              0   \n...          ...             ...       ...         ...            ...   \n2256           1               0         0           0              0   \n2255           1               1         0           0              0   \n2254           1               1         0           0              0   \n2253           1               0         0           0              0   \n3389           1               0         0           0              0   \n\n      CompHrsDayChild  Alcohol12PlusYr  AlcoholDay  AlcoholYear  SmokeNow  \\\n3958                0                5           0            5         0   \n5202                0                5           5            5         5   \n3909                0                5           5            5         0   \n3785                0                4           4            4         0   \n4262                0                4           4            4         4   \n...               ...              ...         ...          ...       ...   \n2256                0                1           1            1         1   \n2255                0                1           1            1         0   \n2254                0                1           0            1         1   \n2253                0                1           1            1         0   \n3389                0                0           0            0         0   \n\n      Smoke100  Smoke100n  SmokeAge  Marijuana  AgeFirstMarij  RegularMarij  \\\n3958         5          5         0          5              5             5   \n5202         5          5         5          5              5             5   \n3909         5          5         0          5              0             5   \n3785         4          4         0          0              0             0   \n4262         4          4         4          4              4             4   \n...        ...        ...       ...        ...            ...           ...   \n2256         1          1         1          0              0             0   \n2255         1          1         0          0              0             0   \n2254         1          1         1          1              1             1   \n2253         1          1         0          1              0             1   \n3389         1          1         0          0              0             0   \n\n      AgeRegMarij  HardDrugs  SexEver  SexAge  SexNumPartnLife  \\\n3958            0          5        5       5                5   \n5202            0          5        5       5                5   \n3909            0          5        5       5                5   \n3785            0          4        4       4                4   \n4262            4          4        4       4                4   \n...           ...        ...      ...     ...              ...   \n2256            0          1        1       1                1   \n2255            0          0        0       0                0   \n2254            1          1        1       1                1   \n2253            0          1        1       1                1   \n3389            0          0        0       0                0   \n\n      SexNumPartYear  SameSex  SexOrientation  PregnantNow  \n3958               5        5               5            0  \n5202               5        5               0            5  \n3909               5        5               5            5  \n3785               0        4               0            0  \n4262               4        4               4            0  \n...              ...      ...             ...          ...  \n2256               0        1               0            0  \n2255               0        0               0            0  \n2254               1        1               1            0  \n2253               1        1               1            0  \n3389               0        0               0            1  \n\n[6779 rows x 76 columns]",
      "text/html": "<div>\n<style scoped>\n    .dataframe tbody tr th:only-of-type {\n        vertical-align: middle;\n    }\n\n    .dataframe tbody tr th {\n        vertical-align: top;\n    }\n\n    .dataframe thead th {\n        text-align: right;\n    }\n</style>\n<table border=\"1\" class=\"dataframe\">\n  <thead>\n    <tr style=\"text-align: right;\">\n      <th></th>\n      <th>ID</th>\n      <th>SurveyYr</th>\n      <th>Gender</th>\n      <th>Age</th>\n      <th>AgeDecade</th>\n      <th>AgeMonths</th>\n      <th>Race1</th>\n      <th>Race3</th>\n      <th>Education</th>\n      <th>MaritalStatus</th>\n      <th>HHIncome</th>\n      <th>HHIncomeMid</th>\n      <th>Poverty</th>\n      <th>HomeRooms</th>\n      <th>HomeOwn</th>\n      <th>Work</th>\n      <th>Weight</th>\n      <th>Length</th>\n      <th>HeadCirc</th>\n      <th>Height</th>\n      <th>BMI</th>\n      <th>BMICatUnder20yrs</th>\n      <th>BMI_WHO</th>\n      <th>Pulse</th>\n      <th>BPSysAve</th>\n      <th>BPDiaAve</th>\n      <th>BPSys1</th>\n      <th>BPDia1</th>\n      <th>BPSys2</th>\n      <th>BPDia2</th>\n      <th>BPSys3</th>\n      <th>BPDia3</th>\n      <th>Testosterone</th>\n      <th>DirectChol</th>\n      <th>TotChol</th>\n      <th>UrineVol1</th>\n      <th>UrineFlow1</th>\n      <th>UrineVol2</th>\n      <th>UrineFlow2</th>\n      <th>Diabetes</th>\n      <th>DiabetesAge</th>\n      <th>HealthGen</th>\n      <th>DaysPhysHlthBad</th>\n      <th>DaysMentHlthBad</th>\n      <th>LittleInterest</th>\n      <th>Depressed</th>\n      <th>nPregnancies</th>\n      <th>nBabies</th>\n      <th>Age1stBaby</th>\n      <th>SleepHrsNight</th>\n      <th>SleepTrouble</th>\n      <th>PhysActive</th>\n      <th>PhysActiveDays</th>\n      <th>TVHrsDay</th>\n      <th>CompHrsDay</th>\n      <th>TVHrsDayChild</th>\n      <th>CompHrsDayChild</th>\n      <th>Alcohol12PlusYr</th>\n      <th>AlcoholDay</th>\n      <th>AlcoholYear</th>\n      <th>SmokeNow</th>\n      <th>Smoke100</th>\n      <th>Smoke100n</th>\n      <th>SmokeAge</th>\n      <th>Marijuana</th>\n      <th>AgeFirstMarij</th>\n      <th>RegularMarij</th>\n      <th>AgeRegMarij</th>\n      <th>HardDrugs</th>\n      <th>SexEver</th>\n      <th>SexAge</th>\n      <th>SexNumPartnLife</th>\n      <th>SexNumPartYear</th>\n      <th>SameSex</th>\n      <th>SexOrientation</th>\n      <th>PregnantNow</th>\n    </tr>\n  </thead>\n  <tbody>\n    <tr>\n      <th>3958</th>\n      <td>63297</td>\n      <td>5</td>\n      <td>5</td>\n      <td>5</td>\n      <td>5</td>\n      <td>0</td>\n      <td>5</td>\n      <td>5</td>\n      <td>5</td>\n      <td>5</td>\n      <td>5</td>\n      <td>5</td>\n      <td>5</td>\n      <td>5</td>\n      <td>5</td>\n      <td>5</td>\n      <td>5</td>\n      <td>0</td>\n      <td>0</td>\n      <td>5</td>\n      <td>5</td>\n      <td>0</td>\n      <td>5</td>\n      <td>5</td>\n      <td>5</td>\n      <td>5</td>\n      <td>5</td>\n      <td>5</td>\n      <td>5</td>\n      <td>5</td>\n      <td>5</td>\n      <td>5</td>\n      <td>5</td>\n      <td>5</td>\n      <td>5</td>\n      <td>5</td>\n      <td>5</td>\n      <td>0</td>\n      <td>0</td>\n      <td>5</td>\n      <td>0</td>\n      <td>5</td>\n      <td>5</td>\n      <td>5</td>\n      <td>5</td>\n      <td>5</td>\n      <td>0</td>\n      <td>0</td>\n      <td>0</td>\n      <td>5</td>\n      <td>5</td>\n      <td>5</td>\n      <td>4</td>\n      <td>5</td>\n      <td>5</td>\n      <td>0</td>\n      <td>0</td>\n      <td>5</td>\n      <td>0</td>\n      <td>5</td>\n      <td>0</td>\n      <td>5</td>\n      <td>5</td>\n      <td>0</td>\n      <td>5</td>\n      <td>5</td>\n      <td>5</td>\n      <td>0</td>\n      <td>5</td>\n      <td>5</td>\n      <td>5</td>\n      <td>5</td>\n      <td>5</td>\n      <td>5</td>\n      <td>5</td>\n      <td>0</td>\n    </tr>\n    <tr>\n      <th>5202</th>\n      <td>67118</td>\n      <td>5</td>\n      <td>5</td>\n      <td>5</td>\n      <td>5</td>\n      <td>0</td>\n      <td>5</td>\n      <td>5</td>\n      <td>5</td>\n      <td>5</td>\n      <td>5</td>\n      <td>5</td>\n      <td>5</td>\n      <td>5</td>\n      <td>5</td>\n      <td>5</td>\n      <td>5</td>\n      <td>0</td>\n      <td>0</td>\n      <td>5</td>\n      <td>5</td>\n      <td>0</td>\n      <td>5</td>\n      <td>5</td>\n      <td>5</td>\n      <td>5</td>\n      <td>5</td>\n      <td>5</td>\n      <td>5</td>\n      <td>5</td>\n      <td>5</td>\n      <td>5</td>\n      <td>5</td>\n      <td>5</td>\n      <td>5</td>\n      <td>5</td>\n      <td>5</td>\n      <td>0</td>\n      <td>0</td>\n      <td>5</td>\n      <td>0</td>\n      <td>5</td>\n      <td>5</td>\n      <td>5</td>\n      <td>5</td>\n      <td>5</td>\n      <td>5</td>\n      <td>5</td>\n      <td>5</td>\n      <td>5</td>\n      <td>5</td>\n      <td>5</td>\n      <td>4</td>\n      <td>5</td>\n      <td>5</td>\n      <td>0</td>\n      <td>0</td>\n      <td>5</td>\n      <td>5</td>\n      <td>5</td>\n      <td>5</td>\n      <td>5</td>\n      <td>5</td>\n      <td>5</td>\n      <td>5</td>\n      <td>5</td>\n      <td>5</td>\n      <td>0</td>\n      <td>5</td>\n      <td>5</td>\n      <td>5</td>\n      <td>5</td>\n      <td>5</td>\n      <td>5</td>\n      <td>0</td>\n      <td>5</td>\n    </tr>\n    <tr>\n      <th>3909</th>\n      <td>63149</td>\n      <td>5</td>\n      <td>5</td>\n      <td>5</td>\n      <td>5</td>\n      <td>0</td>\n      <td>5</td>\n      <td>5</td>\n      <td>5</td>\n      <td>5</td>\n      <td>5</td>\n      <td>5</td>\n      <td>5</td>\n      <td>5</td>\n      <td>5</td>\n      <td>5</td>\n      <td>5</td>\n      <td>0</td>\n      <td>0</td>\n      <td>5</td>\n      <td>5</td>\n      <td>0</td>\n      <td>5</td>\n      <td>5</td>\n      <td>5</td>\n      <td>5</td>\n      <td>5</td>\n      <td>5</td>\n      <td>5</td>\n      <td>5</td>\n      <td>5</td>\n      <td>5</td>\n      <td>5</td>\n      <td>5</td>\n      <td>5</td>\n      <td>5</td>\n      <td>5</td>\n      <td>5</td>\n      <td>5</td>\n      <td>5</td>\n      <td>0</td>\n      <td>5</td>\n      <td>5</td>\n      <td>5</td>\n      <td>5</td>\n      <td>5</td>\n      <td>5</td>\n      <td>5</td>\n      <td>5</td>\n      <td>5</td>\n      <td>5</td>\n      <td>5</td>\n      <td>4</td>\n      <td>5</td>\n      <td>5</td>\n      <td>0</td>\n      <td>0</td>\n      <td>5</td>\n      <td>5</td>\n      <td>5</td>\n      <td>0</td>\n      <td>5</td>\n      <td>5</td>\n      <td>0</td>\n      <td>5</td>\n      <td>0</td>\n      <td>5</td>\n      <td>0</td>\n      <td>5</td>\n      <td>5</td>\n      <td>5</td>\n      <td>5</td>\n      <td>5</td>\n      <td>5</td>\n      <td>5</td>\n      <td>5</td>\n    </tr>\n    <tr>\n      <th>3785</th>\n      <td>62804</td>\n      <td>4</td>\n      <td>4</td>\n      <td>4</td>\n      <td>4</td>\n      <td>0</td>\n      <td>4</td>\n      <td>4</td>\n      <td>4</td>\n      <td>4</td>\n      <td>4</td>\n      <td>4</td>\n      <td>4</td>\n      <td>4</td>\n      <td>4</td>\n      <td>4</td>\n      <td>4</td>\n      <td>0</td>\n      <td>0</td>\n      <td>4</td>\n      <td>4</td>\n      <td>0</td>\n      <td>4</td>\n      <td>4</td>\n      <td>4</td>\n      <td>4</td>\n      <td>4</td>\n      <td>4</td>\n      <td>4</td>\n      <td>4</td>\n      <td>4</td>\n      <td>4</td>\n      <td>4</td>\n      <td>4</td>\n      <td>4</td>\n      <td>4</td>\n      <td>4</td>\n      <td>0</td>\n      <td>0</td>\n      <td>4</td>\n      <td>0</td>\n      <td>4</td>\n      <td>4</td>\n      <td>4</td>\n      <td>4</td>\n      <td>4</td>\n      <td>0</td>\n      <td>0</td>\n      <td>0</td>\n      <td>4</td>\n      <td>4</td>\n      <td>4</td>\n      <td>3</td>\n      <td>4</td>\n      <td>4</td>\n      <td>0</td>\n      <td>0</td>\n      <td>4</td>\n      <td>4</td>\n      <td>4</td>\n      <td>0</td>\n      <td>4</td>\n      <td>4</td>\n      <td>0</td>\n      <td>0</td>\n      <td>0</td>\n      <td>0</td>\n      <td>0</td>\n      <td>4</td>\n      <td>4</td>\n      <td>4</td>\n      <td>4</td>\n      <td>0</td>\n      <td>4</td>\n      <td>0</td>\n      <td>0</td>\n    </tr>\n    <tr>\n      <th>4262</th>\n      <td>64228</td>\n      <td>4</td>\n      <td>4</td>\n      <td>4</td>\n      <td>4</td>\n      <td>0</td>\n      <td>4</td>\n      <td>4</td>\n      <td>4</td>\n      <td>4</td>\n      <td>4</td>\n      <td>4</td>\n      <td>4</td>\n      <td>4</td>\n      <td>4</td>\n      <td>4</td>\n      <td>4</td>\n      <td>0</td>\n      <td>0</td>\n      <td>4</td>\n      <td>4</td>\n      <td>0</td>\n      <td>4</td>\n      <td>4</td>\n      <td>4</td>\n      <td>4</td>\n      <td>4</td>\n      <td>4</td>\n      <td>4</td>\n      <td>4</td>\n      <td>4</td>\n      <td>4</td>\n      <td>4</td>\n      <td>4</td>\n      <td>4</td>\n      <td>4</td>\n      <td>4</td>\n      <td>0</td>\n      <td>0</td>\n      <td>4</td>\n      <td>4</td>\n      <td>4</td>\n      <td>4</td>\n      <td>4</td>\n      <td>4</td>\n      <td>4</td>\n      <td>0</td>\n      <td>0</td>\n      <td>0</td>\n      <td>4</td>\n      <td>4</td>\n      <td>4</td>\n      <td>4</td>\n      <td>4</td>\n      <td>4</td>\n      <td>0</td>\n      <td>0</td>\n      <td>4</td>\n      <td>4</td>\n      <td>4</td>\n      <td>4</td>\n      <td>4</td>\n      <td>4</td>\n      <td>4</td>\n      <td>4</td>\n      <td>4</td>\n      <td>4</td>\n      <td>4</td>\n      <td>4</td>\n      <td>4</td>\n      <td>4</td>\n      <td>4</td>\n      <td>4</td>\n      <td>4</td>\n      <td>4</td>\n      <td>0</td>\n    </tr>\n    <tr>\n      <th>...</th>\n      <td>...</td>\n      <td>...</td>\n      <td>...</td>\n      <td>...</td>\n      <td>...</td>\n      <td>...</td>\n      <td>...</td>\n      <td>...</td>\n      <td>...</td>\n      <td>...</td>\n      <td>...</td>\n      <td>...</td>\n      <td>...</td>\n      <td>...</td>\n      <td>...</td>\n      <td>...</td>\n      <td>...</td>\n      <td>...</td>\n      <td>...</td>\n      <td>...</td>\n      <td>...</td>\n      <td>...</td>\n      <td>...</td>\n      <td>...</td>\n      <td>...</td>\n      <td>...</td>\n      <td>...</td>\n      <td>...</td>\n      <td>...</td>\n      <td>...</td>\n      <td>...</td>\n      <td>...</td>\n      <td>...</td>\n      <td>...</td>\n      <td>...</td>\n      <td>...</td>\n      <td>...</td>\n      <td>...</td>\n      <td>...</td>\n      <td>...</td>\n      <td>...</td>\n      <td>...</td>\n      <td>...</td>\n      <td>...</td>\n      <td>...</td>\n      <td>...</td>\n      <td>...</td>\n      <td>...</td>\n      <td>...</td>\n      <td>...</td>\n      <td>...</td>\n      <td>...</td>\n      <td>...</td>\n      <td>...</td>\n      <td>...</td>\n      <td>...</td>\n      <td>...</td>\n      <td>...</td>\n      <td>...</td>\n      <td>...</td>\n      <td>...</td>\n      <td>...</td>\n      <td>...</td>\n      <td>...</td>\n      <td>...</td>\n      <td>...</td>\n      <td>...</td>\n      <td>...</td>\n      <td>...</td>\n      <td>...</td>\n      <td>...</td>\n      <td>...</td>\n      <td>...</td>\n      <td>...</td>\n      <td>...</td>\n      <td>...</td>\n    </tr>\n    <tr>\n      <th>2256</th>\n      <td>58283</td>\n      <td>1</td>\n      <td>1</td>\n      <td>1</td>\n      <td>1</td>\n      <td>1</td>\n      <td>1</td>\n      <td>0</td>\n      <td>1</td>\n      <td>1</td>\n      <td>1</td>\n      <td>1</td>\n      <td>1</td>\n      <td>1</td>\n      <td>1</td>\n      <td>1</td>\n      <td>1</td>\n      <td>0</td>\n      <td>0</td>\n      <td>1</td>\n      <td>1</td>\n      <td>0</td>\n      <td>1</td>\n      <td>1</td>\n      <td>1</td>\n      <td>1</td>\n      <td>1</td>\n      <td>1</td>\n      <td>1</td>\n      <td>1</td>\n      <td>1</td>\n      <td>1</td>\n      <td>0</td>\n      <td>1</td>\n      <td>1</td>\n      <td>0</td>\n      <td>0</td>\n      <td>0</td>\n      <td>0</td>\n      <td>1</td>\n      <td>0</td>\n      <td>1</td>\n      <td>1</td>\n      <td>1</td>\n      <td>1</td>\n      <td>1</td>\n      <td>0</td>\n      <td>0</td>\n      <td>0</td>\n      <td>1</td>\n      <td>1</td>\n      <td>1</td>\n      <td>0</td>\n      <td>0</td>\n      <td>0</td>\n      <td>0</td>\n      <td>0</td>\n      <td>1</td>\n      <td>1</td>\n      <td>1</td>\n      <td>1</td>\n      <td>1</td>\n      <td>1</td>\n      <td>1</td>\n      <td>0</td>\n      <td>0</td>\n      <td>0</td>\n      <td>0</td>\n      <td>1</td>\n      <td>1</td>\n      <td>1</td>\n      <td>1</td>\n      <td>0</td>\n      <td>1</td>\n      <td>0</td>\n      <td>0</td>\n    </tr>\n    <tr>\n      <th>2255</th>\n      <td>58276</td>\n      <td>1</td>\n      <td>1</td>\n      <td>1</td>\n      <td>0</td>\n      <td>0</td>\n      <td>1</td>\n      <td>0</td>\n      <td>1</td>\n      <td>1</td>\n      <td>1</td>\n      <td>1</td>\n      <td>1</td>\n      <td>1</td>\n      <td>1</td>\n      <td>1</td>\n      <td>1</td>\n      <td>0</td>\n      <td>0</td>\n      <td>1</td>\n      <td>1</td>\n      <td>0</td>\n      <td>1</td>\n      <td>1</td>\n      <td>1</td>\n      <td>1</td>\n      <td>0</td>\n      <td>0</td>\n      <td>1</td>\n      <td>1</td>\n      <td>1</td>\n      <td>1</td>\n      <td>0</td>\n      <td>1</td>\n      <td>1</td>\n      <td>1</td>\n      <td>1</td>\n      <td>1</td>\n      <td>1</td>\n      <td>1</td>\n      <td>0</td>\n      <td>1</td>\n      <td>1</td>\n      <td>1</td>\n      <td>1</td>\n      <td>1</td>\n      <td>1</td>\n      <td>0</td>\n      <td>0</td>\n      <td>1</td>\n      <td>1</td>\n      <td>1</td>\n      <td>1</td>\n      <td>0</td>\n      <td>0</td>\n      <td>0</td>\n      <td>0</td>\n      <td>1</td>\n      <td>1</td>\n      <td>1</td>\n      <td>0</td>\n      <td>1</td>\n      <td>1</td>\n      <td>0</td>\n      <td>0</td>\n      <td>0</td>\n      <td>0</td>\n      <td>0</td>\n      <td>0</td>\n      <td>0</td>\n      <td>0</td>\n      <td>0</td>\n      <td>0</td>\n      <td>0</td>\n      <td>0</td>\n      <td>0</td>\n    </tr>\n    <tr>\n      <th>2254</th>\n      <td>58275</td>\n      <td>1</td>\n      <td>1</td>\n      <td>1</td>\n      <td>1</td>\n      <td>1</td>\n      <td>1</td>\n      <td>0</td>\n      <td>1</td>\n      <td>1</td>\n      <td>1</td>\n      <td>1</td>\n      <td>1</td>\n      <td>1</td>\n      <td>1</td>\n      <td>1</td>\n      <td>1</td>\n      <td>0</td>\n      <td>0</td>\n      <td>1</td>\n      <td>1</td>\n      <td>0</td>\n      <td>1</td>\n      <td>1</td>\n      <td>1</td>\n      <td>1</td>\n      <td>1</td>\n      <td>1</td>\n      <td>1</td>\n      <td>1</td>\n      <td>1</td>\n      <td>1</td>\n      <td>0</td>\n      <td>1</td>\n      <td>1</td>\n      <td>1</td>\n      <td>1</td>\n      <td>0</td>\n      <td>0</td>\n      <td>1</td>\n      <td>0</td>\n      <td>1</td>\n      <td>1</td>\n      <td>1</td>\n      <td>1</td>\n      <td>1</td>\n      <td>0</td>\n      <td>0</td>\n      <td>0</td>\n      <td>1</td>\n      <td>1</td>\n      <td>1</td>\n      <td>1</td>\n      <td>0</td>\n      <td>0</td>\n      <td>0</td>\n      <td>0</td>\n      <td>1</td>\n      <td>0</td>\n      <td>1</td>\n      <td>1</td>\n      <td>1</td>\n      <td>1</td>\n      <td>1</td>\n      <td>1</td>\n      <td>1</td>\n      <td>1</td>\n      <td>1</td>\n      <td>1</td>\n      <td>1</td>\n      <td>1</td>\n      <td>1</td>\n      <td>1</td>\n      <td>1</td>\n      <td>1</td>\n      <td>0</td>\n    </tr>\n    <tr>\n      <th>2253</th>\n      <td>58274</td>\n      <td>1</td>\n      <td>1</td>\n      <td>1</td>\n      <td>1</td>\n      <td>1</td>\n      <td>1</td>\n      <td>0</td>\n      <td>1</td>\n      <td>1</td>\n      <td>1</td>\n      <td>1</td>\n      <td>1</td>\n      <td>1</td>\n      <td>1</td>\n      <td>1</td>\n      <td>1</td>\n      <td>0</td>\n      <td>0</td>\n      <td>1</td>\n      <td>1</td>\n      <td>0</td>\n      <td>1</td>\n      <td>1</td>\n      <td>1</td>\n      <td>1</td>\n      <td>1</td>\n      <td>1</td>\n      <td>1</td>\n      <td>1</td>\n      <td>1</td>\n      <td>1</td>\n      <td>0</td>\n      <td>1</td>\n      <td>1</td>\n      <td>1</td>\n      <td>1</td>\n      <td>0</td>\n      <td>0</td>\n      <td>1</td>\n      <td>0</td>\n      <td>1</td>\n      <td>1</td>\n      <td>1</td>\n      <td>1</td>\n      <td>1</td>\n      <td>1</td>\n      <td>1</td>\n      <td>1</td>\n      <td>1</td>\n      <td>1</td>\n      <td>1</td>\n      <td>0</td>\n      <td>0</td>\n      <td>0</td>\n      <td>0</td>\n      <td>0</td>\n      <td>1</td>\n      <td>1</td>\n      <td>1</td>\n      <td>0</td>\n      <td>1</td>\n      <td>1</td>\n      <td>0</td>\n      <td>1</td>\n      <td>0</td>\n      <td>1</td>\n      <td>0</td>\n      <td>1</td>\n      <td>1</td>\n      <td>1</td>\n      <td>1</td>\n      <td>1</td>\n      <td>1</td>\n      <td>1</td>\n      <td>0</td>\n    </tr>\n    <tr>\n      <th>3389</th>\n      <td>61615</td>\n      <td>1</td>\n      <td>1</td>\n      <td>1</td>\n      <td>1</td>\n      <td>1</td>\n      <td>1</td>\n      <td>0</td>\n      <td>1</td>\n      <td>1</td>\n      <td>1</td>\n      <td>1</td>\n      <td>1</td>\n      <td>1</td>\n      <td>1</td>\n      <td>1</td>\n      <td>1</td>\n      <td>0</td>\n      <td>0</td>\n      <td>1</td>\n      <td>1</td>\n      <td>0</td>\n      <td>1</td>\n      <td>1</td>\n      <td>1</td>\n      <td>1</td>\n      <td>1</td>\n      <td>1</td>\n      <td>1</td>\n      <td>1</td>\n      <td>1</td>\n      <td>1</td>\n      <td>0</td>\n      <td>1</td>\n      <td>1</td>\n      <td>1</td>\n      <td>1</td>\n      <td>0</td>\n      <td>0</td>\n      <td>1</td>\n      <td>0</td>\n      <td>0</td>\n      <td>0</td>\n      <td>0</td>\n      <td>0</td>\n      <td>0</td>\n      <td>0</td>\n      <td>0</td>\n      <td>0</td>\n      <td>1</td>\n      <td>1</td>\n      <td>1</td>\n      <td>0</td>\n      <td>0</td>\n      <td>0</td>\n      <td>0</td>\n      <td>0</td>\n      <td>0</td>\n      <td>0</td>\n      <td>0</td>\n      <td>0</td>\n      <td>1</td>\n      <td>1</td>\n      <td>0</td>\n      <td>0</td>\n      <td>0</td>\n      <td>0</td>\n      <td>0</td>\n      <td>0</td>\n      <td>0</td>\n      <td>0</td>\n      <td>0</td>\n      <td>0</td>\n      <td>0</td>\n      <td>0</td>\n      <td>1</td>\n    </tr>\n  </tbody>\n</table>\n<p>6779 rows × 76 columns</p>\n</div>"
     },
     "execution_count": 8,
     "metadata": {},
     "output_type": "execute_result"
    }
   ],
   "source": [
    "#6779 rows with unique id's, 7832 rows in total. For unique id's check how many entries per column. Sorting by highest amount\n",
    "grouped = nhanes_data1.groupby('ID').count().reset_index()\n",
    "grouped.sort_values('SurveyYr', ascending = False)"
   ],
   "metadata": {
    "collapsed": false,
    "pycharm": {
     "name": "#%%\n"
    }
   }
  },
  {
   "cell_type": "code",
   "execution_count": 9,
   "outputs": [
    {
     "data": {
      "text/plain": "         ID SurveyYr Gender  Age AgeDecade  AgeMonths  Race1  Race3  \\\n5608  63297  2011_12   male   50     50-59        NaN  White  White   \n5609  63297  2011_12   male   50     50-59        NaN  White  White   \n5611  63297  2011_12   male   50     50-59        NaN  White  White   \n5612  63297  2011_12   male   50     50-59        NaN  White  White   \n5613  63297  2011_12   male   50     50-59        NaN  White  White   \n\n         Education MaritalStatus     HHIncome  HHIncomeMid  Poverty  \\\n5608  College Grad       Married  75000-99999      87500.0      5.0   \n5609  College Grad       Married  75000-99999      87500.0      5.0   \n5611  College Grad       Married  75000-99999      87500.0      5.0   \n5612  College Grad       Married  75000-99999      87500.0      5.0   \n5613  College Grad       Married  75000-99999      87500.0      5.0   \n\n      HomeRooms HomeOwn     Work  Weight  Length  HeadCirc  Height   BMI  \\\n5608        7.0     Own  Working    94.2     NaN       NaN   175.5  30.6   \n5609        7.0     Own  Working    94.2     NaN       NaN   175.5  30.6   \n5611        7.0     Own  Working    94.2     NaN       NaN   175.5  30.6   \n5612        7.0     Own  Working    94.2     NaN       NaN   175.5  30.6   \n5613        7.0     Own  Working    94.2     NaN       NaN   175.5  30.6   \n\n     BMICatUnder20yrs    BMI_WHO  Pulse  BPSysAve  BPDiaAve  BPSys1  BPDia1  \\\n5608              NaN  30.0_plus   78.0     110.0      79.0   112.0    84.0   \n5609              NaN  30.0_plus   78.0     110.0      79.0   112.0    84.0   \n5611              NaN  30.0_plus   78.0     110.0      79.0   112.0    84.0   \n5612              NaN  30.0_plus   78.0     110.0      79.0   112.0    84.0   \n5613              NaN  30.0_plus   78.0     110.0      79.0   112.0    84.0   \n\n      BPSys2  BPDia2  BPSys3  BPDia3  Testosterone  DirectChol  TotChol  \\\n5608   108.0    80.0   112.0    78.0        246.82        0.85     3.18   \n5609   108.0    80.0   112.0    78.0        246.82        0.85     3.18   \n5611   108.0    80.0   112.0    78.0        246.82        0.85     3.18   \n5612   108.0    80.0   112.0    78.0        246.82        0.85     3.18   \n5613   108.0    80.0   112.0    78.0        246.82        0.85     3.18   \n\n      UrineVol1  UrineFlow1  UrineVol2  UrineFlow2 Diabetes  DiabetesAge  \\\n5608       56.0       0.339        NaN         NaN       No          NaN   \n5609       56.0       0.339        NaN         NaN       No          NaN   \n5611       56.0       0.339        NaN         NaN       No          NaN   \n5612       56.0       0.339        NaN         NaN       No          NaN   \n5613       56.0       0.339        NaN         NaN       No          NaN   \n\n     HealthGen  DaysPhysHlthBad  DaysMentHlthBad LittleInterest Depressed  \\\n5608      Good              2.0              0.0           None      None   \n5609      Good              2.0              0.0           None      None   \n5611      Good              2.0              0.0           None      None   \n5612      Good              2.0              0.0           None      None   \n5613      Good              2.0              0.0           None      None   \n\n      nPregnancies  nBabies  Age1stBaby  SleepHrsNight SleepTrouble  \\\n5608           NaN      NaN         NaN            9.0           No   \n5609           NaN      NaN         NaN            9.0           No   \n5611           NaN      NaN         NaN            9.0           No   \n5612           NaN      NaN         NaN            9.0           No   \n5613           NaN      NaN         NaN            9.0           No   \n\n     PhysActive  PhysActiveDays TVHrsDay CompHrsDay  TVHrsDayChild  \\\n5608        Yes             NaN     3_hr  0_to_1_hr            NaN   \n5609        Yes             6.0     3_hr  0_to_1_hr            NaN   \n5611        Yes             3.0     3_hr  0_to_1_hr            NaN   \n5612        Yes             2.0     3_hr  0_to_1_hr            NaN   \n5613        Yes             4.0     3_hr  0_to_1_hr            NaN   \n\n      CompHrsDayChild Alcohol12PlusYr  AlcoholDay  AlcoholYear SmokeNow  \\\n5608              NaN             Yes         NaN          0.0      NaN   \n5609              NaN             Yes         NaN          0.0      NaN   \n5611              NaN             Yes         NaN          0.0      NaN   \n5612              NaN             Yes         NaN          0.0      NaN   \n5613              NaN             Yes         NaN          0.0      NaN   \n\n     Smoke100   Smoke100n  SmokeAge Marijuana  AgeFirstMarij RegularMarij  \\\n5608       No  Non-Smoker       NaN       Yes           14.0           No   \n5609       No  Non-Smoker       NaN       Yes           14.0           No   \n5611       No  Non-Smoker       NaN       Yes           14.0           No   \n5612       No  Non-Smoker       NaN       Yes           14.0           No   \n5613       No  Non-Smoker       NaN       Yes           14.0           No   \n\n      AgeRegMarij HardDrugs SexEver  SexAge  SexNumPartnLife  SexNumPartYear  \\\n5608          NaN        No     Yes    17.0             30.0             1.0   \n5609          NaN        No     Yes    17.0             30.0             1.0   \n5611          NaN        No     Yes    17.0             30.0             1.0   \n5612          NaN        No     Yes    17.0             30.0             1.0   \n5613          NaN        No     Yes    17.0             30.0             1.0   \n\n     SameSex SexOrientation PregnantNow  \n5608      No   Heterosexual         NaN  \n5609      No   Heterosexual         NaN  \n5611      No   Heterosexual         NaN  \n5612      No   Heterosexual         NaN  \n5613      No   Heterosexual         NaN  ",
      "text/html": "<div>\n<style scoped>\n    .dataframe tbody tr th:only-of-type {\n        vertical-align: middle;\n    }\n\n    .dataframe tbody tr th {\n        vertical-align: top;\n    }\n\n    .dataframe thead th {\n        text-align: right;\n    }\n</style>\n<table border=\"1\" class=\"dataframe\">\n  <thead>\n    <tr style=\"text-align: right;\">\n      <th></th>\n      <th>ID</th>\n      <th>SurveyYr</th>\n      <th>Gender</th>\n      <th>Age</th>\n      <th>AgeDecade</th>\n      <th>AgeMonths</th>\n      <th>Race1</th>\n      <th>Race3</th>\n      <th>Education</th>\n      <th>MaritalStatus</th>\n      <th>HHIncome</th>\n      <th>HHIncomeMid</th>\n      <th>Poverty</th>\n      <th>HomeRooms</th>\n      <th>HomeOwn</th>\n      <th>Work</th>\n      <th>Weight</th>\n      <th>Length</th>\n      <th>HeadCirc</th>\n      <th>Height</th>\n      <th>BMI</th>\n      <th>BMICatUnder20yrs</th>\n      <th>BMI_WHO</th>\n      <th>Pulse</th>\n      <th>BPSysAve</th>\n      <th>BPDiaAve</th>\n      <th>BPSys1</th>\n      <th>BPDia1</th>\n      <th>BPSys2</th>\n      <th>BPDia2</th>\n      <th>BPSys3</th>\n      <th>BPDia3</th>\n      <th>Testosterone</th>\n      <th>DirectChol</th>\n      <th>TotChol</th>\n      <th>UrineVol1</th>\n      <th>UrineFlow1</th>\n      <th>UrineVol2</th>\n      <th>UrineFlow2</th>\n      <th>Diabetes</th>\n      <th>DiabetesAge</th>\n      <th>HealthGen</th>\n      <th>DaysPhysHlthBad</th>\n      <th>DaysMentHlthBad</th>\n      <th>LittleInterest</th>\n      <th>Depressed</th>\n      <th>nPregnancies</th>\n      <th>nBabies</th>\n      <th>Age1stBaby</th>\n      <th>SleepHrsNight</th>\n      <th>SleepTrouble</th>\n      <th>PhysActive</th>\n      <th>PhysActiveDays</th>\n      <th>TVHrsDay</th>\n      <th>CompHrsDay</th>\n      <th>TVHrsDayChild</th>\n      <th>CompHrsDayChild</th>\n      <th>Alcohol12PlusYr</th>\n      <th>AlcoholDay</th>\n      <th>AlcoholYear</th>\n      <th>SmokeNow</th>\n      <th>Smoke100</th>\n      <th>Smoke100n</th>\n      <th>SmokeAge</th>\n      <th>Marijuana</th>\n      <th>AgeFirstMarij</th>\n      <th>RegularMarij</th>\n      <th>AgeRegMarij</th>\n      <th>HardDrugs</th>\n      <th>SexEver</th>\n      <th>SexAge</th>\n      <th>SexNumPartnLife</th>\n      <th>SexNumPartYear</th>\n      <th>SameSex</th>\n      <th>SexOrientation</th>\n      <th>PregnantNow</th>\n    </tr>\n  </thead>\n  <tbody>\n    <tr>\n      <th>5608</th>\n      <td>63297</td>\n      <td>2011_12</td>\n      <td>male</td>\n      <td>50</td>\n      <td>50-59</td>\n      <td>NaN</td>\n      <td>White</td>\n      <td>White</td>\n      <td>College Grad</td>\n      <td>Married</td>\n      <td>75000-99999</td>\n      <td>87500.0</td>\n      <td>5.0</td>\n      <td>7.0</td>\n      <td>Own</td>\n      <td>Working</td>\n      <td>94.2</td>\n      <td>NaN</td>\n      <td>NaN</td>\n      <td>175.5</td>\n      <td>30.6</td>\n      <td>NaN</td>\n      <td>30.0_plus</td>\n      <td>78.0</td>\n      <td>110.0</td>\n      <td>79.0</td>\n      <td>112.0</td>\n      <td>84.0</td>\n      <td>108.0</td>\n      <td>80.0</td>\n      <td>112.0</td>\n      <td>78.0</td>\n      <td>246.82</td>\n      <td>0.85</td>\n      <td>3.18</td>\n      <td>56.0</td>\n      <td>0.339</td>\n      <td>NaN</td>\n      <td>NaN</td>\n      <td>No</td>\n      <td>NaN</td>\n      <td>Good</td>\n      <td>2.0</td>\n      <td>0.0</td>\n      <td>None</td>\n      <td>None</td>\n      <td>NaN</td>\n      <td>NaN</td>\n      <td>NaN</td>\n      <td>9.0</td>\n      <td>No</td>\n      <td>Yes</td>\n      <td>NaN</td>\n      <td>3_hr</td>\n      <td>0_to_1_hr</td>\n      <td>NaN</td>\n      <td>NaN</td>\n      <td>Yes</td>\n      <td>NaN</td>\n      <td>0.0</td>\n      <td>NaN</td>\n      <td>No</td>\n      <td>Non-Smoker</td>\n      <td>NaN</td>\n      <td>Yes</td>\n      <td>14.0</td>\n      <td>No</td>\n      <td>NaN</td>\n      <td>No</td>\n      <td>Yes</td>\n      <td>17.0</td>\n      <td>30.0</td>\n      <td>1.0</td>\n      <td>No</td>\n      <td>Heterosexual</td>\n      <td>NaN</td>\n    </tr>\n    <tr>\n      <th>5609</th>\n      <td>63297</td>\n      <td>2011_12</td>\n      <td>male</td>\n      <td>50</td>\n      <td>50-59</td>\n      <td>NaN</td>\n      <td>White</td>\n      <td>White</td>\n      <td>College Grad</td>\n      <td>Married</td>\n      <td>75000-99999</td>\n      <td>87500.0</td>\n      <td>5.0</td>\n      <td>7.0</td>\n      <td>Own</td>\n      <td>Working</td>\n      <td>94.2</td>\n      <td>NaN</td>\n      <td>NaN</td>\n      <td>175.5</td>\n      <td>30.6</td>\n      <td>NaN</td>\n      <td>30.0_plus</td>\n      <td>78.0</td>\n      <td>110.0</td>\n      <td>79.0</td>\n      <td>112.0</td>\n      <td>84.0</td>\n      <td>108.0</td>\n      <td>80.0</td>\n      <td>112.0</td>\n      <td>78.0</td>\n      <td>246.82</td>\n      <td>0.85</td>\n      <td>3.18</td>\n      <td>56.0</td>\n      <td>0.339</td>\n      <td>NaN</td>\n      <td>NaN</td>\n      <td>No</td>\n      <td>NaN</td>\n      <td>Good</td>\n      <td>2.0</td>\n      <td>0.0</td>\n      <td>None</td>\n      <td>None</td>\n      <td>NaN</td>\n      <td>NaN</td>\n      <td>NaN</td>\n      <td>9.0</td>\n      <td>No</td>\n      <td>Yes</td>\n      <td>6.0</td>\n      <td>3_hr</td>\n      <td>0_to_1_hr</td>\n      <td>NaN</td>\n      <td>NaN</td>\n      <td>Yes</td>\n      <td>NaN</td>\n      <td>0.0</td>\n      <td>NaN</td>\n      <td>No</td>\n      <td>Non-Smoker</td>\n      <td>NaN</td>\n      <td>Yes</td>\n      <td>14.0</td>\n      <td>No</td>\n      <td>NaN</td>\n      <td>No</td>\n      <td>Yes</td>\n      <td>17.0</td>\n      <td>30.0</td>\n      <td>1.0</td>\n      <td>No</td>\n      <td>Heterosexual</td>\n      <td>NaN</td>\n    </tr>\n    <tr>\n      <th>5611</th>\n      <td>63297</td>\n      <td>2011_12</td>\n      <td>male</td>\n      <td>50</td>\n      <td>50-59</td>\n      <td>NaN</td>\n      <td>White</td>\n      <td>White</td>\n      <td>College Grad</td>\n      <td>Married</td>\n      <td>75000-99999</td>\n      <td>87500.0</td>\n      <td>5.0</td>\n      <td>7.0</td>\n      <td>Own</td>\n      <td>Working</td>\n      <td>94.2</td>\n      <td>NaN</td>\n      <td>NaN</td>\n      <td>175.5</td>\n      <td>30.6</td>\n      <td>NaN</td>\n      <td>30.0_plus</td>\n      <td>78.0</td>\n      <td>110.0</td>\n      <td>79.0</td>\n      <td>112.0</td>\n      <td>84.0</td>\n      <td>108.0</td>\n      <td>80.0</td>\n      <td>112.0</td>\n      <td>78.0</td>\n      <td>246.82</td>\n      <td>0.85</td>\n      <td>3.18</td>\n      <td>56.0</td>\n      <td>0.339</td>\n      <td>NaN</td>\n      <td>NaN</td>\n      <td>No</td>\n      <td>NaN</td>\n      <td>Good</td>\n      <td>2.0</td>\n      <td>0.0</td>\n      <td>None</td>\n      <td>None</td>\n      <td>NaN</td>\n      <td>NaN</td>\n      <td>NaN</td>\n      <td>9.0</td>\n      <td>No</td>\n      <td>Yes</td>\n      <td>3.0</td>\n      <td>3_hr</td>\n      <td>0_to_1_hr</td>\n      <td>NaN</td>\n      <td>NaN</td>\n      <td>Yes</td>\n      <td>NaN</td>\n      <td>0.0</td>\n      <td>NaN</td>\n      <td>No</td>\n      <td>Non-Smoker</td>\n      <td>NaN</td>\n      <td>Yes</td>\n      <td>14.0</td>\n      <td>No</td>\n      <td>NaN</td>\n      <td>No</td>\n      <td>Yes</td>\n      <td>17.0</td>\n      <td>30.0</td>\n      <td>1.0</td>\n      <td>No</td>\n      <td>Heterosexual</td>\n      <td>NaN</td>\n    </tr>\n    <tr>\n      <th>5612</th>\n      <td>63297</td>\n      <td>2011_12</td>\n      <td>male</td>\n      <td>50</td>\n      <td>50-59</td>\n      <td>NaN</td>\n      <td>White</td>\n      <td>White</td>\n      <td>College Grad</td>\n      <td>Married</td>\n      <td>75000-99999</td>\n      <td>87500.0</td>\n      <td>5.0</td>\n      <td>7.0</td>\n      <td>Own</td>\n      <td>Working</td>\n      <td>94.2</td>\n      <td>NaN</td>\n      <td>NaN</td>\n      <td>175.5</td>\n      <td>30.6</td>\n      <td>NaN</td>\n      <td>30.0_plus</td>\n      <td>78.0</td>\n      <td>110.0</td>\n      <td>79.0</td>\n      <td>112.0</td>\n      <td>84.0</td>\n      <td>108.0</td>\n      <td>80.0</td>\n      <td>112.0</td>\n      <td>78.0</td>\n      <td>246.82</td>\n      <td>0.85</td>\n      <td>3.18</td>\n      <td>56.0</td>\n      <td>0.339</td>\n      <td>NaN</td>\n      <td>NaN</td>\n      <td>No</td>\n      <td>NaN</td>\n      <td>Good</td>\n      <td>2.0</td>\n      <td>0.0</td>\n      <td>None</td>\n      <td>None</td>\n      <td>NaN</td>\n      <td>NaN</td>\n      <td>NaN</td>\n      <td>9.0</td>\n      <td>No</td>\n      <td>Yes</td>\n      <td>2.0</td>\n      <td>3_hr</td>\n      <td>0_to_1_hr</td>\n      <td>NaN</td>\n      <td>NaN</td>\n      <td>Yes</td>\n      <td>NaN</td>\n      <td>0.0</td>\n      <td>NaN</td>\n      <td>No</td>\n      <td>Non-Smoker</td>\n      <td>NaN</td>\n      <td>Yes</td>\n      <td>14.0</td>\n      <td>No</td>\n      <td>NaN</td>\n      <td>No</td>\n      <td>Yes</td>\n      <td>17.0</td>\n      <td>30.0</td>\n      <td>1.0</td>\n      <td>No</td>\n      <td>Heterosexual</td>\n      <td>NaN</td>\n    </tr>\n    <tr>\n      <th>5613</th>\n      <td>63297</td>\n      <td>2011_12</td>\n      <td>male</td>\n      <td>50</td>\n      <td>50-59</td>\n      <td>NaN</td>\n      <td>White</td>\n      <td>White</td>\n      <td>College Grad</td>\n      <td>Married</td>\n      <td>75000-99999</td>\n      <td>87500.0</td>\n      <td>5.0</td>\n      <td>7.0</td>\n      <td>Own</td>\n      <td>Working</td>\n      <td>94.2</td>\n      <td>NaN</td>\n      <td>NaN</td>\n      <td>175.5</td>\n      <td>30.6</td>\n      <td>NaN</td>\n      <td>30.0_plus</td>\n      <td>78.0</td>\n      <td>110.0</td>\n      <td>79.0</td>\n      <td>112.0</td>\n      <td>84.0</td>\n      <td>108.0</td>\n      <td>80.0</td>\n      <td>112.0</td>\n      <td>78.0</td>\n      <td>246.82</td>\n      <td>0.85</td>\n      <td>3.18</td>\n      <td>56.0</td>\n      <td>0.339</td>\n      <td>NaN</td>\n      <td>NaN</td>\n      <td>No</td>\n      <td>NaN</td>\n      <td>Good</td>\n      <td>2.0</td>\n      <td>0.0</td>\n      <td>None</td>\n      <td>None</td>\n      <td>NaN</td>\n      <td>NaN</td>\n      <td>NaN</td>\n      <td>9.0</td>\n      <td>No</td>\n      <td>Yes</td>\n      <td>4.0</td>\n      <td>3_hr</td>\n      <td>0_to_1_hr</td>\n      <td>NaN</td>\n      <td>NaN</td>\n      <td>Yes</td>\n      <td>NaN</td>\n      <td>0.0</td>\n      <td>NaN</td>\n      <td>No</td>\n      <td>Non-Smoker</td>\n      <td>NaN</td>\n      <td>Yes</td>\n      <td>14.0</td>\n      <td>No</td>\n      <td>NaN</td>\n      <td>No</td>\n      <td>Yes</td>\n      <td>17.0</td>\n      <td>30.0</td>\n      <td>1.0</td>\n      <td>No</td>\n      <td>Heterosexual</td>\n      <td>NaN</td>\n    </tr>\n  </tbody>\n</table>\n</div>"
     },
     "execution_count": 9,
     "metadata": {},
     "output_type": "execute_result"
    }
   ],
   "source": [
    "#sample id's with more than one entry and compare\n",
    "nhanes_data1[nhanes_data1['ID'] == 63297]\n"
   ],
   "metadata": {
    "collapsed": false,
    "pycharm": {
     "name": "#%%\n"
    }
   }
  },
  {
   "cell_type": "code",
   "execution_count": 10,
   "outputs": [
    {
     "data": {
      "text/plain": "         ID SurveyYr  Gender  Age AgeDecade  AgeMonths  Race1  Race3  \\\n7541  67118  2011_12  female   33     30-39        NaN  White  White   \n7542  67118  2011_12  female   33     30-39        NaN  White  White   \n7543  67118  2011_12  female   33     30-39        NaN  White  White   \n7544  67118  2011_12  female   33     30-39        NaN  White  White   \n7545  67118  2011_12  female   33     30-39        NaN  White  White   \n\n         Education MaritalStatus     HHIncome  HHIncomeMid  Poverty  \\\n7541  Some College      Divorced  25000-34999      30000.0     1.34   \n7542  Some College      Divorced  25000-34999      30000.0     1.34   \n7543  Some College      Divorced  25000-34999      30000.0     1.34   \n7544  Some College      Divorced  25000-34999      30000.0     1.34   \n7545  Some College      Divorced  25000-34999      30000.0     1.34   \n\n      HomeRooms HomeOwn     Work  Weight  Length  HeadCirc  Height   BMI  \\\n7541        5.0    Rent  Working    81.5     NaN       NaN   161.8  31.1   \n7542        5.0    Rent  Working    81.5     NaN       NaN   161.8  31.1   \n7543        5.0    Rent  Working    81.5     NaN       NaN   161.8  31.1   \n7544        5.0    Rent  Working    81.5     NaN       NaN   161.8  31.1   \n7545        5.0    Rent  Working    81.5     NaN       NaN   161.8  31.1   \n\n     BMICatUnder20yrs    BMI_WHO  Pulse  BPSysAve  BPDiaAve  BPSys1  BPDia1  \\\n7541              NaN  30.0_plus   76.0     113.0      61.0   114.0    68.0   \n7542              NaN  30.0_plus   76.0     113.0      61.0   114.0    68.0   \n7543              NaN  30.0_plus   76.0     113.0      61.0   114.0    68.0   \n7544              NaN  30.0_plus   76.0     113.0      61.0   114.0    68.0   \n7545              NaN  30.0_plus   76.0     113.0      61.0   114.0    68.0   \n\n      BPSys2  BPDia2  BPSys3  BPDia3  Testosterone  DirectChol  TotChol  \\\n7541   114.0    58.0   112.0    64.0         31.96        1.19     4.37   \n7542   114.0    58.0   112.0    64.0         31.96        1.19     4.37   \n7543   114.0    58.0   112.0    64.0         31.96        1.19     4.37   \n7544   114.0    58.0   112.0    64.0         31.96        1.19     4.37   \n7545   114.0    58.0   112.0    64.0         31.96        1.19     4.37   \n\n      UrineVol1  UrineFlow1  UrineVol2  UrineFlow2 Diabetes  DiabetesAge  \\\n7541      123.0       0.728        NaN         NaN       No          NaN   \n7542      123.0       0.728        NaN         NaN       No          NaN   \n7543      123.0       0.728        NaN         NaN       No          NaN   \n7544      123.0       0.728        NaN         NaN       No          NaN   \n7545      123.0       0.728        NaN         NaN       No          NaN   \n\n     HealthGen  DaysPhysHlthBad  DaysMentHlthBad LittleInterest Depressed  \\\n7541      Good              3.0              5.0        Several      None   \n7542      Good              3.0              5.0        Several      None   \n7543      Good              3.0              5.0        Several      None   \n7544      Good              3.0              5.0        Several      None   \n7545      Good              3.0              5.0        Several      None   \n\n      nPregnancies  nBabies  Age1stBaby  SleepHrsNight SleepTrouble  \\\n7541           5.0      3.0        25.0            5.0           No   \n7542           5.0      3.0        25.0            5.0           No   \n7543           5.0      3.0        25.0            5.0           No   \n7544           5.0      3.0        25.0            5.0           No   \n7545           5.0      3.0        25.0            5.0           No   \n\n     PhysActive  PhysActiveDays TVHrsDay CompHrsDay  TVHrsDayChild  \\\n7541         No             5.0     1_hr       2_hr            NaN   \n7542         No             3.0     1_hr       2_hr            NaN   \n7543         No             4.0     1_hr       2_hr            NaN   \n7544         No             NaN     1_hr       2_hr            NaN   \n7545         No             1.0     1_hr       2_hr            NaN   \n\n      CompHrsDayChild Alcohol12PlusYr  AlcoholDay  AlcoholYear SmokeNow  \\\n7541              NaN             Yes         2.0         52.0       No   \n7542              NaN             Yes         2.0         52.0       No   \n7543              NaN             Yes         2.0         52.0       No   \n7544              NaN             Yes         2.0         52.0       No   \n7545              NaN             Yes         2.0         52.0       No   \n\n     Smoke100 Smoke100n  SmokeAge Marijuana  AgeFirstMarij RegularMarij  \\\n7541      Yes    Smoker      14.0       Yes           16.0           No   \n7542      Yes    Smoker      14.0       Yes           16.0           No   \n7543      Yes    Smoker      14.0       Yes           16.0           No   \n7544      Yes    Smoker      14.0       Yes           16.0           No   \n7545      Yes    Smoker      14.0       Yes           16.0           No   \n\n      AgeRegMarij HardDrugs SexEver  SexAge  SexNumPartnLife  SexNumPartYear  \\\n7541          NaN        No     Yes    14.0              6.0             0.0   \n7542          NaN        No     Yes    14.0              6.0             0.0   \n7543          NaN        No     Yes    14.0              6.0             0.0   \n7544          NaN        No     Yes    14.0              6.0             0.0   \n7545          NaN        No     Yes    14.0              6.0             0.0   \n\n     SameSex SexOrientation PregnantNow  \n7541      No            NaN          No  \n7542      No            NaN          No  \n7543      No            NaN          No  \n7544      No            NaN          No  \n7545      No            NaN          No  ",
      "text/html": "<div>\n<style scoped>\n    .dataframe tbody tr th:only-of-type {\n        vertical-align: middle;\n    }\n\n    .dataframe tbody tr th {\n        vertical-align: top;\n    }\n\n    .dataframe thead th {\n        text-align: right;\n    }\n</style>\n<table border=\"1\" class=\"dataframe\">\n  <thead>\n    <tr style=\"text-align: right;\">\n      <th></th>\n      <th>ID</th>\n      <th>SurveyYr</th>\n      <th>Gender</th>\n      <th>Age</th>\n      <th>AgeDecade</th>\n      <th>AgeMonths</th>\n      <th>Race1</th>\n      <th>Race3</th>\n      <th>Education</th>\n      <th>MaritalStatus</th>\n      <th>HHIncome</th>\n      <th>HHIncomeMid</th>\n      <th>Poverty</th>\n      <th>HomeRooms</th>\n      <th>HomeOwn</th>\n      <th>Work</th>\n      <th>Weight</th>\n      <th>Length</th>\n      <th>HeadCirc</th>\n      <th>Height</th>\n      <th>BMI</th>\n      <th>BMICatUnder20yrs</th>\n      <th>BMI_WHO</th>\n      <th>Pulse</th>\n      <th>BPSysAve</th>\n      <th>BPDiaAve</th>\n      <th>BPSys1</th>\n      <th>BPDia1</th>\n      <th>BPSys2</th>\n      <th>BPDia2</th>\n      <th>BPSys3</th>\n      <th>BPDia3</th>\n      <th>Testosterone</th>\n      <th>DirectChol</th>\n      <th>TotChol</th>\n      <th>UrineVol1</th>\n      <th>UrineFlow1</th>\n      <th>UrineVol2</th>\n      <th>UrineFlow2</th>\n      <th>Diabetes</th>\n      <th>DiabetesAge</th>\n      <th>HealthGen</th>\n      <th>DaysPhysHlthBad</th>\n      <th>DaysMentHlthBad</th>\n      <th>LittleInterest</th>\n      <th>Depressed</th>\n      <th>nPregnancies</th>\n      <th>nBabies</th>\n      <th>Age1stBaby</th>\n      <th>SleepHrsNight</th>\n      <th>SleepTrouble</th>\n      <th>PhysActive</th>\n      <th>PhysActiveDays</th>\n      <th>TVHrsDay</th>\n      <th>CompHrsDay</th>\n      <th>TVHrsDayChild</th>\n      <th>CompHrsDayChild</th>\n      <th>Alcohol12PlusYr</th>\n      <th>AlcoholDay</th>\n      <th>AlcoholYear</th>\n      <th>SmokeNow</th>\n      <th>Smoke100</th>\n      <th>Smoke100n</th>\n      <th>SmokeAge</th>\n      <th>Marijuana</th>\n      <th>AgeFirstMarij</th>\n      <th>RegularMarij</th>\n      <th>AgeRegMarij</th>\n      <th>HardDrugs</th>\n      <th>SexEver</th>\n      <th>SexAge</th>\n      <th>SexNumPartnLife</th>\n      <th>SexNumPartYear</th>\n      <th>SameSex</th>\n      <th>SexOrientation</th>\n      <th>PregnantNow</th>\n    </tr>\n  </thead>\n  <tbody>\n    <tr>\n      <th>7541</th>\n      <td>67118</td>\n      <td>2011_12</td>\n      <td>female</td>\n      <td>33</td>\n      <td>30-39</td>\n      <td>NaN</td>\n      <td>White</td>\n      <td>White</td>\n      <td>Some College</td>\n      <td>Divorced</td>\n      <td>25000-34999</td>\n      <td>30000.0</td>\n      <td>1.34</td>\n      <td>5.0</td>\n      <td>Rent</td>\n      <td>Working</td>\n      <td>81.5</td>\n      <td>NaN</td>\n      <td>NaN</td>\n      <td>161.8</td>\n      <td>31.1</td>\n      <td>NaN</td>\n      <td>30.0_plus</td>\n      <td>76.0</td>\n      <td>113.0</td>\n      <td>61.0</td>\n      <td>114.0</td>\n      <td>68.0</td>\n      <td>114.0</td>\n      <td>58.0</td>\n      <td>112.0</td>\n      <td>64.0</td>\n      <td>31.96</td>\n      <td>1.19</td>\n      <td>4.37</td>\n      <td>123.0</td>\n      <td>0.728</td>\n      <td>NaN</td>\n      <td>NaN</td>\n      <td>No</td>\n      <td>NaN</td>\n      <td>Good</td>\n      <td>3.0</td>\n      <td>5.0</td>\n      <td>Several</td>\n      <td>None</td>\n      <td>5.0</td>\n      <td>3.0</td>\n      <td>25.0</td>\n      <td>5.0</td>\n      <td>No</td>\n      <td>No</td>\n      <td>5.0</td>\n      <td>1_hr</td>\n      <td>2_hr</td>\n      <td>NaN</td>\n      <td>NaN</td>\n      <td>Yes</td>\n      <td>2.0</td>\n      <td>52.0</td>\n      <td>No</td>\n      <td>Yes</td>\n      <td>Smoker</td>\n      <td>14.0</td>\n      <td>Yes</td>\n      <td>16.0</td>\n      <td>No</td>\n      <td>NaN</td>\n      <td>No</td>\n      <td>Yes</td>\n      <td>14.0</td>\n      <td>6.0</td>\n      <td>0.0</td>\n      <td>No</td>\n      <td>NaN</td>\n      <td>No</td>\n    </tr>\n    <tr>\n      <th>7542</th>\n      <td>67118</td>\n      <td>2011_12</td>\n      <td>female</td>\n      <td>33</td>\n      <td>30-39</td>\n      <td>NaN</td>\n      <td>White</td>\n      <td>White</td>\n      <td>Some College</td>\n      <td>Divorced</td>\n      <td>25000-34999</td>\n      <td>30000.0</td>\n      <td>1.34</td>\n      <td>5.0</td>\n      <td>Rent</td>\n      <td>Working</td>\n      <td>81.5</td>\n      <td>NaN</td>\n      <td>NaN</td>\n      <td>161.8</td>\n      <td>31.1</td>\n      <td>NaN</td>\n      <td>30.0_plus</td>\n      <td>76.0</td>\n      <td>113.0</td>\n      <td>61.0</td>\n      <td>114.0</td>\n      <td>68.0</td>\n      <td>114.0</td>\n      <td>58.0</td>\n      <td>112.0</td>\n      <td>64.0</td>\n      <td>31.96</td>\n      <td>1.19</td>\n      <td>4.37</td>\n      <td>123.0</td>\n      <td>0.728</td>\n      <td>NaN</td>\n      <td>NaN</td>\n      <td>No</td>\n      <td>NaN</td>\n      <td>Good</td>\n      <td>3.0</td>\n      <td>5.0</td>\n      <td>Several</td>\n      <td>None</td>\n      <td>5.0</td>\n      <td>3.0</td>\n      <td>25.0</td>\n      <td>5.0</td>\n      <td>No</td>\n      <td>No</td>\n      <td>3.0</td>\n      <td>1_hr</td>\n      <td>2_hr</td>\n      <td>NaN</td>\n      <td>NaN</td>\n      <td>Yes</td>\n      <td>2.0</td>\n      <td>52.0</td>\n      <td>No</td>\n      <td>Yes</td>\n      <td>Smoker</td>\n      <td>14.0</td>\n      <td>Yes</td>\n      <td>16.0</td>\n      <td>No</td>\n      <td>NaN</td>\n      <td>No</td>\n      <td>Yes</td>\n      <td>14.0</td>\n      <td>6.0</td>\n      <td>0.0</td>\n      <td>No</td>\n      <td>NaN</td>\n      <td>No</td>\n    </tr>\n    <tr>\n      <th>7543</th>\n      <td>67118</td>\n      <td>2011_12</td>\n      <td>female</td>\n      <td>33</td>\n      <td>30-39</td>\n      <td>NaN</td>\n      <td>White</td>\n      <td>White</td>\n      <td>Some College</td>\n      <td>Divorced</td>\n      <td>25000-34999</td>\n      <td>30000.0</td>\n      <td>1.34</td>\n      <td>5.0</td>\n      <td>Rent</td>\n      <td>Working</td>\n      <td>81.5</td>\n      <td>NaN</td>\n      <td>NaN</td>\n      <td>161.8</td>\n      <td>31.1</td>\n      <td>NaN</td>\n      <td>30.0_plus</td>\n      <td>76.0</td>\n      <td>113.0</td>\n      <td>61.0</td>\n      <td>114.0</td>\n      <td>68.0</td>\n      <td>114.0</td>\n      <td>58.0</td>\n      <td>112.0</td>\n      <td>64.0</td>\n      <td>31.96</td>\n      <td>1.19</td>\n      <td>4.37</td>\n      <td>123.0</td>\n      <td>0.728</td>\n      <td>NaN</td>\n      <td>NaN</td>\n      <td>No</td>\n      <td>NaN</td>\n      <td>Good</td>\n      <td>3.0</td>\n      <td>5.0</td>\n      <td>Several</td>\n      <td>None</td>\n      <td>5.0</td>\n      <td>3.0</td>\n      <td>25.0</td>\n      <td>5.0</td>\n      <td>No</td>\n      <td>No</td>\n      <td>4.0</td>\n      <td>1_hr</td>\n      <td>2_hr</td>\n      <td>NaN</td>\n      <td>NaN</td>\n      <td>Yes</td>\n      <td>2.0</td>\n      <td>52.0</td>\n      <td>No</td>\n      <td>Yes</td>\n      <td>Smoker</td>\n      <td>14.0</td>\n      <td>Yes</td>\n      <td>16.0</td>\n      <td>No</td>\n      <td>NaN</td>\n      <td>No</td>\n      <td>Yes</td>\n      <td>14.0</td>\n      <td>6.0</td>\n      <td>0.0</td>\n      <td>No</td>\n      <td>NaN</td>\n      <td>No</td>\n    </tr>\n    <tr>\n      <th>7544</th>\n      <td>67118</td>\n      <td>2011_12</td>\n      <td>female</td>\n      <td>33</td>\n      <td>30-39</td>\n      <td>NaN</td>\n      <td>White</td>\n      <td>White</td>\n      <td>Some College</td>\n      <td>Divorced</td>\n      <td>25000-34999</td>\n      <td>30000.0</td>\n      <td>1.34</td>\n      <td>5.0</td>\n      <td>Rent</td>\n      <td>Working</td>\n      <td>81.5</td>\n      <td>NaN</td>\n      <td>NaN</td>\n      <td>161.8</td>\n      <td>31.1</td>\n      <td>NaN</td>\n      <td>30.0_plus</td>\n      <td>76.0</td>\n      <td>113.0</td>\n      <td>61.0</td>\n      <td>114.0</td>\n      <td>68.0</td>\n      <td>114.0</td>\n      <td>58.0</td>\n      <td>112.0</td>\n      <td>64.0</td>\n      <td>31.96</td>\n      <td>1.19</td>\n      <td>4.37</td>\n      <td>123.0</td>\n      <td>0.728</td>\n      <td>NaN</td>\n      <td>NaN</td>\n      <td>No</td>\n      <td>NaN</td>\n      <td>Good</td>\n      <td>3.0</td>\n      <td>5.0</td>\n      <td>Several</td>\n      <td>None</td>\n      <td>5.0</td>\n      <td>3.0</td>\n      <td>25.0</td>\n      <td>5.0</td>\n      <td>No</td>\n      <td>No</td>\n      <td>NaN</td>\n      <td>1_hr</td>\n      <td>2_hr</td>\n      <td>NaN</td>\n      <td>NaN</td>\n      <td>Yes</td>\n      <td>2.0</td>\n      <td>52.0</td>\n      <td>No</td>\n      <td>Yes</td>\n      <td>Smoker</td>\n      <td>14.0</td>\n      <td>Yes</td>\n      <td>16.0</td>\n      <td>No</td>\n      <td>NaN</td>\n      <td>No</td>\n      <td>Yes</td>\n      <td>14.0</td>\n      <td>6.0</td>\n      <td>0.0</td>\n      <td>No</td>\n      <td>NaN</td>\n      <td>No</td>\n    </tr>\n    <tr>\n      <th>7545</th>\n      <td>67118</td>\n      <td>2011_12</td>\n      <td>female</td>\n      <td>33</td>\n      <td>30-39</td>\n      <td>NaN</td>\n      <td>White</td>\n      <td>White</td>\n      <td>Some College</td>\n      <td>Divorced</td>\n      <td>25000-34999</td>\n      <td>30000.0</td>\n      <td>1.34</td>\n      <td>5.0</td>\n      <td>Rent</td>\n      <td>Working</td>\n      <td>81.5</td>\n      <td>NaN</td>\n      <td>NaN</td>\n      <td>161.8</td>\n      <td>31.1</td>\n      <td>NaN</td>\n      <td>30.0_plus</td>\n      <td>76.0</td>\n      <td>113.0</td>\n      <td>61.0</td>\n      <td>114.0</td>\n      <td>68.0</td>\n      <td>114.0</td>\n      <td>58.0</td>\n      <td>112.0</td>\n      <td>64.0</td>\n      <td>31.96</td>\n      <td>1.19</td>\n      <td>4.37</td>\n      <td>123.0</td>\n      <td>0.728</td>\n      <td>NaN</td>\n      <td>NaN</td>\n      <td>No</td>\n      <td>NaN</td>\n      <td>Good</td>\n      <td>3.0</td>\n      <td>5.0</td>\n      <td>Several</td>\n      <td>None</td>\n      <td>5.0</td>\n      <td>3.0</td>\n      <td>25.0</td>\n      <td>5.0</td>\n      <td>No</td>\n      <td>No</td>\n      <td>1.0</td>\n      <td>1_hr</td>\n      <td>2_hr</td>\n      <td>NaN</td>\n      <td>NaN</td>\n      <td>Yes</td>\n      <td>2.0</td>\n      <td>52.0</td>\n      <td>No</td>\n      <td>Yes</td>\n      <td>Smoker</td>\n      <td>14.0</td>\n      <td>Yes</td>\n      <td>16.0</td>\n      <td>No</td>\n      <td>NaN</td>\n      <td>No</td>\n      <td>Yes</td>\n      <td>14.0</td>\n      <td>6.0</td>\n      <td>0.0</td>\n      <td>No</td>\n      <td>NaN</td>\n      <td>No</td>\n    </tr>\n  </tbody>\n</table>\n</div>"
     },
     "execution_count": 10,
     "metadata": {},
     "output_type": "execute_result"
    }
   ],
   "source": [
    "nhanes_data1[nhanes_data1['ID'] == 67118]"
   ],
   "metadata": {
    "collapsed": false,
    "pycharm": {
     "name": "#%%\n"
    }
   }
  },
  {
   "cell_type": "code",
   "execution_count": 11,
   "outputs": [],
   "source": [
    "#For both sampled id's, all row entries match with the exception of'PhysActiveDays' as this is bad data. Remove this column and reassess number of rows after again dropping dulicates\n",
    "del nhanes_data1['PhysActiveDays']"
   ],
   "metadata": {
    "collapsed": false,
    "pycharm": {
     "name": "#%%\n"
    }
   }
  },
  {
   "cell_type": "code",
   "execution_count": 12,
   "outputs": [],
   "source": [
    "nhanes_data2 = nhanes_data1.drop_duplicates()"
   ],
   "metadata": {
    "collapsed": false,
    "pycharm": {
     "name": "#%%\n"
    }
   }
  },
  {
   "cell_type": "code",
   "execution_count": 13,
   "outputs": [
    {
     "name": "stdout",
     "output_type": "stream",
     "text": [
      "         ID SurveyYr  Gender  Age AgeDecade  AgeMonths    Race1    Race3  \\\n",
      "0     51624  2009_10    male   34     30-39      409.0    White      NaN   \n",
      "3     51625  2009_10    male    4       0-9       49.0    Other      NaN   \n",
      "4     51630  2009_10  female   49     40-49      596.0    White      NaN   \n",
      "5     51638  2009_10    male    9       0-9      115.0    White      NaN   \n",
      "6     51646  2009_10    male    8       0-9      101.0    White      NaN   \n",
      "...     ...      ...     ...  ...       ...        ...      ...      ...   \n",
      "9991  71908  2011_12  female   66     60-69        NaN    White    White   \n",
      "9993  71909  2011_12    male   28     20-29        NaN  Mexican  Mexican   \n",
      "9996  71910  2011_12  female    0       0-9        5.0    White    White   \n",
      "9997  71911  2011_12    male   27     20-29        NaN  Mexican  Mexican   \n",
      "9998  71915  2011_12    male   60     60-69        NaN    White    White   \n",
      "\n",
      "           Education MaritalStatus     HHIncome  HHIncomeMid  Poverty  \\\n",
      "0        High School       Married  25000-34999      30000.0     1.36   \n",
      "3                NaN           NaN  20000-24999      22500.0     1.07   \n",
      "4       Some College   LivePartner  35000-44999      40000.0     1.91   \n",
      "5                NaN           NaN  75000-99999      87500.0     1.84   \n",
      "6                NaN           NaN  55000-64999      60000.0     2.33   \n",
      "...              ...           ...          ...          ...      ...   \n",
      "9991    College Grad       Widowed  65000-74999      70000.0     4.55   \n",
      "9993  9 - 11th Grade  NeverMarried    5000-9999       7500.0     0.46   \n",
      "9996             NaN           NaN  75000-99999      87500.0     3.37   \n",
      "9997    College Grad       Married  75000-99999      87500.0     3.25   \n",
      "9998    College Grad  NeverMarried  65000-74999      70000.0     5.00   \n",
      "\n",
      "      HomeRooms HomeOwn        Work  Weight  Length  HeadCirc  Height    BMI  \\\n",
      "0           6.0     Own  NotWorking    87.4     NaN       NaN   164.7  32.22   \n",
      "3           9.0     Own         NaN    17.0     NaN       NaN   105.4  15.30   \n",
      "4           5.0    Rent  NotWorking    86.7     NaN       NaN   168.4  30.57   \n",
      "5           6.0    Rent         NaN    29.8     NaN       NaN   133.1  16.82   \n",
      "6           7.0     Own         NaN    35.2     NaN       NaN   130.6  20.64   \n",
      "...         ...     ...         ...     ...     ...       ...     ...    ...   \n",
      "9991        8.0     Own     Working    88.7     NaN       NaN   159.0  35.10   \n",
      "9993        3.0    Rent     Working    92.3     NaN       NaN   177.3  29.40   \n",
      "9996       10.0     Own         NaN     6.7    67.6      42.2     NaN    NaN   \n",
      "9997       10.0     Own     Working    96.7     NaN       NaN   175.8  31.30   \n",
      "9998        4.0     Own     Working    78.4     NaN       NaN   168.8  27.50   \n",
      "\n",
      "     BMICatUnder20yrs       BMI_WHO  Pulse  BPSysAve  BPDiaAve  BPSys1  \\\n",
      "0                 NaN     30.0_plus   70.0     113.0      85.0   114.0   \n",
      "3                 NaN     12.0_18.5    NaN       NaN       NaN     NaN   \n",
      "4                 NaN     30.0_plus   86.0     112.0      75.0   118.0   \n",
      "5                 NaN     12.0_18.5   82.0      86.0      47.0    84.0   \n",
      "6                 NaN  18.5_to_24.9   72.0     107.0      37.0   114.0   \n",
      "...               ...           ...    ...       ...       ...     ...   \n",
      "9991              NaN     30.0_plus   76.0     114.0      70.0   110.0   \n",
      "9993              NaN  25.0_to_29.9   68.0     124.0      65.0   124.0   \n",
      "9996              NaN           NaN    NaN       NaN       NaN     NaN   \n",
      "9997              NaN     30.0_plus   74.0     133.0      74.0   122.0   \n",
      "9998              NaN  25.0_to_29.9   76.0     147.0      73.0   150.0   \n",
      "\n",
      "      BPDia1  BPSys2  BPDia2  BPSys3  BPDia3  Testosterone  DirectChol  \\\n",
      "0       88.0   114.0    88.0   112.0    82.0           NaN        1.29   \n",
      "3        NaN     NaN     NaN     NaN     NaN           NaN         NaN   \n",
      "4       82.0   108.0    74.0   116.0    76.0           NaN        1.16   \n",
      "5       50.0    84.0    50.0    88.0    44.0           NaN        1.34   \n",
      "6       46.0   108.0    36.0   106.0    38.0           NaN        1.55   \n",
      "...      ...     ...     ...     ...     ...           ...         ...   \n",
      "9991    74.0   114.0    68.0   114.0    72.0         26.00        1.86   \n",
      "9993    62.0   126.0    64.0   122.0    66.0        490.43        1.22   \n",
      "9996     NaN     NaN     NaN     NaN     NaN           NaN         NaN   \n",
      "9997    76.0   132.0    82.0   134.0    66.0        509.00        1.06   \n",
      "9998    72.0   148.0    74.0   146.0    72.0        505.13        0.93   \n",
      "\n",
      "      TotChol  UrineVol1  UrineFlow1  UrineVol2  UrineFlow2 Diabetes  \\\n",
      "0        3.49      352.0         NaN        NaN         NaN       No   \n",
      "3         NaN        NaN         NaN        NaN         NaN       No   \n",
      "4        6.70       77.0       0.094        NaN         NaN       No   \n",
      "5        4.86      123.0       1.538        NaN         NaN       No   \n",
      "6        4.09      238.0       1.322        NaN         NaN       No   \n",
      "...       ...        ...         ...        ...         ...      ...   \n",
      "9991     6.47       29.0       0.659       94.0       0.627       No   \n",
      "9993     3.90       97.0       0.942        NaN         NaN       No   \n",
      "9996      NaN        NaN         NaN        NaN         NaN      NaN   \n",
      "9997     5.72       63.0       0.600        NaN         NaN       No   \n",
      "9998     4.94      218.0       1.253        NaN         NaN      Yes   \n",
      "\n",
      "      DiabetesAge  HealthGen  DaysPhysHlthBad  DaysMentHlthBad LittleInterest  \\\n",
      "0             NaN       Good              0.0             15.0           Most   \n",
      "3             NaN        NaN              NaN              NaN            NaN   \n",
      "4             NaN       Good              0.0             10.0        Several   \n",
      "5             NaN        NaN              NaN              NaN            NaN   \n",
      "6             NaN        NaN              NaN              NaN            NaN   \n",
      "...           ...        ...              ...              ...            ...   \n",
      "9991          NaN  Excellent              0.0              0.0           None   \n",
      "9993          NaN        NaN              NaN              NaN            NaN   \n",
      "9996          NaN        NaN              NaN              NaN            NaN   \n",
      "9997          NaN       Good              0.0              2.0           None   \n",
      "9998         56.0       Good              0.0              2.0           None   \n",
      "\n",
      "     Depressed  nPregnancies  nBabies  Age1stBaby  SleepHrsNight SleepTrouble  \\\n",
      "0      Several           NaN      NaN         NaN            4.0          Yes   \n",
      "3          NaN           NaN      NaN         NaN            NaN          NaN   \n",
      "4      Several           2.0      2.0        27.0            8.0          Yes   \n",
      "5          NaN           NaN      NaN         NaN            NaN          NaN   \n",
      "6          NaN           NaN      NaN         NaN            NaN          NaN   \n",
      "...        ...           ...      ...         ...            ...          ...   \n",
      "9991      None           2.0      2.0        22.0            6.0           No   \n",
      "9993       NaN           NaN      NaN         NaN            6.0           No   \n",
      "9996       NaN           NaN      NaN         NaN            NaN          NaN   \n",
      "9997      None           NaN      NaN         NaN            6.0           No   \n",
      "9998      None           NaN      NaN         NaN            6.0           No   \n",
      "\n",
      "     PhysActive TVHrsDay CompHrsDay  TVHrsDayChild  CompHrsDayChild  \\\n",
      "0            No      NaN        NaN            NaN              NaN   \n",
      "3           NaN      NaN        NaN            4.0              1.0   \n",
      "4            No      NaN        NaN            NaN              NaN   \n",
      "5           NaN      NaN        NaN            5.0              0.0   \n",
      "6           NaN      NaN        NaN            1.0              6.0   \n",
      "...         ...      ...        ...            ...              ...   \n",
      "9991         No     2_hr  0_to_1_hr            NaN              NaN   \n",
      "9993        Yes     1_hr       2_hr            NaN              NaN   \n",
      "9996        NaN      NaN        NaN            NaN              NaN   \n",
      "9997         No     1_hr  0_to_1_hr            NaN              NaN   \n",
      "9998         No     2_hr       1_hr            NaN              NaN   \n",
      "\n",
      "     Alcohol12PlusYr  AlcoholDay  AlcoholYear SmokeNow Smoke100   Smoke100n  \\\n",
      "0                Yes         NaN          0.0       No      Yes      Smoker   \n",
      "3                NaN         NaN          NaN      NaN      NaN         NaN   \n",
      "4                Yes         2.0         20.0      Yes      Yes      Smoker   \n",
      "5                NaN         NaN          NaN      NaN      NaN         NaN   \n",
      "6                NaN         NaN          NaN      NaN      NaN         NaN   \n",
      "...              ...         ...          ...      ...      ...         ...   \n",
      "9991              No         1.0          5.0      NaN       No  Non-Smoker   \n",
      "9993             NaN         NaN          NaN      Yes      Yes      Smoker   \n",
      "9996             NaN         NaN          NaN      NaN      NaN         NaN   \n",
      "9997             Yes         5.0          4.0      NaN       No  Non-Smoker   \n",
      "9998             Yes         NaN          0.0      NaN       No  Non-Smoker   \n",
      "\n",
      "      SmokeAge Marijuana  AgeFirstMarij RegularMarij  AgeRegMarij HardDrugs  \\\n",
      "0         18.0       Yes           17.0           No          NaN       Yes   \n",
      "3          NaN       NaN            NaN          NaN          NaN       NaN   \n",
      "4         38.0       Yes           18.0           No          NaN       Yes   \n",
      "5          NaN       NaN            NaN          NaN          NaN       NaN   \n",
      "6          NaN       NaN            NaN          NaN          NaN       NaN   \n",
      "...        ...       ...            ...          ...          ...       ...   \n",
      "9991       NaN       NaN            NaN          NaN          NaN        No   \n",
      "9993      18.0       NaN            NaN          NaN          NaN       NaN   \n",
      "9996       NaN       NaN            NaN          NaN          NaN       NaN   \n",
      "9997       NaN       Yes           22.0           No          NaN        No   \n",
      "9998       NaN       NaN            NaN          NaN          NaN        No   \n",
      "\n",
      "     SexEver  SexAge  SexNumPartnLife  SexNumPartYear SameSex SexOrientation  \\\n",
      "0        Yes    16.0              8.0             1.0      No   Heterosexual   \n",
      "3        NaN     NaN              NaN             NaN     NaN            NaN   \n",
      "4        Yes    12.0             10.0             1.0     Yes   Heterosexual   \n",
      "5        NaN     NaN              NaN             NaN     NaN            NaN   \n",
      "6        NaN     NaN              NaN             NaN     NaN            NaN   \n",
      "...      ...     ...              ...             ...     ...            ...   \n",
      "9991     Yes    18.0              1.0             NaN      No            NaN   \n",
      "9993     NaN     NaN              NaN             NaN     NaN            NaN   \n",
      "9996     NaN     NaN              NaN             NaN     NaN            NaN   \n",
      "9997     Yes    21.0              1.0             1.0      No   Heterosexual   \n",
      "9998     Yes    19.0              2.0             NaN      No            NaN   \n",
      "\n",
      "     PregnantNow  \n",
      "0            NaN  \n",
      "3            NaN  \n",
      "4            NaN  \n",
      "5            NaN  \n",
      "6            NaN  \n",
      "...          ...  \n",
      "9991         NaN  \n",
      "9993         NaN  \n",
      "9996         NaN  \n",
      "9997         NaN  \n",
      "9998         NaN  \n",
      "\n",
      "[6779 rows x 75 columns]\n"
     ]
    }
   ],
   "source": [
    "#There are now 6779 rows matching 6779 unique id's\n",
    "print(nhanes_data2)"
   ],
   "metadata": {
    "collapsed": false,
    "pycharm": {
     "name": "#%%\n"
    }
   }
  },
  {
   "cell_type": "code",
   "execution_count": 14,
   "outputs": [
    {
     "data": {
      "text/plain": "ID                    0\nSurveyYr              0\nGender                0\nAge                   0\nAgeDecade           249\n                   ... \nSexNumPartnLife    3192\nSexNumPartYear     3705\nSameSex            3164\nSexOrientation     3770\nPregnantNow        5660\nLength: 75, dtype: int64"
     },
     "execution_count": 14,
     "metadata": {},
     "output_type": "execute_result"
    }
   ],
   "source": [
    "#checking for null values\n",
    "nhanes_data2.isnull().sum()"
   ],
   "metadata": {
    "collapsed": false,
    "pycharm": {
     "name": "#%%\n"
    }
   }
  },
  {
   "cell_type": "code",
   "execution_count": 15,
   "outputs": [
    {
     "name": "stdout",
     "output_type": "stream",
     "text": [
      "<class 'pandas.core.frame.DataFrame'>\n",
      "Int64Index: 6779 entries, 0 to 9998\n",
      "Data columns (total 75 columns):\n",
      " #   Column            Non-Null Count  Dtype  \n",
      "---  ------            --------------  -----  \n",
      " 0   ID                6779 non-null   int64  \n",
      " 1   SurveyYr          6779 non-null   object \n",
      " 2   Gender            6779 non-null   object \n",
      " 3   Age               6779 non-null   int64  \n",
      " 4   AgeDecade         6530 non-null   object \n",
      " 5   AgeMonths         3549 non-null   float64\n",
      " 6   Race1             6779 non-null   object \n",
      " 7   Race3             3211 non-null   object \n",
      " 8   Education         4645 non-null   object \n",
      " 9   MaritalStatus     4650 non-null   object \n",
      " 10  HHIncome          6194 non-null   object \n",
      " 11  HHIncomeMid       6194 non-null   float64\n",
      " 12  Poverty           6261 non-null   float64\n",
      " 13  HomeRooms         6731 non-null   float64\n",
      " 14  HomeOwn           6735 non-null   object \n",
      " 15  Work              5046 non-null   object \n",
      " 16  Weight            6724 non-null   float64\n",
      " 17  Length            462 non-null    float64\n",
      " 18  HeadCirc          77 non-null     float64\n",
      " 19  Height            6481 non-null   float64\n",
      " 20  BMI               6475 non-null   float64\n",
      " 21  BMICatUnder20yrs  922 non-null    object \n",
      " 22  BMI_WHO           6450 non-null   object \n",
      " 23  Pulse             5652 non-null   float64\n",
      " 24  BPSysAve          5642 non-null   float64\n",
      " 25  BPDiaAve          5642 non-null   float64\n",
      " 26  BPSys1            5427 non-null   float64\n",
      " 27  BPDia1            5427 non-null   float64\n",
      " 28  BPSys2            5501 non-null   float64\n",
      " 29  BPDia2            5501 non-null   float64\n",
      " 30  BPSys3            5499 non-null   float64\n",
      " 31  BPDia3            5499 non-null   float64\n",
      " 32  Testosterone      2561 non-null   float64\n",
      " 33  DirectChol        5596 non-null   float64\n",
      " 34  TotChol           5596 non-null   float64\n",
      " 35  UrineVol1         5988 non-null   float64\n",
      " 36  UrineFlow1        5561 non-null   float64\n",
      " 37  UrineVol2         974 non-null    float64\n",
      " 38  UrineFlow2        973 non-null    float64\n",
      " 39  Diabetes          6653 non-null   object \n",
      " 40  DiabetesAge       457 non-null    float64\n",
      " 41  HealthGen         4898 non-null   object \n",
      " 42  DaysPhysHlthBad   4891 non-null   float64\n",
      " 43  DaysMentHlthBad   4893 non-null   float64\n",
      " 44  LittleInterest    4270 non-null   object \n",
      " 45  Depressed         4272 non-null   object \n",
      " 46  nPregnancies      1696 non-null   float64\n",
      " 47  nBabies           1577 non-null   float64\n",
      " 48  Age1stBaby        1245 non-null   float64\n",
      " 49  SleepHrsNight     5035 non-null   float64\n",
      " 50  SleepTrouble      5047 non-null   object \n",
      " 51  PhysActive        5445 non-null   object \n",
      " 52  TVHrsDay          3093 non-null   object \n",
      " 53  CompHrsDay        3096 non-null   object \n",
      " 54  TVHrsDayChild     534 non-null    float64\n",
      " 55  CompHrsDayChild   534 non-null    float64\n",
      " 56  Alcohol12PlusYr   4199 non-null   object \n",
      " 57  AlcoholDay        3066 non-null   float64\n",
      " 58  AlcoholYear       3730 non-null   float64\n",
      " 59  SmokeNow          2056 non-null   object \n",
      " 60  Smoke100          4654 non-null   object \n",
      " 61  Smoke100n         4654 non-null   object \n",
      " 62  SmokeAge          1972 non-null   float64\n",
      " 63  Marijuana         3083 non-null   object \n",
      " 64  AgeFirstMarij     1726 non-null   float64\n",
      " 65  RegularMarij      3083 non-null   object \n",
      " 66  AgeRegMarij       827 non-null    float64\n",
      " 67  HardDrugs         3615 non-null   object \n",
      " 68  SexEver           3615 non-null   object \n",
      " 69  SexAge            3454 non-null   float64\n",
      " 70  SexNumPartnLife   3587 non-null   float64\n",
      " 71  SexNumPartYear    3074 non-null   float64\n",
      " 72  SameSex           3615 non-null   object \n",
      " 73  SexOrientation    3009 non-null   object \n",
      " 74  PregnantNow       1119 non-null   object \n",
      "dtypes: float64(42), int64(2), object(31)\n",
      "memory usage: 3.9+ MB\n"
     ]
    }
   ],
   "source": [
    "nhanes_data2.info()"
   ],
   "metadata": {
    "collapsed": false,
    "pycharm": {
     "name": "#%%\n"
    }
   }
  },
  {
   "cell_type": "code",
   "execution_count": 16,
   "outputs": [
    {
     "name": "stdout",
     "output_type": "stream",
     "text": [
      "      SurveyYr  Gender  Age AgeDecade  AgeMonths    Race1    Race3  \\\n",
      "ID                                                                   \n",
      "51624  2009_10    male   34     30-39      409.0    White      NaN   \n",
      "51625  2009_10    male    4       0-9       49.0    Other      NaN   \n",
      "51630  2009_10  female   49     40-49      596.0    White      NaN   \n",
      "51638  2009_10    male    9       0-9      115.0    White      NaN   \n",
      "51646  2009_10    male    8       0-9      101.0    White      NaN   \n",
      "...        ...     ...  ...       ...        ...      ...      ...   \n",
      "71908  2011_12  female   66     60-69        NaN    White    White   \n",
      "71909  2011_12    male   28     20-29        NaN  Mexican  Mexican   \n",
      "71910  2011_12  female    0       0-9        5.0    White    White   \n",
      "71911  2011_12    male   27     20-29        NaN  Mexican  Mexican   \n",
      "71915  2011_12    male   60     60-69        NaN    White    White   \n",
      "\n",
      "            Education MaritalStatus     HHIncome  HHIncomeMid  Poverty  \\\n",
      "ID                                                                       \n",
      "51624     High School       Married  25000-34999      30000.0     1.36   \n",
      "51625             NaN           NaN  20000-24999      22500.0     1.07   \n",
      "51630    Some College   LivePartner  35000-44999      40000.0     1.91   \n",
      "51638             NaN           NaN  75000-99999      87500.0     1.84   \n",
      "51646             NaN           NaN  55000-64999      60000.0     2.33   \n",
      "...               ...           ...          ...          ...      ...   \n",
      "71908    College Grad       Widowed  65000-74999      70000.0     4.55   \n",
      "71909  9 - 11th Grade  NeverMarried    5000-9999       7500.0     0.46   \n",
      "71910             NaN           NaN  75000-99999      87500.0     3.37   \n",
      "71911    College Grad       Married  75000-99999      87500.0     3.25   \n",
      "71915    College Grad  NeverMarried  65000-74999      70000.0     5.00   \n",
      "\n",
      "       HomeRooms HomeOwn        Work  Weight  Length  HeadCirc  Height    BMI  \\\n",
      "ID                                                                              \n",
      "51624        6.0     Own  NotWorking    87.4     NaN       NaN   164.7  32.22   \n",
      "51625        9.0     Own         NaN    17.0     NaN       NaN   105.4  15.30   \n",
      "51630        5.0    Rent  NotWorking    86.7     NaN       NaN   168.4  30.57   \n",
      "51638        6.0    Rent         NaN    29.8     NaN       NaN   133.1  16.82   \n",
      "51646        7.0     Own         NaN    35.2     NaN       NaN   130.6  20.64   \n",
      "...          ...     ...         ...     ...     ...       ...     ...    ...   \n",
      "71908        8.0     Own     Working    88.7     NaN       NaN   159.0  35.10   \n",
      "71909        3.0    Rent     Working    92.3     NaN       NaN   177.3  29.40   \n",
      "71910       10.0     Own         NaN     6.7    67.6      42.2     NaN    NaN   \n",
      "71911       10.0     Own     Working    96.7     NaN       NaN   175.8  31.30   \n",
      "71915        4.0     Own     Working    78.4     NaN       NaN   168.8  27.50   \n",
      "\n",
      "      BMICatUnder20yrs       BMI_WHO  Pulse  BPSysAve  BPDiaAve  BPSys1  \\\n",
      "ID                                                                        \n",
      "51624              NaN     30.0_plus   70.0     113.0      85.0   114.0   \n",
      "51625              NaN     12.0_18.5    NaN       NaN       NaN     NaN   \n",
      "51630              NaN     30.0_plus   86.0     112.0      75.0   118.0   \n",
      "51638              NaN     12.0_18.5   82.0      86.0      47.0    84.0   \n",
      "51646              NaN  18.5_to_24.9   72.0     107.0      37.0   114.0   \n",
      "...                ...           ...    ...       ...       ...     ...   \n",
      "71908              NaN     30.0_plus   76.0     114.0      70.0   110.0   \n",
      "71909              NaN  25.0_to_29.9   68.0     124.0      65.0   124.0   \n",
      "71910              NaN           NaN    NaN       NaN       NaN     NaN   \n",
      "71911              NaN     30.0_plus   74.0     133.0      74.0   122.0   \n",
      "71915              NaN  25.0_to_29.9   76.0     147.0      73.0   150.0   \n",
      "\n",
      "       BPDia1  BPSys2  BPDia2  BPSys3  BPDia3  Testosterone  DirectChol  \\\n",
      "ID                                                                        \n",
      "51624    88.0   114.0    88.0   112.0    82.0           NaN        1.29   \n",
      "51625     NaN     NaN     NaN     NaN     NaN           NaN         NaN   \n",
      "51630    82.0   108.0    74.0   116.0    76.0           NaN        1.16   \n",
      "51638    50.0    84.0    50.0    88.0    44.0           NaN        1.34   \n",
      "51646    46.0   108.0    36.0   106.0    38.0           NaN        1.55   \n",
      "...       ...     ...     ...     ...     ...           ...         ...   \n",
      "71908    74.0   114.0    68.0   114.0    72.0         26.00        1.86   \n",
      "71909    62.0   126.0    64.0   122.0    66.0        490.43        1.22   \n",
      "71910     NaN     NaN     NaN     NaN     NaN           NaN         NaN   \n",
      "71911    76.0   132.0    82.0   134.0    66.0        509.00        1.06   \n",
      "71915    72.0   148.0    74.0   146.0    72.0        505.13        0.93   \n",
      "\n",
      "       TotChol  UrineVol1  UrineFlow1  UrineVol2  UrineFlow2 Diabetes  \\\n",
      "ID                                                                      \n",
      "51624     3.49      352.0         NaN        NaN         NaN       No   \n",
      "51625      NaN        NaN         NaN        NaN         NaN       No   \n",
      "51630     6.70       77.0       0.094        NaN         NaN       No   \n",
      "51638     4.86      123.0       1.538        NaN         NaN       No   \n",
      "51646     4.09      238.0       1.322        NaN         NaN       No   \n",
      "...        ...        ...         ...        ...         ...      ...   \n",
      "71908     6.47       29.0       0.659       94.0       0.627       No   \n",
      "71909     3.90       97.0       0.942        NaN         NaN       No   \n",
      "71910      NaN        NaN         NaN        NaN         NaN      NaN   \n",
      "71911     5.72       63.0       0.600        NaN         NaN       No   \n",
      "71915     4.94      218.0       1.253        NaN         NaN      Yes   \n",
      "\n",
      "       DiabetesAge  HealthGen  DaysPhysHlthBad  DaysMentHlthBad  \\\n",
      "ID                                                                \n",
      "51624          NaN       Good              0.0             15.0   \n",
      "51625          NaN        NaN              NaN              NaN   \n",
      "51630          NaN       Good              0.0             10.0   \n",
      "51638          NaN        NaN              NaN              NaN   \n",
      "51646          NaN        NaN              NaN              NaN   \n",
      "...            ...        ...              ...              ...   \n",
      "71908          NaN  Excellent              0.0              0.0   \n",
      "71909          NaN        NaN              NaN              NaN   \n",
      "71910          NaN        NaN              NaN              NaN   \n",
      "71911          NaN       Good              0.0              2.0   \n",
      "71915         56.0       Good              0.0              2.0   \n",
      "\n",
      "      LittleInterest Depressed  nPregnancies  nBabies  Age1stBaby  \\\n",
      "ID                                                                  \n",
      "51624           Most   Several           NaN      NaN         NaN   \n",
      "51625            NaN       NaN           NaN      NaN         NaN   \n",
      "51630        Several   Several           2.0      2.0        27.0   \n",
      "51638            NaN       NaN           NaN      NaN         NaN   \n",
      "51646            NaN       NaN           NaN      NaN         NaN   \n",
      "...              ...       ...           ...      ...         ...   \n",
      "71908           None      None           2.0      2.0        22.0   \n",
      "71909            NaN       NaN           NaN      NaN         NaN   \n",
      "71910            NaN       NaN           NaN      NaN         NaN   \n",
      "71911           None      None           NaN      NaN         NaN   \n",
      "71915           None      None           NaN      NaN         NaN   \n",
      "\n",
      "       SleepHrsNight SleepTrouble PhysActive TVHrsDay CompHrsDay  \\\n",
      "ID                                                                 \n",
      "51624            4.0          Yes         No      NaN        NaN   \n",
      "51625            NaN          NaN        NaN      NaN        NaN   \n",
      "51630            8.0          Yes         No      NaN        NaN   \n",
      "51638            NaN          NaN        NaN      NaN        NaN   \n",
      "51646            NaN          NaN        NaN      NaN        NaN   \n",
      "...              ...          ...        ...      ...        ...   \n",
      "71908            6.0           No         No     2_hr  0_to_1_hr   \n",
      "71909            6.0           No        Yes     1_hr       2_hr   \n",
      "71910            NaN          NaN        NaN      NaN        NaN   \n",
      "71911            6.0           No         No     1_hr  0_to_1_hr   \n",
      "71915            6.0           No         No     2_hr       1_hr   \n",
      "\n",
      "       TVHrsDayChild  CompHrsDayChild Alcohol12PlusYr  AlcoholDay  \\\n",
      "ID                                                                  \n",
      "51624            NaN              NaN             Yes         NaN   \n",
      "51625            4.0              1.0             NaN         NaN   \n",
      "51630            NaN              NaN             Yes         2.0   \n",
      "51638            5.0              0.0             NaN         NaN   \n",
      "51646            1.0              6.0             NaN         NaN   \n",
      "...              ...              ...             ...         ...   \n",
      "71908            NaN              NaN              No         1.0   \n",
      "71909            NaN              NaN             NaN         NaN   \n",
      "71910            NaN              NaN             NaN         NaN   \n",
      "71911            NaN              NaN             Yes         5.0   \n",
      "71915            NaN              NaN             Yes         NaN   \n",
      "\n",
      "       AlcoholYear SmokeNow Smoke100   Smoke100n  SmokeAge Marijuana  \\\n",
      "ID                                                                     \n",
      "51624          0.0       No      Yes      Smoker      18.0       Yes   \n",
      "51625          NaN      NaN      NaN         NaN       NaN       NaN   \n",
      "51630         20.0      Yes      Yes      Smoker      38.0       Yes   \n",
      "51638          NaN      NaN      NaN         NaN       NaN       NaN   \n",
      "51646          NaN      NaN      NaN         NaN       NaN       NaN   \n",
      "...            ...      ...      ...         ...       ...       ...   \n",
      "71908          5.0      NaN       No  Non-Smoker       NaN       NaN   \n",
      "71909          NaN      Yes      Yes      Smoker      18.0       NaN   \n",
      "71910          NaN      NaN      NaN         NaN       NaN       NaN   \n",
      "71911          4.0      NaN       No  Non-Smoker       NaN       Yes   \n",
      "71915          0.0      NaN       No  Non-Smoker       NaN       NaN   \n",
      "\n",
      "       AgeFirstMarij RegularMarij  AgeRegMarij HardDrugs SexEver  SexAge  \\\n",
      "ID                                                                         \n",
      "51624           17.0           No          NaN       Yes     Yes    16.0   \n",
      "51625            NaN          NaN          NaN       NaN     NaN     NaN   \n",
      "51630           18.0           No          NaN       Yes     Yes    12.0   \n",
      "51638            NaN          NaN          NaN       NaN     NaN     NaN   \n",
      "51646            NaN          NaN          NaN       NaN     NaN     NaN   \n",
      "...              ...          ...          ...       ...     ...     ...   \n",
      "71908            NaN          NaN          NaN        No     Yes    18.0   \n",
      "71909            NaN          NaN          NaN       NaN     NaN     NaN   \n",
      "71910            NaN          NaN          NaN       NaN     NaN     NaN   \n",
      "71911           22.0           No          NaN        No     Yes    21.0   \n",
      "71915            NaN          NaN          NaN        No     Yes    19.0   \n",
      "\n",
      "       SexNumPartnLife  SexNumPartYear SameSex SexOrientation PregnantNow  \n",
      "ID                                                                         \n",
      "51624              8.0             1.0      No   Heterosexual         NaN  \n",
      "51625              NaN             NaN     NaN            NaN         NaN  \n",
      "51630             10.0             1.0     Yes   Heterosexual         NaN  \n",
      "51638              NaN             NaN     NaN            NaN         NaN  \n",
      "51646              NaN             NaN     NaN            NaN         NaN  \n",
      "...                ...             ...     ...            ...         ...  \n",
      "71908              1.0             NaN      No            NaN         NaN  \n",
      "71909              NaN             NaN     NaN            NaN         NaN  \n",
      "71910              NaN             NaN     NaN            NaN         NaN  \n",
      "71911              1.0             1.0      No   Heterosexual         NaN  \n",
      "71915              2.0             NaN      No            NaN         NaN  \n",
      "\n",
      "[6779 rows x 74 columns]\n"
     ]
    }
   ],
   "source": [
    "#Set index to ID\n",
    "nhanes_data3 = pd.DataFrame(nhanes_data2.set_index('ID'))\n",
    "print(nhanes_data3)"
   ],
   "metadata": {
    "collapsed": false,
    "pycharm": {
     "name": "#%%\n"
    }
   }
  },
  {
   "cell_type": "code",
   "execution_count": 17,
   "outputs": [],
   "source": [
    "#Replace null values with \"Invalid answer\"\n",
    "nhanes_data3 = nhanes_data3.fillna(\"Invalid answer\")"
   ],
   "metadata": {
    "collapsed": false,
    "pycharm": {
     "name": "#%%\n"
    }
   }
  },
  {
   "cell_type": "code",
   "execution_count": 18,
   "outputs": [
    {
     "name": "stdout",
     "output_type": "stream",
     "text": [
      "['Married' 'Invalid answer' 'LivePartner' 'Divorced' 'NeverMarried'\n",
      " 'Separated' 'Widowed']\n"
     ]
    }
   ],
   "source": [
    "#There are 6 different Marital Status, what are these?\n",
    "mstat_unique_values = (nhanes_data3['MaritalStatus']).unique()\n",
    "print(mstat_unique_values)"
   ],
   "metadata": {
    "collapsed": false,
    "pycharm": {
     "name": "#%%\n"
    }
   }
  },
  {
   "cell_type": "code",
   "execution_count": 19,
   "outputs": [
    {
     "name": "stdout",
     "output_type": "stream",
     "text": [
      "['Several' 'Invalid answer' 'None' 'Most']\n"
     ]
    }
   ],
   "source": [
    "#Depressed unique answers\n",
    "depressed_unique_values = (nhanes_data3['Depressed']).unique()\n",
    "print(depressed_unique_values)"
   ],
   "metadata": {
    "collapsed": false,
    "pycharm": {
     "name": "#%%\n"
    }
   }
  },
  {
   "cell_type": "code",
   "execution_count": 20,
   "outputs": [
    {
     "name": "stdout",
     "output_type": "stream",
     "text": [
      "['High School' 'Invalid answer' 'Some College' 'College Grad'\n",
      " '9 - 11th Grade' '8th Grade']\n"
     ]
    }
   ],
   "source": [
    "education_unique_values = (nhanes_data3['Education']).unique()\n",
    "print(education_unique_values)"
   ],
   "metadata": {
    "collapsed": false,
    "pycharm": {
     "name": "#%%\n"
    }
   }
  },
  {
   "cell_type": "code",
   "execution_count": 21,
   "outputs": [
    {
     "name": "stdout",
     "output_type": "stream",
     "text": [
      "['NotWorking' 'Invalid answer' 'Working' 'Looking']\n"
     ]
    }
   ],
   "source": [
    "work_unique_values = (nhanes_data3['Work']).unique()\n",
    "print(work_unique_values)"
   ],
   "metadata": {
    "collapsed": false,
    "pycharm": {
     "name": "#%%\n"
    }
   }
  },
  {
   "cell_type": "code",
   "execution_count": 22,
   "outputs": [
    {
     "name": "stdout",
     "output_type": "stream",
     "text": [
      "      SurveyYr  Gender  Age       AgeDecade       AgeMonths    Race1  \\\n",
      "ID                                                                     \n",
      "51624  2009_10    male   34           30-39           409.0    White   \n",
      "51630  2009_10  female   49           40-49           596.0    White   \n",
      "51647  2009_10  female   45           40-49           541.0    White   \n",
      "51654  2009_10    male   66           60-69           795.0    White   \n",
      "51656  2009_10    male   58           50-59           707.0    White   \n",
      "...        ...     ...  ...             ...             ...      ...   \n",
      "71907  2011_12    male   80  Invalid answer  Invalid answer    White   \n",
      "71908  2011_12  female   66           60-69  Invalid answer    White   \n",
      "71909  2011_12    male   28           20-29  Invalid answer  Mexican   \n",
      "71911  2011_12    male   27           20-29  Invalid answer  Mexican   \n",
      "71915  2011_12    male   60           60-69  Invalid answer    White   \n",
      "\n",
      "                Race3       Education MaritalStatus     HHIncome HHIncomeMid  \\\n",
      "ID                                                                             \n",
      "51624  Invalid answer     High School       Married  25000-34999     30000.0   \n",
      "51630  Invalid answer    Some College   LivePartner  35000-44999     40000.0   \n",
      "51647  Invalid answer    College Grad       Married  75000-99999     87500.0   \n",
      "51654  Invalid answer    Some College       Married  25000-34999     30000.0   \n",
      "51656  Invalid answer    College Grad      Divorced   more 99999    100000.0   \n",
      "...               ...             ...           ...          ...         ...   \n",
      "71907           White     High School       Married  55000-64999     60000.0   \n",
      "71908           White    College Grad       Widowed  65000-74999     70000.0   \n",
      "71909         Mexican  9 - 11th Grade  NeverMarried    5000-9999      7500.0   \n",
      "71911         Mexican    College Grad       Married  75000-99999     87500.0   \n",
      "71915           White    College Grad  NeverMarried  65000-74999     70000.0   \n",
      "\n",
      "      Poverty HomeRooms HomeOwn        Work Weight          Length  \\\n",
      "ID                                                                   \n",
      "51624    1.36       6.0     Own  NotWorking   87.4  Invalid answer   \n",
      "51630    1.91       5.0    Rent  NotWorking   86.7  Invalid answer   \n",
      "51647     5.0       6.0     Own     Working   75.7  Invalid answer   \n",
      "51654     2.2       5.0     Own  NotWorking   68.0  Invalid answer   \n",
      "51656     5.0      10.0    Rent     Working   78.4  Invalid answer   \n",
      "...       ...       ...     ...         ...    ...             ...   \n",
      "71907    4.08       6.0     Own  NotWorking   71.5  Invalid answer   \n",
      "71908    4.55       8.0     Own     Working   88.7  Invalid answer   \n",
      "71909    0.46       3.0    Rent     Working   92.3  Invalid answer   \n",
      "71911    3.25      10.0     Own     Working   96.7  Invalid answer   \n",
      "71915     5.0       4.0     Own     Working   78.4  Invalid answer   \n",
      "\n",
      "             HeadCirc Height    BMI BMICatUnder20yrs       BMI_WHO Pulse  \\\n",
      "ID                                                                         \n",
      "51624  Invalid answer  164.7  32.22   Invalid answer     30.0_plus  70.0   \n",
      "51630  Invalid answer  168.4  30.57   Invalid answer     30.0_plus  86.0   \n",
      "51647  Invalid answer  166.7  27.24   Invalid answer  25.0_to_29.9  62.0   \n",
      "51654  Invalid answer  169.5  23.67   Invalid answer  18.5_to_24.9  60.0   \n",
      "51656  Invalid answer  181.9  23.69   Invalid answer  18.5_to_24.9  62.0   \n",
      "...               ...    ...    ...              ...           ...   ...   \n",
      "71907  Invalid answer  175.4   23.2   Invalid answer  18.5_to_24.9  54.0   \n",
      "71908  Invalid answer  159.0   35.1   Invalid answer     30.0_plus  76.0   \n",
      "71909  Invalid answer  177.3   29.4   Invalid answer  25.0_to_29.9  68.0   \n",
      "71911  Invalid answer  175.8   31.3   Invalid answer     30.0_plus  74.0   \n",
      "71915  Invalid answer  168.8   27.5   Invalid answer  25.0_to_29.9  76.0   \n",
      "\n",
      "      BPSysAve BPDiaAve BPSys1 BPDia1 BPSys2 BPDia2 BPSys3 BPDia3  \\\n",
      "ID                                                                  \n",
      "51624    113.0     85.0  114.0   88.0  114.0   88.0  112.0   82.0   \n",
      "51630    112.0     75.0  118.0   82.0  108.0   74.0  116.0   76.0   \n",
      "51647    118.0     64.0  106.0   62.0  118.0   68.0  118.0   60.0   \n",
      "51654    111.0     63.0  124.0   64.0  108.0   62.0  114.0   64.0   \n",
      "51656    104.0     74.0  108.0   76.0  104.0   72.0  104.0   76.0   \n",
      "...        ...      ...    ...    ...    ...    ...    ...    ...   \n",
      "71907    148.0     70.0  150.0   72.0  150.0   70.0  146.0   70.0   \n",
      "71908    114.0     70.0  110.0   74.0  114.0   68.0  114.0   72.0   \n",
      "71909    124.0     65.0  124.0   62.0  126.0   64.0  122.0   66.0   \n",
      "71911    133.0     74.0  122.0   76.0  132.0   82.0  134.0   66.0   \n",
      "71915    147.0     73.0  150.0   72.0  148.0   74.0  146.0   72.0   \n",
      "\n",
      "         Testosterone DirectChol TotChol UrineVol1      UrineFlow1  \\\n",
      "ID                                                                   \n",
      "51624  Invalid answer       1.29    3.49     352.0  Invalid answer   \n",
      "51630  Invalid answer       1.16     6.7      77.0           0.094   \n",
      "51647  Invalid answer       2.12    5.82     106.0           1.116   \n",
      "51654  Invalid answer       0.67    4.99     113.0           0.489   \n",
      "51656  Invalid answer       0.96    4.24     163.0  Invalid answer   \n",
      "...               ...        ...     ...       ...             ...   \n",
      "71907           402.9       1.27    4.37      61.0           1.052   \n",
      "71908            26.0       1.86    6.47      29.0           0.659   \n",
      "71909          490.43       1.22     3.9      97.0           0.942   \n",
      "71911           509.0       1.06    5.72      63.0             0.6   \n",
      "71915          505.13       0.93    4.94     218.0           1.253   \n",
      "\n",
      "            UrineVol2      UrineFlow2 Diabetes     DiabetesAge  \\\n",
      "ID                                                               \n",
      "51624  Invalid answer  Invalid answer       No  Invalid answer   \n",
      "51630  Invalid answer  Invalid answer       No  Invalid answer   \n",
      "51647  Invalid answer  Invalid answer       No  Invalid answer   \n",
      "51654  Invalid answer  Invalid answer       No  Invalid answer   \n",
      "51656  Invalid answer  Invalid answer       No  Invalid answer   \n",
      "...               ...             ...      ...             ...   \n",
      "71907  Invalid answer  Invalid answer       No  Invalid answer   \n",
      "71908            94.0           0.627       No  Invalid answer   \n",
      "71909  Invalid answer  Invalid answer       No  Invalid answer   \n",
      "71911  Invalid answer  Invalid answer       No  Invalid answer   \n",
      "71915  Invalid answer  Invalid answer      Yes            56.0   \n",
      "\n",
      "            HealthGen DaysPhysHlthBad DaysMentHlthBad  LittleInterest  \\\n",
      "ID                                                                      \n",
      "51624            Good             0.0            15.0            Most   \n",
      "51630            Good             0.0            10.0         Several   \n",
      "51647           Vgood             0.0             3.0            None   \n",
      "51654           Vgood            10.0             0.0            None   \n",
      "51656           Vgood             0.0             0.0            None   \n",
      "...               ...             ...             ...             ...   \n",
      "71907            Good             0.0             0.0            None   \n",
      "71908       Excellent             0.0             0.0            None   \n",
      "71909  Invalid answer  Invalid answer  Invalid answer  Invalid answer   \n",
      "71911            Good             0.0             2.0            None   \n",
      "71915            Good             0.0             2.0            None   \n",
      "\n",
      "            Depressed    nPregnancies         nBabies      Age1stBaby  \\\n",
      "ID                                                                      \n",
      "51624         Several  Invalid answer  Invalid answer  Invalid answer   \n",
      "51630         Several             2.0             2.0            27.0   \n",
      "51647            None             1.0  Invalid answer  Invalid answer   \n",
      "51654            None  Invalid answer  Invalid answer  Invalid answer   \n",
      "51656            None  Invalid answer  Invalid answer  Invalid answer   \n",
      "...               ...             ...             ...             ...   \n",
      "71907            None  Invalid answer  Invalid answer  Invalid answer   \n",
      "71908            None             2.0             2.0            22.0   \n",
      "71909  Invalid answer  Invalid answer  Invalid answer  Invalid answer   \n",
      "71911            None  Invalid answer  Invalid answer  Invalid answer   \n",
      "71915            None  Invalid answer  Invalid answer  Invalid answer   \n",
      "\n",
      "      SleepHrsNight SleepTrouble PhysActive        TVHrsDay      CompHrsDay  \\\n",
      "ID                                                                            \n",
      "51624           4.0          Yes         No  Invalid answer  Invalid answer   \n",
      "51630           8.0          Yes         No  Invalid answer  Invalid answer   \n",
      "51647           8.0           No        Yes  Invalid answer  Invalid answer   \n",
      "51654           7.0           No        Yes  Invalid answer  Invalid answer   \n",
      "51656           5.0           No        Yes  Invalid answer  Invalid answer   \n",
      "...             ...          ...        ...             ...             ...   \n",
      "71907           5.0           No        Yes            3_hr           0_hrs   \n",
      "71908           6.0           No         No            2_hr       0_to_1_hr   \n",
      "71909           6.0           No        Yes            1_hr            2_hr   \n",
      "71911           6.0           No         No            1_hr       0_to_1_hr   \n",
      "71915           6.0           No         No            2_hr            1_hr   \n",
      "\n",
      "        TVHrsDayChild CompHrsDayChild Alcohol12PlusYr      AlcoholDay  \\\n",
      "ID                                                                      \n",
      "51624  Invalid answer  Invalid answer             Yes  Invalid answer   \n",
      "51630  Invalid answer  Invalid answer             Yes             2.0   \n",
      "51647  Invalid answer  Invalid answer             Yes             3.0   \n",
      "51654  Invalid answer  Invalid answer             Yes             1.0   \n",
      "51656  Invalid answer  Invalid answer             Yes             2.0   \n",
      "...               ...             ...             ...             ...   \n",
      "71907  Invalid answer  Invalid answer             Yes  Invalid answer   \n",
      "71908  Invalid answer  Invalid answer              No             1.0   \n",
      "71909  Invalid answer  Invalid answer  Invalid answer  Invalid answer   \n",
      "71911  Invalid answer  Invalid answer             Yes             5.0   \n",
      "71915  Invalid answer  Invalid answer             Yes  Invalid answer   \n",
      "\n",
      "          AlcoholYear        SmokeNow Smoke100   Smoke100n        SmokeAge  \\\n",
      "ID                                                                           \n",
      "51624             0.0              No      Yes      Smoker            18.0   \n",
      "51630            20.0             Yes      Yes      Smoker            38.0   \n",
      "51647            52.0  Invalid answer       No  Non-Smoker  Invalid answer   \n",
      "51654           100.0              No      Yes      Smoker            13.0   \n",
      "51656           104.0  Invalid answer       No  Non-Smoker  Invalid answer   \n",
      "...               ...             ...      ...         ...             ...   \n",
      "71907             0.0  Invalid answer       No  Non-Smoker  Invalid answer   \n",
      "71908             5.0  Invalid answer       No  Non-Smoker  Invalid answer   \n",
      "71909  Invalid answer             Yes      Yes      Smoker            18.0   \n",
      "71911             4.0  Invalid answer       No  Non-Smoker  Invalid answer   \n",
      "71915             0.0  Invalid answer       No  Non-Smoker  Invalid answer   \n",
      "\n",
      "            Marijuana   AgeFirstMarij    RegularMarij     AgeRegMarij  \\\n",
      "ID                                                                      \n",
      "51624             Yes            17.0              No  Invalid answer   \n",
      "51630             Yes            18.0              No  Invalid answer   \n",
      "51647             Yes            13.0              No  Invalid answer   \n",
      "51654  Invalid answer  Invalid answer  Invalid answer  Invalid answer   \n",
      "51656             Yes            19.0             Yes            20.0   \n",
      "...               ...             ...             ...             ...   \n",
      "71907  Invalid answer  Invalid answer  Invalid answer  Invalid answer   \n",
      "71908  Invalid answer  Invalid answer  Invalid answer  Invalid answer   \n",
      "71909  Invalid answer  Invalid answer  Invalid answer  Invalid answer   \n",
      "71911             Yes            22.0              No  Invalid answer   \n",
      "71915  Invalid answer  Invalid answer  Invalid answer  Invalid answer   \n",
      "\n",
      "            HardDrugs         SexEver          SexAge SexNumPartnLife  \\\n",
      "ID                                                                      \n",
      "51624             Yes             Yes            16.0             8.0   \n",
      "51630             Yes             Yes            12.0            10.0   \n",
      "51647              No             Yes            13.0            20.0   \n",
      "51654              No             Yes            17.0            15.0   \n",
      "51656             Yes             Yes            22.0             7.0   \n",
      "...               ...             ...             ...             ...   \n",
      "71907  Invalid answer  Invalid answer  Invalid answer  Invalid answer   \n",
      "71908              No             Yes            18.0             1.0   \n",
      "71909  Invalid answer  Invalid answer  Invalid answer  Invalid answer   \n",
      "71911              No             Yes            21.0             1.0   \n",
      "71915              No             Yes            19.0             2.0   \n",
      "\n",
      "       SexNumPartYear         SameSex  SexOrientation     PregnantNow  \n",
      "ID                                                                     \n",
      "51624             1.0              No    Heterosexual  Invalid answer  \n",
      "51630             1.0             Yes    Heterosexual  Invalid answer  \n",
      "51647             0.0             Yes        Bisexual  Invalid answer  \n",
      "51654  Invalid answer              No  Invalid answer  Invalid answer  \n",
      "51656             1.0              No    Heterosexual  Invalid answer  \n",
      "...               ...             ...             ...             ...  \n",
      "71907  Invalid answer  Invalid answer  Invalid answer  Invalid answer  \n",
      "71908  Invalid answer              No  Invalid answer  Invalid answer  \n",
      "71909  Invalid answer  Invalid answer  Invalid answer  Invalid answer  \n",
      "71911             1.0              No    Heterosexual  Invalid answer  \n",
      "71915  Invalid answer              No  Invalid answer  Invalid answer  \n",
      "\n",
      "[4562 rows x 74 columns]\n"
     ]
    }
   ],
   "source": [
    "#create subset of adults 21 and over\n",
    "adult_nhanes = nhanes_data3[nhanes_data3['Age']>=21]\n",
    "print(adult_nhanes)"
   ],
   "metadata": {
    "collapsed": false,
    "pycharm": {
     "name": "#%%\n"
    }
   }
  },
  {
   "cell_type": "code",
   "execution_count": 23,
   "outputs": [
    {
     "name": "stdout",
     "output_type": "stream",
     "text": [
      "<class 'pandas.core.frame.DataFrame'>\n",
      "Int64Index: 4562 entries, 51624 to 71915\n",
      "Data columns (total 74 columns):\n",
      " #   Column            Non-Null Count  Dtype \n",
      "---  ------            --------------  ----- \n",
      " 0   SurveyYr          4562 non-null   object\n",
      " 1   Gender            4562 non-null   object\n",
      " 2   Age               4562 non-null   int64 \n",
      " 3   AgeDecade         4562 non-null   object\n",
      " 4   AgeMonths         4562 non-null   object\n",
      " 5   Race1             4562 non-null   object\n",
      " 6   Race3             4562 non-null   object\n",
      " 7   Education         4562 non-null   object\n",
      " 8   MaritalStatus     4562 non-null   object\n",
      " 9   HHIncome          4562 non-null   object\n",
      " 10  HHIncomeMid       4562 non-null   object\n",
      " 11  Poverty           4562 non-null   object\n",
      " 12  HomeRooms         4562 non-null   object\n",
      " 13  HomeOwn           4562 non-null   object\n",
      " 14  Work              4562 non-null   object\n",
      " 15  Weight            4562 non-null   object\n",
      " 16  Length            4562 non-null   object\n",
      " 17  HeadCirc          4562 non-null   object\n",
      " 18  Height            4562 non-null   object\n",
      " 19  BMI               4562 non-null   object\n",
      " 20  BMICatUnder20yrs  4562 non-null   object\n",
      " 21  BMI_WHO           4562 non-null   object\n",
      " 22  Pulse             4562 non-null   object\n",
      " 23  BPSysAve          4562 non-null   object\n",
      " 24  BPDiaAve          4562 non-null   object\n",
      " 25  BPSys1            4562 non-null   object\n",
      " 26  BPDia1            4562 non-null   object\n",
      " 27  BPSys2            4562 non-null   object\n",
      " 28  BPDia2            4562 non-null   object\n",
      " 29  BPSys3            4562 non-null   object\n",
      " 30  BPDia3            4562 non-null   object\n",
      " 31  Testosterone      4562 non-null   object\n",
      " 32  DirectChol        4562 non-null   object\n",
      " 33  TotChol           4562 non-null   object\n",
      " 34  UrineVol1         4562 non-null   object\n",
      " 35  UrineFlow1        4562 non-null   object\n",
      " 36  UrineVol2         4562 non-null   object\n",
      " 37  UrineFlow2        4562 non-null   object\n",
      " 38  Diabetes          4562 non-null   object\n",
      " 39  DiabetesAge       4562 non-null   object\n",
      " 40  HealthGen         4562 non-null   object\n",
      " 41  DaysPhysHlthBad   4562 non-null   object\n",
      " 42  DaysMentHlthBad   4562 non-null   object\n",
      " 43  LittleInterest    4562 non-null   object\n",
      " 44  Depressed         4562 non-null   object\n",
      " 45  nPregnancies      4562 non-null   object\n",
      " 46  nBabies           4562 non-null   object\n",
      " 47  Age1stBaby        4562 non-null   object\n",
      " 48  SleepHrsNight     4562 non-null   object\n",
      " 49  SleepTrouble      4562 non-null   object\n",
      " 50  PhysActive        4562 non-null   object\n",
      " 51  TVHrsDay          4562 non-null   object\n",
      " 52  CompHrsDay        4562 non-null   object\n",
      " 53  TVHrsDayChild     4562 non-null   object\n",
      " 54  CompHrsDayChild   4562 non-null   object\n",
      " 55  Alcohol12PlusYr   4562 non-null   object\n",
      " 56  AlcoholDay        4562 non-null   object\n",
      " 57  AlcoholYear       4562 non-null   object\n",
      " 58  SmokeNow          4562 non-null   object\n",
      " 59  Smoke100          4562 non-null   object\n",
      " 60  Smoke100n         4562 non-null   object\n",
      " 61  SmokeAge          4562 non-null   object\n",
      " 62  Marijuana         4562 non-null   object\n",
      " 63  AgeFirstMarij     4562 non-null   object\n",
      " 64  RegularMarij      4562 non-null   object\n",
      " 65  AgeRegMarij       4562 non-null   object\n",
      " 66  HardDrugs         4562 non-null   object\n",
      " 67  SexEver           4562 non-null   object\n",
      " 68  SexAge            4562 non-null   object\n",
      " 69  SexNumPartnLife   4562 non-null   object\n",
      " 70  SexNumPartYear    4562 non-null   object\n",
      " 71  SameSex           4562 non-null   object\n",
      " 72  SexOrientation    4562 non-null   object\n",
      " 73  PregnantNow       4562 non-null   object\n",
      "dtypes: int64(1), object(73)\n",
      "memory usage: 2.6+ MB\n"
     ]
    }
   ],
   "source": [
    "#4470 adults in subset\n",
    "adult_nhanes.info()"
   ],
   "metadata": {
    "collapsed": false,
    "pycharm": {
     "name": "#%%\n"
    }
   }
  },
  {
   "cell_type": "code",
   "execution_count": 24,
   "outputs": [
    {
     "name": "stdout",
     "output_type": "stream",
     "text": [
      "      SurveyYr  Age       Education MaritalStatus HomeOwn        Work  \\\n",
      "ID                                                                      \n",
      "51624  2009_10   34     High School       Married     Own  NotWorking   \n",
      "51630  2009_10   49    Some College   LivePartner    Rent  NotWorking   \n",
      "51647  2009_10   45    College Grad       Married     Own     Working   \n",
      "51654  2009_10   66    Some College       Married     Own  NotWorking   \n",
      "51656  2009_10   58    College Grad      Divorced    Rent     Working   \n",
      "...        ...  ...             ...           ...     ...         ...   \n",
      "71907  2011_12   80     High School       Married     Own  NotWorking   \n",
      "71908  2011_12   66    College Grad       Widowed     Own     Working   \n",
      "71909  2011_12   28  9 - 11th Grade  NeverMarried    Rent     Working   \n",
      "71911  2011_12   27    College Grad       Married     Own     Working   \n",
      "71915  2011_12   60    College Grad  NeverMarried     Own     Working   \n",
      "\n",
      "          HHIncome    BMI DaysMentHlthBad       Depressed        TVHrsDay  \n",
      "ID                                                                         \n",
      "51624  25000-34999  32.22            15.0         Several  Invalid answer  \n",
      "51630  35000-44999  30.57            10.0         Several  Invalid answer  \n",
      "51647  75000-99999  27.24             3.0            None  Invalid answer  \n",
      "51654  25000-34999  23.67             0.0            None  Invalid answer  \n",
      "51656   more 99999  23.69             0.0            None  Invalid answer  \n",
      "...            ...    ...             ...             ...             ...  \n",
      "71907  55000-64999   23.2             0.0            None            3_hr  \n",
      "71908  65000-74999   35.1             0.0            None            2_hr  \n",
      "71909    5000-9999   29.4  Invalid answer  Invalid answer            1_hr  \n",
      "71911  75000-99999   31.3             2.0            None            1_hr  \n",
      "71915  65000-74999   27.5             2.0            None            2_hr  \n",
      "\n",
      "[4562 rows x 11 columns]\n"
     ]
    }
   ],
   "source": [
    "#create a subset with the columns to focus on \n",
    "nhanes_analysis1 = adult_nhanes[[\"SurveyYr\", \"Age\", \"Education\", \"MaritalStatus\", \"HomeOwn\", \"Work\", \"HHIncome\", \"BMI\", \"DaysMentHlthBad\", \"Depressed\", \"TVHrsDay\"]]\n",
    "print(nhanes_analysis1)"
   ],
   "metadata": {
    "collapsed": false,
    "pycharm": {
     "name": "#%%\n"
    }
   }
  },
  {
   "cell_type": "code",
   "execution_count": 25,
   "outputs": [
    {
     "name": "stdout",
     "output_type": "stream",
     "text": [
      "object\n"
     ]
    }
   ],
   "source": [
    "print(nhanes_analysis1['SurveyYr'].dtype)"
   ],
   "metadata": {
    "collapsed": false,
    "pycharm": {
     "name": "#%%\n"
    }
   }
  },
  {
   "cell_type": "code",
   "execution_count": 26,
   "outputs": [
    {
     "name": "stdout",
     "output_type": "stream",
     "text": [
      "      SurveyYr  Age       Education MaritalStatus HomeOwn        Work  \\\n",
      "ID                                                                      \n",
      "51624  2009_10   34     High School       Married     Own  NotWorking   \n",
      "51630  2009_10   49    Some College   LivePartner    Rent  NotWorking   \n",
      "51647  2009_10   45    College Grad       Married     Own     Working   \n",
      "51654  2009_10   66    Some College       Married     Own  NotWorking   \n",
      "51656  2009_10   58    College Grad      Divorced    Rent     Working   \n",
      "...        ...  ...             ...           ...     ...         ...   \n",
      "71907  2011_12   80     High School       Married     Own  NotWorking   \n",
      "71908  2011_12   66    College Grad       Widowed     Own     Working   \n",
      "71909  2011_12   28  9 - 11th Grade  NeverMarried    Rent     Working   \n",
      "71911  2011_12   27    College Grad       Married     Own     Working   \n",
      "71915  2011_12   60    College Grad  NeverMarried     Own     Working   \n",
      "\n",
      "          HHIncome    BMI DaysMentHlthBad       Depressed        TVHrsDay  \n",
      "ID                                                                         \n",
      "51624  25000-34999  32.22            15.0         Several  Invalid answer  \n",
      "51630  35000-44999  30.57            10.0         Several  Invalid answer  \n",
      "51647  75000-99999  27.24             3.0            None  Invalid answer  \n",
      "51654  25000-34999  23.67             0.0            None  Invalid answer  \n",
      "51656   more 99999  23.69             0.0            None  Invalid answer  \n",
      "...            ...    ...             ...             ...             ...  \n",
      "71907  55000-64999   23.2             0.0            None            3_hr  \n",
      "71908  65000-74999   35.1             0.0            None            2_hr  \n",
      "71909    5000-9999   29.4  Invalid answer  Invalid answer            1_hr  \n",
      "71911  75000-99999   31.3             2.0            None            1_hr  \n",
      "71915  65000-74999   27.5             2.0            None            2_hr  \n",
      "\n",
      "[4562 rows x 11 columns]\n"
     ]
    }
   ],
   "source": [
    "print(nhanes_analysis1)"
   ],
   "metadata": {
    "collapsed": false,
    "pycharm": {
     "name": "#%%\n"
    }
   }
  },
  {
   "cell_type": "code",
   "execution_count": 27,
   "outputs": [],
   "source": [
    "#removing python warning with regard to sliced DataFrame\n",
    "nhanes_analysis1.is_copy = False"
   ],
   "metadata": {
    "collapsed": false,
    "pycharm": {
     "name": "#%%\n"
    }
   }
  },
  {
   "cell_type": "code",
   "execution_count": 28,
   "outputs": [],
   "source": [
    "#removing python warning with regard to sliced DataFrame\n",
    "pd.set_option('mode.chained_assignment', None)"
   ],
   "metadata": {
    "collapsed": false,
    "pycharm": {
     "name": "#%%\n"
    }
   }
  },
  {
   "cell_type": "code",
   "execution_count": 29,
   "outputs": [
    {
     "name": "stdout",
     "output_type": "stream",
     "text": [
      "      SurveyYr  Age       Education MaritalStatus HomeOwn        Work  \\\n",
      "ID                                                                      \n",
      "51624  2009_10   34     High School       Married     Own  NotWorking   \n",
      "51630  2009_10   49    Some College   LivePartner    Rent  NotWorking   \n",
      "51647  2009_10   45    College Grad       Married     Own     Working   \n",
      "51654  2009_10   66    Some College       Married     Own  NotWorking   \n",
      "51656  2009_10   58    College Grad      Divorced    Rent     Working   \n",
      "...        ...  ...             ...           ...     ...         ...   \n",
      "71907  2011_12   80     High School       Married     Own  NotWorking   \n",
      "71908  2011_12   66    College Grad       Widowed     Own     Working   \n",
      "71909  2011_12   28  9 - 11th Grade  NeverMarried    Rent     Working   \n",
      "71911  2011_12   27    College Grad       Married     Own     Working   \n",
      "71915  2011_12   60    College Grad  NeverMarried     Own     Working   \n",
      "\n",
      "          HHIncome    BMI DaysMentHlthBad       Depressed        TVHrsDay  \\\n",
      "ID                                                                          \n",
      "51624  25000-34999  32.22            15.0         Several  Invalid answer   \n",
      "51630  35000-44999  30.57            10.0         Several  Invalid answer   \n",
      "51647  75000-99999  27.24             3.0            None  Invalid answer   \n",
      "51654  25000-34999  23.67             0.0            None  Invalid answer   \n",
      "51656   more 99999  23.69             0.0            None  Invalid answer   \n",
      "...            ...    ...             ...             ...             ...   \n",
      "71907  55000-64999   23.2             0.0            None            3_hr   \n",
      "71908  65000-74999   35.1             0.0            None            2_hr   \n",
      "71909    5000-9999   29.4  Invalid answer  Invalid answer            1_hr   \n",
      "71911  75000-99999   31.3             2.0            None            1_hr   \n",
      "71915  65000-74999   27.5             2.0            None            2_hr   \n",
      "\n",
      "      YearSurvey  \n",
      "ID                \n",
      "51624       2009  \n",
      "51630       2009  \n",
      "51647       2009  \n",
      "51654       2009  \n",
      "51656       2009  \n",
      "...          ...  \n",
      "71907       2011  \n",
      "71908       2011  \n",
      "71909       2011  \n",
      "71911       2011  \n",
      "71915       2011  \n",
      "\n",
      "[4562 rows x 12 columns]\n"
     ]
    }
   ],
   "source": [
    "#to find year of birth we need the year of the survey, new column added\n",
    "nhanes_analysis1['YearSurvey'] = nhanes_analysis1['SurveyYr'].str[:4]\n",
    "print(nhanes_analysis1)"
   ],
   "metadata": {
    "collapsed": false,
    "pycharm": {
     "name": "#%%\n"
    }
   }
  },
  {
   "cell_type": "code",
   "execution_count": 30,
   "outputs": [
    {
     "name": "stdout",
     "output_type": "stream",
     "text": [
      "<class 'pandas.core.frame.DataFrame'>\n",
      "Int64Index: 4562 entries, 51624 to 71915\n",
      "Data columns (total 12 columns):\n",
      " #   Column           Non-Null Count  Dtype \n",
      "---  ------           --------------  ----- \n",
      " 0   SurveyYr         4562 non-null   object\n",
      " 1   Age              4562 non-null   int64 \n",
      " 2   Education        4562 non-null   object\n",
      " 3   MaritalStatus    4562 non-null   object\n",
      " 4   HomeOwn          4562 non-null   object\n",
      " 5   Work             4562 non-null   object\n",
      " 6   HHIncome         4562 non-null   object\n",
      " 7   BMI              4562 non-null   object\n",
      " 8   DaysMentHlthBad  4562 non-null   object\n",
      " 9   Depressed        4562 non-null   object\n",
      " 10  TVHrsDay         4562 non-null   object\n",
      " 11  YearSurvey       4562 non-null   object\n",
      "dtypes: int64(1), object(11)\n",
      "memory usage: 463.3+ KB\n"
     ]
    }
   ],
   "source": [
    "nhanes_analysis1.info()"
   ],
   "metadata": {
    "collapsed": false,
    "pycharm": {
     "name": "#%%\n"
    }
   }
  },
  {
   "cell_type": "code",
   "execution_count": 31,
   "outputs": [],
   "source": [
    "#YearSurvey must be converted to int in order to calculate Year of Birth\n",
    "nhanes_analysis1['YearSurvey'] = nhanes_analysis1['YearSurvey'].astype(int)"
   ],
   "metadata": {
    "collapsed": false,
    "pycharm": {
     "name": "#%%\n"
    }
   }
  },
  {
   "cell_type": "code",
   "execution_count": 32,
   "outputs": [
    {
     "name": "stdout",
     "output_type": "stream",
     "text": [
      "<class 'pandas.core.frame.DataFrame'>\n",
      "Int64Index: 4562 entries, 51624 to 71915\n",
      "Data columns (total 12 columns):\n",
      " #   Column           Non-Null Count  Dtype \n",
      "---  ------           --------------  ----- \n",
      " 0   SurveyYr         4562 non-null   object\n",
      " 1   Age              4562 non-null   int64 \n",
      " 2   Education        4562 non-null   object\n",
      " 3   MaritalStatus    4562 non-null   object\n",
      " 4   HomeOwn          4562 non-null   object\n",
      " 5   Work             4562 non-null   object\n",
      " 6   HHIncome         4562 non-null   object\n",
      " 7   BMI              4562 non-null   object\n",
      " 8   DaysMentHlthBad  4562 non-null   object\n",
      " 9   Depressed        4562 non-null   object\n",
      " 10  TVHrsDay         4562 non-null   object\n",
      " 11  YearSurvey       4562 non-null   int32 \n",
      "dtypes: int32(1), int64(1), object(10)\n",
      "memory usage: 445.5+ KB\n"
     ]
    }
   ],
   "source": [
    "nhanes_analysis1.info()"
   ],
   "metadata": {
    "collapsed": false,
    "pycharm": {
     "name": "#%%\n"
    }
   }
  },
  {
   "cell_type": "code",
   "execution_count": 33,
   "outputs": [
    {
     "name": "stdout",
     "output_type": "stream",
     "text": [
      "      SurveyYr  Age       Education MaritalStatus HomeOwn        Work  \\\n",
      "ID                                                                      \n",
      "51624  2009_10   34     High School       Married     Own  NotWorking   \n",
      "51630  2009_10   49    Some College   LivePartner    Rent  NotWorking   \n",
      "51647  2009_10   45    College Grad       Married     Own     Working   \n",
      "51654  2009_10   66    Some College       Married     Own  NotWorking   \n",
      "51656  2009_10   58    College Grad      Divorced    Rent     Working   \n",
      "...        ...  ...             ...           ...     ...         ...   \n",
      "71907  2011_12   80     High School       Married     Own  NotWorking   \n",
      "71908  2011_12   66    College Grad       Widowed     Own     Working   \n",
      "71909  2011_12   28  9 - 11th Grade  NeverMarried    Rent     Working   \n",
      "71911  2011_12   27    College Grad       Married     Own     Working   \n",
      "71915  2011_12   60    College Grad  NeverMarried     Own     Working   \n",
      "\n",
      "          HHIncome    BMI DaysMentHlthBad       Depressed        TVHrsDay  \\\n",
      "ID                                                                          \n",
      "51624  25000-34999  32.22            15.0         Several  Invalid answer   \n",
      "51630  35000-44999  30.57            10.0         Several  Invalid answer   \n",
      "51647  75000-99999  27.24             3.0            None  Invalid answer   \n",
      "51654  25000-34999  23.67             0.0            None  Invalid answer   \n",
      "51656   more 99999  23.69             0.0            None  Invalid answer   \n",
      "...            ...    ...             ...             ...             ...   \n",
      "71907  55000-64999   23.2             0.0            None            3_hr   \n",
      "71908  65000-74999   35.1             0.0            None            2_hr   \n",
      "71909    5000-9999   29.4  Invalid answer  Invalid answer            1_hr   \n",
      "71911  75000-99999   31.3             2.0            None            1_hr   \n",
      "71915  65000-74999   27.5             2.0            None            2_hr   \n",
      "\n",
      "       YearSurvey  YearOfBirth  \n",
      "ID                              \n",
      "51624        2009         1975  \n",
      "51630        2009         1960  \n",
      "51647        2009         1964  \n",
      "51654        2009         1943  \n",
      "51656        2009         1951  \n",
      "...           ...          ...  \n",
      "71907        2011         1931  \n",
      "71908        2011         1945  \n",
      "71909        2011         1983  \n",
      "71911        2011         1984  \n",
      "71915        2011         1951  \n",
      "\n",
      "[4562 rows x 13 columns]\n"
     ]
    }
   ],
   "source": [
    "#Year of birth calculation, new column added\n",
    "nhanes_analysis1['YearOfBirth'] = nhanes_analysis1['YearSurvey'] - nhanes_analysis1['Age']\n",
    "print(nhanes_analysis1)"
   ],
   "metadata": {
    "collapsed": false,
    "pycharm": {
     "name": "#%%\n"
    }
   }
  },
  {
   "cell_type": "code",
   "execution_count": 34,
   "outputs": [
    {
     "data": {
      "text/plain": "<zip at 0x1d2166c3400>"
     },
     "execution_count": 34,
     "metadata": {},
     "output_type": "execute_result"
    }
   ],
   "source": [
    "#Now we have our DataFrame for analysis , we can explore making columns into a list\n",
    "zip(nhanes_analysis1.Age)\n"
   ],
   "metadata": {
    "collapsed": false,
    "pycharm": {
     "name": "#%%\n"
    }
   }
  },
  {
   "cell_type": "code",
   "execution_count": 35,
   "outputs": [
    {
     "data": {
      "text/plain": "zip"
     },
     "execution_count": 35,
     "metadata": {},
     "output_type": "execute_result"
    }
   ],
   "source": [
    "type(zip(nhanes_analysis1.Age))"
   ],
   "metadata": {
    "collapsed": false,
    "pycharm": {
     "name": "#%%\n"
    }
   }
  },
  {
   "cell_type": "code",
   "execution_count": 36,
   "outputs": [
    {
     "name": "stdout",
     "output_type": "stream",
     "text": [
      "[(34,), (49,), (45,), (66,), (58,), (54,), (58,), (50,), (33,), (60,), (56,), (57,), (54,), (38,), (36,), (44,), (64,), (26,), (59,), (49,), (51,), (28,), (37,), (28,), (32,), (25,), (21,), (44,), (56,), (78,), (58,), (27,), (31,), (29,), (56,), (30,), (26,), (30,), (54,), (29,), (80,), (50,), (26,), (58,), (80,), (35,), (80,), (66,), (34,), (38,), (50,), (43,), (41,), (46,), (61,), (44,), (80,), (76,), (29,), (63,), (63,), (50,), (70,), (31,), (30,), (52,), (46,), (22,), (48,), (27,), (55,), (62,), (54,), (39,), (42,), (46,), (56,), (46,), (29,), (31,), (36,), (49,), (60,), (28,), (32,), (46,), (55,), (57,), (79,), (46,), (22,), (60,), (35,), (29,), (74,), (44,), (36,), (31,), (32,), (32,), (65,), (55,), (77,), (62,), (26,), (39,), (68,), (47,), (80,), (72,), (40,), (30,), (65,), (61,), (79,), (52,), (61,), (56,), (74,), (50,), (48,), (43,), (67,), (25,), (67,), (38,), (61,), (74,), (29,), (42,), (60,), (31,), (70,), (56,), (53,), (45,), (73,), (73,), (40,), (33,), (44,), (73,), (55,), (39,), (65,), (48,), (38,), (48,), (65,), (39,), (21,), (63,), (54,), (56,), (21,), (76,), (43,), (45,), (60,), (43,), (43,), (80,), (25,), (25,), (54,), (29,), (46,), (33,), (50,), (54,), (39,), (80,), (32,), (56,), (29,), (69,), (25,), (52,), (28,), (40,), (51,), (72,), (65,), (80,), (24,), (57,), (45,), (28,), (22,), (49,), (34,), (69,), (33,), (31,), (62,), (61,), (75,), (47,), (35,), (78,), (54,), (56,), (30,), (73,), (21,), (33,), (45,), (41,), (80,), (71,), (44,), (65,), (24,), (63,), (22,), (80,), (64,), (58,), (46,), (31,), (42,), (78,), (60,), (38,), (54,), (77,), (50,), (52,), (54,), (43,), (52,), (37,), (59,), (59,), (58,), (24,), (68,), (29,), (39,), (30,), (35,), (25,), (32,), (49,), (78,), (64,), (39,), (36,), (64,), (72,), (63,), (24,), (75,), (60,), (50,), (25,), (35,), (64,), (67,), (44,), (48,), (76,), (43,), (39,), (80,), (71,), (66,), (25,), (80,), (77,), (44,), (80,), (44,), (31,), (56,), (28,), (67,), (38,), (51,), (30,), (63,), (52,), (73,), (58,), (68,), (35,), (53,), (47,), (28,), (34,), (73,), (26,), (31,), (37,), (36,), (52,), (64,), (80,), (25,), (34,), (61,), (33,), (29,), (76,), (44,), (39,), (23,), (32,), (36,), (67,), (80,), (77,), (31,), (53,), (73,), (50,), (80,), (55,), (68,), (26,), (51,), (44,), (48,), (43,), (22,), (51,), (64,), (27,), (35,), (70,), (72,), (68,), (36,), (28,), (23,), (28,), (44,), (73,), (80,), (36,), (80,), (37,), (38,), (52,), (26,), (53,), (51,), (65,), (44,), (23,), (66,), (46,), (53,), (59,), (69,), (28,), (55,), (22,), (72,), (44,), (25,), (52,), (56,), (73,), (57,), (75,), (66,), (47,), (27,), (42,), (22,), (52,), (39,), (26,), (53,), (30,), (43,), (27,), (55,), (23,), (28,), (51,), (80,), (65,), (34,), (68,), (37,), (47,), (59,), (24,), (53,), (44,), (68,), (80,), (55,), (47,), (39,), (63,), (21,), (57,), (43,), (70,), (29,), (24,), (80,), (45,), (71,), (56,), (21,), (24,), (22,), (52,), (74,), (24,), (51,), (52,), (26,), (32,), (37,), (80,), (23,), (46,), (27,), (74,), (46,), (41,), (39,), (68,), (37,), (68,), (72,), (77,), (25,), (47,), (40,), (43,), (25,), (28,), (54,), (23,), (39,), (70,), (53,), (80,), (42,), (59,), (46,), (75,), (24,), (30,), (55,), (47,), (21,), (50,), (35,), (66,), (28,), (47,), (44,), (77,), (31,), (59,), (32,), (22,), (28,), (27,), (41,), (59,), (33,), (39,), (62,), (44,), (57,), (51,), (42,), (56,), (49,), (43,), (54,), (30,), (40,), (59,), (43,), (80,), (43,), (63,), (45,), (34,), (67,), (24,), (41,), (40,), (53,), (63,), (74,), (31,), (31,), (54,), (80,), (40,), (36,), (51,), (55,), (42,), (37,), (37,), (38,), (22,), (61,), (74,), (30,), (59,), (32,), (38,), (38,), (40,), (35,), (59,), (60,), (73,), (41,), (51,), (79,), (63,), (58,), (52,), (75,), (47,), (44,), (32,), (63,), (26,), (44,), (43,), (56,), (70,), (80,), (38,), (28,), (37,), (56,), (72,), (37,), (22,), (35,), (52,), (80,), (28,), (54,), (29,), (75,), (60,), (30,), (29,), (33,), (48,), (22,), (31,), (24,), (59,), (35,), (41,), (31,), (52,), (50,), (41,), (30,), (29,), (29,), (45,), (61,), (40,), (24,), (60,), (79,), (80,), (46,), (50,), (62,), (39,), (40,), (43,), (40,), (52,), (44,), (38,), (25,), (49,), (62,), (27,), (80,), (28,), (37,), (73,), (68,), (47,), (75,), (65,), (62,), (47,), (22,), (47,), (34,), (48,), (35,), (33,), (43,), (55,), (67,), (71,), (64,), (34,), (64,), (29,), (29,), (43,), (23,), (25,), (30,), (47,), (59,), (60,), (26,), (80,), (47,), (29,), (49,), (67,), (77,), (23,), (42,), (57,), (43,), (56,), (57,), (45,), (50,), (39,), (50,), (48,), (45,), (34,), (52,), (28,), (55,), (27,), (76,), (37,), (27,), (64,), (22,), (52,), (40,), (46,), (47,), (23,), (71,), (51,), (63,), (29,), (47,), (50,), (43,), (71,), (41,), (30,), (72,), (68,), (46,), (29,), (31,), (65,), (33,), (43,), (28,), (52,), (51,), (45,), (21,), (63,), (29,), (51,), (33,), (43,), (60,), (70,), (27,), (21,), (61,), (68,), (30,), (24,), (49,), (53,), (50,), (47,), (61,), (33,), (72,), (73,), (34,), (36,), (41,), (37,), (26,), (24,), (43,), (44,), (39,), (70,), (28,), (75,), (64,), (80,), (34,), (80,), (26,), (21,), (41,), (31,), (43,), (45,), (54,), (26,), (41,), (28,), (26,), (49,), (39,), (35,), (25,), (47,), (23,), (60,), (79,), (41,), (48,), (62,), (41,), (36,), (67,), (78,), (49,), (66,), (80,), (34,), (23,), (64,), (23,), (59,), (41,), (63,), (63,), (66,), (32,), (43,), (58,), (65,), (40,), (50,), (36,), (21,), (28,), (67,), (53,), (38,), (60,), (24,), (78,), (39,), (77,), (46,), (57,), (55,), (40,), (62,), (33,), (60,), (71,), (30,), (31,), (54,), (59,), (40,), (70,), (40,), (24,), (39,), (24,), (37,), (80,), (60,), (44,), (69,), (24,), (37,), (23,), (54,), (47,), (29,), (67,), (65,), (33,), (78,), (69,), (35,), (24,), (79,), (31,), (64,), (39,), (71,), (52,), (29,), (76,), (27,), (52,), (35,), (22,), (36,), (67,), (22,), (80,), (25,), (30,), (22,), (47,), (36,), (52,), (63,), (35,), (43,), (80,), (29,), (61,), (30,), (29,), (55,), (36,), (31,), (30,), (33,), (64,), (41,), (45,), (75,), (36,), (38,), (22,), (48,), (39,), (62,), (72,), (42,), (26,), (24,), (57,), (49,), (43,), (53,), (39,), (66,), (53,), (56,), (68,), (53,), (68,), (71,), (27,), (54,), (55,), (49,), (73,), (56,), (46,), (30,), (51,), (56,), (48,), (61,), (28,), (80,), (51,), (40,), (25,), (29,), (60,), (32,), (75,), (55,), (71,), (31,), (47,), (25,), (57,), (50,), (56,), (65,), (39,), (25,), (32,), (38,), (21,), (54,), (33,), (80,), (56,), (59,), (29,), (22,), (23,), (80,), (47,), (80,), (56,), (36,), (39,), (72,), (69,), (39,), (25,), (31,), (65,), (32,), (45,), (40,), (28,), (37,), (60,), (26,), (53,), (30,), (71,), (37,), (32,), (47,), (26,), (33,), (40,), (57,), (39,), (33,), (63,), (37,), (28,), (65,), (62,), (41,), (21,), (39,), (26,), (59,), (60,), (64,), (50,), (80,), (74,), (61,), (79,), (26,), (59,), (39,), (60,), (66,), (38,), (80,), (39,), (36,), (54,), (27,), (80,), (62,), (30,), (48,), (52,), (26,), (41,), (72,), (43,), (80,), (45,), (54,), (28,), (74,), (32,), (40,), (57,), (24,), (31,), (21,), (58,), (22,), (54,), (28,), (67,), (54,), (55,), (54,), (66,), (25,), (47,), (29,), (54,), (54,), (36,), (60,), (80,), (60,), (43,), (46,), (37,), (75,), (58,), (78,), (33,), (30,), (63,), (55,), (22,), (44,), (28,), (73,), (32,), (40,), (43,), (28,), (80,), (80,), (21,), (30,), (38,), (62,), (27,), (47,), (32,), (48,), (48,), (80,), (33,), (80,), (25,), (26,), (31,), (34,), (44,), (40,), (33,), (61,), (50,), (40,), (61,), (24,), (48,), (41,), (49,), (62,), (76,), (62,), (56,), (41,), (61,), (41,), (80,), (23,), (52,), (31,), (71,), (47,), (63,), (29,), (50,), (45,), (50,), (39,), (38,), (44,), (53,), (65,), (59,), (45,), (50,), (75,), (80,), (38,), (43,), (49,), (41,), (38,), (38,), (61,), (57,), (76,), (80,), (36,), (53,), (47,), (39,), (59,), (36,), (36,), (55,), (43,), (22,), (32,), (37,), (67,), (23,), (44,), (38,), (69,), (31,), (44,), (35,), (26,), (40,), (37,), (52,), (23,), (24,), (76,), (32,), (66,), (56,), (41,), (35,), (41,), (80,), (63,), (50,), (45,), (38,), (39,), (79,), (39,), (30,), (35,), (49,), (67,), (39,), (39,), (53,), (21,), (80,), (42,), (27,), (74,), (23,), (62,), (80,), (61,), (30,), (79,), (40,), (27,), (48,), (70,), (66,), (28,), (28,), (56,), (34,), (41,), (80,), (44,), (77,), (40,), (44,), (27,), (74,), (38,), (45,), (52,), (22,), (50,), (25,), (42,), (59,), (29,), (31,), (71,), (29,), (28,), (76,), (64,), (56,), (33,), (61,), (39,), (30,), (48,), (24,), (65,), (49,), (80,), (56,), (65,), (80,), (53,), (53,), (56,), (41,), (32,), (24,), (32,), (58,), (50,), (49,), (29,), (63,), (45,), (46,), (30,), (33,), (31,), (30,), (31,), (24,), (80,), (59,), (48,), (40,), (44,), (66,), (69,), (39,), (42,), (45,), (80,), (28,), (80,), (61,), (32,), (68,), (65,), (50,), (67,), (28,), (55,), (46,), (39,), (43,), (39,), (77,), (49,), (33,), (27,), (48,), (61,), (34,), (41,), (78,), (64,), (49,), (33,), (26,), (40,), (34,), (45,), (68,), (69,), (58,), (80,), (41,), (26,), (24,), (65,), (48,), (55,), (49,), (51,), (22,), (80,), (39,), (49,), (80,), (30,), (48,), (26,), (24,), (56,), (38,), (49,), (28,), (46,), (62,), (34,), (23,), (33,), (56,), (46,), (79,), (40,), (28,), (65,), (30,), (27,), (64,), (57,), (56,), (34,), (49,), (53,), (50,), (63,), (38,), (56,), (74,), (25,), (26,), (39,), (33,), (27,), (34,), (79,), (60,), (33,), (41,), (68,), (67,), (21,), (66,), (74,), (21,), (29,), (80,), (39,), (62,), (63,), (31,), (80,), (43,), (69,), (33,), (39,), (36,), (29,), (40,), (33,), (45,), (30,), (55,), (48,), (57,), (32,), (52,), (72,), (38,), (30,), (65,), (56,), (21,), (54,), (77,), (21,), (46,), (44,), (57,), (41,), (34,), (58,), (61,), (31,), (26,), (24,), (56,), (29,), (28,), (53,), (43,), (45,), (56,), (80,), (41,), (70,), (52,), (37,), (47,), (67,), (49,), (78,), (41,), (54,), (22,), (52,), (23,), (28,), (54,), (27,), (57,), (44,), (72,), (28,), (30,), (26,), (53,), (54,), (41,), (31,), (44,), (42,), (54,), (50,), (54,), (22,), (59,), (51,), (72,), (51,), (33,), (30,), (27,), (58,), (29,), (63,), (36,), (74,), (36,), (67,), (31,), (43,), (80,), (26,), (30,), (45,), (80,), (80,), (61,), (48,), (54,), (35,), (42,), (32,), (62,), (31,), (56,), (53,), (30,), (44,), (41,), (76,), (48,), (70,), (29,), (57,), (39,), (31,), (73,), (57,), (31,), (77,), (32,), (25,), (48,), (76,), (77,), (53,), (43,), (80,), (48,), (22,), (41,), (79,), (21,), (54,), (49,), (36,), (22,), (42,), (56,), (74,), (52,), (23,), (67,), (23,), (80,), (30,), (21,), (43,), (50,), (53,), (80,), (32,), (50,), (50,), (21,), (30,), (31,), (60,), (32,), (60,), (48,), (67,), (37,), (58,), (68,), (40,), (40,), (62,), (45,), (32,), (65,), (45,), (50,), (58,), (61,), (29,), (79,), (46,), (40,), (41,), (22,), (21,), (23,), (27,), (32,), (40,), (36,), (43,), (47,), (78,), (73,), (69,), (72,), (40,), (50,), (80,), (74,), (39,), (63,), (54,), (68,), (41,), (71,), (22,), (53,), (48,), (37,), (38,), (34,), (35,), (32,), (60,), (30,), (56,), (47,), (54,), (80,), (68,), (72,), (32,), (79,), (53,), (49,), (25,), (25,), (64,), (47,), (25,), (29,), (37,), (42,), (61,), (47,), (37,), (54,), (21,), (27,), (29,), (21,), (51,), (62,), (80,), (59,), (46,), (76,), (25,), (38,), (49,), (36,), (30,), (57,), (80,), (44,), (65,), (35,), (51,), (80,), (45,), (52,), (46,), (55,), (68,), (80,), (54,), (33,), (34,), (38,), (41,), (49,), (40,), (48,), (77,), (70,), (38,), (45,), (40,), (48,), (48,), (56,), (80,), (37,), (40,), (39,), (23,), (34,), (74,), (59,), (67,), (50,), (54,), (46,), (53,), (77,), (33,), (33,), (63,), (48,), (45,), (56,), (48,), (49,), (52,), (29,), (74,), (69,), (80,), (60,), (52,), (74,), (65,), (30,), (78,), (47,), (65,), (54,), (21,), (25,), (46,), (45,), (68,), (60,), (78,), (47,), (34,), (43,), (80,), (77,), (34,), (23,), (75,), (49,), (23,), (38,), (55,), (60,), (40,), (42,), (73,), (35,), (64,), (44,), (59,), (32,), (23,), (69,), (69,), (23,), (38,), (28,), (41,), (69,), (71,), (38,), (32,), (80,), (45,), (51,), (59,), (60,), (46,), (80,), (62,), (37,), (22,), (63,), (70,), (48,), (44,), (37,), (40,), (28,), (45,), (39,), (68,), (55,), (80,), (31,), (64,), (70,), (59,), (60,), (36,), (66,), (23,), (57,), (54,), (56,), (57,), (65,), (59,), (34,), (74,), (48,), (49,), (42,), (74,), (41,), (28,), (44,), (45,), (38,), (70,), (44,), (54,), (74,), (58,), (80,), (51,), (54,), (80,), (73,), (67,), (31,), (35,), (39,), (38,), (50,), (58,), (40,), (68,), (76,), (70,), (61,), (42,), (34,), (33,), (39,), (24,), (47,), (72,), (26,), (80,), (46,), (21,), (54,), (43,), (35,), (58,), (80,), (51,), (64,), (61,), (35,), (75,), (33,), (43,), (74,), (22,), (57,), (80,), (78,), (45,), (65,), (80,), (54,), (69,), (58,), (41,), (73,), (31,), (32,), (71,), (39,), (67,), (70,), (55,), (21,), (78,), (71,), (36,), (47,), (28,), (35,), (48,), (26,), (25,), (51,), (30,), (30,), (72,), (22,), (70,), (30,), (21,), (72,), (74,), (65,), (33,), (44,), (52,), (64,), (46,), (76,), (60,), (35,), (63,), (32,), (48,), (25,), (40,), (22,), (80,), (40,), (57,), (53,), (64,), (60,), (65,), (31,), (44,), (76,), (54,), (63,), (48,), (40,), (30,), (43,), (26,), (46,), (54,), (22,), (32,), (25,), (79,), (36,), (36,), (30,), (34,), (32,), (37,), (35,), (74,), (76,), (42,), (49,), (58,), (28,), (23,), (66,), (45,), (27,), (23,), (55,), (33,), (72,), (35,), (74,), (80,), (21,), (31,), (42,), (52,), (54,), (30,), (70,), (71,), (24,), (71,), (54,), (49,), (67,), (80,), (28,), (63,), (39,), (44,), (65,), (59,), (43,), (80,), (65,), (41,), (41,), (24,), (37,), (28,), (60,), (80,), (60,), (28,), (50,), (54,), (32,), (67,), (43,), (70,), (80,), (21,), (36,), (45,), (44,), (77,), (62,), (57,), (52,), (28,), (28,), (29,), (36,), (67,), (58,), (62,), (23,), (29,), (54,), (35,), (73,), (35,), (75,), (45,), (49,), (48,), (47,), (37,), (71,), (66,), (28,), (63,), (47,), (22,), (64,), (26,), (73,), (54,), (44,), (42,), (72,), (55,), (44,), (24,), (68,), (42,), (80,), (34,), (41,), (65,), (72,), (46,), (41,), (56,), (50,), (71,), (37,), (51,), (29,), (67,), (78,), (62,), (58,), (61,), (48,), (66,), (37,), (72,), (21,), (26,), (66,), (57,), (42,), (74,), (47,), (29,), (63,), (38,), (73,), (49,), (63,), (65,), (65,), (60,), (34,), (64,), (21,), (59,), (38,), (28,), (80,), (70,), (57,), (63,), (50,), (80,), (24,), (77,), (53,), (28,), (39,), (45,), (75,), (39,), (62,), (48,), (24,), (44,), (35,), (80,), (47,), (51,), (73,), (25,), (50,), (38,), (52,), (40,), (36,), (52,), (35,), (45,), (24,), (53,), (67,), (25,), (53,), (38,), (80,), (40,), (21,), (69,), (60,), (31,), (45,), (31,), (67,), (39,), (22,), (45,), (24,), (33,), (35,), (22,), (65,), (39,), (30,), (61,), (26,), (74,), (65,), (49,), (67,), (36,), (23,), (33,), (60,), (21,), (80,), (50,), (28,), (60,), (28,), (57,), (34,), (32,), (68,), (51,), (62,), (25,), (30,), (24,), (25,), (64,), (21,), (50,), (29,), (70,), (49,), (29,), (62,), (29,), (22,), (55,), (70,), (71,), (46,), (30,), (65,), (63,), (60,), (30,), (40,), (50,), (40,), (47,), (21,), (23,), (75,), (26,), (40,), (31,), (61,), (21,), (64,), (80,), (45,), (30,), (24,), (34,), (41,), (48,), (31,), (36,), (54,), (63,), (53,), (65,), (38,), (32,), (72,), (39,), (58,), (52,), (25,), (29,), (42,), (80,), (38,), (61,), (46,), (34,), (33,), (25,), (60,), (48,), (58,), (80,), (69,), (25,), (23,), (66,), (37,), (64,), (49,), (46,), (36,), (32,), (79,), (39,), (64,), (21,), (42,), (49,), (48,), (51,), (30,), (69,), (31,), (64,), (67,), (37,), (60,), (75,), (22,), (55,), (21,), (25,), (47,), (41,), (34,), (41,), (44,), (47,), (36,), (71,), (38,), (70,), (65,), (62,), (27,), (51,), (41,), (42,), (53,), (53,), (51,), (38,), (23,), (61,), (32,), (22,), (30,), (63,), (43,), (35,), (48,), (38,), (55,), (50,), (29,), (60,), (80,), (41,), (51,), (80,), (71,), (44,), (22,), (34,), (67,), (40,), (48,), (35,), (22,), (47,), (56,), (60,), (37,), (38,), (49,), (55,), (37,), (49,), (21,), (26,), (31,), (32,), (57,), (39,), (28,), (35,), (80,), (61,), (30,), (42,), (57,), (25,), (40,), (32,), (38,), (48,), (73,), (57,), (22,), (30,), (80,), (72,), (27,), (44,), (26,), (38,), (33,), (52,), (52,), (46,), (64,), (76,), (80,), (52,), (48,), (59,), (37,), (63,), (80,), (41,), (37,), (39,), (45,), (26,), (43,), (36,), (23,), (77,), (36,), (48,), (29,), (46,), (42,), (80,), (43,), (34,), (63,), (76,), (55,), (31,), (34,), (64,), (53,), (26,), (52,), (66,), (51,), (39,), (46,), (43,), (25,), (35,), (30,), (80,), (39,), (21,), (38,), (73,), (48,), (60,), (42,), (40,), (49,), (21,), (40,), (80,), (80,), (56,), (26,), (41,), (40,), (23,), (44,), (38,), (25,), (56,), (25,), (50,), (42,), (80,), (25,), (59,), (57,), (33,), (26,), (36,), (80,), (55,), (25,), (22,), (31,), (51,), (30,), (24,), (37,), (26,), (40,), (24,), (66,), (35,), (42,), (44,), (46,), (39,), (23,), (59,), (57,), (46,), (77,), (75,), (72,), (80,), (32,), (40,), (45,), (23,), (28,), (41,), (39,), (36,), (68,), (38,), (80,), (66,), (44,), (25,), (22,), (59,), (56,), (36,), (43,), (78,), (80,), (66,), (54,), (80,), (46,), (38,), (26,), (51,), (28,), (26,), (60,), (56,), (39,), (62,), (74,), (27,), (27,), (21,), (70,), (49,), (31,), (60,), (74,), (38,), (59,), (43,), (70,), (56,), (27,), (66,), (34,), (37,), (55,), (43,), (74,), (66,), (48,), (43,), (80,), (34,), (80,), (35,), (57,), (28,), (35,), (38,), (62,), (31,), (32,), (54,), (50,), (31,), (48,), (42,), (63,), (58,), (24,), (80,), (47,), (61,), (55,), (80,), (64,), (56,), (69,), (43,), (23,), (51,), (78,), (64,), (69,), (33,), (55,), (44,), (38,), (38,), (71,), (23,), (43,), (36,), (44,), (80,), (80,), (21,), (68,), (23,), (69,), (70,), (53,), (65,), (27,), (26,), (80,), (80,), (72,), (30,), (38,), (39,), (75,), (22,), (23,), (64,), (41,), (65,), (76,), (40,), (36,), (43,), (39,), (32,), (65,), (61,), (44,), (30,), (46,), (80,), (80,), (59,), (33,), (23,), (51,), (46,), (42,), (64,), (53,), (37,), (41,), (35,), (72,), (32,), (24,), (71,), (22,), (70,), (21,), (72,), (28,), (80,), (73,), (38,), (37,), (80,), (41,), (78,), (68,), (37,), (29,), (68,), (61,), (76,), (55,), (35,), (64,), (33,), (29,), (36,), (80,), (44,), (80,), (39,), (75,), (42,), (58,), (57,), (80,), (39,), (74,), (71,), (48,), (54,), (29,), (51,), (46,), (28,), (32,), (31,), (35,), (26,), (72,), (45,), (50,), (34,), (69,), (53,), (67,), (51,), (71,), (41,), (59,), (33,), (40,), (21,), (60,), (52,), (27,), (47,), (80,), (57,), (46,), (74,), (64,), (57,), (80,), (33,), (24,), (45,), (48,), (31,), (22,), (31,), (63,), (60,), (32,), (79,), (44,), (36,), (53,), (30,), (68,), (66,), (79,), (24,), (34,), (60,), (60,), (40,), (53,), (80,), (78,), (65,), (65,), (49,), (25,), (21,), (45,), (41,), (35,), (53,), (21,), (29,), (53,), (38,), (34,), (59,), (71,), (74,), (43,), (80,), (70,), (50,), (41,), (46,), (44,), (28,), (34,), (80,), (24,), (66,), (25,), (54,), (41,), (43,), (62,), (36,), (70,), (48,), (61,), (58,), (48,), (33,), (80,), (60,), (53,), (30,), (39,), (27,), (80,), (59,), (67,), (38,), (46,), (62,), (35,), (39,), (59,), (31,), (48,), (32,), (35,), (80,), (59,), (40,), (67,), (42,), (76,), (72,), (36,), (79,), (80,), (58,), (80,), (55,), (50,), (28,), (32,), (28,), (53,), (74,), (32,), (27,), (51,), (75,), (31,), (45,), (26,), (48,), (30,), (64,), (23,), (67,), (57,), (47,), (80,), (53,), (70,), (80,), (80,), (78,), (49,), (69,), (61,), (27,), (40,), (51,), (58,), (80,), (23,), (21,), (38,), (28,), (48,), (21,), (61,), (24,), (80,), (41,), (62,), (48,), (69,), (32,), (56,), (58,), (54,), (56,), (80,), (54,), (22,), (80,), (32,), (39,), (57,), (56,), (54,), (50,), (40,), (28,), (46,), (57,), (30,), (80,), (21,), (77,), (74,), (22,), (66,), (80,), (30,), (26,), (29,), (61,), (80,), (32,), (48,), (79,), (47,), (25,), (76,), (28,), (30,), (80,), (58,), (56,), (31,), (43,), (22,), (54,), (66,), (21,), (42,), (40,), (55,), (75,), (37,), (52,), (48,), (21,), (22,), (33,), (51,), (43,), (36,), (50,), (56,), (21,), (23,), (54,), (43,), (40,), (40,), (27,), (59,), (36,), (47,), (40,), (31,), (64,), (64,), (46,), (70,), (58,), (34,), (49,), (50,), (50,), (63,), (69,), (45,), (77,), (25,), (64,), (75,), (68,), (42,), (55,), (62,), (49,), (29,), (37,), (35,), (42,), (29,), (29,), (50,), (31,), (33,), (34,), (53,), (22,), (69,), (31,), (44,), (79,), (80,), (32,), (24,), (62,), (22,), (69,), (31,), (39,), (39,), (54,), (21,), (46,), (46,), (39,), (25,), (64,), (45,), (37,), (54,), (71,), (33,), (59,), (36,), (49,), (36,), (80,), (29,), (21,), (68,), (27,), (31,), (22,), (38,), (72,), (52,), (56,), (67,), (42,), (80,), (28,), (37,), (24,), (39,), (44,), (50,), (40,), (51,), (42,), (38,), (48,), (31,), (47,), (24,), (50,), (48,), (44,), (50,), (45,), (68,), (65,), (45,), (24,), (78,), (49,), (54,), (52,), (28,), (43,), (27,), (31,), (21,), (63,), (50,), (24,), (68,), (22,), (80,), (39,), (70,), (52,), (58,), (22,), (61,), (26,), (51,), (54,), (45,), (48,), (40,), (33,), (37,), (65,), (53,), (40,), (47,), (41,), (32,), (34,), (80,), (32,), (23,), (47,), (37,), (50,), (32,), (29,), (60,), (63,), (29,), (70,), (70,), (64,), (31,), (41,), (21,), (49,), (53,), (75,), (69,), (44,), (62,), (70,), (65,), (26,), (59,), (42,), (51,), (29,), (47,), (24,), (60,), (35,), (59,), (42,), (22,), (54,), (50,), (21,), (36,), (21,), (77,), (80,), (35,), (44,), (29,), (33,), (60,), (46,), (56,), (42,), (62,), (24,), (29,), (39,), (55,), (23,), (30,), (21,), (29,), (80,), (25,), (32,), (29,), (46,), (40,), (28,), (35,), (80,), (21,), (62,), (52,), (58,), (37,), (54,), (65,), (46,), (50,), (26,), (78,), (80,), (49,), (41,), (34,), (60,), (65,), (59,), (23,), (41,), (80,), (40,), (26,), (44,), (80,), (26,), (56,), (46,), (65,), (27,), (54,), (32,), (68,), (25,), (58,), (42,), (24,), (80,), (80,), (42,), (38,), (42,), (79,), (27,), (45,), (80,), (37,), (22,), (80,), (23,), (24,), (40,), (63,), (47,), (48,), (57,), (53,), (26,), (22,), (80,), (32,), (42,), (34,), (31,), (50,), (22,), (62,), (31,), (77,), (56,), (71,), (38,), (22,), (80,), (30,), (31,), (73,), (25,), (60,), (67,), (23,), (41,), (56,), (24,), (31,), (30,), (80,), (72,), (49,), (29,), (30,), (54,), (40,), (54,), (80,), (73,), (63,), (25,), (42,), (49,), (45,), (42,), (37,), (45,), (23,), (28,), (45,), (52,), (72,), (71,), (80,), (59,), (55,), (33,), (27,), (46,), (71,), (41,), (70,), (60,), (28,), (61,), (33,), (63,), (50,), (49,), (58,), (44,), (32,), (42,), (24,), (44,), (65,), (39,), (80,), (25,), (36,), (71,), (40,), (21,), (23,), (28,), (22,), (42,), (36,), (27,), (36,), (79,), (56,), (68,), (48,), (53,), (25,), (25,), (23,), (56,), (51,), (42,), (57,), (29,), (33,), (41,), (38,), (80,), (37,), (49,), (47,), (22,), (35,), (57,), (29,), (54,), (50,), (29,), (63,), (80,), (39,), (23,), (69,), (53,), (71,), (26,), (30,), (27,), (54,), (30,), (50,), (41,), (31,), (73,), (40,), (34,), (25,), (39,), (24,), (26,), (21,), (61,), (59,), (65,), (30,), (63,), (37,), (57,), (63,), (58,), (64,), (60,), (70,), (43,), (32,), (30,), (80,), (50,), (31,), (36,), (62,), (65,), (64,), (34,), (50,), (24,), (37,), (30,), (63,), (57,), (45,), (29,), (26,), (65,), (43,), (23,), (65,), (40,), (30,), (36,), (37,), (70,), (24,), (64,), (43,), (65,), (48,), (74,), (34,), (76,), (62,), (65,), (54,), (21,), (76,), (68,), (29,), (25,), (53,), (63,), (40,), (59,), (47,), (29,), (27,), (71,), (21,), (57,), (58,), (60,), (24,), (23,), (63,), (32,), (24,), (47,), (56,), (25,), (63,), (60,), (58,), (45,), (28,), (53,), (47,), (46,), (59,), (47,), (80,), (28,), (26,), (80,), (50,), (39,), (40,), (21,), (33,), (38,), (52,), (28,), (58,), (47,), (33,), (51,), (41,), (63,), (33,), (76,), (80,), (43,), (61,), (35,), (24,), (30,), (44,), (30,), (43,), (71,), (24,), (60,), (37,), (31,), (51,), (80,), (64,), (55,), (48,), (68,), (31,), (43,), (59,), (80,), (55,), (46,), (55,), (60,), (35,), (41,), (63,), (33,), (23,), (44,), (48,), (74,), (48,), (38,), (44,), (22,), (38,), (61,), (56,), (43,), (60,), (33,), (30,), (47,), (21,), (70,), (34,), (25,), (70,), (46,), (47,), (69,), (65,), (45,), (60,), (60,), (54,), (26,), (47,), (66,), (52,), (28,), (38,), (44,), (29,), (47,), (23,), (34,), (54,), (31,), (64,), (40,), (44,), (72,), (64,), (41,), (58,), (58,), (46,), (41,), (70,), (27,), (63,), (46,), (80,), (21,), (30,), (56,), (29,), (50,), (21,), (33,), (66,), (56,), (58,), (47,), (31,), (57,), (64,), (80,), (59,), (51,), (57,), (80,), (39,), (22,), (39,), (31,), (38,), (21,), (50,), (70,), (43,), (29,), (72,), (30,), (25,), (39,), (22,), (52,), (71,), (46,), (54,), (31,), (69,), (62,), (80,), (42,), (24,), (40,), (22,), (76,), (60,), (45,), (39,), (51,), (36,), (23,), (51,), (34,), (62,), (72,), (32,), (51,), (54,), (48,), (27,), (21,), (62,), (52,), (43,), (27,), (49,), (75,), (77,), (40,), (37,), (22,), (76,), (68,), (33,), (48,), (50,), (78,), (31,), (56,), (71,), (54,), (29,), (36,), (31,), (24,), (26,), (27,), (80,), (29,), (76,), (55,), (59,), (25,), (33,), (46,), (39,), (33,), (24,), (33,), (29,), (72,), (33,), (23,), (25,), (52,), (42,), (36,), (33,), (55,), (37,), (49,), (73,), (30,), (33,), (39,), (41,), (32,), (33,), (22,), (80,), (65,), (58,), (38,), (73,), (45,), (57,), (77,), (46,), (70,), (24,), (25,), (53,), (29,), (72,), (72,), (45,), (51,), (53,), (47,), (75,), (46,), (45,), (70,), (74,), (58,), (80,), (22,), (49,), (74,), (59,), (61,), (58,), (32,), (23,), (58,), (47,), (62,), (56,), (41,), (64,), (45,), (43,), (77,), (80,), (58,), (22,), (32,), (37,), (24,), (56,), (80,), (38,), (30,), (57,), (48,), (55,), (60,), (76,), (70,), (80,), (28,), (37,), (45,), (79,), (62,), (75,), (34,), (73,), (62,), (45,), (61,), (79,), (53,), (56,), (47,), (36,), (76,), (26,), (52,), (71,), (56,), (33,), (25,), (27,), (55,), (22,), (56,), (68,), (80,), (80,), (29,), (38,), (80,), (31,), (43,), (21,), (63,), (53,), (54,), (27,), (30,), (25,), (51,), (76,), (70,), (46,), (39,), (64,), (70,), (36,), (33,), (56,), (63,), (54,), (46,), (62,), (75,), (60,), (50,), (32,), (28,), (72,), (36,), (28,), (37,), (73,), (29,), (56,), (41,), (38,), (45,), (38,), (55,), (79,), (47,), (67,), (80,), (33,), (24,), (61,), (28,), (23,), (60,), (50,), (59,), (69,), (45,), (67,), (42,), (29,), (34,), (80,), (71,), (73,), (21,), (37,), (80,), (39,), (59,), (51,), (34,), (59,), (72,), (27,), (50,), (40,), (31,), (52,), (30,), (27,), (22,), (60,), (70,), (33,), (33,), (63,), (56,), (68,), (34,), (26,), (78,), (25,), (32,), (65,), (50,), (35,), (28,), (79,), (72,), (39,), (27,), (47,), (41,), (80,), (80,), (45,), (60,), (80,), (28,), (80,), (44,), (50,), (52,), (30,), (56,), (56,), (58,), (62,), (47,), (29,), (45,), (59,), (32,), (51,), (78,), (35,), (36,), (56,), (36,), (22,), (63,), (49,), (24,), (60,), (50,), (46,), (63,), (48,), (43,), (27,), (49,), (28,), (69,), (54,), (69,), (59,), (35,), (80,), (27,), (69,), (36,), (40,), (32,), (27,), (75,), (36,), (45,), (73,), (74,), (43,), (70,), (43,), (63,), (70,), (60,), (42,), (21,), (27,), (51,), (46,), (68,), (28,), (27,), (44,), (61,), (33,), (47,), (35,), (21,), (41,), (77,), (80,), (29,), (34,), (63,), (58,), (52,), (57,), (49,), (26,), (69,), (28,), (28,), (70,), (80,), (21,), (66,), (61,), (28,), (65,), (35,), (27,), (49,), (53,), (42,), (42,), (47,), (43,), (54,), (34,), (73,), (62,), (55,), (61,), (73,), (30,), (70,), (24,), (70,), (70,), (32,), (65,), (38,), (58,), (30,), (32,), (64,), (51,), (51,), (51,), (43,), (22,), (79,), (29,), (28,), (54,), (54,), (53,), (40,), (52,), (22,), (64,), (31,), (33,), (60,), (45,), (43,), (57,), (24,), (34,), (25,), (24,), (21,), (65,), (55,), (45,), (74,), (70,), (62,), (47,), (80,), (41,), (80,), (49,), (21,), (37,), (39,), (54,), (37,), (24,), (52,), (78,), (54,), (44,), (36,), (48,), (47,), (26,), (59,), (27,), (52,), (48,), (56,), (55,), (47,), (36,), (65,), (36,), (38,), (80,), (32,), (64,), (63,), (21,), (39,), (40,), (75,), (43,), (77,), (38,), (59,), (78,), (39,), (44,), (48,), (65,), (37,), (68,), (76,), (29,), (46,), (33,), (65,), (59,), (25,), (52,), (31,), (58,), (56,), (37,), (39,), (63,), (36,), (56,), (80,), (39,), (62,), (57,), (21,), (22,), (80,), (80,), (51,), (66,), (28,), (37,), (30,), (38,), (24,), (43,), (49,), (45,), (45,), (80,), (25,), (29,), (58,), (53,), (26,), (39,), (54,), (64,), (58,), (50,), (55,), (42,), (36,), (50,), (24,), (76,), (54,), (23,), (74,), (22,), (59,), (32,), (40,), (52,), (22,), (62,), (33,), (46,), (59,), (61,), (59,), (46,), (75,), (27,), (71,), (57,), (80,), (68,), (37,), (66,), (67,), (43,), (46,), (25,), (39,), (56,), (52,), (60,), (62,), (50,), (36,), (50,), (69,), (72,), (65,), (62,), (31,), (42,), (50,), (44,), (60,), (37,), (74,), (22,), (74,), (25,), (56,), (28,), (57,), (49,), (40,), (26,), (26,), (80,), (48,), (52,), (30,), (27,), (65,), (49,), (26,), (40,), (27,), (26,), (25,), (64,), (35,), (29,), (53,), (38,), (58,), (23,), (23,), (64,), (71,), (36,), (80,), (27,), (73,), (61,), (58,), (58,), (67,), (47,), (42,), (50,), (37,), (56,), (22,), (49,), (27,), (42,), (30,), (62,), (28,), (51,), (31,), (63,), (58,), (26,), (50,), (43,), (50,), (44,), (79,), (56,), (52,), (80,), (21,), (59,), (80,), (70,), (64,), (55,), (43,), (30,), (80,), (31,), (37,), (40,), (70,), (70,), (65,), (37,), (73,), (35,), (52,), (36,), (68,), (22,), (45,), (34,), (23,), (36,), (49,), (40,), (22,), (33,), (31,), (75,), (57,), (80,), (80,), (27,), (28,), (56,), (54,), (40,), (51,), (56,), (69,), (75,), (62,), (23,), (21,), (29,), (59,), (55,), (70,), (32,), (28,), (31,), (53,), (35,), (55,), (38,), (65,), (38,), (50,), (32,), (47,), (24,), (77,), (68,), (56,), (70,), (37,), (26,), (42,), (47,), (69,), (39,), (80,), (50,), (34,), (34,), (53,), (30,), (23,), (52,), (37,), (46,), (80,), (35,), (47,), (25,), (70,), (30,), (63,), (43,), (42,), (24,), (49,), (23,), (46,), (80,), (51,), (53,), (30,), (24,), (37,), (60,), (73,), (23,), (65,), (36,), (55,), (80,), (80,), (55,), (25,), (44,), (80,), (62,), (36,), (22,), (61,), (44,), (23,), (51,), (25,), (55,), (51,), (28,), (77,), (44,), (37,), (42,), (42,), (29,), (35,), (35,), (25,), (50,), (34,), (34,), (25,), (68,), (63,), (49,), (71,), (49,), (51,), (48,), (40,), (26,), (31,), (39,), (34,), (37,), (31,), (24,), (36,), (80,), (58,), (63,), (36,), (33,), (54,), (55,), (54,), (42,), (52,), (80,), (28,), (56,), (68,), (53,), (34,), (41,), (38,), (43,), (28,), (65,), (70,), (41,), (56,), (75,), (22,), (48,), (59,), (56,), (39,), (32,), (26,), (57,), (48,), (57,), (43,), (32,), (42,), (55,), (32,), (28,), (27,), (30,), (56,), (36,), (21,), (34,), (80,), (67,), (21,), (80,), (64,), (54,), (60,), (64,), (49,), (30,), (66,), (28,), (42,), (22,), (63,), (47,), (26,), (30,), (31,), (21,), (36,), (44,), (77,), (45,), (29,), (46,), (38,), (23,), (59,), (30,), (70,), (66,), (59,), (78,), (29,), (43,), (46,), (49,), (28,), (45,), (49,), (68,), (55,), (74,), (61,), (39,), (49,), (22,), (32,), (50,), (39,), (73,), (22,), (50,), (78,), (50,), (57,), (24,), (80,), (29,), (52,), (30,), (63,), (80,), (52,), (52,), (61,), (51,), (31,), (34,), (45,), (62,), (50,), (34,), (78,), (24,), (49,), (39,), (50,), (51,), (80,), (51,), (51,), (36,), (63,), (41,), (70,), (68,), (36,), (76,), (26,), (53,), (34,), (41,), (39,), (37,), (45,), (48,), (62,), (38,), (51,), (36,), (80,), (27,), (32,), (32,), (65,), (38,), (33,), (47,), (43,), (48,), (64,), (47,), (68,), (41,), (30,), (28,), (40,), (23,), (68,), (50,), (25,), (32,), (24,), (52,), (58,), (59,), (67,), (44,), (57,), (80,), (36,), (74,), (53,), (50,), (63,), (41,), (25,), (55,), (23,), (22,), (35,), (73,), (80,), (43,), (27,), (55,), (30,), (41,), (38,), (37,), (54,), (37,), (35,), (40,), (34,), (36,), (21,), (48,), (80,), (43,), (41,), (28,), (80,), (64,), (39,), (33,), (68,), (35,), (21,), (67,), (27,), (21,), (65,), (80,), (25,), (24,), (35,), (56,), (66,), (41,), (36,), (27,), (27,), (59,), (49,), (38,), (75,), (55,), (23,), (80,), (58,), (49,), (25,), (74,), (65,), (73,), (80,), (70,), (27,), (76,), (74,), (46,), (70,), (77,), (67,), (24,), (33,), (40,), (63,), (80,), (74,), (36,), (40,), (21,), (22,), (63,), (40,), (33,), (38,), (38,), (24,), (53,), (62,), (24,), (64,), (42,), (50,), (34,), (57,), (45,), (80,), (59,), (53,), (33,), (47,), (53,), (77,), (49,), (30,), (57,), (37,), (56,), (62,), (39,), (28,), (43,), (69,), (42,), (24,), (46,), (60,), (65,), (80,), (66,), (28,), (27,), (60,)]\n"
     ]
    }
   ],
   "source": [
    "age_list = list(zip(nhanes_analysis1.Age))\n",
    "print(age_list)"
   ],
   "metadata": {
    "collapsed": false,
    "pycharm": {
     "name": "#%%\n"
    }
   }
  },
  {
   "cell_type": "code",
   "execution_count": 37,
   "outputs": [
    {
     "name": "stdout",
     "output_type": "stream",
     "text": [
      "[[34]\n",
      " [49]\n",
      " [45]\n",
      " ...\n",
      " [28]\n",
      " [27]\n",
      " [60]]\n"
     ]
    }
   ],
   "source": [
    "#how does this look as a numpy array\n",
    "import numpy as np\n",
    "age_array = np.array(age_list)\n",
    "print(age_array)"
   ],
   "metadata": {
    "collapsed": false,
    "pycharm": {
     "name": "#%%\n"
    }
   }
  },
  {
   "cell_type": "code",
   "execution_count": 38,
   "outputs": [
    {
     "data": {
      "text/plain": "48.00131521262604"
     },
     "execution_count": 38,
     "metadata": {},
     "output_type": "execute_result"
    }
   ],
   "source": [
    "#average age of surveyed people\n",
    "age_array.mean()"
   ],
   "metadata": {
    "collapsed": false,
    "pycharm": {
     "name": "#%%\n"
    }
   }
  },
  {
   "cell_type": "code",
   "execution_count": 39,
   "outputs": [],
   "source": [
    "#lets count the people between 25 and 30 using a loop"
   ],
   "metadata": {
    "collapsed": false,
    "pycharm": {
     "name": "#%%\n"
    }
   }
  },
  {
   "cell_type": "code",
   "execution_count": 18,
   "id": "a79b23b1",
   "metadata": {},
   "outputs": [
    {
     "name": "stdout",
     "output_type": "stream",
     "text": [
      "['Married' 'Invalid answer' 'LivePartner' 'Divorced' 'NeverMarried'\n",
      " 'Separated' 'Widowed']\n"
     ]
    }
   ],
   "source": [
    "#There are 6 different Marital Status, what are these?\n",
    "mstat_unique_values = (nhanes_data3['MaritalStatus']).unique()\n",
    "print(mstat_unique_values)"
   ]
  },
  {
   "cell_type": "code",
   "execution_count": 19,
   "id": "45d41af9",
   "metadata": {},
   "outputs": [
    {
     "name": "stdout",
     "output_type": "stream",
     "text": [
      "['Several' 'Invalid answer' 'None' 'Most']\n"
     ]
    }
   ],
   "source": [
    "#Depressed unique answers\n",
    "depressed_unique_values = (nhanes_data3['Depressed']).unique()\n",
    "print(depressed_unique_values)"
   ]
  },
  {
   "cell_type": "code",
   "execution_count": 20,
   "id": "6546270d",
   "metadata": {},
   "outputs": [
    {
     "name": "stdout",
     "output_type": "stream",
     "text": [
      "['High School' 'Invalid answer' 'Some College' 'College Grad'\n",
      " '9 - 11th Grade' '8th Grade']\n"
     ]
    }
   ],
   "source": [
    "education_unique_values = (nhanes_data3['Education']).unique()\n",
    "print(education_unique_values)"
   ]
  },
  {
   "cell_type": "code",
   "execution_count": 21,
   "id": "de291c2b",
   "metadata": {},
   "outputs": [
    {
     "name": "stdout",
     "output_type": "stream",
     "text": [
      "['NotWorking' 'Invalid answer' 'Working' 'Looking']\n"
     ]
    }
   ],
   "source": [
    "work_unique_values = (nhanes_data3['Work']).unique()\n",
    "print(work_unique_values)"
   ]
  },
  {
   "cell_type": "code",
   "execution_count": 22,
   "id": "ed07cdb7",
   "metadata": {},
   "outputs": [
    {
     "name": "stdout",
     "output_type": "stream",
     "text": [
      "      SurveyYr  Gender  Age       AgeDecade       AgeMonths    Race1  \\\n",
      "ID                                                                     \n",
      "51624  2009_10    male   34           30-39           409.0    White   \n",
      "51630  2009_10  female   49           40-49           596.0    White   \n",
      "51647  2009_10  female   45           40-49           541.0    White   \n",
      "51654  2009_10    male   66           60-69           795.0    White   \n",
      "51656  2009_10    male   58           50-59           707.0    White   \n",
      "...        ...     ...  ...             ...             ...      ...   \n",
      "71907  2011_12    male   80  Invalid answer  Invalid answer    White   \n",
      "71908  2011_12  female   66           60-69  Invalid answer    White   \n",
      "71909  2011_12    male   28           20-29  Invalid answer  Mexican   \n",
      "71911  2011_12    male   27           20-29  Invalid answer  Mexican   \n",
      "71915  2011_12    male   60           60-69  Invalid answer    White   \n",
      "\n",
      "                Race3       Education MaritalStatus     HHIncome HHIncomeMid  \\\n",
      "ID                                                                             \n",
      "51624  Invalid answer     High School       Married  25000-34999     30000.0   \n",
      "51630  Invalid answer    Some College   LivePartner  35000-44999     40000.0   \n",
      "51647  Invalid answer    College Grad       Married  75000-99999     87500.0   \n",
      "51654  Invalid answer    Some College       Married  25000-34999     30000.0   \n",
      "51656  Invalid answer    College Grad      Divorced   more 99999    100000.0   \n",
      "...               ...             ...           ...          ...         ...   \n",
      "71907           White     High School       Married  55000-64999     60000.0   \n",
      "71908           White    College Grad       Widowed  65000-74999     70000.0   \n",
      "71909         Mexican  9 - 11th Grade  NeverMarried    5000-9999      7500.0   \n",
      "71911         Mexican    College Grad       Married  75000-99999     87500.0   \n",
      "71915           White    College Grad  NeverMarried  65000-74999     70000.0   \n",
      "\n",
      "      Poverty HomeRooms HomeOwn        Work Weight          Length  \\\n",
      "ID                                                                   \n",
      "51624    1.36       6.0     Own  NotWorking   87.4  Invalid answer   \n",
      "51630    1.91       5.0    Rent  NotWorking   86.7  Invalid answer   \n",
      "51647     5.0       6.0     Own     Working   75.7  Invalid answer   \n",
      "51654     2.2       5.0     Own  NotWorking   68.0  Invalid answer   \n",
      "51656     5.0      10.0    Rent     Working   78.4  Invalid answer   \n",
      "...       ...       ...     ...         ...    ...             ...   \n",
      "71907    4.08       6.0     Own  NotWorking   71.5  Invalid answer   \n",
      "71908    4.55       8.0     Own     Working   88.7  Invalid answer   \n",
      "71909    0.46       3.0    Rent     Working   92.3  Invalid answer   \n",
      "71911    3.25      10.0     Own     Working   96.7  Invalid answer   \n",
      "71915     5.0       4.0     Own     Working   78.4  Invalid answer   \n",
      "\n",
      "             HeadCirc Height    BMI BMICatUnder20yrs       BMI_WHO Pulse  \\\n",
      "ID                                                                         \n",
      "51624  Invalid answer  164.7  32.22   Invalid answer     30.0_plus  70.0   \n",
      "51630  Invalid answer  168.4  30.57   Invalid answer     30.0_plus  86.0   \n",
      "51647  Invalid answer  166.7  27.24   Invalid answer  25.0_to_29.9  62.0   \n",
      "51654  Invalid answer  169.5  23.67   Invalid answer  18.5_to_24.9  60.0   \n",
      "51656  Invalid answer  181.9  23.69   Invalid answer  18.5_to_24.9  62.0   \n",
      "...               ...    ...    ...              ...           ...   ...   \n",
      "71907  Invalid answer  175.4   23.2   Invalid answer  18.5_to_24.9  54.0   \n",
      "71908  Invalid answer  159.0   35.1   Invalid answer     30.0_plus  76.0   \n",
      "71909  Invalid answer  177.3   29.4   Invalid answer  25.0_to_29.9  68.0   \n",
      "71911  Invalid answer  175.8   31.3   Invalid answer     30.0_plus  74.0   \n",
      "71915  Invalid answer  168.8   27.5   Invalid answer  25.0_to_29.9  76.0   \n",
      "\n",
      "      BPSysAve BPDiaAve BPSys1 BPDia1 BPSys2 BPDia2 BPSys3 BPDia3  \\\n",
      "ID                                                                  \n",
      "51624    113.0     85.0  114.0   88.0  114.0   88.0  112.0   82.0   \n",
      "51630    112.0     75.0  118.0   82.0  108.0   74.0  116.0   76.0   \n",
      "51647    118.0     64.0  106.0   62.0  118.0   68.0  118.0   60.0   \n",
      "51654    111.0     63.0  124.0   64.0  108.0   62.0  114.0   64.0   \n",
      "51656    104.0     74.0  108.0   76.0  104.0   72.0  104.0   76.0   \n",
      "...        ...      ...    ...    ...    ...    ...    ...    ...   \n",
      "71907    148.0     70.0  150.0   72.0  150.0   70.0  146.0   70.0   \n",
      "71908    114.0     70.0  110.0   74.0  114.0   68.0  114.0   72.0   \n",
      "71909    124.0     65.0  124.0   62.0  126.0   64.0  122.0   66.0   \n",
      "71911    133.0     74.0  122.0   76.0  132.0   82.0  134.0   66.0   \n",
      "71915    147.0     73.0  150.0   72.0  148.0   74.0  146.0   72.0   \n",
      "\n",
      "         Testosterone DirectChol TotChol UrineVol1      UrineFlow1  \\\n",
      "ID                                                                   \n",
      "51624  Invalid answer       1.29    3.49     352.0  Invalid answer   \n",
      "51630  Invalid answer       1.16     6.7      77.0           0.094   \n",
      "51647  Invalid answer       2.12    5.82     106.0           1.116   \n",
      "51654  Invalid answer       0.67    4.99     113.0           0.489   \n",
      "51656  Invalid answer       0.96    4.24     163.0  Invalid answer   \n",
      "...               ...        ...     ...       ...             ...   \n",
      "71907           402.9       1.27    4.37      61.0           1.052   \n",
      "71908            26.0       1.86    6.47      29.0           0.659   \n",
      "71909          490.43       1.22     3.9      97.0           0.942   \n",
      "71911           509.0       1.06    5.72      63.0             0.6   \n",
      "71915          505.13       0.93    4.94     218.0           1.253   \n",
      "\n",
      "            UrineVol2      UrineFlow2 Diabetes     DiabetesAge  \\\n",
      "ID                                                               \n",
      "51624  Invalid answer  Invalid answer       No  Invalid answer   \n",
      "51630  Invalid answer  Invalid answer       No  Invalid answer   \n",
      "51647  Invalid answer  Invalid answer       No  Invalid answer   \n",
      "51654  Invalid answer  Invalid answer       No  Invalid answer   \n",
      "51656  Invalid answer  Invalid answer       No  Invalid answer   \n",
      "...               ...             ...      ...             ...   \n",
      "71907  Invalid answer  Invalid answer       No  Invalid answer   \n",
      "71908            94.0           0.627       No  Invalid answer   \n",
      "71909  Invalid answer  Invalid answer       No  Invalid answer   \n",
      "71911  Invalid answer  Invalid answer       No  Invalid answer   \n",
      "71915  Invalid answer  Invalid answer      Yes            56.0   \n",
      "\n",
      "            HealthGen DaysPhysHlthBad DaysMentHlthBad  LittleInterest  \\\n",
      "ID                                                                      \n",
      "51624            Good             0.0            15.0            Most   \n",
      "51630            Good             0.0            10.0         Several   \n",
      "51647           Vgood             0.0             3.0            None   \n",
      "51654           Vgood            10.0             0.0            None   \n",
      "51656           Vgood             0.0             0.0            None   \n",
      "...               ...             ...             ...             ...   \n",
      "71907            Good             0.0             0.0            None   \n",
      "71908       Excellent             0.0             0.0            None   \n",
      "71909  Invalid answer  Invalid answer  Invalid answer  Invalid answer   \n",
      "71911            Good             0.0             2.0            None   \n",
      "71915            Good             0.0             2.0            None   \n",
      "\n",
      "            Depressed    nPregnancies         nBabies      Age1stBaby  \\\n",
      "ID                                                                      \n",
      "51624         Several  Invalid answer  Invalid answer  Invalid answer   \n",
      "51630         Several             2.0             2.0            27.0   \n",
      "51647            None             1.0  Invalid answer  Invalid answer   \n",
      "51654            None  Invalid answer  Invalid answer  Invalid answer   \n",
      "51656            None  Invalid answer  Invalid answer  Invalid answer   \n",
      "...               ...             ...             ...             ...   \n",
      "71907            None  Invalid answer  Invalid answer  Invalid answer   \n",
      "71908            None             2.0             2.0            22.0   \n",
      "71909  Invalid answer  Invalid answer  Invalid answer  Invalid answer   \n",
      "71911            None  Invalid answer  Invalid answer  Invalid answer   \n",
      "71915            None  Invalid answer  Invalid answer  Invalid answer   \n",
      "\n",
      "      SleepHrsNight SleepTrouble PhysActive        TVHrsDay      CompHrsDay  \\\n",
      "ID                                                                            \n",
      "51624           4.0          Yes         No  Invalid answer  Invalid answer   \n",
      "51630           8.0          Yes         No  Invalid answer  Invalid answer   \n",
      "51647           8.0           No        Yes  Invalid answer  Invalid answer   \n",
      "51654           7.0           No        Yes  Invalid answer  Invalid answer   \n",
      "51656           5.0           No        Yes  Invalid answer  Invalid answer   \n",
      "...             ...          ...        ...             ...             ...   \n",
      "71907           5.0           No        Yes            3_hr           0_hrs   \n",
      "71908           6.0           No         No            2_hr       0_to_1_hr   \n",
      "71909           6.0           No        Yes            1_hr            2_hr   \n",
      "71911           6.0           No         No            1_hr       0_to_1_hr   \n",
      "71915           6.0           No         No            2_hr            1_hr   \n",
      "\n",
      "        TVHrsDayChild CompHrsDayChild Alcohol12PlusYr      AlcoholDay  \\\n",
      "ID                                                                      \n",
      "51624  Invalid answer  Invalid answer             Yes  Invalid answer   \n",
      "51630  Invalid answer  Invalid answer             Yes             2.0   \n",
      "51647  Invalid answer  Invalid answer             Yes             3.0   \n",
      "51654  Invalid answer  Invalid answer             Yes             1.0   \n",
      "51656  Invalid answer  Invalid answer             Yes             2.0   \n",
      "...               ...             ...             ...             ...   \n",
      "71907  Invalid answer  Invalid answer             Yes  Invalid answer   \n",
      "71908  Invalid answer  Invalid answer              No             1.0   \n",
      "71909  Invalid answer  Invalid answer  Invalid answer  Invalid answer   \n",
      "71911  Invalid answer  Invalid answer             Yes             5.0   \n",
      "71915  Invalid answer  Invalid answer             Yes  Invalid answer   \n",
      "\n",
      "          AlcoholYear        SmokeNow Smoke100   Smoke100n        SmokeAge  \\\n",
      "ID                                                                           \n",
      "51624             0.0              No      Yes      Smoker            18.0   \n",
      "51630            20.0             Yes      Yes      Smoker            38.0   \n",
      "51647            52.0  Invalid answer       No  Non-Smoker  Invalid answer   \n",
      "51654           100.0              No      Yes      Smoker            13.0   \n",
      "51656           104.0  Invalid answer       No  Non-Smoker  Invalid answer   \n",
      "...               ...             ...      ...         ...             ...   \n",
      "71907             0.0  Invalid answer       No  Non-Smoker  Invalid answer   \n",
      "71908             5.0  Invalid answer       No  Non-Smoker  Invalid answer   \n",
      "71909  Invalid answer             Yes      Yes      Smoker            18.0   \n",
      "71911             4.0  Invalid answer       No  Non-Smoker  Invalid answer   \n",
      "71915             0.0  Invalid answer       No  Non-Smoker  Invalid answer   \n",
      "\n",
      "            Marijuana   AgeFirstMarij    RegularMarij     AgeRegMarij  \\\n",
      "ID                                                                      \n",
      "51624             Yes            17.0              No  Invalid answer   \n",
      "51630             Yes            18.0              No  Invalid answer   \n",
      "51647             Yes            13.0              No  Invalid answer   \n",
      "51654  Invalid answer  Invalid answer  Invalid answer  Invalid answer   \n",
      "51656             Yes            19.0             Yes            20.0   \n",
      "...               ...             ...             ...             ...   \n",
      "71907  Invalid answer  Invalid answer  Invalid answer  Invalid answer   \n",
      "71908  Invalid answer  Invalid answer  Invalid answer  Invalid answer   \n",
      "71909  Invalid answer  Invalid answer  Invalid answer  Invalid answer   \n",
      "71911             Yes            22.0              No  Invalid answer   \n",
      "71915  Invalid answer  Invalid answer  Invalid answer  Invalid answer   \n",
      "\n",
      "            HardDrugs         SexEver          SexAge SexNumPartnLife  \\\n",
      "ID                                                                      \n",
      "51624             Yes             Yes            16.0             8.0   \n",
      "51630             Yes             Yes            12.0            10.0   \n",
      "51647              No             Yes            13.0            20.0   \n",
      "51654              No             Yes            17.0            15.0   \n",
      "51656             Yes             Yes            22.0             7.0   \n",
      "...               ...             ...             ...             ...   \n",
      "71907  Invalid answer  Invalid answer  Invalid answer  Invalid answer   \n",
      "71908              No             Yes            18.0             1.0   \n",
      "71909  Invalid answer  Invalid answer  Invalid answer  Invalid answer   \n",
      "71911              No             Yes            21.0             1.0   \n",
      "71915              No             Yes            19.0             2.0   \n",
      "\n",
      "       SexNumPartYear         SameSex  SexOrientation     PregnantNow  \n",
      "ID                                                                     \n",
      "51624             1.0              No    Heterosexual  Invalid answer  \n",
      "51630             1.0             Yes    Heterosexual  Invalid answer  \n",
      "51647             0.0             Yes        Bisexual  Invalid answer  \n",
      "51654  Invalid answer              No  Invalid answer  Invalid answer  \n",
      "51656             1.0              No    Heterosexual  Invalid answer  \n",
      "...               ...             ...             ...             ...  \n",
      "71907  Invalid answer  Invalid answer  Invalid answer  Invalid answer  \n",
      "71908  Invalid answer              No  Invalid answer  Invalid answer  \n",
      "71909  Invalid answer  Invalid answer  Invalid answer  Invalid answer  \n",
      "71911             1.0              No    Heterosexual  Invalid answer  \n",
      "71915  Invalid answer              No  Invalid answer  Invalid answer  \n",
      "\n",
      "[4562 rows x 74 columns]\n"
     ]
    }
   ],
   "source": [
    "#create subset of adults 21 and over\n",
    "adult_nhanes = nhanes_data3[nhanes_data3['Age']>=21]\n",
    "print(adult_nhanes)"
   ]
  },
  {
   "cell_type": "code",
   "execution_count": 23,
   "id": "1f66ab3f",
   "metadata": {},
   "outputs": [
    {
     "name": "stdout",
     "output_type": "stream",
     "text": [
      "<class 'pandas.core.frame.DataFrame'>\n",
      "Int64Index: 4562 entries, 51624 to 71915\n",
      "Data columns (total 74 columns):\n",
      " #   Column            Non-Null Count  Dtype \n",
      "---  ------            --------------  ----- \n",
      " 0   SurveyYr          4562 non-null   object\n",
      " 1   Gender            4562 non-null   object\n",
      " 2   Age               4562 non-null   int64 \n",
      " 3   AgeDecade         4562 non-null   object\n",
      " 4   AgeMonths         4562 non-null   object\n",
      " 5   Race1             4562 non-null   object\n",
      " 6   Race3             4562 non-null   object\n",
      " 7   Education         4562 non-null   object\n",
      " 8   MaritalStatus     4562 non-null   object\n",
      " 9   HHIncome          4562 non-null   object\n",
      " 10  HHIncomeMid       4562 non-null   object\n",
      " 11  Poverty           4562 non-null   object\n",
      " 12  HomeRooms         4562 non-null   object\n",
      " 13  HomeOwn           4562 non-null   object\n",
      " 14  Work              4562 non-null   object\n",
      " 15  Weight            4562 non-null   object\n",
      " 16  Length            4562 non-null   object\n",
      " 17  HeadCirc          4562 non-null   object\n",
      " 18  Height            4562 non-null   object\n",
      " 19  BMI               4562 non-null   object\n",
      " 20  BMICatUnder20yrs  4562 non-null   object\n",
      " 21  BMI_WHO           4562 non-null   object\n",
      " 22  Pulse             4562 non-null   object\n",
      " 23  BPSysAve          4562 non-null   object\n",
      " 24  BPDiaAve          4562 non-null   object\n",
      " 25  BPSys1            4562 non-null   object\n",
      " 26  BPDia1            4562 non-null   object\n",
      " 27  BPSys2            4562 non-null   object\n",
      " 28  BPDia2            4562 non-null   object\n",
      " 29  BPSys3            4562 non-null   object\n",
      " 30  BPDia3            4562 non-null   object\n",
      " 31  Testosterone      4562 non-null   object\n",
      " 32  DirectChol        4562 non-null   object\n",
      " 33  TotChol           4562 non-null   object\n",
      " 34  UrineVol1         4562 non-null   object\n",
      " 35  UrineFlow1        4562 non-null   object\n",
      " 36  UrineVol2         4562 non-null   object\n",
      " 37  UrineFlow2        4562 non-null   object\n",
      " 38  Diabetes          4562 non-null   object\n",
      " 39  DiabetesAge       4562 non-null   object\n",
      " 40  HealthGen         4562 non-null   object\n",
      " 41  DaysPhysHlthBad   4562 non-null   object\n",
      " 42  DaysMentHlthBad   4562 non-null   object\n",
      " 43  LittleInterest    4562 non-null   object\n",
      " 44  Depressed         4562 non-null   object\n",
      " 45  nPregnancies      4562 non-null   object\n",
      " 46  nBabies           4562 non-null   object\n",
      " 47  Age1stBaby        4562 non-null   object\n",
      " 48  SleepHrsNight     4562 non-null   object\n",
      " 49  SleepTrouble      4562 non-null   object\n",
      " 50  PhysActive        4562 non-null   object\n",
      " 51  TVHrsDay          4562 non-null   object\n",
      " 52  CompHrsDay        4562 non-null   object\n",
      " 53  TVHrsDayChild     4562 non-null   object\n",
      " 54  CompHrsDayChild   4562 non-null   object\n",
      " 55  Alcohol12PlusYr   4562 non-null   object\n",
      " 56  AlcoholDay        4562 non-null   object\n",
      " 57  AlcoholYear       4562 non-null   object\n",
      " 58  SmokeNow          4562 non-null   object\n",
      " 59  Smoke100          4562 non-null   object\n",
      " 60  Smoke100n         4562 non-null   object\n",
      " 61  SmokeAge          4562 non-null   object\n",
      " 62  Marijuana         4562 non-null   object\n",
      " 63  AgeFirstMarij     4562 non-null   object\n",
      " 64  RegularMarij      4562 non-null   object\n",
      " 65  AgeRegMarij       4562 non-null   object\n",
      " 66  HardDrugs         4562 non-null   object\n",
      " 67  SexEver           4562 non-null   object\n",
      " 68  SexAge            4562 non-null   object\n",
      " 69  SexNumPartnLife   4562 non-null   object\n",
      " 70  SexNumPartYear    4562 non-null   object\n",
      " 71  SameSex           4562 non-null   object\n",
      " 72  SexOrientation    4562 non-null   object\n",
      " 73  PregnantNow       4562 non-null   object\n",
      "dtypes: int64(1), object(73)\n",
      "memory usage: 2.6+ MB\n"
     ]
    }
   ],
   "source": [
    "#4470 adults in subset\n",
    "adult_nhanes.info()"
   ]
  },
  {
   "cell_type": "code",
   "execution_count": 24,
   "id": "76cf2a9d",
   "metadata": {},
   "outputs": [
    {
     "name": "stdout",
     "output_type": "stream",
     "text": [
      "      SurveyYr  Age       Education MaritalStatus HomeOwn        Work  \\\n",
      "ID                                                                      \n",
      "51624  2009_10   34     High School       Married     Own  NotWorking   \n",
      "51630  2009_10   49    Some College   LivePartner    Rent  NotWorking   \n",
      "51647  2009_10   45    College Grad       Married     Own     Working   \n",
      "51654  2009_10   66    Some College       Married     Own  NotWorking   \n",
      "51656  2009_10   58    College Grad      Divorced    Rent     Working   \n",
      "...        ...  ...             ...           ...     ...         ...   \n",
      "71907  2011_12   80     High School       Married     Own  NotWorking   \n",
      "71908  2011_12   66    College Grad       Widowed     Own     Working   \n",
      "71909  2011_12   28  9 - 11th Grade  NeverMarried    Rent     Working   \n",
      "71911  2011_12   27    College Grad       Married     Own     Working   \n",
      "71915  2011_12   60    College Grad  NeverMarried     Own     Working   \n",
      "\n",
      "          HHIncome    BMI DaysMentHlthBad       Depressed        TVHrsDay  \n",
      "ID                                                                         \n",
      "51624  25000-34999  32.22            15.0         Several  Invalid answer  \n",
      "51630  35000-44999  30.57            10.0         Several  Invalid answer  \n",
      "51647  75000-99999  27.24             3.0            None  Invalid answer  \n",
      "51654  25000-34999  23.67             0.0            None  Invalid answer  \n",
      "51656   more 99999  23.69             0.0            None  Invalid answer  \n",
      "...            ...    ...             ...             ...             ...  \n",
      "71907  55000-64999   23.2             0.0            None            3_hr  \n",
      "71908  65000-74999   35.1             0.0            None            2_hr  \n",
      "71909    5000-9999   29.4  Invalid answer  Invalid answer            1_hr  \n",
      "71911  75000-99999   31.3             2.0            None            1_hr  \n",
      "71915  65000-74999   27.5             2.0            None            2_hr  \n",
      "\n",
      "[4562 rows x 11 columns]\n"
     ]
    }
   ],
   "source": [
    "#create a subset with the columns to focus on \n",
    "nhanes_analysis1 = adult_nhanes[[\"SurveyYr\", \"Age\", \"Education\", \"MaritalStatus\", \"HomeOwn\", \"Work\", \"HHIncome\", \"BMI\", \"DaysMentHlthBad\", \"Depressed\", \"TVHrsDay\"]]\n",
    "print(nhanes_analysis1)"
   ]
  },
  {
   "cell_type": "code",
   "execution_count": 25,
   "id": "da2ea543",
   "metadata": {},
   "outputs": [
    {
     "name": "stdout",
     "output_type": "stream",
     "text": [
      "object\n"
     ]
    }
   ],
   "source": [
    "print(nhanes_analysis1['SurveyYr'].dtype)"
   ]
  },
  {
   "cell_type": "code",
   "execution_count": 26,
   "id": "2722c804",
   "metadata": {},
   "outputs": [
    {
     "name": "stdout",
     "output_type": "stream",
     "text": [
      "      SurveyYr  Age       Education MaritalStatus HomeOwn        Work  \\\n",
      "ID                                                                      \n",
      "51624  2009_10   34     High School       Married     Own  NotWorking   \n",
      "51630  2009_10   49    Some College   LivePartner    Rent  NotWorking   \n",
      "51647  2009_10   45    College Grad       Married     Own     Working   \n",
      "51654  2009_10   66    Some College       Married     Own  NotWorking   \n",
      "51656  2009_10   58    College Grad      Divorced    Rent     Working   \n",
      "...        ...  ...             ...           ...     ...         ...   \n",
      "71907  2011_12   80     High School       Married     Own  NotWorking   \n",
      "71908  2011_12   66    College Grad       Widowed     Own     Working   \n",
      "71909  2011_12   28  9 - 11th Grade  NeverMarried    Rent     Working   \n",
      "71911  2011_12   27    College Grad       Married     Own     Working   \n",
      "71915  2011_12   60    College Grad  NeverMarried     Own     Working   \n",
      "\n",
      "          HHIncome    BMI DaysMentHlthBad       Depressed        TVHrsDay  \n",
      "ID                                                                         \n",
      "51624  25000-34999  32.22            15.0         Several  Invalid answer  \n",
      "51630  35000-44999  30.57            10.0         Several  Invalid answer  \n",
      "51647  75000-99999  27.24             3.0            None  Invalid answer  \n",
      "51654  25000-34999  23.67             0.0            None  Invalid answer  \n",
      "51656   more 99999  23.69             0.0            None  Invalid answer  \n",
      "...            ...    ...             ...             ...             ...  \n",
      "71907  55000-64999   23.2             0.0            None            3_hr  \n",
      "71908  65000-74999   35.1             0.0            None            2_hr  \n",
      "71909    5000-9999   29.4  Invalid answer  Invalid answer            1_hr  \n",
      "71911  75000-99999   31.3             2.0            None            1_hr  \n",
      "71915  65000-74999   27.5             2.0            None            2_hr  \n",
      "\n",
      "[4562 rows x 11 columns]\n"
     ]
    }
   ],
   "source": [
    "print(nhanes_analysis1)"
   ]
  },
  {
   "cell_type": "code",
   "execution_count": 27,
   "id": "695192f7",
   "metadata": {},
   "outputs": [],
   "source": [
    "#removing python warning with regard to sliced DataFrame\n",
    "nhanes_analysis1.is_copy = False"
   ]
  },
  {
   "cell_type": "code",
   "execution_count": 28,
   "id": "536405ff",
   "metadata": {},
   "outputs": [],
   "source": [
    "#removing python warning with regard to sliced DataFrame\n",
    "pd.set_option('mode.chained_assignment', None)"
   ]
  },
  {
   "cell_type": "code",
   "execution_count": 29,
   "id": "ac00c8a9",
   "metadata": {},
   "outputs": [
    {
     "name": "stdout",
     "output_type": "stream",
     "text": [
      "      SurveyYr  Age       Education MaritalStatus HomeOwn        Work  \\\n",
      "ID                                                                      \n",
      "51624  2009_10   34     High School       Married     Own  NotWorking   \n",
      "51630  2009_10   49    Some College   LivePartner    Rent  NotWorking   \n",
      "51647  2009_10   45    College Grad       Married     Own     Working   \n",
      "51654  2009_10   66    Some College       Married     Own  NotWorking   \n",
      "51656  2009_10   58    College Grad      Divorced    Rent     Working   \n",
      "...        ...  ...             ...           ...     ...         ...   \n",
      "71907  2011_12   80     High School       Married     Own  NotWorking   \n",
      "71908  2011_12   66    College Grad       Widowed     Own     Working   \n",
      "71909  2011_12   28  9 - 11th Grade  NeverMarried    Rent     Working   \n",
      "71911  2011_12   27    College Grad       Married     Own     Working   \n",
      "71915  2011_12   60    College Grad  NeverMarried     Own     Working   \n",
      "\n",
      "          HHIncome    BMI DaysMentHlthBad       Depressed        TVHrsDay  \\\n",
      "ID                                                                          \n",
      "51624  25000-34999  32.22            15.0         Several  Invalid answer   \n",
      "51630  35000-44999  30.57            10.0         Several  Invalid answer   \n",
      "51647  75000-99999  27.24             3.0            None  Invalid answer   \n",
      "51654  25000-34999  23.67             0.0            None  Invalid answer   \n",
      "51656   more 99999  23.69             0.0            None  Invalid answer   \n",
      "...            ...    ...             ...             ...             ...   \n",
      "71907  55000-64999   23.2             0.0            None            3_hr   \n",
      "71908  65000-74999   35.1             0.0            None            2_hr   \n",
      "71909    5000-9999   29.4  Invalid answer  Invalid answer            1_hr   \n",
      "71911  75000-99999   31.3             2.0            None            1_hr   \n",
      "71915  65000-74999   27.5             2.0            None            2_hr   \n",
      "\n",
      "      YearSurvey  \n",
      "ID                \n",
      "51624       2009  \n",
      "51630       2009  \n",
      "51647       2009  \n",
      "51654       2009  \n",
      "51656       2009  \n",
      "...          ...  \n",
      "71907       2011  \n",
      "71908       2011  \n",
      "71909       2011  \n",
      "71911       2011  \n",
      "71915       2011  \n",
      "\n",
      "[4562 rows x 12 columns]\n"
     ]
    }
   ],
   "source": [
    "#to find year of birth we need the year of the survey, new column added\n",
    "nhanes_analysis1['YearSurvey'] = nhanes_analysis1['SurveyYr'].str[:4]\n",
    "print(nhanes_analysis1)"
   ]
  },
  {
   "cell_type": "code",
   "execution_count": 30,
   "id": "f277dbd6",
   "metadata": {},
   "outputs": [
    {
     "name": "stdout",
     "output_type": "stream",
     "text": [
      "<class 'pandas.core.frame.DataFrame'>\n",
      "Int64Index: 4562 entries, 51624 to 71915\n",
      "Data columns (total 12 columns):\n",
      " #   Column           Non-Null Count  Dtype \n",
      "---  ------           --------------  ----- \n",
      " 0   SurveyYr         4562 non-null   object\n",
      " 1   Age              4562 non-null   int64 \n",
      " 2   Education        4562 non-null   object\n",
      " 3   MaritalStatus    4562 non-null   object\n",
      " 4   HomeOwn          4562 non-null   object\n",
      " 5   Work             4562 non-null   object\n",
      " 6   HHIncome         4562 non-null   object\n",
      " 7   BMI              4562 non-null   object\n",
      " 8   DaysMentHlthBad  4562 non-null   object\n",
      " 9   Depressed        4562 non-null   object\n",
      " 10  TVHrsDay         4562 non-null   object\n",
      " 11  YearSurvey       4562 non-null   object\n",
      "dtypes: int64(1), object(11)\n",
      "memory usage: 463.3+ KB\n"
     ]
    }
   ],
   "source": [
    "nhanes_analysis1.info()"
   ]
  },
  {
   "cell_type": "code",
   "execution_count": 31,
   "id": "81728aa2",
   "metadata": {},
   "outputs": [],
   "source": [
    "#YearSurvey must be converted to int in order to calculate Year of Birth\n",
    "nhanes_analysis1['YearSurvey'] = nhanes_analysis1['YearSurvey'].astype(int)"
   ]
  },
  {
   "cell_type": "code",
   "execution_count": 32,
   "id": "5eb085ea",
   "metadata": {},
   "outputs": [
    {
     "name": "stdout",
     "output_type": "stream",
     "text": [
      "<class 'pandas.core.frame.DataFrame'>\n",
      "Int64Index: 4562 entries, 51624 to 71915\n",
      "Data columns (total 12 columns):\n",
      " #   Column           Non-Null Count  Dtype \n",
      "---  ------           --------------  ----- \n",
      " 0   SurveyYr         4562 non-null   object\n",
      " 1   Age              4562 non-null   int64 \n",
      " 2   Education        4562 non-null   object\n",
      " 3   MaritalStatus    4562 non-null   object\n",
      " 4   HomeOwn          4562 non-null   object\n",
      " 5   Work             4562 non-null   object\n",
      " 6   HHIncome         4562 non-null   object\n",
      " 7   BMI              4562 non-null   object\n",
      " 8   DaysMentHlthBad  4562 non-null   object\n",
      " 9   Depressed        4562 non-null   object\n",
      " 10  TVHrsDay         4562 non-null   object\n",
      " 11  YearSurvey       4562 non-null   int32 \n",
      "dtypes: int32(1), int64(1), object(10)\n",
      "memory usage: 445.5+ KB\n"
     ]
    }
   ],
   "source": [
    "nhanes_analysis1.info()"
   ]
  },
  {
   "cell_type": "code",
   "execution_count": 33,
   "id": "8742b810",
   "metadata": {},
   "outputs": [
    {
     "name": "stdout",
     "output_type": "stream",
     "text": [
      "      SurveyYr  Age       Education MaritalStatus HomeOwn        Work  \\\n",
      "ID                                                                      \n",
      "51624  2009_10   34     High School       Married     Own  NotWorking   \n",
      "51630  2009_10   49    Some College   LivePartner    Rent  NotWorking   \n",
      "51647  2009_10   45    College Grad       Married     Own     Working   \n",
      "51654  2009_10   66    Some College       Married     Own  NotWorking   \n",
      "51656  2009_10   58    College Grad      Divorced    Rent     Working   \n",
      "...        ...  ...             ...           ...     ...         ...   \n",
      "71907  2011_12   80     High School       Married     Own  NotWorking   \n",
      "71908  2011_12   66    College Grad       Widowed     Own     Working   \n",
      "71909  2011_12   28  9 - 11th Grade  NeverMarried    Rent     Working   \n",
      "71911  2011_12   27    College Grad       Married     Own     Working   \n",
      "71915  2011_12   60    College Grad  NeverMarried     Own     Working   \n",
      "\n",
      "          HHIncome    BMI DaysMentHlthBad       Depressed        TVHrsDay  \\\n",
      "ID                                                                          \n",
      "51624  25000-34999  32.22            15.0         Several  Invalid answer   \n",
      "51630  35000-44999  30.57            10.0         Several  Invalid answer   \n",
      "51647  75000-99999  27.24             3.0            None  Invalid answer   \n",
      "51654  25000-34999  23.67             0.0            None  Invalid answer   \n",
      "51656   more 99999  23.69             0.0            None  Invalid answer   \n",
      "...            ...    ...             ...             ...             ...   \n",
      "71907  55000-64999   23.2             0.0            None            3_hr   \n",
      "71908  65000-74999   35.1             0.0            None            2_hr   \n",
      "71909    5000-9999   29.4  Invalid answer  Invalid answer            1_hr   \n",
      "71911  75000-99999   31.3             2.0            None            1_hr   \n",
      "71915  65000-74999   27.5             2.0            None            2_hr   \n",
      "\n",
      "       YearSurvey  YearOfBirth  \n",
      "ID                              \n",
      "51624        2009         1975  \n",
      "51630        2009         1960  \n",
      "51647        2009         1964  \n",
      "51654        2009         1943  \n",
      "51656        2009         1951  \n",
      "...           ...          ...  \n",
      "71907        2011         1931  \n",
      "71908        2011         1945  \n",
      "71909        2011         1983  \n",
      "71911        2011         1984  \n",
      "71915        2011         1951  \n",
      "\n",
      "[4562 rows x 13 columns]\n"
     ]
    }
   ],
   "source": [
    "#Year of birth calculation, new column added\n",
    "nhanes_analysis1['YearOfBirth'] = nhanes_analysis1['YearSurvey'] - nhanes_analysis1['Age']\n",
    "print(nhanes_analysis1)"
   ]
  },
  {
   "cell_type": "code",
   "execution_count": 34,
   "id": "7ae23e52",
   "metadata": {},
   "outputs": [
    {
     "data": {
      "text/plain": [
       "<zip at 0x1f75968d940>"
      ]
     },
     "execution_count": 34,
     "metadata": {},
     "output_type": "execute_result"
    }
   ],
   "source": [
    "#Now we have our DataFrame for analysis , we can explore making columns into a list\n",
    "zip(nhanes_analysis1.Age)\n"
   ]
  },
  {
   "cell_type": "code",
   "execution_count": 35,
   "id": "39335989",
   "metadata": {},
   "outputs": [
    {
     "data": {
      "text/plain": [
       "zip"
      ]
     },
     "execution_count": 35,
     "metadata": {},
     "output_type": "execute_result"
    }
   ],
   "source": [
    "type(zip(nhanes_analysis1.Age))"
   ]
  },
  {
   "cell_type": "code",
   "execution_count": 36,
   "id": "f77d3570",
   "metadata": {},
   "outputs": [
    {
     "name": "stdout",
     "output_type": "stream",
     "text": [
      "[(34,), (49,), (45,), (66,), (58,), (54,), (58,), (50,), (33,), (60,), (56,), (57,), (54,), (38,), (36,), (44,), (64,), (26,), (59,), (49,), (51,), (28,), (37,), (28,), (32,), (25,), (21,), (44,), (56,), (78,), (58,), (27,), (31,), (29,), (56,), (30,), (26,), (30,), (54,), (29,), (80,), (50,), (26,), (58,), (80,), (35,), (80,), (66,), (34,), (38,), (50,), (43,), (41,), (46,), (61,), (44,), (80,), (76,), (29,), (63,), (63,), (50,), (70,), (31,), (30,), (52,), (46,), (22,), (48,), (27,), (55,), (62,), (54,), (39,), (42,), (46,), (56,), (46,), (29,), (31,), (36,), (49,), (60,), (28,), (32,), (46,), (55,), (57,), (79,), (46,), (22,), (60,), (35,), (29,), (74,), (44,), (36,), (31,), (32,), (32,), (65,), (55,), (77,), (62,), (26,), (39,), (68,), (47,), (80,), (72,), (40,), (30,), (65,), (61,), (79,), (52,), (61,), (56,), (74,), (50,), (48,), (43,), (67,), (25,), (67,), (38,), (61,), (74,), (29,), (42,), (60,), (31,), (70,), (56,), (53,), (45,), (73,), (73,), (40,), (33,), (44,), (73,), (55,), (39,), (65,), (48,), (38,), (48,), (65,), (39,), (21,), (63,), (54,), (56,), (21,), (76,), (43,), (45,), (60,), (43,), (43,), (80,), (25,), (25,), (54,), (29,), (46,), (33,), (50,), (54,), (39,), (80,), (32,), (56,), (29,), (69,), (25,), (52,), (28,), (40,), (51,), (72,), (65,), (80,), (24,), (57,), (45,), (28,), (22,), (49,), (34,), (69,), (33,), (31,), (62,), (61,), (75,), (47,), (35,), (78,), (54,), (56,), (30,), (73,), (21,), (33,), (45,), (41,), (80,), (71,), (44,), (65,), (24,), (63,), (22,), (80,), (64,), (58,), (46,), (31,), (42,), (78,), (60,), (38,), (54,), (77,), (50,), (52,), (54,), (43,), (52,), (37,), (59,), (59,), (58,), (24,), (68,), (29,), (39,), (30,), (35,), (25,), (32,), (49,), (78,), (64,), (39,), (36,), (64,), (72,), (63,), (24,), (75,), (60,), (50,), (25,), (35,), (64,), (67,), (44,), (48,), (76,), (43,), (39,), (80,), (71,), (66,), (25,), (80,), (77,), (44,), (80,), (44,), (31,), (56,), (28,), (67,), (38,), (51,), (30,), (63,), (52,), (73,), (58,), (68,), (35,), (53,), (47,), (28,), (34,), (73,), (26,), (31,), (37,), (36,), (52,), (64,), (80,), (25,), (34,), (61,), (33,), (29,), (76,), (44,), (39,), (23,), (32,), (36,), (67,), (80,), (77,), (31,), (53,), (73,), (50,), (80,), (55,), (68,), (26,), (51,), (44,), (48,), (43,), (22,), (51,), (64,), (27,), (35,), (70,), (72,), (68,), (36,), (28,), (23,), (28,), (44,), (73,), (80,), (36,), (80,), (37,), (38,), (52,), (26,), (53,), (51,), (65,), (44,), (23,), (66,), (46,), (53,), (59,), (69,), (28,), (55,), (22,), (72,), (44,), (25,), (52,), (56,), (73,), (57,), (75,), (66,), (47,), (27,), (42,), (22,), (52,), (39,), (26,), (53,), (30,), (43,), (27,), (55,), (23,), (28,), (51,), (80,), (65,), (34,), (68,), (37,), (47,), (59,), (24,), (53,), (44,), (68,), (80,), (55,), (47,), (39,), (63,), (21,), (57,), (43,), (70,), (29,), (24,), (80,), (45,), (71,), (56,), (21,), (24,), (22,), (52,), (74,), (24,), (51,), (52,), (26,), (32,), (37,), (80,), (23,), (46,), (27,), (74,), (46,), (41,), (39,), (68,), (37,), (68,), (72,), (77,), (25,), (47,), (40,), (43,), (25,), (28,), (54,), (23,), (39,), (70,), (53,), (80,), (42,), (59,), (46,), (75,), (24,), (30,), (55,), (47,), (21,), (50,), (35,), (66,), (28,), (47,), (44,), (77,), (31,), (59,), (32,), (22,), (28,), (27,), (41,), (59,), (33,), (39,), (62,), (44,), (57,), (51,), (42,), (56,), (49,), (43,), (54,), (30,), (40,), (59,), (43,), (80,), (43,), (63,), (45,), (34,), (67,), (24,), (41,), (40,), (53,), (63,), (74,), (31,), (31,), (54,), (80,), (40,), (36,), (51,), (55,), (42,), (37,), (37,), (38,), (22,), (61,), (74,), (30,), (59,), (32,), (38,), (38,), (40,), (35,), (59,), (60,), (73,), (41,), (51,), (79,), (63,), (58,), (52,), (75,), (47,), (44,), (32,), (63,), (26,), (44,), (43,), (56,), (70,), (80,), (38,), (28,), (37,), (56,), (72,), (37,), (22,), (35,), (52,), (80,), (28,), (54,), (29,), (75,), (60,), (30,), (29,), (33,), (48,), (22,), (31,), (24,), (59,), (35,), (41,), (31,), (52,), (50,), (41,), (30,), (29,), (29,), (45,), (61,), (40,), (24,), (60,), (79,), (80,), (46,), (50,), (62,), (39,), (40,), (43,), (40,), (52,), (44,), (38,), (25,), (49,), (62,), (27,), (80,), (28,), (37,), (73,), (68,), (47,), (75,), (65,), (62,), (47,), (22,), (47,), (34,), (48,), (35,), (33,), (43,), (55,), (67,), (71,), (64,), (34,), (64,), (29,), (29,), (43,), (23,), (25,), (30,), (47,), (59,), (60,), (26,), (80,), (47,), (29,), (49,), (67,), (77,), (23,), (42,), (57,), (43,), (56,), (57,), (45,), (50,), (39,), (50,), (48,), (45,), (34,), (52,), (28,), (55,), (27,), (76,), (37,), (27,), (64,), (22,), (52,), (40,), (46,), (47,), (23,), (71,), (51,), (63,), (29,), (47,), (50,), (43,), (71,), (41,), (30,), (72,), (68,), (46,), (29,), (31,), (65,), (33,), (43,), (28,), (52,), (51,), (45,), (21,), (63,), (29,), (51,), (33,), (43,), (60,), (70,), (27,), (21,), (61,), (68,), (30,), (24,), (49,), (53,), (50,), (47,), (61,), (33,), (72,), (73,), (34,), (36,), (41,), (37,), (26,), (24,), (43,), (44,), (39,), (70,), (28,), (75,), (64,), (80,), (34,), (80,), (26,), (21,), (41,), (31,), (43,), (45,), (54,), (26,), (41,), (28,), (26,), (49,), (39,), (35,), (25,), (47,), (23,), (60,), (79,), (41,), (48,), (62,), (41,), (36,), (67,), (78,), (49,), (66,), (80,), (34,), (23,), (64,), (23,), (59,), (41,), (63,), (63,), (66,), (32,), (43,), (58,), (65,), (40,), (50,), (36,), (21,), (28,), (67,), (53,), (38,), (60,), (24,), (78,), (39,), (77,), (46,), (57,), (55,), (40,), (62,), (33,), (60,), (71,), (30,), (31,), (54,), (59,), (40,), (70,), (40,), (24,), (39,), (24,), (37,), (80,), (60,), (44,), (69,), (24,), (37,), (23,), (54,), (47,), (29,), (67,), (65,), (33,), (78,), (69,), (35,), (24,), (79,), (31,), (64,), (39,), (71,), (52,), (29,), (76,), (27,), (52,), (35,), (22,), (36,), (67,), (22,), (80,), (25,), (30,), (22,), (47,), (36,), (52,), (63,), (35,), (43,), (80,), (29,), (61,), (30,), (29,), (55,), (36,), (31,), (30,), (33,), (64,), (41,), (45,), (75,), (36,), (38,), (22,), (48,), (39,), (62,), (72,), (42,), (26,), (24,), (57,), (49,), (43,), (53,), (39,), (66,), (53,), (56,), (68,), (53,), (68,), (71,), (27,), (54,), (55,), (49,), (73,), (56,), (46,), (30,), (51,), (56,), (48,), (61,), (28,), (80,), (51,), (40,), (25,), (29,), (60,), (32,), (75,), (55,), (71,), (31,), (47,), (25,), (57,), (50,), (56,), (65,), (39,), (25,), (32,), (38,), (21,), (54,), (33,), (80,), (56,), (59,), (29,), (22,), (23,), (80,), (47,), (80,), (56,), (36,), (39,), (72,), (69,), (39,), (25,), (31,), (65,), (32,), (45,), (40,), (28,), (37,), (60,), (26,), (53,), (30,), (71,), (37,), (32,), (47,), (26,), (33,), (40,), (57,), (39,), (33,), (63,), (37,), (28,), (65,), (62,), (41,), (21,), (39,), (26,), (59,), (60,), (64,), (50,), (80,), (74,), (61,), (79,), (26,), (59,), (39,), (60,), (66,), (38,), (80,), (39,), (36,), (54,), (27,), (80,), (62,), (30,), (48,), (52,), (26,), (41,), (72,), (43,), (80,), (45,), (54,), (28,), (74,), (32,), (40,), (57,), (24,), (31,), (21,), (58,), (22,), (54,), (28,), (67,), (54,), (55,), (54,), (66,), (25,), (47,), (29,), (54,), (54,), (36,), (60,), (80,), (60,), (43,), (46,), (37,), (75,), (58,), (78,), (33,), (30,), (63,), (55,), (22,), (44,), (28,), (73,), (32,), (40,), (43,), (28,), (80,), (80,), (21,), (30,), (38,), (62,), (27,), (47,), (32,), (48,), (48,), (80,), (33,), (80,), (25,), (26,), (31,), (34,), (44,), (40,), (33,), (61,), (50,), (40,), (61,), (24,), (48,), (41,), (49,), (62,), (76,), (62,), (56,), (41,), (61,), (41,), (80,), (23,), (52,), (31,), (71,), (47,), (63,), (29,), (50,), (45,), (50,), (39,), (38,), (44,), (53,), (65,), (59,), (45,), (50,), (75,), (80,), (38,), (43,), (49,), (41,), (38,), (38,), (61,), (57,), (76,), (80,), (36,), (53,), (47,), (39,), (59,), (36,), (36,), (55,), (43,), (22,), (32,), (37,), (67,), (23,), (44,), (38,), (69,), (31,), (44,), (35,), (26,), (40,), (37,), (52,), (23,), (24,), (76,), (32,), (66,), (56,), (41,), (35,), (41,), (80,), (63,), (50,), (45,), (38,), (39,), (79,), (39,), (30,), (35,), (49,), (67,), (39,), (39,), (53,), (21,), (80,), (42,), (27,), (74,), (23,), (62,), (80,), (61,), (30,), (79,), (40,), (27,), (48,), (70,), (66,), (28,), (28,), (56,), (34,), (41,), (80,), (44,), (77,), (40,), (44,), (27,), (74,), (38,), (45,), (52,), (22,), (50,), (25,), (42,), (59,), (29,), (31,), (71,), (29,), (28,), (76,), (64,), (56,), (33,), (61,), (39,), (30,), (48,), (24,), (65,), (49,), (80,), (56,), (65,), (80,), (53,), (53,), (56,), (41,), (32,), (24,), (32,), (58,), (50,), (49,), (29,), (63,), (45,), (46,), (30,), (33,), (31,), (30,), (31,), (24,), (80,), (59,), (48,), (40,), (44,), (66,), (69,), (39,), (42,), (45,), (80,), (28,), (80,), (61,), (32,), (68,), (65,), (50,), (67,), (28,), (55,), (46,), (39,), (43,), (39,), (77,), (49,), (33,), (27,), (48,), (61,), (34,), (41,), (78,), (64,), (49,), (33,), (26,), (40,), (34,), (45,), (68,), (69,), (58,), (80,), (41,), (26,), (24,), (65,), (48,), (55,), (49,), (51,), (22,), (80,), (39,), (49,), (80,), (30,), (48,), (26,), (24,), (56,), (38,), (49,), (28,), (46,), (62,), (34,), (23,), (33,), (56,), (46,), (79,), (40,), (28,), (65,), (30,), (27,), (64,), (57,), (56,), (34,), (49,), (53,), (50,), (63,), (38,), (56,), (74,), (25,), (26,), (39,), (33,), (27,), (34,), (79,), (60,), (33,), (41,), (68,), (67,), (21,), (66,), (74,), (21,), (29,), (80,), (39,), (62,), (63,), (31,), (80,), (43,), (69,), (33,), (39,), (36,), (29,), (40,), (33,), (45,), (30,), (55,), (48,), (57,), (32,), (52,), (72,), (38,), (30,), (65,), (56,), (21,), (54,), (77,), (21,), (46,), (44,), (57,), (41,), (34,), (58,), (61,), (31,), (26,), (24,), (56,), (29,), (28,), (53,), (43,), (45,), (56,), (80,), (41,), (70,), (52,), (37,), (47,), (67,), (49,), (78,), (41,), (54,), (22,), (52,), (23,), (28,), (54,), (27,), (57,), (44,), (72,), (28,), (30,), (26,), (53,), (54,), (41,), (31,), (44,), (42,), (54,), (50,), (54,), (22,), (59,), (51,), (72,), (51,), (33,), (30,), (27,), (58,), (29,), (63,), (36,), (74,), (36,), (67,), (31,), (43,), (80,), (26,), (30,), (45,), (80,), (80,), (61,), (48,), (54,), (35,), (42,), (32,), (62,), (31,), (56,), (53,), (30,), (44,), (41,), (76,), (48,), (70,), (29,), (57,), (39,), (31,), (73,), (57,), (31,), (77,), (32,), (25,), (48,), (76,), (77,), (53,), (43,), (80,), (48,), (22,), (41,), (79,), (21,), (54,), (49,), (36,), (22,), (42,), (56,), (74,), (52,), (23,), (67,), (23,), (80,), (30,), (21,), (43,), (50,), (53,), (80,), (32,), (50,), (50,), (21,), (30,), (31,), (60,), (32,), (60,), (48,), (67,), (37,), (58,), (68,), (40,), (40,), (62,), (45,), (32,), (65,), (45,), (50,), (58,), (61,), (29,), (79,), (46,), (40,), (41,), (22,), (21,), (23,), (27,), (32,), (40,), (36,), (43,), (47,), (78,), (73,), (69,), (72,), (40,), (50,), (80,), (74,), (39,), (63,), (54,), (68,), (41,), (71,), (22,), (53,), (48,), (37,), (38,), (34,), (35,), (32,), (60,), (30,), (56,), (47,), (54,), (80,), (68,), (72,), (32,), (79,), (53,), (49,), (25,), (25,), (64,), (47,), (25,), (29,), (37,), (42,), (61,), (47,), (37,), (54,), (21,), (27,), (29,), (21,), (51,), (62,), (80,), (59,), (46,), (76,), (25,), (38,), (49,), (36,), (30,), (57,), (80,), (44,), (65,), (35,), (51,), (80,), (45,), (52,), (46,), (55,), (68,), (80,), (54,), (33,), (34,), (38,), (41,), (49,), (40,), (48,), (77,), (70,), (38,), (45,), (40,), (48,), (48,), (56,), (80,), (37,), (40,), (39,), (23,), (34,), (74,), (59,), (67,), (50,), (54,), (46,), (53,), (77,), (33,), (33,), (63,), (48,), (45,), (56,), (48,), (49,), (52,), (29,), (74,), (69,), (80,), (60,), (52,), (74,), (65,), (30,), (78,), (47,), (65,), (54,), (21,), (25,), (46,), (45,), (68,), (60,), (78,), (47,), (34,), (43,), (80,), (77,), (34,), (23,), (75,), (49,), (23,), (38,), (55,), (60,), (40,), (42,), (73,), (35,), (64,), (44,), (59,), (32,), (23,), (69,), (69,), (23,), (38,), (28,), (41,), (69,), (71,), (38,), (32,), (80,), (45,), (51,), (59,), (60,), (46,), (80,), (62,), (37,), (22,), (63,), (70,), (48,), (44,), (37,), (40,), (28,), (45,), (39,), (68,), (55,), (80,), (31,), (64,), (70,), (59,), (60,), (36,), (66,), (23,), (57,), (54,), (56,), (57,), (65,), (59,), (34,), (74,), (48,), (49,), (42,), (74,), (41,), (28,), (44,), (45,), (38,), (70,), (44,), (54,), (74,), (58,), (80,), (51,), (54,), (80,), (73,), (67,), (31,), (35,), (39,), (38,), (50,), (58,), (40,), (68,), (76,), (70,), (61,), (42,), (34,), (33,), (39,), (24,), (47,), (72,), (26,), (80,), (46,), (21,), (54,), (43,), (35,), (58,), (80,), (51,), (64,), (61,), (35,), (75,), (33,), (43,), (74,), (22,), (57,), (80,), (78,), (45,), (65,), (80,), (54,), (69,), (58,), (41,), (73,), (31,), (32,), (71,), (39,), (67,), (70,), (55,), (21,), (78,), (71,), (36,), (47,), (28,), (35,), (48,), (26,), (25,), (51,), (30,), (30,), (72,), (22,), (70,), (30,), (21,), (72,), (74,), (65,), (33,), (44,), (52,), (64,), (46,), (76,), (60,), (35,), (63,), (32,), (48,), (25,), (40,), (22,), (80,), (40,), (57,), (53,), (64,), (60,), (65,), (31,), (44,), (76,), (54,), (63,), (48,), (40,), (30,), (43,), (26,), (46,), (54,), (22,), (32,), (25,), (79,), (36,), (36,), (30,), (34,), (32,), (37,), (35,), (74,), (76,), (42,), (49,), (58,), (28,), (23,), (66,), (45,), (27,), (23,), (55,), (33,), (72,), (35,), (74,), (80,), (21,), (31,), (42,), (52,), (54,), (30,), (70,), (71,), (24,), (71,), (54,), (49,), (67,), (80,), (28,), (63,), (39,), (44,), (65,), (59,), (43,), (80,), (65,), (41,), (41,), (24,), (37,), (28,), (60,), (80,), (60,), (28,), (50,), (54,), (32,), (67,), (43,), (70,), (80,), (21,), (36,), (45,), (44,), (77,), (62,), (57,), (52,), (28,), (28,), (29,), (36,), (67,), (58,), (62,), (23,), (29,), (54,), (35,), (73,), (35,), (75,), (45,), (49,), (48,), (47,), (37,), (71,), (66,), (28,), (63,), (47,), (22,), (64,), (26,), (73,), (54,), (44,), (42,), (72,), (55,), (44,), (24,), (68,), (42,), (80,), (34,), (41,), (65,), (72,), (46,), (41,), (56,), (50,), (71,), (37,), (51,), (29,), (67,), (78,), (62,), (58,), (61,), (48,), (66,), (37,), (72,), (21,), (26,), (66,), (57,), (42,), (74,), (47,), (29,), (63,), (38,), (73,), (49,), (63,), (65,), (65,), (60,), (34,), (64,), (21,), (59,), (38,), (28,), (80,), (70,), (57,), (63,), (50,), (80,), (24,), (77,), (53,), (28,), (39,), (45,), (75,), (39,), (62,), (48,), (24,), (44,), (35,), (80,), (47,), (51,), (73,), (25,), (50,), (38,), (52,), (40,), (36,), (52,), (35,), (45,), (24,), (53,), (67,), (25,), (53,), (38,), (80,), (40,), (21,), (69,), (60,), (31,), (45,), (31,), (67,), (39,), (22,), (45,), (24,), (33,), (35,), (22,), (65,), (39,), (30,), (61,), (26,), (74,), (65,), (49,), (67,), (36,), (23,), (33,), (60,), (21,), (80,), (50,), (28,), (60,), (28,), (57,), (34,), (32,), (68,), (51,), (62,), (25,), (30,), (24,), (25,), (64,), (21,), (50,), (29,), (70,), (49,), (29,), (62,), (29,), (22,), (55,), (70,), (71,), (46,), (30,), (65,), (63,), (60,), (30,), (40,), (50,), (40,), (47,), (21,), (23,), (75,), (26,), (40,), (31,), (61,), (21,), (64,), (80,), (45,), (30,), (24,), (34,), (41,), (48,), (31,), (36,), (54,), (63,), (53,), (65,), (38,), (32,), (72,), (39,), (58,), (52,), (25,), (29,), (42,), (80,), (38,), (61,), (46,), (34,), (33,), (25,), (60,), (48,), (58,), (80,), (69,), (25,), (23,), (66,), (37,), (64,), (49,), (46,), (36,), (32,), (79,), (39,), (64,), (21,), (42,), (49,), (48,), (51,), (30,), (69,), (31,), (64,), (67,), (37,), (60,), (75,), (22,), (55,), (21,), (25,), (47,), (41,), (34,), (41,), (44,), (47,), (36,), (71,), (38,), (70,), (65,), (62,), (27,), (51,), (41,), (42,), (53,), (53,), (51,), (38,), (23,), (61,), (32,), (22,), (30,), (63,), (43,), (35,), (48,), (38,), (55,), (50,), (29,), (60,), (80,), (41,), (51,), (80,), (71,), (44,), (22,), (34,), (67,), (40,), (48,), (35,), (22,), (47,), (56,), (60,), (37,), (38,), (49,), (55,), (37,), (49,), (21,), (26,), (31,), (32,), (57,), (39,), (28,), (35,), (80,), (61,), (30,), (42,), (57,), (25,), (40,), (32,), (38,), (48,), (73,), (57,), (22,), (30,), (80,), (72,), (27,), (44,), (26,), (38,), (33,), (52,), (52,), (46,), (64,), (76,), (80,), (52,), (48,), (59,), (37,), (63,), (80,), (41,), (37,), (39,), (45,), (26,), (43,), (36,), (23,), (77,), (36,), (48,), (29,), (46,), (42,), (80,), (43,), (34,), (63,), (76,), (55,), (31,), (34,), (64,), (53,), (26,), (52,), (66,), (51,), (39,), (46,), (43,), (25,), (35,), (30,), (80,), (39,), (21,), (38,), (73,), (48,), (60,), (42,), (40,), (49,), (21,), (40,), (80,), (80,), (56,), (26,), (41,), (40,), (23,), (44,), (38,), (25,), (56,), (25,), (50,), (42,), (80,), (25,), (59,), (57,), (33,), (26,), (36,), (80,), (55,), (25,), (22,), (31,), (51,), (30,), (24,), (37,), (26,), (40,), (24,), (66,), (35,), (42,), (44,), (46,), (39,), (23,), (59,), (57,), (46,), (77,), (75,), (72,), (80,), (32,), (40,), (45,), (23,), (28,), (41,), (39,), (36,), (68,), (38,), (80,), (66,), (44,), (25,), (22,), (59,), (56,), (36,), (43,), (78,), (80,), (66,), (54,), (80,), (46,), (38,), (26,), (51,), (28,), (26,), (60,), (56,), (39,), (62,), (74,), (27,), (27,), (21,), (70,), (49,), (31,), (60,), (74,), (38,), (59,), (43,), (70,), (56,), (27,), (66,), (34,), (37,), (55,), (43,), (74,), (66,), (48,), (43,), (80,), (34,), (80,), (35,), (57,), (28,), (35,), (38,), (62,), (31,), (32,), (54,), (50,), (31,), (48,), (42,), (63,), (58,), (24,), (80,), (47,), (61,), (55,), (80,), (64,), (56,), (69,), (43,), (23,), (51,), (78,), (64,), (69,), (33,), (55,), (44,), (38,), (38,), (71,), (23,), (43,), (36,), (44,), (80,), (80,), (21,), (68,), (23,), (69,), (70,), (53,), (65,), (27,), (26,), (80,), (80,), (72,), (30,), (38,), (39,), (75,), (22,), (23,), (64,), (41,), (65,), (76,), (40,), (36,), (43,), (39,), (32,), (65,), (61,), (44,), (30,), (46,), (80,), (80,), (59,), (33,), (23,), (51,), (46,), (42,), (64,), (53,), (37,), (41,), (35,), (72,), (32,), (24,), (71,), (22,), (70,), (21,), (72,), (28,), (80,), (73,), (38,), (37,), (80,), (41,), (78,), (68,), (37,), (29,), (68,), (61,), (76,), (55,), (35,), (64,), (33,), (29,), (36,), (80,), (44,), (80,), (39,), (75,), (42,), (58,), (57,), (80,), (39,), (74,), (71,), (48,), (54,), (29,), (51,), (46,), (28,), (32,), (31,), (35,), (26,), (72,), (45,), (50,), (34,), (69,), (53,), (67,), (51,), (71,), (41,), (59,), (33,), (40,), (21,), (60,), (52,), (27,), (47,), (80,), (57,), (46,), (74,), (64,), (57,), (80,), (33,), (24,), (45,), (48,), (31,), (22,), (31,), (63,), (60,), (32,), (79,), (44,), (36,), (53,), (30,), (68,), (66,), (79,), (24,), (34,), (60,), (60,), (40,), (53,), (80,), (78,), (65,), (65,), (49,), (25,), (21,), (45,), (41,), (35,), (53,), (21,), (29,), (53,), (38,), (34,), (59,), (71,), (74,), (43,), (80,), (70,), (50,), (41,), (46,), (44,), (28,), (34,), (80,), (24,), (66,), (25,), (54,), (41,), (43,), (62,), (36,), (70,), (48,), (61,), (58,), (48,), (33,), (80,), (60,), (53,), (30,), (39,), (27,), (80,), (59,), (67,), (38,), (46,), (62,), (35,), (39,), (59,), (31,), (48,), (32,), (35,), (80,), (59,), (40,), (67,), (42,), (76,), (72,), (36,), (79,), (80,), (58,), (80,), (55,), (50,), (28,), (32,), (28,), (53,), (74,), (32,), (27,), (51,), (75,), (31,), (45,), (26,), (48,), (30,), (64,), (23,), (67,), (57,), (47,), (80,), (53,), (70,), (80,), (80,), (78,), (49,), (69,), (61,), (27,), (40,), (51,), (58,), (80,), (23,), (21,), (38,), (28,), (48,), (21,), (61,), (24,), (80,), (41,), (62,), (48,), (69,), (32,), (56,), (58,), (54,), (56,), (80,), (54,), (22,), (80,), (32,), (39,), (57,), (56,), (54,), (50,), (40,), (28,), (46,), (57,), (30,), (80,), (21,), (77,), (74,), (22,), (66,), (80,), (30,), (26,), (29,), (61,), (80,), (32,), (48,), (79,), (47,), (25,), (76,), (28,), (30,), (80,), (58,), (56,), (31,), (43,), (22,), (54,), (66,), (21,), (42,), (40,), (55,), (75,), (37,), (52,), (48,), (21,), (22,), (33,), (51,), (43,), (36,), (50,), (56,), (21,), (23,), (54,), (43,), (40,), (40,), (27,), (59,), (36,), (47,), (40,), (31,), (64,), (64,), (46,), (70,), (58,), (34,), (49,), (50,), (50,), (63,), (69,), (45,), (77,), (25,), (64,), (75,), (68,), (42,), (55,), (62,), (49,), (29,), (37,), (35,), (42,), (29,), (29,), (50,), (31,), (33,), (34,), (53,), (22,), (69,), (31,), (44,), (79,), (80,), (32,), (24,), (62,), (22,), (69,), (31,), (39,), (39,), (54,), (21,), (46,), (46,), (39,), (25,), (64,), (45,), (37,), (54,), (71,), (33,), (59,), (36,), (49,), (36,), (80,), (29,), (21,), (68,), (27,), (31,), (22,), (38,), (72,), (52,), (56,), (67,), (42,), (80,), (28,), (37,), (24,), (39,), (44,), (50,), (40,), (51,), (42,), (38,), (48,), (31,), (47,), (24,), (50,), (48,), (44,), (50,), (45,), (68,), (65,), (45,), (24,), (78,), (49,), (54,), (52,), (28,), (43,), (27,), (31,), (21,), (63,), (50,), (24,), (68,), (22,), (80,), (39,), (70,), (52,), (58,), (22,), (61,), (26,), (51,), (54,), (45,), (48,), (40,), (33,), (37,), (65,), (53,), (40,), (47,), (41,), (32,), (34,), (80,), (32,), (23,), (47,), (37,), (50,), (32,), (29,), (60,), (63,), (29,), (70,), (70,), (64,), (31,), (41,), (21,), (49,), (53,), (75,), (69,), (44,), (62,), (70,), (65,), (26,), (59,), (42,), (51,), (29,), (47,), (24,), (60,), (35,), (59,), (42,), (22,), (54,), (50,), (21,), (36,), (21,), (77,), (80,), (35,), (44,), (29,), (33,), (60,), (46,), (56,), (42,), (62,), (24,), (29,), (39,), (55,), (23,), (30,), (21,), (29,), (80,), (25,), (32,), (29,), (46,), (40,), (28,), (35,), (80,), (21,), (62,), (52,), (58,), (37,), (54,), (65,), (46,), (50,), (26,), (78,), (80,), (49,), (41,), (34,), (60,), (65,), (59,), (23,), (41,), (80,), (40,), (26,), (44,), (80,), (26,), (56,), (46,), (65,), (27,), (54,), (32,), (68,), (25,), (58,), (42,), (24,), (80,), (80,), (42,), (38,), (42,), (79,), (27,), (45,), (80,), (37,), (22,), (80,), (23,), (24,), (40,), (63,), (47,), (48,), (57,), (53,), (26,), (22,), (80,), (32,), (42,), (34,), (31,), (50,), (22,), (62,), (31,), (77,), (56,), (71,), (38,), (22,), (80,), (30,), (31,), (73,), (25,), (60,), (67,), (23,), (41,), (56,), (24,), (31,), (30,), (80,), (72,), (49,), (29,), (30,), (54,), (40,), (54,), (80,), (73,), (63,), (25,), (42,), (49,), (45,), (42,), (37,), (45,), (23,), (28,), (45,), (52,), (72,), (71,), (80,), (59,), (55,), (33,), (27,), (46,), (71,), (41,), (70,), (60,), (28,), (61,), (33,), (63,), (50,), (49,), (58,), (44,), (32,), (42,), (24,), (44,), (65,), (39,), (80,), (25,), (36,), (71,), (40,), (21,), (23,), (28,), (22,), (42,), (36,), (27,), (36,), (79,), (56,), (68,), (48,), (53,), (25,), (25,), (23,), (56,), (51,), (42,), (57,), (29,), (33,), (41,), (38,), (80,), (37,), (49,), (47,), (22,), (35,), (57,), (29,), (54,), (50,), (29,), (63,), (80,), (39,), (23,), (69,), (53,), (71,), (26,), (30,), (27,), (54,), (30,), (50,), (41,), (31,), (73,), (40,), (34,), (25,), (39,), (24,), (26,), (21,), (61,), (59,), (65,), (30,), (63,), (37,), (57,), (63,), (58,), (64,), (60,), (70,), (43,), (32,), (30,), (80,), (50,), (31,), (36,), (62,), (65,), (64,), (34,), (50,), (24,), (37,), (30,), (63,), (57,), (45,), (29,), (26,), (65,), (43,), (23,), (65,), (40,), (30,), (36,), (37,), (70,), (24,), (64,), (43,), (65,), (48,), (74,), (34,), (76,), (62,), (65,), (54,), (21,), (76,), (68,), (29,), (25,), (53,), (63,), (40,), (59,), (47,), (29,), (27,), (71,), (21,), (57,), (58,), (60,), (24,), (23,), (63,), (32,), (24,), (47,), (56,), (25,), (63,), (60,), (58,), (45,), (28,), (53,), (47,), (46,), (59,), (47,), (80,), (28,), (26,), (80,), (50,), (39,), (40,), (21,), (33,), (38,), (52,), (28,), (58,), (47,), (33,), (51,), (41,), (63,), (33,), (76,), (80,), (43,), (61,), (35,), (24,), (30,), (44,), (30,), (43,), (71,), (24,), (60,), (37,), (31,), (51,), (80,), (64,), (55,), (48,), (68,), (31,), (43,), (59,), (80,), (55,), (46,), (55,), (60,), (35,), (41,), (63,), (33,), (23,), (44,), (48,), (74,), (48,), (38,), (44,), (22,), (38,), (61,), (56,), (43,), (60,), (33,), (30,), (47,), (21,), (70,), (34,), (25,), (70,), (46,), (47,), (69,), (65,), (45,), (60,), (60,), (54,), (26,), (47,), (66,), (52,), (28,), (38,), (44,), (29,), (47,), (23,), (34,), (54,), (31,), (64,), (40,), (44,), (72,), (64,), (41,), (58,), (58,), (46,), (41,), (70,), (27,), (63,), (46,), (80,), (21,), (30,), (56,), (29,), (50,), (21,), (33,), (66,), (56,), (58,), (47,), (31,), (57,), (64,), (80,), (59,), (51,), (57,), (80,), (39,), (22,), (39,), (31,), (38,), (21,), (50,), (70,), (43,), (29,), (72,), (30,), (25,), (39,), (22,), (52,), (71,), (46,), (54,), (31,), (69,), (62,), (80,), (42,), (24,), (40,), (22,), (76,), (60,), (45,), (39,), (51,), (36,), (23,), (51,), (34,), (62,), (72,), (32,), (51,), (54,), (48,), (27,), (21,), (62,), (52,), (43,), (27,), (49,), (75,), (77,), (40,), (37,), (22,), (76,), (68,), (33,), (48,), (50,), (78,), (31,), (56,), (71,), (54,), (29,), (36,), (31,), (24,), (26,), (27,), (80,), (29,), (76,), (55,), (59,), (25,), (33,), (46,), (39,), (33,), (24,), (33,), (29,), (72,), (33,), (23,), (25,), (52,), (42,), (36,), (33,), (55,), (37,), (49,), (73,), (30,), (33,), (39,), (41,), (32,), (33,), (22,), (80,), (65,), (58,), (38,), (73,), (45,), (57,), (77,), (46,), (70,), (24,), (25,), (53,), (29,), (72,), (72,), (45,), (51,), (53,), (47,), (75,), (46,), (45,), (70,), (74,), (58,), (80,), (22,), (49,), (74,), (59,), (61,), (58,), (32,), (23,), (58,), (47,), (62,), (56,), (41,), (64,), (45,), (43,), (77,), (80,), (58,), (22,), (32,), (37,), (24,), (56,), (80,), (38,), (30,), (57,), (48,), (55,), (60,), (76,), (70,), (80,), (28,), (37,), (45,), (79,), (62,), (75,), (34,), (73,), (62,), (45,), (61,), (79,), (53,), (56,), (47,), (36,), (76,), (26,), (52,), (71,), (56,), (33,), (25,), (27,), (55,), (22,), (56,), (68,), (80,), (80,), (29,), (38,), (80,), (31,), (43,), (21,), (63,), (53,), (54,), (27,), (30,), (25,), (51,), (76,), (70,), (46,), (39,), (64,), (70,), (36,), (33,), (56,), (63,), (54,), (46,), (62,), (75,), (60,), (50,), (32,), (28,), (72,), (36,), (28,), (37,), (73,), (29,), (56,), (41,), (38,), (45,), (38,), (55,), (79,), (47,), (67,), (80,), (33,), (24,), (61,), (28,), (23,), (60,), (50,), (59,), (69,), (45,), (67,), (42,), (29,), (34,), (80,), (71,), (73,), (21,), (37,), (80,), (39,), (59,), (51,), (34,), (59,), (72,), (27,), (50,), (40,), (31,), (52,), (30,), (27,), (22,), (60,), (70,), (33,), (33,), (63,), (56,), (68,), (34,), (26,), (78,), (25,), (32,), (65,), (50,), (35,), (28,), (79,), (72,), (39,), (27,), (47,), (41,), (80,), (80,), (45,), (60,), (80,), (28,), (80,), (44,), (50,), (52,), (30,), (56,), (56,), (58,), (62,), (47,), (29,), (45,), (59,), (32,), (51,), (78,), (35,), (36,), (56,), (36,), (22,), (63,), (49,), (24,), (60,), (50,), (46,), (63,), (48,), (43,), (27,), (49,), (28,), (69,), (54,), (69,), (59,), (35,), (80,), (27,), (69,), (36,), (40,), (32,), (27,), (75,), (36,), (45,), (73,), (74,), (43,), (70,), (43,), (63,), (70,), (60,), (42,), (21,), (27,), (51,), (46,), (68,), (28,), (27,), (44,), (61,), (33,), (47,), (35,), (21,), (41,), (77,), (80,), (29,), (34,), (63,), (58,), (52,), (57,), (49,), (26,), (69,), (28,), (28,), (70,), (80,), (21,), (66,), (61,), (28,), (65,), (35,), (27,), (49,), (53,), (42,), (42,), (47,), (43,), (54,), (34,), (73,), (62,), (55,), (61,), (73,), (30,), (70,), (24,), (70,), (70,), (32,), (65,), (38,), (58,), (30,), (32,), (64,), (51,), (51,), (51,), (43,), (22,), (79,), (29,), (28,), (54,), (54,), (53,), (40,), (52,), (22,), (64,), (31,), (33,), (60,), (45,), (43,), (57,), (24,), (34,), (25,), (24,), (21,), (65,), (55,), (45,), (74,), (70,), (62,), (47,), (80,), (41,), (80,), (49,), (21,), (37,), (39,), (54,), (37,), (24,), (52,), (78,), (54,), (44,), (36,), (48,), (47,), (26,), (59,), (27,), (52,), (48,), (56,), (55,), (47,), (36,), (65,), (36,), (38,), (80,), (32,), (64,), (63,), (21,), (39,), (40,), (75,), (43,), (77,), (38,), (59,), (78,), (39,), (44,), (48,), (65,), (37,), (68,), (76,), (29,), (46,), (33,), (65,), (59,), (25,), (52,), (31,), (58,), (56,), (37,), (39,), (63,), (36,), (56,), (80,), (39,), (62,), (57,), (21,), (22,), (80,), (80,), (51,), (66,), (28,), (37,), (30,), (38,), (24,), (43,), (49,), (45,), (45,), (80,), (25,), (29,), (58,), (53,), (26,), (39,), (54,), (64,), (58,), (50,), (55,), (42,), (36,), (50,), (24,), (76,), (54,), (23,), (74,), (22,), (59,), (32,), (40,), (52,), (22,), (62,), (33,), (46,), (59,), (61,), (59,), (46,), (75,), (27,), (71,), (57,), (80,), (68,), (37,), (66,), (67,), (43,), (46,), (25,), (39,), (56,), (52,), (60,), (62,), (50,), (36,), (50,), (69,), (72,), (65,), (62,), (31,), (42,), (50,), (44,), (60,), (37,), (74,), (22,), (74,), (25,), (56,), (28,), (57,), (49,), (40,), (26,), (26,), (80,), (48,), (52,), (30,), (27,), (65,), (49,), (26,), (40,), (27,), (26,), (25,), (64,), (35,), (29,), (53,), (38,), (58,), (23,), (23,), (64,), (71,), (36,), (80,), (27,), (73,), (61,), (58,), (58,), (67,), (47,), (42,), (50,), (37,), (56,), (22,), (49,), (27,), (42,), (30,), (62,), (28,), (51,), (31,), (63,), (58,), (26,), (50,), (43,), (50,), (44,), (79,), (56,), (52,), (80,), (21,), (59,), (80,), (70,), (64,), (55,), (43,), (30,), (80,), (31,), (37,), (40,), (70,), (70,), (65,), (37,), (73,), (35,), (52,), (36,), (68,), (22,), (45,), (34,), (23,), (36,), (49,), (40,), (22,), (33,), (31,), (75,), (57,), (80,), (80,), (27,), (28,), (56,), (54,), (40,), (51,), (56,), (69,), (75,), (62,), (23,), (21,), (29,), (59,), (55,), (70,), (32,), (28,), (31,), (53,), (35,), (55,), (38,), (65,), (38,), (50,), (32,), (47,), (24,), (77,), (68,), (56,), (70,), (37,), (26,), (42,), (47,), (69,), (39,), (80,), (50,), (34,), (34,), (53,), (30,), (23,), (52,), (37,), (46,), (80,), (35,), (47,), (25,), (70,), (30,), (63,), (43,), (42,), (24,), (49,), (23,), (46,), (80,), (51,), (53,), (30,), (24,), (37,), (60,), (73,), (23,), (65,), (36,), (55,), (80,), (80,), (55,), (25,), (44,), (80,), (62,), (36,), (22,), (61,), (44,), (23,), (51,), (25,), (55,), (51,), (28,), (77,), (44,), (37,), (42,), (42,), (29,), (35,), (35,), (25,), (50,), (34,), (34,), (25,), (68,), (63,), (49,), (71,), (49,), (51,), (48,), (40,), (26,), (31,), (39,), (34,), (37,), (31,), (24,), (36,), (80,), (58,), (63,), (36,), (33,), (54,), (55,), (54,), (42,), (52,), (80,), (28,), (56,), (68,), (53,), (34,), (41,), (38,), (43,), (28,), (65,), (70,), (41,), (56,), (75,), (22,), (48,), (59,), (56,), (39,), (32,), (26,), (57,), (48,), (57,), (43,), (32,), (42,), (55,), (32,), (28,), (27,), (30,), (56,), (36,), (21,), (34,), (80,), (67,), (21,), (80,), (64,), (54,), (60,), (64,), (49,), (30,), (66,), (28,), (42,), (22,), (63,), (47,), (26,), (30,), (31,), (21,), (36,), (44,), (77,), (45,), (29,), (46,), (38,), (23,), (59,), (30,), (70,), (66,), (59,), (78,), (29,), (43,), (46,), (49,), (28,), (45,), (49,), (68,), (55,), (74,), (61,), (39,), (49,), (22,), (32,), (50,), (39,), (73,), (22,), (50,), (78,), (50,), (57,), (24,), (80,), (29,), (52,), (30,), (63,), (80,), (52,), (52,), (61,), (51,), (31,), (34,), (45,), (62,), (50,), (34,), (78,), (24,), (49,), (39,), (50,), (51,), (80,), (51,), (51,), (36,), (63,), (41,), (70,), (68,), (36,), (76,), (26,), (53,), (34,), (41,), (39,), (37,), (45,), (48,), (62,), (38,), (51,), (36,), (80,), (27,), (32,), (32,), (65,), (38,), (33,), (47,), (43,), (48,), (64,), (47,), (68,), (41,), (30,), (28,), (40,), (23,), (68,), (50,), (25,), (32,), (24,), (52,), (58,), (59,), (67,), (44,), (57,), (80,), (36,), (74,), (53,), (50,), (63,), (41,), (25,), (55,), (23,), (22,), (35,), (73,), (80,), (43,), (27,), (55,), (30,), (41,), (38,), (37,), (54,), (37,), (35,), (40,), (34,), (36,), (21,), (48,), (80,), (43,), (41,), (28,), (80,), (64,), (39,), (33,), (68,), (35,), (21,), (67,), (27,), (21,), (65,), (80,), (25,), (24,), (35,), (56,), (66,), (41,), (36,), (27,), (27,), (59,), (49,), (38,), (75,), (55,), (23,), (80,), (58,), (49,), (25,), (74,), (65,), (73,), (80,), (70,), (27,), (76,), (74,), (46,), (70,), (77,), (67,), (24,), (33,), (40,), (63,), (80,), (74,), (36,), (40,), (21,), (22,), (63,), (40,), (33,), (38,), (38,), (24,), (53,), (62,), (24,), (64,), (42,), (50,), (34,), (57,), (45,), (80,), (59,), (53,), (33,), (47,), (53,), (77,), (49,), (30,), (57,), (37,), (56,), (62,), (39,), (28,), (43,), (69,), (42,), (24,), (46,), (60,), (65,), (80,), (66,), (28,), (27,), (60,)]\n"
     ]
    }
   ],
   "source": [
    "age_list = list(zip(nhanes_analysis1.Age))\n",
    "print(age_list)"
   ]
  },
  {
   "cell_type": "code",
   "execution_count": 37,
   "id": "24eb7b9f",
   "metadata": {},
   "outputs": [
    {
     "name": "stdout",
     "output_type": "stream",
     "text": [
      "[[34]\n",
      " [49]\n",
      " [45]\n",
      " ...\n",
      " [28]\n",
      " [27]\n",
      " [60]]\n"
     ]
    }
   ],
   "source": [
    "#how does this look as a numpy array\n",
    "import numpy as np\n",
    "age_array = np.array(age_list)\n",
    "print(age_array)"
   ]
  },
  {
   "cell_type": "code",
   "execution_count": 38,
   "id": "e0c16ecc",
   "metadata": {},
   "outputs": [
    {
     "data": {
      "text/plain": [
       "48.00131521262604"
      ]
     },
     "execution_count": 38,
     "metadata": {},
     "output_type": "execute_result"
    }
   ],
   "source": [
    "#average age of surveyed people\n",
    "age_array.mean()"
   ]
  },
  {
   "cell_type": "code",
   "execution_count": 39,
   "id": "4fa6177c",
   "metadata": {},
   "outputs": [],
   "source": [
    "#lets count the people between 25 and 30 using a loop"
   ]
  }
 ],
 "metadata": {
  "kernelspec": {
   "display_name": "Python 3",
   "language": "python",
   "name": "python3"
  },
  "language_info": {
   "codemirror_mode": {
    "name": "ipython",
    "version": 3
   },
   "file_extension": ".py",
   "mimetype": "text/x-python",
   "name": "python",
   "nbconvert_exporter": "python",
   "pygments_lexer": "ipython3",
   "version": "3.8.8"
  }
 },
 "nbformat": 4,
 "nbformat_minor": 5
}